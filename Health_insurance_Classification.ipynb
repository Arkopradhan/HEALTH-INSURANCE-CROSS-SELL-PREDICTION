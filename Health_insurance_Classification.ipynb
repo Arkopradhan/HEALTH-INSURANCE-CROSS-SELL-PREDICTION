{
  "nbformat": 4,
  "nbformat_minor": 0,
  "metadata": {
    "colab": {
      "name": "Health insurance Classification.ipynb",
      "provenance": [],
      "collapsed_sections": [],
      "include_colab_link": true
    },
    "kernelspec": {
      "name": "python3",
      "display_name": "Python 3"
    },
    "language_info": {
      "name": "python"
    }
  },
  "cells": [
    {
      "cell_type": "markdown",
      "metadata": {
        "id": "view-in-github",
        "colab_type": "text"
      },
      "source": [
        "<a href=\"https://colab.research.google.com/github/Arkopradhan/HEALTH-INSURANCE-CROSS-SELL-PREDICTION/blob/main/Health_insurance_Classification.ipynb\" target=\"_parent\"><img src=\"https://colab.research.google.com/assets/colab-badge.svg\" alt=\"Open In Colab\"/></a>"
      ]
    },
    {
      "cell_type": "markdown",
      "source": [
        "# **HEALTH-INSURANCE-CROSS-SELL-PREDICTION**"
      ],
      "metadata": {
        "id": "B2usGlQwcIzT"
      }
    },
    {
      "cell_type": "markdown",
      "metadata": {
        "id": "LGcl5Bv9ed6u"
      },
      "source": [
        "# **Problem Statement**"
      ]
    },
    {
      "cell_type": "markdown",
      "metadata": {
        "id": "jJAmGx75jJk1"
      },
      "source": [
        "Our client is an Insurance company that has provided Health Insurance to its customers now they need your help in building a model to predict whether the policyholders (customers) from past year will also be interested in Vehicle Insurance provided by the company.\n",
        "\n",
        "An insurance policy is an arrangement by which a company undertakes to provide a guarantee of compensation for specified loss, damage, illness, or death in return for the payment of a specified premium. A premium is a sum of money that the customer needs to pay regularly to an insurance company for this guarantee.\n",
        "\n",
        "For example, you may pay a premium of Rs. 5000 each year for a health insurance cover of Rs. 200,000/- so that if, God forbid, you fall ill and need to be hospitalised in that year, the insurance provider company will bear the cost of hospitalisation etc. for upto Rs. 200,000. Now if you are wondering how can company bear such high hospitalisation cost when it charges a premium of only Rs. 5000/-, that is where the concept of probabilities comes in picture. For example, like you, there may be 100 customers who would be paying a premium of Rs. 5000 every year, but only a few of them (say 2-3) would get hospitalised that year and not everyone. This way everyone shares the risk of everyone else.\n",
        "\n",
        "Just like medical insurance, there is vehicle insurance where every year customer needs to pay a premium of certain amount to insurance provider company so that in case of unfortunate accident by the vehicle, the insurance provider company will provide a compensation (called ‘sum assured’) to the customer.\n",
        "\n",
        "Building a model to predict whether a customer would be interested in Vehicle Insurance is extremely helpful for the company because it can then accordingly plan its communication strategy to reach out to those customers and optimise its business model and revenue.\n",
        "\n",
        "Now, in order to predict, whether the customer would be interested in Vehicle insurance, you have information about demographics (gender, age, region code type), Vehicles (Vehicle Age, Damage), Policy (Premium, sourcing channel) etc."
      ]
    },
    {
      "cell_type": "markdown",
      "metadata": {
        "id": "AzGDqdC4fZ-b"
      },
      "source": [
        "# **Attribute Information**"
      ]
    },
    {
      "cell_type": "markdown",
      "metadata": {
        "id": "oEJxl68MjYbs"
      },
      "source": [
        "1. id :\tUnique ID for the customer\n",
        "\n",
        "2. Gender\t: Gender of the customer\n",
        "\n",
        "3. Age :\tAge of the customer\n",
        "\n",
        "4. Driving_License\t0 : Customer does not have DL, 1 : Customer already has DL\n",
        "\n",
        "5. Region_Code :\tUnique code for the region of the customer\n",
        "\n",
        "6. Previously_Insured\t: 1 : Customer already has Vehicle Insurance, 0 : Customer doesn't have Vehicle Insurance\n",
        "\n",
        "7. Vehicle_Age :\tAge of the Vehicle\n",
        "\n",
        "8. Vehicle_Damage\t :1 : Customer got his/her vehicle damaged in the past. 0 : Customer didn't get his/her vehicle damaged in the past.\n",
        "\n",
        "9. Annual_Premium\t: The amount customer needs to pay as premium in the year\n",
        "\n",
        "10. PolicySalesChannel :\tAnonymized Code for the channel of outreaching to the customer ie. Different Agents, Over Mail, Over Phone, In Person, etc.\n",
        "\n",
        "11. Vintage :\tNumber of Days, Customer has been associated with the company\n",
        "\n",
        "12. Response :\t1 : Customer is interested, 0 : Customer is not interested"
      ]
    },
    {
      "cell_type": "markdown",
      "metadata": {
        "id": "HpsiSsAyvD_-"
      },
      "source": [
        "# **Contents**\n",
        "1. Importing Libraries\n",
        "2. Import Data\n",
        "3. Data Summary\n",
        "4. Exploratory Data Analysis and Visualization\n",
        "5. Data Cleaning \n",
        "6. Feature Selection\n",
        "7. Model Selection\n",
        "8. Hyperparameter Tuning\n",
        "9. Conclusion"
      ]
    },
    {
      "cell_type": "code",
      "metadata": {
        "id": "3Wcy4fxVpdTZ",
        "colab": {
          "base_uri": "https://localhost:8080/"
        },
        "outputId": "835fffb7-49f4-4b40-e0fc-16a30d5ae5a3"
      },
      "source": [
        "!pip install imblearn"
      ],
      "execution_count": null,
      "outputs": [
        {
          "output_type": "stream",
          "name": "stdout",
          "text": [
            "Looking in indexes: https://pypi.org/simple, https://us-python.pkg.dev/colab-wheels/public/simple/\n",
            "Requirement already satisfied: imblearn in /usr/local/lib/python3.7/dist-packages (0.0)\n",
            "Requirement already satisfied: imbalanced-learn in /usr/local/lib/python3.7/dist-packages (from imblearn) (0.8.1)\n",
            "Requirement already satisfied: numpy>=1.13.3 in /usr/local/lib/python3.7/dist-packages (from imbalanced-learn->imblearn) (1.21.6)\n",
            "Requirement already satisfied: scipy>=0.19.1 in /usr/local/lib/python3.7/dist-packages (from imbalanced-learn->imblearn) (1.4.1)\n",
            "Requirement already satisfied: joblib>=0.11 in /usr/local/lib/python3.7/dist-packages (from imbalanced-learn->imblearn) (1.1.0)\n",
            "Requirement already satisfied: scikit-learn>=0.24 in /usr/local/lib/python3.7/dist-packages (from imbalanced-learn->imblearn) (1.0.2)\n",
            "Requirement already satisfied: threadpoolctl>=2.0.0 in /usr/local/lib/python3.7/dist-packages (from scikit-learn>=0.24->imbalanced-learn->imblearn) (3.1.0)\n"
          ]
        }
      ]
    },
    {
      "cell_type": "markdown",
      "metadata": {
        "id": "e0t0UZZFvca5"
      },
      "source": [
        "**Importing Libraries**"
      ]
    },
    {
      "cell_type": "code",
      "metadata": {
        "id": "7SVE7s1KpdVu"
      },
      "source": [
        "# import libraries\n",
        "import pandas  as pd\n",
        "import numpy as np\n",
        "import seaborn as sns\n",
        "import matplotlib.pyplot as plt\n",
        "import warnings\n",
        "warnings.filterwarnings('ignore')\n",
        "\n",
        "# Used in data preprocessing\n",
        "from sklearn.preprocessing import LabelEncoder \n",
        "from sklearn.preprocessing import StandardScaler\n",
        "\n",
        "#used to split dataset\n",
        "from sklearn.model_selection import train_test_split\n",
        "\n",
        "#used to resampling(when our dependent variable is imbalanced)\n",
        "from imblearn.over_sampling import RandomOverSampler\n",
        "from collections import Counter\n",
        "\n",
        "\n",
        "#Ml algorithms\n",
        "from sklearn.ensemble import RandomForestClassifier\n",
        "from xgboost import XGBClassifier\n",
        "from sklearn.linear_model import LogisticRegression\n",
        "\n",
        "\n",
        "#used in feature selection\n",
        "from sklearn.ensemble import ExtraTreesClassifier\n",
        "\n",
        "\n",
        "\n",
        "from sklearn.metrics import precision_score \n",
        "from sklearn.metrics import recall_score \n",
        "from sklearn.metrics import accuracy_score\n",
        "from sklearn.metrics import f1_score\n",
        "from sklearn.metrics import confusion_matrix\n",
        "from sklearn.metrics import roc_auc_score\n",
        "from sklearn.metrics import classification_report\n",
        "\n",
        "sns.set_theme(style=\"darkgrid\")"
      ],
      "execution_count": null,
      "outputs": []
    },
    {
      "cell_type": "markdown",
      "metadata": {
        "id": "uAL5t9fkvl2l"
      },
      "source": [
        "# **Import Data**"
      ]
    },
    {
      "cell_type": "code",
      "metadata": {
        "id": "IZVHzPUVpdXs",
        "colab": {
          "base_uri": "https://localhost:8080/"
        },
        "outputId": "e57d72a7-b240-474d-8e30-8ea26c49b647"
      },
      "source": [
        "# mounting google drive\n",
        "from google.colab import drive\n",
        "drive.mount('/content/drive')"
      ],
      "execution_count": null,
      "outputs": [
        {
          "output_type": "stream",
          "name": "stdout",
          "text": [
            "Drive already mounted at /content/drive; to attempt to forcibly remount, call drive.mount(\"/content/drive\", force_remount=True).\n"
          ]
        }
      ]
    },
    {
      "cell_type": "code",
      "metadata": {
        "id": "VNIdW6UxpdZ-",
        "colab": {
          "base_uri": "https://localhost:8080/",
          "height": 206
        },
        "outputId": "b605fde8-b69c-47a5-c563-6f8b884012c4"
      },
      "source": [
        "df = pd.read_csv('/content/drive/MyDrive/DATASETS/TRAIN-HEALTH INSURANCE CROSS SELL PREDICTION.csv')\n",
        "df.head()"
      ],
      "execution_count": null,
      "outputs": [
        {
          "output_type": "execute_result",
          "data": {
            "text/plain": [
              "   id  Gender  Age  Driving_License  Region_Code  Previously_Insured  \\\n",
              "0   1    Male   44                1         28.0                   0   \n",
              "1   2    Male   76                1          3.0                   0   \n",
              "2   3    Male   47                1         28.0                   0   \n",
              "3   4    Male   21                1         11.0                   1   \n",
              "4   5  Female   29                1         41.0                   1   \n",
              "\n",
              "  Vehicle_Age Vehicle_Damage  Annual_Premium  Policy_Sales_Channel  Vintage  \\\n",
              "0   > 2 Years            Yes         40454.0                  26.0      217   \n",
              "1    1-2 Year             No         33536.0                  26.0      183   \n",
              "2   > 2 Years            Yes         38294.0                  26.0       27   \n",
              "3    < 1 Year             No         28619.0                 152.0      203   \n",
              "4    < 1 Year             No         27496.0                 152.0       39   \n",
              "\n",
              "   Response  \n",
              "0         1  \n",
              "1         0  \n",
              "2         1  \n",
              "3         0  \n",
              "4         0  "
            ],
            "text/html": [
              "\n",
              "  <div id=\"df-4ecd91d8-ae25-413b-862c-1bdadaa65935\">\n",
              "    <div class=\"colab-df-container\">\n",
              "      <div>\n",
              "<style scoped>\n",
              "    .dataframe tbody tr th:only-of-type {\n",
              "        vertical-align: middle;\n",
              "    }\n",
              "\n",
              "    .dataframe tbody tr th {\n",
              "        vertical-align: top;\n",
              "    }\n",
              "\n",
              "    .dataframe thead th {\n",
              "        text-align: right;\n",
              "    }\n",
              "</style>\n",
              "<table border=\"1\" class=\"dataframe\">\n",
              "  <thead>\n",
              "    <tr style=\"text-align: right;\">\n",
              "      <th></th>\n",
              "      <th>id</th>\n",
              "      <th>Gender</th>\n",
              "      <th>Age</th>\n",
              "      <th>Driving_License</th>\n",
              "      <th>Region_Code</th>\n",
              "      <th>Previously_Insured</th>\n",
              "      <th>Vehicle_Age</th>\n",
              "      <th>Vehicle_Damage</th>\n",
              "      <th>Annual_Premium</th>\n",
              "      <th>Policy_Sales_Channel</th>\n",
              "      <th>Vintage</th>\n",
              "      <th>Response</th>\n",
              "    </tr>\n",
              "  </thead>\n",
              "  <tbody>\n",
              "    <tr>\n",
              "      <th>0</th>\n",
              "      <td>1</td>\n",
              "      <td>Male</td>\n",
              "      <td>44</td>\n",
              "      <td>1</td>\n",
              "      <td>28.0</td>\n",
              "      <td>0</td>\n",
              "      <td>&gt; 2 Years</td>\n",
              "      <td>Yes</td>\n",
              "      <td>40454.0</td>\n",
              "      <td>26.0</td>\n",
              "      <td>217</td>\n",
              "      <td>1</td>\n",
              "    </tr>\n",
              "    <tr>\n",
              "      <th>1</th>\n",
              "      <td>2</td>\n",
              "      <td>Male</td>\n",
              "      <td>76</td>\n",
              "      <td>1</td>\n",
              "      <td>3.0</td>\n",
              "      <td>0</td>\n",
              "      <td>1-2 Year</td>\n",
              "      <td>No</td>\n",
              "      <td>33536.0</td>\n",
              "      <td>26.0</td>\n",
              "      <td>183</td>\n",
              "      <td>0</td>\n",
              "    </tr>\n",
              "    <tr>\n",
              "      <th>2</th>\n",
              "      <td>3</td>\n",
              "      <td>Male</td>\n",
              "      <td>47</td>\n",
              "      <td>1</td>\n",
              "      <td>28.0</td>\n",
              "      <td>0</td>\n",
              "      <td>&gt; 2 Years</td>\n",
              "      <td>Yes</td>\n",
              "      <td>38294.0</td>\n",
              "      <td>26.0</td>\n",
              "      <td>27</td>\n",
              "      <td>1</td>\n",
              "    </tr>\n",
              "    <tr>\n",
              "      <th>3</th>\n",
              "      <td>4</td>\n",
              "      <td>Male</td>\n",
              "      <td>21</td>\n",
              "      <td>1</td>\n",
              "      <td>11.0</td>\n",
              "      <td>1</td>\n",
              "      <td>&lt; 1 Year</td>\n",
              "      <td>No</td>\n",
              "      <td>28619.0</td>\n",
              "      <td>152.0</td>\n",
              "      <td>203</td>\n",
              "      <td>0</td>\n",
              "    </tr>\n",
              "    <tr>\n",
              "      <th>4</th>\n",
              "      <td>5</td>\n",
              "      <td>Female</td>\n",
              "      <td>29</td>\n",
              "      <td>1</td>\n",
              "      <td>41.0</td>\n",
              "      <td>1</td>\n",
              "      <td>&lt; 1 Year</td>\n",
              "      <td>No</td>\n",
              "      <td>27496.0</td>\n",
              "      <td>152.0</td>\n",
              "      <td>39</td>\n",
              "      <td>0</td>\n",
              "    </tr>\n",
              "  </tbody>\n",
              "</table>\n",
              "</div>\n",
              "      <button class=\"colab-df-convert\" onclick=\"convertToInteractive('df-4ecd91d8-ae25-413b-862c-1bdadaa65935')\"\n",
              "              title=\"Convert this dataframe to an interactive table.\"\n",
              "              style=\"display:none;\">\n",
              "        \n",
              "  <svg xmlns=\"http://www.w3.org/2000/svg\" height=\"24px\"viewBox=\"0 0 24 24\"\n",
              "       width=\"24px\">\n",
              "    <path d=\"M0 0h24v24H0V0z\" fill=\"none\"/>\n",
              "    <path d=\"M18.56 5.44l.94 2.06.94-2.06 2.06-.94-2.06-.94-.94-2.06-.94 2.06-2.06.94zm-11 1L8.5 8.5l.94-2.06 2.06-.94-2.06-.94L8.5 2.5l-.94 2.06-2.06.94zm10 10l.94 2.06.94-2.06 2.06-.94-2.06-.94-.94-2.06-.94 2.06-2.06.94z\"/><path d=\"M17.41 7.96l-1.37-1.37c-.4-.4-.92-.59-1.43-.59-.52 0-1.04.2-1.43.59L10.3 9.45l-7.72 7.72c-.78.78-.78 2.05 0 2.83L4 21.41c.39.39.9.59 1.41.59.51 0 1.02-.2 1.41-.59l7.78-7.78 2.81-2.81c.8-.78.8-2.07 0-2.86zM5.41 20L4 18.59l7.72-7.72 1.47 1.35L5.41 20z\"/>\n",
              "  </svg>\n",
              "      </button>\n",
              "      \n",
              "  <style>\n",
              "    .colab-df-container {\n",
              "      display:flex;\n",
              "      flex-wrap:wrap;\n",
              "      gap: 12px;\n",
              "    }\n",
              "\n",
              "    .colab-df-convert {\n",
              "      background-color: #E8F0FE;\n",
              "      border: none;\n",
              "      border-radius: 50%;\n",
              "      cursor: pointer;\n",
              "      display: none;\n",
              "      fill: #1967D2;\n",
              "      height: 32px;\n",
              "      padding: 0 0 0 0;\n",
              "      width: 32px;\n",
              "    }\n",
              "\n",
              "    .colab-df-convert:hover {\n",
              "      background-color: #E2EBFA;\n",
              "      box-shadow: 0px 1px 2px rgba(60, 64, 67, 0.3), 0px 1px 3px 1px rgba(60, 64, 67, 0.15);\n",
              "      fill: #174EA6;\n",
              "    }\n",
              "\n",
              "    [theme=dark] .colab-df-convert {\n",
              "      background-color: #3B4455;\n",
              "      fill: #D2E3FC;\n",
              "    }\n",
              "\n",
              "    [theme=dark] .colab-df-convert:hover {\n",
              "      background-color: #434B5C;\n",
              "      box-shadow: 0px 1px 3px 1px rgba(0, 0, 0, 0.15);\n",
              "      filter: drop-shadow(0px 1px 2px rgba(0, 0, 0, 0.3));\n",
              "      fill: #FFFFFF;\n",
              "    }\n",
              "  </style>\n",
              "\n",
              "      <script>\n",
              "        const buttonEl =\n",
              "          document.querySelector('#df-4ecd91d8-ae25-413b-862c-1bdadaa65935 button.colab-df-convert');\n",
              "        buttonEl.style.display =\n",
              "          google.colab.kernel.accessAllowed ? 'block' : 'none';\n",
              "\n",
              "        async function convertToInteractive(key) {\n",
              "          const element = document.querySelector('#df-4ecd91d8-ae25-413b-862c-1bdadaa65935');\n",
              "          const dataTable =\n",
              "            await google.colab.kernel.invokeFunction('convertToInteractive',\n",
              "                                                     [key], {});\n",
              "          if (!dataTable) return;\n",
              "\n",
              "          const docLinkHtml = 'Like what you see? Visit the ' +\n",
              "            '<a target=\"_blank\" href=https://colab.research.google.com/notebooks/data_table.ipynb>data table notebook</a>'\n",
              "            + ' to learn more about interactive tables.';\n",
              "          element.innerHTML = '';\n",
              "          dataTable['output_type'] = 'display_data';\n",
              "          await google.colab.output.renderOutput(dataTable, element);\n",
              "          const docLink = document.createElement('div');\n",
              "          docLink.innerHTML = docLinkHtml;\n",
              "          element.appendChild(docLink);\n",
              "        }\n",
              "      </script>\n",
              "    </div>\n",
              "  </div>\n",
              "  "
            ]
          },
          "metadata": {},
          "execution_count": 86
        }
      ]
    },
    {
      "cell_type": "markdown",
      "metadata": {
        "id": "2HObRoK2wGEV"
      },
      "source": [
        "# **Data Summary**\n",
        " #### Dataset shape\n",
        "#### A new DataFrame where we have columns name of this df along with datatype , missing value no , unique values no , first value , second value"
      ]
    },
    {
      "cell_type": "code",
      "metadata": {
        "id": "C2TZTJD-pdcA"
      },
      "source": [
        "def DataInfoAll(df):\n",
        "    print(f\"Dataset Shape: {df.shape}\")\n",
        "    print(\"-\"*75)\n",
        "    summary = pd.DataFrame(df.dtypes,columns=['dtypes'])\n",
        "    summary = summary.reset_index()\n",
        "    summary['Name'] = summary['index']\n",
        "    summary = summary[['Name','dtypes']]\n",
        "    summary['Missing'] = df.isnull().sum().values    \n",
        "    summary['Uniques'] = df.nunique().values\n",
        "    summary['First Value'] = df.iloc[0].values\n",
        "    summary['Second Value'] = df.iloc[1].values\n",
        "    return summary"
      ],
      "execution_count": null,
      "outputs": []
    },
    {
      "cell_type": "code",
      "metadata": {
        "id": "poRGYOFypdeH",
        "colab": {
          "base_uri": "https://localhost:8080/",
          "height": 460
        },
        "outputId": "8572f72d-ff5f-47b3-bf78-b0b5a45f8277"
      },
      "source": [
        "DataInfoAll(df)"
      ],
      "execution_count": null,
      "outputs": [
        {
          "output_type": "stream",
          "name": "stdout",
          "text": [
            "Dataset Shape: (381109, 12)\n",
            "---------------------------------------------------------------------------\n"
          ]
        },
        {
          "output_type": "execute_result",
          "data": {
            "text/plain": [
              "                    Name   dtypes  Missing  Uniques First Value Second Value\n",
              "0                     id    int64        0   381109           1            2\n",
              "1                 Gender   object        0        2        Male         Male\n",
              "2                    Age    int64        0       66          44           76\n",
              "3        Driving_License    int64        0        2           1            1\n",
              "4            Region_Code  float64        0       53        28.0          3.0\n",
              "5     Previously_Insured    int64        0        2           0            0\n",
              "6            Vehicle_Age   object        0        3   > 2 Years     1-2 Year\n",
              "7         Vehicle_Damage   object        0        2         Yes           No\n",
              "8         Annual_Premium  float64        0    48838     40454.0      33536.0\n",
              "9   Policy_Sales_Channel  float64        0      155        26.0         26.0\n",
              "10               Vintage    int64        0      290         217          183\n",
              "11              Response    int64        0        2           1            0"
            ],
            "text/html": [
              "\n",
              "  <div id=\"df-2ce53328-d58a-4df7-9f54-fee340eaaf09\">\n",
              "    <div class=\"colab-df-container\">\n",
              "      <div>\n",
              "<style scoped>\n",
              "    .dataframe tbody tr th:only-of-type {\n",
              "        vertical-align: middle;\n",
              "    }\n",
              "\n",
              "    .dataframe tbody tr th {\n",
              "        vertical-align: top;\n",
              "    }\n",
              "\n",
              "    .dataframe thead th {\n",
              "        text-align: right;\n",
              "    }\n",
              "</style>\n",
              "<table border=\"1\" class=\"dataframe\">\n",
              "  <thead>\n",
              "    <tr style=\"text-align: right;\">\n",
              "      <th></th>\n",
              "      <th>Name</th>\n",
              "      <th>dtypes</th>\n",
              "      <th>Missing</th>\n",
              "      <th>Uniques</th>\n",
              "      <th>First Value</th>\n",
              "      <th>Second Value</th>\n",
              "    </tr>\n",
              "  </thead>\n",
              "  <tbody>\n",
              "    <tr>\n",
              "      <th>0</th>\n",
              "      <td>id</td>\n",
              "      <td>int64</td>\n",
              "      <td>0</td>\n",
              "      <td>381109</td>\n",
              "      <td>1</td>\n",
              "      <td>2</td>\n",
              "    </tr>\n",
              "    <tr>\n",
              "      <th>1</th>\n",
              "      <td>Gender</td>\n",
              "      <td>object</td>\n",
              "      <td>0</td>\n",
              "      <td>2</td>\n",
              "      <td>Male</td>\n",
              "      <td>Male</td>\n",
              "    </tr>\n",
              "    <tr>\n",
              "      <th>2</th>\n",
              "      <td>Age</td>\n",
              "      <td>int64</td>\n",
              "      <td>0</td>\n",
              "      <td>66</td>\n",
              "      <td>44</td>\n",
              "      <td>76</td>\n",
              "    </tr>\n",
              "    <tr>\n",
              "      <th>3</th>\n",
              "      <td>Driving_License</td>\n",
              "      <td>int64</td>\n",
              "      <td>0</td>\n",
              "      <td>2</td>\n",
              "      <td>1</td>\n",
              "      <td>1</td>\n",
              "    </tr>\n",
              "    <tr>\n",
              "      <th>4</th>\n",
              "      <td>Region_Code</td>\n",
              "      <td>float64</td>\n",
              "      <td>0</td>\n",
              "      <td>53</td>\n",
              "      <td>28.0</td>\n",
              "      <td>3.0</td>\n",
              "    </tr>\n",
              "    <tr>\n",
              "      <th>5</th>\n",
              "      <td>Previously_Insured</td>\n",
              "      <td>int64</td>\n",
              "      <td>0</td>\n",
              "      <td>2</td>\n",
              "      <td>0</td>\n",
              "      <td>0</td>\n",
              "    </tr>\n",
              "    <tr>\n",
              "      <th>6</th>\n",
              "      <td>Vehicle_Age</td>\n",
              "      <td>object</td>\n",
              "      <td>0</td>\n",
              "      <td>3</td>\n",
              "      <td>&gt; 2 Years</td>\n",
              "      <td>1-2 Year</td>\n",
              "    </tr>\n",
              "    <tr>\n",
              "      <th>7</th>\n",
              "      <td>Vehicle_Damage</td>\n",
              "      <td>object</td>\n",
              "      <td>0</td>\n",
              "      <td>2</td>\n",
              "      <td>Yes</td>\n",
              "      <td>No</td>\n",
              "    </tr>\n",
              "    <tr>\n",
              "      <th>8</th>\n",
              "      <td>Annual_Premium</td>\n",
              "      <td>float64</td>\n",
              "      <td>0</td>\n",
              "      <td>48838</td>\n",
              "      <td>40454.0</td>\n",
              "      <td>33536.0</td>\n",
              "    </tr>\n",
              "    <tr>\n",
              "      <th>9</th>\n",
              "      <td>Policy_Sales_Channel</td>\n",
              "      <td>float64</td>\n",
              "      <td>0</td>\n",
              "      <td>155</td>\n",
              "      <td>26.0</td>\n",
              "      <td>26.0</td>\n",
              "    </tr>\n",
              "    <tr>\n",
              "      <th>10</th>\n",
              "      <td>Vintage</td>\n",
              "      <td>int64</td>\n",
              "      <td>0</td>\n",
              "      <td>290</td>\n",
              "      <td>217</td>\n",
              "      <td>183</td>\n",
              "    </tr>\n",
              "    <tr>\n",
              "      <th>11</th>\n",
              "      <td>Response</td>\n",
              "      <td>int64</td>\n",
              "      <td>0</td>\n",
              "      <td>2</td>\n",
              "      <td>1</td>\n",
              "      <td>0</td>\n",
              "    </tr>\n",
              "  </tbody>\n",
              "</table>\n",
              "</div>\n",
              "      <button class=\"colab-df-convert\" onclick=\"convertToInteractive('df-2ce53328-d58a-4df7-9f54-fee340eaaf09')\"\n",
              "              title=\"Convert this dataframe to an interactive table.\"\n",
              "              style=\"display:none;\">\n",
              "        \n",
              "  <svg xmlns=\"http://www.w3.org/2000/svg\" height=\"24px\"viewBox=\"0 0 24 24\"\n",
              "       width=\"24px\">\n",
              "    <path d=\"M0 0h24v24H0V0z\" fill=\"none\"/>\n",
              "    <path d=\"M18.56 5.44l.94 2.06.94-2.06 2.06-.94-2.06-.94-.94-2.06-.94 2.06-2.06.94zm-11 1L8.5 8.5l.94-2.06 2.06-.94-2.06-.94L8.5 2.5l-.94 2.06-2.06.94zm10 10l.94 2.06.94-2.06 2.06-.94-2.06-.94-.94-2.06-.94 2.06-2.06.94z\"/><path d=\"M17.41 7.96l-1.37-1.37c-.4-.4-.92-.59-1.43-.59-.52 0-1.04.2-1.43.59L10.3 9.45l-7.72 7.72c-.78.78-.78 2.05 0 2.83L4 21.41c.39.39.9.59 1.41.59.51 0 1.02-.2 1.41-.59l7.78-7.78 2.81-2.81c.8-.78.8-2.07 0-2.86zM5.41 20L4 18.59l7.72-7.72 1.47 1.35L5.41 20z\"/>\n",
              "  </svg>\n",
              "      </button>\n",
              "      \n",
              "  <style>\n",
              "    .colab-df-container {\n",
              "      display:flex;\n",
              "      flex-wrap:wrap;\n",
              "      gap: 12px;\n",
              "    }\n",
              "\n",
              "    .colab-df-convert {\n",
              "      background-color: #E8F0FE;\n",
              "      border: none;\n",
              "      border-radius: 50%;\n",
              "      cursor: pointer;\n",
              "      display: none;\n",
              "      fill: #1967D2;\n",
              "      height: 32px;\n",
              "      padding: 0 0 0 0;\n",
              "      width: 32px;\n",
              "    }\n",
              "\n",
              "    .colab-df-convert:hover {\n",
              "      background-color: #E2EBFA;\n",
              "      box-shadow: 0px 1px 2px rgba(60, 64, 67, 0.3), 0px 1px 3px 1px rgba(60, 64, 67, 0.15);\n",
              "      fill: #174EA6;\n",
              "    }\n",
              "\n",
              "    [theme=dark] .colab-df-convert {\n",
              "      background-color: #3B4455;\n",
              "      fill: #D2E3FC;\n",
              "    }\n",
              "\n",
              "    [theme=dark] .colab-df-convert:hover {\n",
              "      background-color: #434B5C;\n",
              "      box-shadow: 0px 1px 3px 1px rgba(0, 0, 0, 0.15);\n",
              "      filter: drop-shadow(0px 1px 2px rgba(0, 0, 0, 0.3));\n",
              "      fill: #FFFFFF;\n",
              "    }\n",
              "  </style>\n",
              "\n",
              "      <script>\n",
              "        const buttonEl =\n",
              "          document.querySelector('#df-2ce53328-d58a-4df7-9f54-fee340eaaf09 button.colab-df-convert');\n",
              "        buttonEl.style.display =\n",
              "          google.colab.kernel.accessAllowed ? 'block' : 'none';\n",
              "\n",
              "        async function convertToInteractive(key) {\n",
              "          const element = document.querySelector('#df-2ce53328-d58a-4df7-9f54-fee340eaaf09');\n",
              "          const dataTable =\n",
              "            await google.colab.kernel.invokeFunction('convertToInteractive',\n",
              "                                                     [key], {});\n",
              "          if (!dataTable) return;\n",
              "\n",
              "          const docLinkHtml = 'Like what you see? Visit the ' +\n",
              "            '<a target=\"_blank\" href=https://colab.research.google.com/notebooks/data_table.ipynb>data table notebook</a>'\n",
              "            + ' to learn more about interactive tables.';\n",
              "          element.innerHTML = '';\n",
              "          dataTable['output_type'] = 'display_data';\n",
              "          await google.colab.output.renderOutput(dataTable, element);\n",
              "          const docLink = document.createElement('div');\n",
              "          docLink.innerHTML = docLinkHtml;\n",
              "          element.appendChild(docLink);\n",
              "        }\n",
              "      </script>\n",
              "    </div>\n",
              "  </div>\n",
              "  "
            ]
          },
          "metadata": {},
          "execution_count": 88
        }
      ]
    },
    {
      "cell_type": "markdown",
      "metadata": {
        "id": "HBm4eAGawUOJ"
      },
      "source": [
        "* There is no Null value present in this dataset\n",
        "\n",
        "* All the numerical values are present in integer or float datatype "
      ]
    },
    {
      "cell_type": "markdown",
      "metadata": {
        "id": "K0FOlCC6wXfV"
      },
      "source": [
        "# **Exploratory Data Analysis and Visualization**\n",
        "**Checking outliers in all the numerical columns**"
      ]
    },
    {
      "cell_type": "code",
      "metadata": {
        "id": "eeX1a86vpdgV",
        "colab": {
          "base_uri": "https://localhost:8080/",
          "height": 1000
        },
        "outputId": "b7e282c3-fc55-43b2-df3f-0b0bdbf22b82"
      },
      "source": [
        "import matplotlib.pyplot as plt\n",
        "df1 = df[list(df.describe())]\n",
        "\n",
        "for column in df1:\n",
        "        plt.figure(figsize=( 8 , 8))\n",
        "        plt.title(f'Boxplot for {column}' , fontsize = 15)\n",
        "        sns.boxplot(data=df1, x=column)\n"
      ],
      "execution_count": null,
      "outputs": [
        {
          "output_type": "display_data",
          "data": {
            "text/plain": [
              "<Figure size 576x576 with 1 Axes>"
            ],
            "image/png": "[encoded data removed]"
          },
          "metadata": {}
        },
        {
          "output_type": "display_data",
          "data": {
            "text/plain": [
              "<Figure size 576x576 with 1 Axes>"
            ],
            "image/png": "[encoded data removed]"
          },
          "metadata": {}
        },
        {
          "output_type": "display_data",
          "data": {
            "text/plain": [
              "<Figure size 576x576 with 1 Axes>"
            ],
            "image/png": "[encoded data removed]"
          },
          "metadata": {}
        },
        {
          "output_type": "display_data",
          "data": {
            "text/plain": [
              "<Figure size 576x576 with 1 Axes>"
            ],
            "image/png": "[encoded data removed]"
          },
          "metadata": {}
        },
        {
          "output_type": "display_data",
          "data": {
            "text/plain": [
              "<Figure size 576x576 with 1 Axes>"
            ],
            "image/png": "[encoded data removed]"
          },
          "metadata": {}
        },
        {
          "output_type": "display_data",
          "data": {
            "text/plain": [
              "<Figure size 576x576 with 1 Axes>"
            ],
            "image/png": "[encoded data removed]"
          },
          "metadata": {}
        },
        {
          "output_type": "display_data",
          "data": {
            "text/plain": [
              "<Figure size 576x576 with 1 Axes>"
            ],
            "image/png": "[encoded data removed]"
          },
          "metadata": {}
        },
        {
          "output_type": "display_data",
          "data": {
            "text/plain": [
              "<Figure size 576x576 with 1 Axes>"
            ],
            "image/png": "[encoded data removed]"
          },
          "metadata": {}
        },
        {
          "output_type": "display_data",
          "data": {
            "text/plain": [
              "<Figure size 576x576 with 1 Axes>"
            ],
            "image/png": "[encoded data removed]"
          },
          "metadata": {}
        }
      ]
    },
    {
      "cell_type": "markdown",
      "metadata": {
        "id": "7xatHF3Kw5uz"
      },
      "source": [
        "\n",
        " **Target Variable**"
      ]
    },
    {
      "cell_type": "code",
      "metadata": {
        "id": "lyT62POrpdiw",
        "colab": {
          "base_uri": "https://localhost:8080/",
          "height": 739
        },
        "outputId": "db5bec35-e86c-4a10-f9a4-fa700c1c1af4"
      },
      "source": [
        "sns.set_theme(style=\"darkgrid\")\n",
        "sns.countplot(df['Response'] , data = df)"
      ],
      "execution_count": null,
      "outputs": [
        {
          "output_type": "execute_result",
          "data": {
            "text/plain": [
              "<matplotlib.axes._subplots.AxesSubplot at 0x7f030bd22710>"
            ]
          },
          "metadata": {},
          "execution_count": 90
        },
        {
          "output_type": "display_data",
          "data": {
            "text/plain": [
              "<Figure size 1440x864 with 1 Axes>"
            ],
            "image/png": "[encoded data removed]"
          },
          "metadata": {}
        }
      ]
    },
    {
      "cell_type": "markdown",
      "metadata": {
        "id": "VqPgl2QLxB3Q"
      },
      "source": [
        "The data is highly imbalanced.\n",
        "As you can see in above graph, there are very few interested customers whose stats are less than 50000 and those above 300000 are not interested"
      ]
    },
    {
      "cell_type": "markdown",
      "metadata": {
        "id": "SDcLCMAIxFl4"
      },
      "source": [
        "Let's check outlier present in all numerical columns\n"
      ]
    },
    {
      "cell_type": "code",
      "metadata": {
        "id": "xPrI5TMJpdk-",
        "colab": {
          "base_uri": "https://localhost:8080/",
          "height": 720
        },
        "outputId": "dc9ce661-0971-49d2-97cf-da6dd1d2ce9c"
      },
      "source": [
        "plt.rcParams['figure.figsize']=(20,12)\n",
        "ax = df[list(df.describe())].plot(kind='box', title='Boxplot', showmeans=True)\n",
        "\n",
        "plt.show()"
      ],
      "execution_count": null,
      "outputs": [
        {
          "output_type": "display_data",
          "data": {
            "text/plain": [
              "<Figure size 1440x864 with 1 Axes>"
            ],
            "image/png": "[encoded data removed]"
          },
          "metadata": {}
        }
      ]
    },
    {
      "cell_type": "markdown",
      "metadata": {
        "id": "i47Vl9ANxS35"
      },
      "source": [
        "As you can see\n",
        "1.  Annual_Premium has the highest outliers present in this dataset\n",
        "2.  Driving_License has very less outliers.\n",
        "3. Response has very less outliers."
      ]
    },
    {
      "cell_type": "markdown",
      "metadata": {
        "id": "avcutDC1xbDA"
      },
      "source": [
        "# **Gender**"
      ]
    },
    {
      "cell_type": "code",
      "metadata": {
        "id": "ZmzLsbhfpdnQ",
        "colab": {
          "base_uri": "https://localhost:8080/",
          "height": 355
        },
        "outputId": "df34022d-c746-4787-c065-ba406f72dd4c"
      },
      "source": [
        "plt.figure(figsize = (13,5))\n",
        "plt.subplot(1,2,1)\n",
        "sns.countplot(df['Gender'],palette='husl')\n",
        "plt.title(\"Count of Male & Female\")\n",
        "plt.subplot(1,2,2)\n",
        "sns.countplot(df['Gender'], hue = df['Response'],palette=\"husl\")\n",
        "plt.title(\"Response in Male and Female Category\")\n",
        "plt.show()"
      ],
      "execution_count": null,
      "outputs": [
        {
          "output_type": "display_data",
          "data": {
            "text/plain": [
              "<Figure size 936x360 with 2 Axes>"
            ],
            "image/png": "[encoded data removed]"
          },
          "metadata": {}
        }
      ]
    },
    {
      "cell_type": "markdown",
      "metadata": {
        "id": "jBJ3VeVexjP5"
      },
      "source": [
        "* The gender variable ratio in the dataset is almost equal, male category is slightly more than female and also the chances of buying insurance is also little high than female.\n",
        "\n",
        "* The number of male is greater than 200000 and The number of female is close to 175000. The number of male is intersted which is greater than 25000 and The number of female is intersted which is below 25000.Male category is slightly greater than that of female and chances of buying the insurance is also little high\n",
        "\n"
      ]
    },
    {
      "cell_type": "markdown",
      "metadata": {
        "id": "EaktLwvdxva-"
      },
      "source": [
        "# **Age vs Response**"
      ]
    },
    {
      "cell_type": "code",
      "metadata": {
        "id": "t7-dcyvLpdpg",
        "colab": {
          "base_uri": "https://localhost:8080/"
        },
        "outputId": "0085b2b3-4cda-414c-ffdb-df712c8701b0"
      },
      "source": [
        "df.columns"
      ],
      "execution_count": null,
      "outputs": [
        {
          "output_type": "execute_result",
          "data": {
            "text/plain": [
              "Index(['id', 'Gender', 'Age', 'Driving_License', 'Region_Code',\n",
              "       'Previously_Insured', 'Vehicle_Age', 'Vehicle_Damage', 'Annual_Premium',\n",
              "       'Policy_Sales_Channel', 'Vintage', 'Response'],\n",
              "      dtype='object')"
            ]
          },
          "metadata": {},
          "execution_count": 93
        }
      ]
    },
    {
      "cell_type": "code",
      "metadata": {
        "id": "rAKhsRxgpdr2",
        "colab": {
          "base_uri": "https://localhost:8080/",
          "height": 628
        },
        "outputId": "96b5cd84-8988-4680-941b-a8e8260e8c97"
      },
      "source": [
        "#### Age VS Response\n",
        "plt.figure(figsize=(20,10))\n",
        "sns.countplot(x='Age',hue='Response',data=df)"
      ],
      "execution_count": null,
      "outputs": [
        {
          "output_type": "execute_result",
          "data": {
            "text/plain": [
              "<matplotlib.axes._subplots.AxesSubplot at 0x7f030bb23810>"
            ]
          },
          "metadata": {},
          "execution_count": 94
        },
        {
          "output_type": "display_data",
          "data": {
            "text/plain": [
              "<Figure size 1440x720 with 1 Axes>"
            ],
            "image/png": "[encoded data removed]"
          },
          "metadata": {}
        }
      ]
    },
    {
      "cell_type": "markdown",
      "metadata": {
        "id": "5F7uHc0wx644"
      },
      "source": [
        "# **Outlier present or not**"
      ]
    },
    {
      "cell_type": "code",
      "metadata": {
        "id": "52XQ_8dhpdt5",
        "colab": {
          "base_uri": "https://localhost:8080/",
          "height": 737
        },
        "outputId": "43e6047a-1928-4b5e-cd3b-20bb3084b6a0"
      },
      "source": [
        "sns.boxplot(df['Age'])"
      ],
      "execution_count": null,
      "outputs": [
        {
          "output_type": "execute_result",
          "data": {
            "text/plain": [
              "<matplotlib.axes._subplots.AxesSubplot at 0x7f030bcd4410>"
            ]
          },
          "metadata": {},
          "execution_count": 95
        },
        {
          "output_type": "display_data",
          "data": {
            "text/plain": [
              "<Figure size 1440x864 with 1 Axes>"
            ],
            "image/png": "[encoded data removed]"
          },
          "metadata": {}
        }
      ]
    },
    {
      "cell_type": "markdown",
      "metadata": {
        "id": "jXlZwyn1yKDS"
      },
      "source": [
        "* Young people below 30 are not interested in vehicle insurance. Reasons could be lack of experience, less maturity level and they don't have expensive vehicles yet.\n",
        "* People aged between 30-60 are more likely to be interested.\n",
        "* From the boxplot we can see that there no outlier in the data\n",
        "As you can see there is no outliers present in Age"
      ]
    },
    {
      "cell_type": "code",
      "metadata": {
        "id": "fIAzUl2epdwQ",
        "colab": {
          "base_uri": "https://localhost:8080/"
        },
        "outputId": "fa6a9a8a-e716-43aa-a45b-25d9c91e3ea1"
      },
      "source": [
        "df.Driving_License.value_counts()"
      ],
      "execution_count": null,
      "outputs": [
        {
          "output_type": "execute_result",
          "data": {
            "text/plain": [
              "1    380297\n",
              "0       812\n",
              "Name: Driving_License, dtype: int64"
            ]
          },
          "metadata": {},
          "execution_count": 96
        }
      ]
    },
    {
      "cell_type": "code",
      "metadata": {
        "id": "EN4VTQVcpdyf",
        "colab": {
          "base_uri": "https://localhost:8080/",
          "height": 414
        },
        "outputId": "6a0f3300-11f9-4350-d3d0-a01a37e111f1"
      },
      "source": [
        "plt.figure( figsize = (10 , 6))\n",
        "sns.countplot(df['Driving_License'],hue=df['Response'])"
      ],
      "execution_count": null,
      "outputs": [
        {
          "output_type": "execute_result",
          "data": {
            "text/plain": [
              "<matplotlib.axes._subplots.AxesSubplot at 0x7f030c40fc10>"
            ]
          },
          "metadata": {},
          "execution_count": 97
        },
        {
          "output_type": "display_data",
          "data": {
            "text/plain": [
              "<Figure size 720x432 with 1 Axes>"
            ],
            "image/png": "[encoded data removed]"
          },
          "metadata": {}
        }
      ]
    },
    {
      "cell_type": "markdown",
      "metadata": {
        "id": "0sihaHdFyXwh"
      },
      "source": [
        "* Customers who are interested in Vehicle Insurance almost all have driving license"
      ]
    },
    {
      "cell_type": "markdown",
      "metadata": {
        "id": "gj8B56Zjyb9i"
      },
      "source": [
        "# **Previously_Insured Vs Response**"
      ]
    },
    {
      "cell_type": "code",
      "metadata": {
        "id": "7dEGAqEwpd3W",
        "colab": {
          "base_uri": "https://localhost:8080/",
          "height": 411
        },
        "outputId": "8b6c443e-e863-4898-eb78-eeadc09e05f7"
      },
      "source": [
        "plt.figure( figsize = (10 , 6))\n",
        "sns.countplot(x = 'Previously_Insured' , hue = 'Response' , data = df , palette = 'husl' )"
      ],
      "execution_count": null,
      "outputs": [
        {
          "output_type": "execute_result",
          "data": {
            "text/plain": [
              "<matplotlib.axes._subplots.AxesSubplot at 0x7f030c5c6dd0>"
            ]
          },
          "metadata": {},
          "execution_count": 98
        },
        {
          "output_type": "display_data",
          "data": {
            "text/plain": [
              "<Figure size 720x432 with 1 Axes>"
            ],
            "image/png": "[encoded data removed]"
          },
          "metadata": {}
        }
      ]
    },
    {
      "cell_type": "markdown",
      "metadata": {
        "id": "irs9uN2KyjCR"
      },
      "source": [
        "* Those who have not insurance some of them are taking insurance"
      ]
    },
    {
      "cell_type": "markdown",
      "metadata": {
        "id": "WVkkQX2OyqQo"
      },
      "source": [
        "# **Vehicle_Age Vs Response**"
      ]
    },
    {
      "cell_type": "code",
      "metadata": {
        "id": "NxJTOOhBpd5z",
        "colab": {
          "base_uri": "https://localhost:8080/"
        },
        "outputId": "1f681f3f-d900-45b3-b432-da378054d42e"
      },
      "source": [
        "df.Vehicle_Age.value_counts()"
      ],
      "execution_count": null,
      "outputs": [
        {
          "output_type": "execute_result",
          "data": {
            "text/plain": [
              "1-2 Year     200316\n",
              "< 1 Year     164786\n",
              "> 2 Years     16007\n",
              "Name: Vehicle_Age, dtype: int64"
            ]
          },
          "metadata": {},
          "execution_count": 99
        }
      ]
    },
    {
      "cell_type": "code",
      "metadata": {
        "id": "X4_27vMWpd8D",
        "colab": {
          "base_uri": "https://localhost:8080/",
          "height": 411
        },
        "outputId": "26ec5998-be48-411a-9165-ae326d7077ca"
      },
      "source": [
        "plt.figure( figsize = (10 , 6))\n",
        "sns.countplot(x = 'Vehicle_Age' , hue = 'Response' , data = df , palette = 'husl')\n",
        "plt.axis([None,None,10,175000])"
      ],
      "execution_count": null,
      "outputs": [
        {
          "output_type": "execute_result",
          "data": {
            "text/plain": [
              "(-0.5, 2.5, 10.0, 175000.0)"
            ]
          },
          "metadata": {},
          "execution_count": 100
        },
        {
          "output_type": "display_data",
          "data": {
            "text/plain": [
              "<Figure size 720x432 with 1 Axes>"
            ],
            "image/png": "[encoded data removed]"
          },
          "metadata": {}
        }
      ]
    },
    {
      "cell_type": "markdown",
      "metadata": {
        "id": "4J3i0aQJy0K6"
      },
      "source": [
        "* From seeing this graph we can say that if the vehicle's age is in between 1 to 2 years ,those vehicle owners are more likely to buy insurance\n",
        "\n",
        "* No of customers with Vehicle_Age >2 is more than the no of customers whose Vehicle_Age< 1"
      ]
    },
    {
      "cell_type": "markdown",
      "metadata": {
        "id": "vzUwGk6Wy8-x"
      },
      "source": [
        "# **Annual_Premium**"
      ]
    },
    {
      "cell_type": "code",
      "metadata": {
        "id": "uzydnFrlpd-a",
        "colab": {
          "base_uri": "https://localhost:8080/",
          "height": 256
        },
        "outputId": "9ba93f06-766e-4e0d-eb77-a50cbf2f76ad"
      },
      "source": [
        "plt.figure(figsize=(13,7))\n",
        "plt.subplot(2,1,1)\n",
        "sns.distplot(df['Annual_Premium'], color='green')\n",
        "plt.title(\"Distribution of Annual premium\")\n",
        "plt.show()"
      ],
      "execution_count": null,
      "outputs": [
        {
          "output_type": "display_data",
          "data": {
            "text/plain": [
              "<Figure size 936x504 with 1 Axes>"
            ],
            "image/png": "[encoded data removed]"
          },
          "metadata": {}
        }
      ]
    },
    {
      "cell_type": "markdown",
      "metadata": {
        "id": "8PUbNyJazD3W"
      },
      "source": [
        "* From the distribution plot we can infer that the annual premimum variable is right skewed.\n"
      ]
    },
    {
      "cell_type": "code",
      "metadata": {
        "id": "K2Qh75vrpeAz",
        "colab": {
          "base_uri": "https://localhost:8080/",
          "height": 464
        },
        "outputId": "0b656306-dd08-4bbf-c4ff-d57b671c94e2"
      },
      "source": [
        "plt.figure(figsize=(13,7))\n",
        "sns.boxplot(df['Annual_Premium'])\n",
        "plt.title(\"boxplot of Annual premium\")\n",
        "plt.show()"
      ],
      "execution_count": null,
      "outputs": [
        {
          "output_type": "display_data",
          "data": {
            "text/plain": [
              "<Figure size 936x504 with 1 Axes>"
            ],
            "image/png": "[encoded data removed]"
          },
          "metadata": {}
        }
      ]
    },
    {
      "cell_type": "markdown",
      "source": [
        "# Outlier Treatment with IQR range"
      ],
      "metadata": {
        "id": "1pRSyr7QBAx6"
      }
    },
    {
      "cell_type": "code",
      "source": [
        "outliers = []\n",
        "def detect_outliers_iqr(data):\n",
        "    data = sorted(data)\n",
        "    q1 = np.percentile(data, 25)\n",
        "    q3 = np.percentile(data, 75)\n",
        "    # print(q1, q3)\n",
        "    IQR = q3-q1\n",
        "    lwr_bound = q1-(1.5*IQR)\n",
        "    upr_bound = q3+(1.5*IQR)\n",
        "    # print(lwr_bound, upr_bound)\n",
        "    for i in data: \n",
        "        if (i<lwr_bound or i>upr_bound):\n",
        "            outliers.append(i)\n",
        "    return outliers"
      ],
      "metadata": {
        "id": "Ppi-fK5-UM0l"
      },
      "execution_count": null,
      "outputs": []
    },
    {
      "cell_type": "code",
      "source": [
        "# Driver code\n",
        "sample_outliers = detect_outliers_iqr(df['Annual_Premium'])\n",
        "print(\"Outliers from IQR method: \", sample_outliers)"
      ],
      "metadata": {
        "colab": {
          "base_uri": "https://localhost:8080/"
        },
        "id": "UVdjhKSjUM7X",
        "outputId": "2d9b8336-d00b-431d-d164-0fb909bacd28"
      },
      "execution_count": null,
      "outputs": [
        {
          "output_type": "stream",
          "name": "stdout",
          "text": [
            "Outliers from IQR method:  [61893.0, 61893.0, 61893.0, 61893.0, 61893.0, 61893.0, 61897.0, 61898.0, 61898.0, 61900.0, 61900.0, 61900.0, 61900.0, 61900.0, 61900.0, 61900.0, 61900.0, 61900.0, 61900.0, 61902.0, 61904.0, 61906.0, 61909.0, 61909.0, 61911.0, 61911.0, 61913.0, 61913.0, 61913.0, 61915.0, 61917.0, 61917.0, 61917.0, 61919.0, 61919.0, 61921.0, 61924.0, 61925.0, 61926.0, 61926.0, 61928.0, 61928.0, 61929.0, 61930.0, 61930.0, 61930.0, 61937.0, 61941.0, 61941.0, 61941.0, 61941.0, 61943.0, 61945.0, 61947.0, 61948.0, 61948.0, 61949.0, 61949.0, 61954.0, 61954.0, 61954.0, 61954.0, 61955.0, 61955.0, 61956.0, 61957.0, 61960.0, 61961.0, 61964.0, 61964.0, 61964.0, 61964.0, 61964.0, 61968.0, 61969.0, 61970.0, 61971.0, 61973.0, 61974.0, 61974.0, 61976.0, 61978.0, 61979.0, 61982.0, 61983.0, 61983.0, 61983.0, 61984.0, 61984.0, 61984.0, 61984.0, 61985.0, 61985.0, 61987.0, 61987.0, 61988.0, 61988.0, 61992.0, 62002.0, 62002.0, 62005.0, 62012.0, 62014.0, 62015.0, 62015.0, 62015.0, 62018.0, 62019.0, 62019.0, 62019.0, 62019.0, 62019.0, 62020.0, 62020.0, 62021.0, 62021.0, 62023.0, 62023.0, 62024.0, 62024.0, 62027.0, 62027.0, 62028.0, 62028.0, 62028.0, 62029.0, 62029.0, 62030.0, 62030.0, 62031.0, 62039.0, 62041.0, 62042.0, 62042.0, 62045.0, 62047.0, 62048.0, 62050.0, 62051.0, 62052.0, 62054.0, 62056.0, 62057.0, 62057.0, 62057.0, 62060.0, 62060.0, 62060.0, 62060.0, 62060.0, 62062.0, 62069.0, 62070.0, 62071.0, 62075.0, 62076.0, 62076.0, 62079.0, 62080.0, 62081.0, 62081.0, 62081.0, 62081.0, 62082.0, 62084.0, 62086.0, 62089.0, 62090.0, 62091.0, 62091.0, 62091.0, 62093.0, 62093.0, 62098.0, 62098.0, 62099.0, 62100.0, 62100.0, 62104.0, 62106.0, 62106.0, 62106.0, 62106.0, 62108.0, 62108.0, 62108.0, 62109.0, 62109.0, 62109.0, 62109.0, 62110.0, 62110.0, 62111.0, 62111.0, 62114.0, 62114.0, 62115.0, 62116.0, 62117.0, 62121.0, 62122.0, 62123.0, 62123.0, 62123.0, 62123.0, 62123.0, 62123.0, 62123.0, 62123.0, 62123.0, 62124.0, 62124.0, 62125.0, 62126.0, 62127.0, 62127.0, 62130.0, 62130.0, 62132.0, 62133.0, 62137.0, 62138.0, 62138.0, 62140.0, 62140.0, 62145.0, 62145.0, 62145.0, 62145.0, 62146.0, 62146.0, 62147.0, 62147.0, 62148.0, 62149.0, 62152.0, 62158.0, 62158.0, 62159.0, 62162.0, 62162.0, 62163.0, 62164.0, 62164.0, 62165.0, 62166.0, 62168.0, 62168.0, 62171.0, 62171.0, 62171.0, 62172.0, 62172.0, 62174.0, 62175.0, 62175.0, 62176.0, 62178.0, 62179.0, 62181.0, 62182.0, 62185.0, 62186.0, 62188.0, 62188.0, 62188.0, 62190.0, 62191.0, 62195.0, 62195.0, 62196.0, 62197.0, 62199.0, 62200.0, 62201.0, 62204.0, 62204.0, 62205.0, 62207.0, 62207.0, 62207.0, 62210.0, 62211.0, 62212.0, 62214.0, 62215.0, 62219.0, 62220.0, 62221.0, 62222.0, 62224.0, 62225.0, 62227.0, 62227.0, 62230.0, 62230.0, 62230.0, 62233.0, 62237.0, 62238.0, 62239.0, 62239.0, 62245.0, 62245.0, 62247.0, 62248.0, 62250.0, 62252.0, 62254.0, 62254.0, 62261.0, 62261.0, 62262.0, 62264.0, 62265.0, 62265.0, 62265.0, 62265.0, 62265.0, 62267.0, 62267.0, 62272.0, 62274.0, 62275.0, 62277.0, 62277.0, 62277.0, 62278.0, 62281.0, 62284.0, 62284.0, 62284.0, 62284.0, 62288.0, 62289.0, 62289.0, 62291.0, 62295.0, 62295.0, 62297.0, 62297.0, 62299.0, 62302.0, 62303.0, 62307.0, 62308.0, 62309.0, 62310.0, 62310.0, 62314.0, 62314.0, 62319.0, 62320.0, 62321.0, 62321.0, 62321.0, 62321.0, 62324.0, 62326.0, 62327.0, 62329.0, 62335.0, 62335.0, 62335.0, 62336.0, 62336.0, 62336.0, 62340.0, 62342.0, 62343.0, 62343.0, 62343.0, 62343.0, 62343.0, 62343.0, 62344.0, 62344.0, 62346.0, 62346.0, 62347.0, 62349.0, 62349.0, 62350.0, 62351.0, 62352.0, 62353.0, 62353.0, 62353.0, 62356.0, 62356.0, 62359.0, 62360.0, 62360.0, 62362.0, 62362.0, 62363.0, 62366.0, 62366.0, 62367.0, 62368.0, 62375.0, 62377.0, 62377.0, 62377.0, 62377.0, 62377.0, 62378.0, 62378.0, 62378.0, 62379.0, 62379.0, 62379.0, 62379.0, 62381.0, 62382.0, 62383.0, 62388.0, 62388.0, 62388.0, 62388.0, 62388.0, 62388.0, 62388.0, 62388.0, 62390.0, 62390.0, 62393.0, 62394.0, 62394.0, 62395.0, 62396.0, 62396.0, 62397.0, 62397.0, 62398.0, 62401.0, 62402.0, 62403.0, 62409.0, 62411.0, 62411.0, 62412.0, 62412.0, 62413.0, 62415.0, 62415.0, 62416.0, 62416.0, 62416.0, 62417.0, 62418.0, 62419.0, 62420.0, 62421.0, 62421.0, 62421.0, 62422.0, 62423.0, 62425.0, 62426.0, 62427.0, 62427.0, 62428.0, 62431.0, 62432.0, 62432.0, 62433.0, 62433.0, 62434.0, 62438.0, 62441.0, 62447.0, 62450.0, 62450.0, 62452.0, 62452.0, 62452.0, 62452.0, 62452.0, 62452.0, 62452.0, 62453.0, 62453.0, 62455.0, 62455.0, 62457.0, 62457.0, 62458.0, 62459.0, 62460.0, 62461.0, 62461.0, 62461.0, 62462.0, 62464.0, 62470.0, 62470.0, 62475.0, 62477.0, 62477.0, 62477.0, 62477.0, 62478.0, 62481.0, 62481.0, 62483.0, 62484.0, 62486.0, 62487.0, 62488.0, 62490.0, 62491.0, 62491.0, 62491.0, 62492.0, 62495.0, 62497.0, 62497.0, 62499.0, 62499.0, 62500.0, 62502.0, 62502.0, 62502.0, 62503.0, 62503.0, 62503.0, 62507.0, 62507.0, 62508.0, 62512.0, 62515.0, 62519.0, 62520.0, 62522.0, 62523.0, 62525.0, 62527.0, 62528.0, 62530.0, 62530.0, 62534.0, 62534.0, 62534.0, 62534.0, 62536.0, 62536.0, 62536.0, 62536.0, 62536.0, 62538.0, 62540.0, 62543.0, 62544.0, 62545.0, 62545.0, 62546.0, 62547.0, 62547.0, 62547.0, 62548.0, 62549.0, 62549.0, 62557.0, 62558.0, 62559.0, 62569.0, 62572.0, 62572.0, 62575.0, 62576.0, 62576.0, 62576.0, 62576.0, 62579.0, 62581.0, 62581.0, 62585.0, 62585.0, 62587.0, 62588.0, 62590.0, 62592.0, 62592.0, 62592.0, 62595.0, 62596.0, 62596.0, 62598.0, 62601.0, 62601.0, 62604.0, 62606.0, 62606.0, 62607.0, 62607.0, 62609.0, 62609.0, 62609.0, 62611.0, 62612.0, 62613.0, 62621.0, 62622.0, 62622.0, 62622.0, 62622.0, 62622.0, 62622.0, 62625.0, 62625.0, 62625.0, 62625.0, 62625.0, 62626.0, 62627.0, 62628.0, 62629.0, 62630.0, 62631.0, 62631.0, 62631.0, 62631.0, 62632.0, 62634.0, 62636.0, 62636.0, 62636.0, 62636.0, 62637.0, 62640.0, 62642.0, 62643.0, 62643.0, 62647.0, 62647.0, 62647.0, 62650.0, 62652.0, 62652.0, 62652.0, 62654.0, 62655.0, 62655.0, 62655.0, 62656.0, 62657.0, 62657.0, 62657.0, 62657.0, 62657.0, 62659.0, 62659.0, 62660.0, 62660.0, 62662.0, 62662.0, 62663.0, 62664.0, 62668.0, 62671.0, 62671.0, 62675.0, 62675.0, 62676.0, 62678.0, 62679.0, 62680.0, 62681.0, 62682.0, 62683.0, 62684.0, 62684.0, 62684.0, 62684.0, 62684.0, 62684.0, 62684.0, 62684.0, 62684.0, 62684.0, 62684.0, 62684.0, 62684.0, 62684.0, 62684.0, 62685.0, 62685.0, 62688.0, 62690.0, 62690.0, 62690.0, 62691.0, 62692.0, 62692.0, 62692.0, 62696.0, 62697.0, 62702.0, 62702.0, 62702.0, 62703.0, 62703.0, 62703.0, 62706.0, 62706.0, 62707.0, 62711.0, 62712.0, 62713.0, 62714.0, 62715.0, 62722.0, 62725.0, 62725.0, 62727.0, 62727.0, 62729.0, 62729.0, 62731.0, 62731.0, 62731.0, 62732.0, 62732.0, 62734.0, 62735.0, 62737.0, 62738.0, 62738.0, 62739.0, 62739.0, 62740.0, 62742.0, 62744.0, 62744.0, 62744.0, 62746.0, 62748.0, 62750.0, 62750.0, 62751.0, 62752.0, 62753.0, 62754.0, 62755.0, 62755.0, 62755.0, 62755.0, 62755.0, 62755.0, 62755.0, 62755.0, 62755.0, 62755.0, 62755.0, 62759.0, 62760.0, 62762.0, 62762.0, 62766.0, 62768.0, 62769.0, 62769.0, 62770.0, 62774.0, 62775.0, 62778.0, 62778.0, 62782.0, 62782.0, 62782.0, 62786.0, 62787.0, 62787.0, 62787.0, 62787.0, 62790.0, 62793.0, 62793.0, 62795.0, 62797.0, 62797.0, 62799.0, 62799.0, 62800.0, 62802.0, 62802.0, 62802.0, 62803.0, 62805.0, 62806.0, 62807.0, 62808.0, 62808.0, 62809.0, 62810.0, 62813.0, 62814.0, 62815.0, 62815.0, 62815.0, 62818.0, 62818.0, 62818.0, 62820.0, 62820.0, 62820.0, 62821.0, 62823.0, 62823.0, 62824.0, 62826.0, 62826.0, 62827.0, 62829.0, 62829.0, 62829.0, 62829.0, 62830.0, 62830.0, 62831.0, 62831.0, 62832.0, 62832.0, 62832.0, 62833.0, 62835.0, 62837.0, 62840.0, 62840.0, 62840.0, 62840.0, 62840.0, 62844.0, 62844.0, 62844.0, 62846.0, 62846.0, 62848.0, 62849.0, 62850.0, 62850.0, 62850.0, 62853.0, 62853.0, 62855.0, 62857.0, 62858.0, 62858.0, 62859.0, 62862.0, 62862.0, 62862.0, 62862.0, 62863.0, 62866.0, 62868.0, 62869.0, 62870.0, 62877.0, 62877.0, 62877.0, 62882.0, 62882.0, 62887.0, 62887.0, 62888.0, 62888.0, 62888.0, 62888.0, 62889.0, 62889.0, 62892.0, 62895.0, 62900.0, 62900.0, 62902.0, 62906.0, 62907.0, 62911.0, 62912.0, 62916.0, 62916.0, 62916.0, 62916.0, 62919.0, 62919.0, 62920.0, 62920.0, 62921.0, 62921.0, 62922.0, 62922.0, 62923.0, 62924.0, 62928.0, 62929.0, 62930.0, 62930.0, 62932.0, 62935.0, 62936.0, 62938.0, 62938.0, 62941.0, 62943.0, 62944.0, 62944.0, 62947.0, 62950.0, 62957.0, 62959.0, 62959.0, 62960.0, 62960.0, 62961.0, 62961.0, 62963.0, 62965.0, 62965.0, 62967.0, 62969.0, 62970.0, 62971.0, 62972.0, 62972.0, 62975.0, 62975.0, 62975.0, 62980.0, 62980.0, 62980.0, 62982.0, 62982.0, 62983.0, 62983.0, 62983.0, 62984.0, 62987.0, 62987.0, 62989.0, 62989.0, 62990.0, 62991.0, 62991.0, 62993.0, 62993.0, 62993.0, 62995.0, 62995.0, 63001.0, 63001.0, 63003.0, 63004.0, 63007.0, 63008.0, 63009.0, 63011.0, 63014.0, 63014.0, 63015.0, 63015.0, 63016.0, 63017.0, 63018.0, 63019.0, 63019.0, 63020.0, 63020.0, 63024.0, 63025.0, 63027.0, 63030.0, 63031.0, 63031.0, 63033.0, 63034.0, 63036.0, 63037.0, 63038.0, 63046.0, 63047.0, 63049.0, 63049.0, 63056.0, 63058.0, 63059.0, 63059.0, 63060.0, 63062.0, 63062.0, 63062.0, 63066.0, 63068.0, 63068.0, 63071.0, 63072.0, 63073.0, 63075.0, 63075.0, 63075.0, 63078.0, 63078.0, 63080.0, 63080.0, 63082.0, 63082.0, 63082.0, 63083.0, 63083.0, 63085.0, 63087.0, 63093.0, 63093.0, 63094.0, 63096.0, 63096.0, 63097.0, 63097.0, 63097.0, 63097.0, 63098.0, 63100.0, 63100.0, 63100.0, 63100.0, 63101.0, 63102.0, 63103.0, 63103.0, 63105.0, 63105.0, 63105.0, 63105.0, 63105.0, 63105.0, 63106.0, 63109.0, 63109.0, 63109.0, 63109.0, 63114.0, 63114.0, 63116.0, 63116.0, 63116.0, 63117.0, 63117.0, 63118.0, 63119.0, 63120.0, 63124.0, 63124.0, 63124.0, 63124.0, 63124.0, 63129.0, 63129.0, 63130.0, 63132.0, 63135.0, 63135.0, 63135.0, 63135.0, 63136.0, 63136.0, 63139.0, 63141.0, 63143.0, 63149.0, 63149.0, 63149.0, 63149.0, 63149.0, 63151.0, 63160.0, 63160.0, 63161.0, 63163.0, 63165.0, 63165.0, 63165.0, 63168.0, 63170.0, 63170.0, 63171.0, 63174.0, 63176.0, 63177.0, 63178.0, 63179.0, 63180.0, 63183.0, 63184.0, 63188.0, 63189.0, 63191.0, 63191.0, 63192.0, 63192.0, 63194.0, 63195.0, 63196.0, 63197.0, 63198.0, 63198.0, 63199.0, 63200.0, 63200.0, 63202.0, 63204.0, 63205.0, 63210.0, 63210.0, 63213.0, 63214.0, 63215.0, 63216.0, 63216.0, 63218.0, 63219.0, 63220.0, 63222.0, 63222.0, 63224.0, 63225.0, 63227.0, 63227.0, 63227.0, 63229.0, 63230.0, 63230.0, 63230.0, 63230.0, 63230.0, 63230.0, 63231.0, 63231.0, 63231.0, 63232.0, 63233.0, 63234.0, 63234.0, 63236.0, 63238.0, 63241.0, 63241.0, 63243.0, 63243.0, 63245.0, 63246.0, 63248.0, 63248.0, 63249.0, 63249.0, 63250.0, 63250.0, 63250.0, 63250.0, 63254.0, 63254.0, 63255.0, 63256.0, 63261.0, 63263.0, 63263.0, 63267.0, 63268.0, 63268.0, 63268.0, 63269.0, 63269.0, 63270.0, 63271.0, 63271.0, 63271.0, 63271.0, 63271.0, 63273.0, 63277.0, 63279.0, 63282.0, 63282.0, 63283.0, 63283.0, 63284.0, 63284.0, 63284.0, 63287.0, 63290.0, 63291.0, 63291.0, 63292.0, 63293.0, 63293.0, 63293.0, 63294.0, 63295.0, 63295.0, 63298.0, 63298.0, 63299.0, 63302.0, 63305.0, 63305.0, 63306.0, 63306.0, 63307.0, 63308.0, 63308.0, 63309.0, 63309.0, 63311.0, 63311.0, 63312.0, 63312.0, 63312.0, 63312.0, 63314.0, 63317.0, 63318.0, 63318.0, 63318.0, 63318.0, 63318.0, 63319.0, 63322.0, 63323.0, 63323.0, 63323.0, 63323.0, 63324.0, 63327.0, 63328.0, 63331.0, 63331.0, 63331.0, 63332.0, 63336.0, 63336.0, 63336.0, 63336.0, 63338.0, 63341.0, 63341.0, 63342.0, 63344.0, 63347.0, 63347.0, 63350.0, 63351.0, 63351.0, 63351.0, 63355.0, 63356.0, 63356.0, 63356.0, 63357.0, 63357.0, 63357.0, 63357.0, 63359.0, 63363.0, 63363.0, 63365.0, 63365.0, 63369.0, 63371.0, 63377.0, 63381.0, 63381.0, 63382.0, 63382.0, 63385.0, 63385.0, 63391.0, 63392.0, 63392.0, 63392.0, 63393.0, 63395.0, 63395.0, 63398.0, 63399.0, 63400.0, 63400.0, 63401.0, 63403.0, 63405.0, 63405.0, 63405.0, 63407.0, 63411.0, 63412.0, 63412.0, 63413.0, 63415.0, 63417.0, 63418.0, 63420.0, 63420.0, 63420.0, 63420.0, 63420.0, 63423.0, 63423.0, 63423.0, 63428.0, 63432.0, 63432.0, 63432.0, 63433.0, 63436.0, 63436.0, 63437.0, 63438.0, 63438.0, 63439.0, 63439.0, 63440.0, 63440.0, 63444.0, 63445.0, 63446.0, 63447.0, 63448.0, 63452.0, 63452.0, 63452.0, 63456.0, 63456.0, 63456.0, 63456.0, 63457.0, 63457.0, 63458.0, 63459.0, 63462.0, 63466.0, 63466.0, 63471.0, 63472.0, 63472.0, 63475.0, 63491.0, 63491.0, 63491.0, 63493.0, 63495.0, 63498.0, 63498.0, 63499.0, 63499.0, 63499.0, 63500.0, 63503.0, 63504.0, 63505.0, 63508.0, 63512.0, 63512.0, 63512.0, 63514.0, 63515.0, 63515.0, 63517.0, 63517.0, 63517.0, 63519.0, 63520.0, 63520.0, 63524.0, 63527.0, 63527.0, 63528.0, 63528.0, 63528.0, 63530.0, 63532.0, 63534.0, 63536.0, 63536.0, 63537.0, 63541.0, 63547.0, 63549.0, 63552.0, 63553.0, 63555.0, 63555.0, 63555.0, 63558.0, 63560.0, 63560.0, 63562.0, 63562.0, 63565.0, 63565.0, 63566.0, 63567.0, 63567.0, 63567.0, 63569.0, 63569.0, 63569.0, 63570.0, 63572.0, 63572.0, 63573.0, 63574.0, 63575.0, 63577.0, 63578.0, 63580.0, 63580.0, 63580.0, 63582.0, 63586.0, 63587.0, 63588.0, 63589.0, 63590.0, 63591.0, 63591.0, 63592.0, 63592.0, 63593.0, 63593.0, 63595.0, 63597.0, 63597.0, 63599.0, 63600.0, 63600.0, 63606.0, 63606.0, 63607.0, 63610.0, 63610.0, 63610.0, 63614.0, 63618.0, 63623.0, 63623.0, 63623.0, 63624.0, 63625.0, 63625.0, 63625.0, 63626.0, 63627.0, 63635.0, 63636.0, 63640.0, 63645.0, 63645.0, 63645.0, 63647.0, 63647.0, 63653.0, 63657.0, 63657.0, 63658.0, 63658.0, 63659.0, 63661.0, 63666.0, 63668.0, 63670.0, 63670.0, 63670.0, 63672.0, 63672.0, 63673.0, 63674.0, 63679.0, 63681.0, 63684.0, 63684.0, 63684.0, 63686.0, 63686.0, 63688.0, 63689.0, 63690.0, 63694.0, 63694.0, 63695.0, 63696.0, 63696.0, 63697.0, 63697.0, 63698.0, 63700.0, 63700.0, 63700.0, 63702.0, 63704.0, 63704.0, 63706.0, 63707.0, 63708.0, 63709.0, 63711.0, 63711.0, 63714.0, 63714.0, 63714.0, 63717.0, 63718.0, 63718.0, 63719.0, 63719.0, 63719.0, 63722.0, 63722.0, 63723.0, 63723.0, 63724.0, 63728.0, 63730.0, 63731.0, 63731.0, 63732.0, 63733.0, 63734.0, 63742.0, 63749.0, 63750.0, 63750.0, 63750.0, 63752.0, 63753.0, 63755.0, 63757.0, 63758.0, 63758.0, 63758.0, 63758.0, 63758.0, 63758.0, 63759.0, 63759.0, 63761.0, 63761.0, 63761.0, 63762.0, 63763.0, 63765.0, 63768.0, 63771.0, 63775.0, 63775.0, 63775.0, 63775.0, 63778.0, 63778.0, 63782.0, 63783.0, 63784.0, 63787.0, 63788.0, 63789.0, 63789.0, 63796.0, 63796.0, 63798.0, 63799.0, 63800.0, 63800.0, 63800.0, 63801.0, 63803.0, 63804.0, 63806.0, 63809.0, 63811.0, 63811.0, 63811.0, 63813.0, 63817.0, 63819.0, 63819.0, 63820.0, 63822.0, 63823.0, 63825.0, 63825.0, 63825.0, 63826.0, 63827.0, 63827.0, 63827.0, 63835.0, 63835.0, 63837.0, 63839.0, 63840.0, 63841.0, 63843.0, 63843.0, 63843.0, 63843.0, 63844.0, 63846.0, 63847.0, 63847.0, 63852.0, 63852.0, 63853.0, 63853.0, 63855.0, 63857.0, 63859.0, 63862.0, 63864.0, 63866.0, 63866.0, 63866.0, 63867.0, 63869.0, 63869.0, 63870.0, 63871.0, 63872.0, 63876.0, 63879.0, 63879.0, 63879.0, 63881.0, 63881.0, 63882.0, 63883.0, 63885.0, 63885.0, 63889.0, 63892.0, 63894.0, 63899.0, 63901.0, 63904.0, 63905.0, 63906.0, 63906.0, 63909.0, 63910.0, 63911.0, 63913.0, 63913.0, 63916.0, 63916.0, 63916.0, 63916.0, 63916.0, 63917.0, 63917.0, 63918.0, 63918.0, 63919.0, 63919.0, 63922.0, 63924.0, 63925.0, 63925.0, 63925.0, 63925.0, 63925.0, 63931.0, 63931.0, 63932.0, 63933.0, 63934.0, 63935.0, 63935.0, 63935.0, 63936.0, 63936.0, 63936.0, 63937.0, 63937.0, 63938.0, 63940.0, 63941.0, 63942.0, 63944.0, 63944.0, 63945.0, 63945.0, 63955.0, 63956.0, 63959.0, 63959.0, 63964.0, 63964.0, 63965.0, 63967.0, 63967.0, 63967.0, 63967.0, 63968.0, 63968.0, 63968.0, 63969.0, 63970.0, 63970.0, 63970.0, 63971.0, 63973.0, 63976.0, 63977.0, 63979.0, 63980.0, 63983.0, 63983.0, 63983.0, 63983.0, 63985.0, 63987.0, 63991.0, 63991.0, 63992.0, 63992.0, 63994.0, 63995.0, 63996.0, 63997.0, 63997.0, 63999.0, 64002.0, 64002.0, 64004.0, 64004.0, 64007.0, 64010.0, 64010.0, 64014.0, 64014.0, 64014.0, 64015.0, 64016.0, 64017.0, 64017.0, 64018.0, 64019.0, 64024.0, 64026.0, 64028.0, 64030.0, 64030.0, 64032.0, 64035.0, 64038.0, 64038.0, 64038.0, 64040.0, 64041.0, 64043.0, 64045.0, 64045.0, 64047.0, 64047.0, 64049.0, 64051.0, 64054.0, 64054.0, 64057.0, 64057.0, 64057.0, 64057.0, 64057.0, 64058.0, 64058.0, 64059.0, 64063.0, 64064.0, 64065.0, 64067.0, 64067.0, 64068.0, 64068.0, 64069.0, 64071.0, 64075.0, 64077.0, 64079.0, 64080.0, 64081.0, 64081.0, 64082.0, 64086.0, 64086.0, 64088.0, 64090.0, 64090.0, 64092.0, 64093.0, 64093.0, 64093.0, 64094.0, 64095.0, 64097.0, 64097.0, 64097.0, 64098.0, 64099.0, 64100.0, 64103.0, 64106.0, 64113.0, 64114.0, 64117.0, 64120.0, 64120.0, 64120.0, 64124.0, 64125.0, 64125.0, 64128.0, 64131.0, 64132.0, 64132.0, 64137.0, 64138.0, 64139.0, 64142.0, 64143.0, 64145.0, 64146.0, 64146.0, 64149.0, 64150.0, 64154.0, 64155.0, 64157.0, 64158.0, 64161.0, 64161.0, 64166.0, 64166.0, 64167.0, 64169.0, 64170.0, 64170.0, 64171.0, 64174.0, 64179.0, 64182.0, 64182.0, 64184.0, 64187.0, 64187.0, 64190.0, 64191.0, 64191.0, 64191.0, 64191.0, 64195.0, 64196.0, 64196.0, 64196.0, 64196.0, 64197.0, 64199.0, 64202.0, 64206.0, 64206.0, 64206.0, 64206.0, 64206.0, 64207.0, 64209.0, 64212.0, 64213.0, 64213.0, 64213.0, 64214.0, 64214.0, 64215.0, 64218.0, 64218.0, 64218.0, 64218.0, 64218.0, 64220.0, 64220.0, 64220.0, 64220.0, 64222.0, 64222.0, 64222.0, 64222.0, 64222.0, 64222.0, 64228.0, 64228.0, 64232.0, 64232.0, 64235.0, 64241.0, 64241.0, 64244.0, 64244.0, 64244.0, 64244.0, 64247.0, 64249.0, 64249.0, 64249.0, 64250.0, 64251.0, 64251.0, 64251.0, 64252.0, 64254.0, 64254.0, 64255.0, 64259.0, 64259.0, 64262.0, 64265.0, 64267.0, 64268.0, 64268.0, 64269.0, 64271.0, 64271.0, 64271.0, 64274.0, 64274.0, 64276.0, 64278.0, 64278.0, 64281.0, 64285.0, 64286.0, 64287.0, 64287.0, 64287.0, 64287.0, 64289.0, 64289.0, 64289.0, 64298.0, 64299.0, 64300.0, 64300.0, 64301.0, 64301.0, 64301.0, 64301.0, 64301.0, 64301.0, 64303.0, 64305.0, 64307.0, 64308.0, 64308.0, 64309.0, 64310.0, 64310.0, 64311.0, 64317.0, 64319.0, 64322.0, 64322.0, 64323.0, 64323.0, 64323.0, 64324.0, 64325.0, 64328.0, 64331.0, 64332.0, 64333.0, 64335.0, 64339.0, 64341.0, 64341.0, 64341.0, 64343.0, 64343.0, 64343.0, 64343.0, 64343.0, 64343.0, 64344.0, 64345.0, 64347.0, 64350.0, 64351.0, 64358.0, 64358.0, 64358.0, 64361.0, 64362.0, 64363.0, 64366.0, 64366.0, 64368.0, 64368.0, 64370.0, 64370.0, 64371.0, 64371.0, 64373.0, 64373.0, 64374.0, 64374.0, 64375.0, 64376.0, 64377.0, 64377.0, 64378.0, 64378.0, 64380.0, 64382.0, 64383.0, 64383.0, 64384.0, 64385.0, 64388.0, 64389.0, 64395.0, 64406.0, 64407.0, 64409.0, 64413.0, 64415.0, 64419.0, 64424.0, 64424.0, 64425.0, 64425.0, 64426.0, 64427.0, 64430.0, 64431.0, 64432.0, 64433.0, 64437.0, 64442.0, 64444.0, 64444.0, 64450.0, 64451.0, 64452.0, 64452.0, 64456.0, 64456.0, 64456.0, 64458.0, 64459.0, 64461.0, 64462.0, 64463.0, 64463.0, 64463.0, 64463.0, 64467.0, 64469.0, 64469.0, 64469.0, 64469.0, 64470.0, 64470.0, 64470.0, 64472.0, 64473.0, 64473.0, 64474.0, 64474.0, 64476.0, 64481.0, 64485.0, 64486.0, 64487.0, 64488.0, 64488.0, 64490.0, 64491.0, 64494.0, 64498.0, 64505.0, 64505.0, 64505.0, 64511.0, 64513.0, 64514.0, 64516.0, 64516.0, 64517.0, 64519.0, 64519.0, 64519.0, 64524.0, 64526.0, 64526.0, 64526.0, 64527.0, 64530.0, 64533.0, 64537.0, 64537.0, 64541.0, 64541.0, 64542.0, 64546.0, 64553.0, 64555.0, 64555.0, 64557.0, 64558.0, 64560.0, 64560.0, 64561.0, 64561.0, 64562.0, 64568.0, 64574.0, 64574.0, 64574.0, 64574.0, 64576.0, 64576.0, 64577.0, 64577.0, 64580.0, 64580.0, 64582.0, 64582.0, 64582.0, 64582.0, 64583.0, 64584.0, 64586.0, 64587.0, 64588.0, 64588.0, 64590.0, 64592.0, 64592.0, 64596.0, 64598.0, 64601.0, 64603.0, 64605.0, 64606.0, 64606.0, 64607.0, 64611.0, 64612.0, 64612.0, 64613.0, 64615.0, 64615.0, 64615.0, 64616.0, 64618.0, 64628.0, 64629.0, 64630.0, 64630.0, 64630.0, 64633.0, 64635.0, 64640.0, 64641.0, 64643.0, 64644.0, 64644.0, 64646.0, 64650.0, 64650.0, 64651.0, 64654.0, 64654.0, 64655.0, 64655.0, 64656.0, 64657.0, 64659.0, 64660.0, 64661.0, 64662.0, 64662.0, 64665.0, 64665.0, 64672.0, 64674.0, 64675.0, 64676.0, 64679.0, 64679.0, 64679.0, 64679.0, 64679.0, 64689.0, 64690.0, 64690.0, 64691.0, 64691.0, 64694.0, 64698.0, 64700.0, 64700.0, 64700.0, 64700.0, 64700.0, 64700.0, 64701.0, 64701.0, 64702.0, 64703.0, 64708.0, 64711.0, 64711.0, 64715.0, 64717.0, 64717.0, 64719.0, 64720.0, 64721.0, 64722.0, 64722.0, 64725.0, 64726.0, 64728.0, 64729.0, 64730.0, 64730.0, 64735.0, 64737.0, 64740.0, 64740.0, 64742.0, 64742.0, 64743.0, 64743.0, 64743.0, 64744.0, 64745.0, 64745.0, 64750.0, 64750.0, 64753.0, 64753.0, 64754.0, 64755.0, 64757.0, 64758.0, 64759.0, 64760.0, 64760.0, 64761.0, 64763.0, 64763.0, 64764.0, 64764.0, 64766.0, 64766.0, 64767.0, 64768.0, 64769.0, 64775.0, 64775.0, 64776.0, 64777.0, 64777.0, 64777.0, 64781.0, 64782.0, 64785.0, 64785.0, 64789.0, 64793.0, 64795.0, 64796.0, 64796.0, 64797.0, 64797.0, 64798.0, 64799.0, 64802.0, 64802.0, 64804.0, 64805.0, 64806.0, 64806.0, 64812.0, 64813.0, 64814.0, 64814.0, 64816.0, 64816.0, 64819.0, 64819.0, 64819.0, 64819.0, 64819.0, 64820.0, 64822.0, 64822.0, 64823.0, 64823.0, 64826.0, 64827.0, 64829.0, 64830.0, 64830.0, 64830.0, 64830.0, 64830.0, 64830.0, 64831.0, 64831.0, 64831.0, 64834.0, 64834.0, 64835.0, 64836.0, 64836.0, 64836.0, 64838.0, 64841.0, 64842.0, 64843.0, 64845.0, 64846.0, 64848.0, 64849.0, 64850.0, 64852.0, 64854.0, 64856.0, 64856.0, 64858.0, 64860.0, 64865.0, 64866.0, 64867.0, 64867.0, 64869.0, 64872.0, 64872.0, 64872.0, 64872.0, 64874.0, 64874.0, 64874.0, 64878.0, 64879.0, 64880.0, 64886.0, 64889.0, 64890.0, 64892.0, 64894.0, 64895.0, 64902.0, 64902.0, 64902.0, 64902.0, 64907.0, 64909.0, 64910.0, 64910.0, 64915.0, 64915.0, 64915.0, 64918.0, 64920.0, 64921.0, 64921.0, 64922.0, 64923.0, 64929.0, 64931.0, 64932.0, 64933.0, 64933.0, 64933.0, 64933.0, 64935.0, 64942.0, 64944.0, 64947.0, 64950.0, 64952.0, 64953.0, 64955.0, 64955.0, 64955.0, 64960.0, 64961.0, 64961.0, 64961.0, 64961.0, 64963.0, 64964.0, 64965.0, 64965.0, 64967.0, 64968.0, 64969.0, 64970.0, 64972.0, 64974.0, 64974.0, 64977.0, 64986.0, 64986.0, 64989.0, 64990.0, 64991.0, 64991.0, 64992.0, 64993.0, 64995.0, 64997.0, 64998.0, 64999.0, 64999.0, 65000.0, 65001.0, 65002.0, 65002.0, 65007.0, 65015.0, 65016.0, 65016.0, 65021.0, 65021.0, 65021.0, 65021.0, 65021.0, 65024.0, 65024.0, 65024.0, 65026.0, 65027.0, 65028.0, 65028.0, 65031.0, 65036.0, 65037.0, 65038.0, 65040.0, 65040.0, 65042.0, 65042.0, 65042.0, 65042.0, 65043.0, 65048.0, 65051.0, 65056.0, 65056.0, 65057.0, 65058.0, 65059.0, 65059.0, 65062.0, 65063.0, 65063.0, 65064.0, 65064.0, 65065.0, 65067.0, 65067.0, 65068.0, 65071.0, 65073.0, 65074.0, 65074.0, 65074.0, 65074.0, 65074.0, 65077.0, 65081.0, 65083.0, 65086.0, 65086.0, 65088.0, 65090.0, 65092.0, 65093.0, 65093.0, 65094.0, 65100.0, 65100.0, 65100.0, 65100.0, 65101.0, 65102.0, 65105.0, 65108.0, 65115.0, 65119.0, 65122.0, 65122.0, 65125.0, 65126.0, 65126.0, 65126.0, 65128.0, 65130.0, 65132.0, 65132.0, 65133.0, 65134.0, 65137.0, 65138.0, 65140.0, 65140.0, 65140.0, 65140.0, 65143.0, 65145.0, 65147.0, 65148.0, 65148.0, 65148.0, 65149.0, 65150.0, 65152.0, 65154.0, 65154.0, 65154.0, 65155.0, 65156.0, 65156.0, 65156.0, 65156.0, 65159.0, 65160.0, 65162.0, 65164.0, 65164.0, 65165.0, 65167.0, 65167.0, 65172.0, 65172.0, 65179.0, 65180.0, 65182.0, 65182.0, 65186.0, 65188.0, 65193.0, 65194.0, 65196.0, 65196.0, 65199.0, 65199.0, 65200.0, 65200.0, 65201.0, 65202.0, 65202.0, 65203.0, 65203.0, 65204.0, 65208.0, 65209.0, 65210.0, 65212.0, 65212.0, 65212.0, 65213.0, 65215.0, 65215.0, 65215.0, 65215.0, 65215.0, 65215.0, 65218.0, 65218.0, 65221.0, 65224.0, 65225.0, 65225.0, 65225.0, 65229.0, 65229.0, 65232.0, 65235.0, 65237.0, 65240.0, 65240.0, 65243.0, 65243.0, 65245.0, 65246.0, 65247.0, 65247.0, 65248.0, 65253.0, 65254.0, 65256.0, 65257.0, 65257.0, 65261.0, 65261.0, 65262.0, 65263.0, 65264.0, 65266.0, 65266.0, 65268.0, 65268.0, 65268.0, 65268.0, 65269.0, 65269.0, 65269.0, 65272.0, 65273.0, 65273.0, 65273.0, 65274.0, 65275.0, 65276.0, 65276.0, 65283.0, 65284.0, 65284.0, 65287.0, 65287.0, 65287.0, 65288.0, 65289.0, 65292.0, 65293.0, 65296.0, 65296.0, 65299.0, 65303.0, 65303.0, 65303.0, 65303.0, 65305.0, 65305.0, 65305.0, 65305.0, 65307.0, 65307.0, 65310.0, 65313.0, 65315.0, 65316.0, 65316.0, 65318.0, 65318.0, 65320.0, 65323.0, 65326.0, 65329.0, 65330.0, 65334.0, 65337.0, 65338.0, 65340.0, 65341.0, 65343.0, 65343.0, 65349.0, 65350.0, 65350.0, 65351.0, 65352.0, 65352.0, 65358.0, 65358.0, 65358.0, 65358.0, 65360.0, 65361.0, 65361.0, 65361.0, 65365.0, 65366.0, 65366.0, 65366.0, 65368.0, 65368.0, 65368.0, 65371.0, 65372.0, 65373.0, 65374.0, 65378.0, 65379.0, 65379.0, 65380.0, 65380.0, 65380.0, 65381.0, 65382.0, 65385.0, 65386.0, 65387.0, 65387.0, 65390.0, 65390.0, 65391.0, 65391.0, 65392.0, 65392.0, 65393.0, 65394.0, 65394.0, 65395.0, 65395.0, 65395.0, 65396.0, 65396.0, 65396.0, 65396.0, 65399.0, 65400.0, 65400.0, 65402.0, 65402.0, 65403.0, 65403.0, 65405.0, 65405.0, 65406.0, 65406.0, 65406.0, 65406.0, 65409.0, 65409.0, 65411.0, 65411.0, 65412.0, 65413.0, 65413.0, 65413.0, 65413.0, 65416.0, 65418.0, 65419.0, 65419.0, 65422.0, 65429.0, 65429.0, 65429.0, 65429.0, 65429.0, 65431.0, 65431.0, 65431.0, 65431.0, 65431.0, 65432.0, 65432.0, 65432.0, 65432.0, 65439.0, 65441.0, 65442.0, 65442.0, 65442.0, 65444.0, 65446.0, 65449.0, 65452.0, 65452.0, 65452.0, 65452.0, 65452.0, 65453.0, 65453.0, 65453.0, 65454.0, 65459.0, 65460.0, 65462.0, 65463.0, 65464.0, 65466.0, 65466.0, 65472.0, 65473.0, 65475.0, 65476.0, 65476.0, 65477.0, 65478.0, 65478.0, 65478.0, 65479.0, 65479.0, 65480.0, 65480.0, 65481.0, 65482.0, 65482.0, 65483.0, 65484.0, 65484.0, 65485.0, 65487.0, 65487.0, 65487.0, 65488.0, 65488.0, 65490.0, 65490.0, 65491.0, 65492.0, 65493.0, 65495.0, 65499.0, 65501.0, 65502.0, 65502.0, 65505.0, 65510.0, 65511.0, 65512.0, 65513.0, 65514.0, 65516.0, 65517.0, 65517.0, 65517.0, 65520.0, 65521.0, 65521.0, 65521.0, 65521.0, 65521.0, 65522.0, 65523.0, 65523.0, 65523.0, 65524.0, 65525.0, 65529.0, 65529.0, 65539.0, 65540.0, 65540.0, 65542.0, 65544.0, 65544.0, 65551.0, 65551.0, 65552.0, 65553.0, 65556.0, 65568.0, 65569.0, 65569.0, 65570.0, 65570.0, 65573.0, 65573.0, 65574.0, 65574.0, 65577.0, 65577.0, 65580.0, 65581.0, 65582.0, 65582.0, 65583.0, 65585.0, 65585.0, 65586.0, 65586.0, 65587.0, 65589.0, 65590.0, 65592.0, 65594.0, 65604.0, 65604.0, 65604.0, 65606.0, 65606.0, 65608.0, 65614.0, 65617.0, 65617.0, 65626.0, 65629.0, 65631.0, 65631.0, 65631.0, 65631.0, 65631.0, 65631.0, 65632.0, 65632.0, 65632.0, 65632.0, 65632.0, 65633.0, 65633.0, 65635.0, 65635.0, 65636.0, 65637.0, 65638.0, 65638.0, 65639.0, 65640.0, 65641.0, 65645.0, 65647.0, 65652.0, 65653.0, 65655.0, 65656.0, 65662.0, 65663.0, 65663.0, 65666.0, 65669.0, 65671.0, 65673.0, 65674.0, 65677.0, 65678.0, 65678.0, 65679.0, 65680.0, 65680.0, 65685.0, 65685.0, 65685.0, 65689.0, 65694.0, 65695.0, 65697.0, 65701.0, 65705.0, 65706.0, 65706.0, 65706.0, 65708.0, 65708.0, 65708.0, 65710.0, 65712.0, 65716.0, 65717.0, 65718.0, 65720.0, 65722.0, 65723.0, 65723.0, 65723.0, 65729.0, 65732.0, 65737.0, 65737.0, 65738.0, 65739.0, 65739.0, 65739.0, 65739.0, 65744.0, 65746.0, 65750.0, 65750.0, 65751.0, 65754.0, 65755.0, 65758.0, 65758.0, 65760.0, 65763.0, 65765.0, 65775.0, 65778.0, 65778.0, 65779.0, 65783.0, 65783.0, 65784.0, 65786.0, 65788.0, 65788.0, 65790.0, 65797.0, 65798.0, 65798.0, 65798.0, 65798.0, 65799.0, 65800.0, 65801.0, 65801.0, 65801.0, 65801.0, 65805.0, 65809.0, 65812.0, 65817.0, 65819.0, 65819.0, 65821.0, 65821.0, 65821.0, 65826.0, 65830.0, 65832.0, 65832.0, 65833.0, 65835.0, 65837.0, 65839.0, 65844.0, 65844.0, 65845.0, 65848.0, 65851.0, 65855.0, 65856.0, 65857.0, 65859.0, 65860.0, 65865.0, 65865.0, 65866.0, 65869.0, 65871.0, 65872.0, 65873.0, 65874.0, 65875.0, 65876.0, 65877.0, 65877.0, 65877.0, 65879.0, 65882.0, 65885.0, 65886.0, 65889.0, 65893.0, 65895.0, 65896.0, 65898.0, 65898.0, 65900.0, 65908.0, 65908.0, 65913.0, 65915.0, 65915.0, 65916.0, 65918.0, 65920.0, 65921.0, 65921.0, 65922.0, 65922.0, 65922.0, 65926.0, 65926.0, 65926.0, 65932.0, 65932.0, 65934.0, 65935.0, 65935.0, 65936.0, 65936.0, 65941.0, 65941.0, 65941.0, 65942.0, 65946.0, 65946.0, 65950.0, 65951.0, 65953.0, 65953.0, 65953.0, 65953.0, 65954.0, 65961.0, 65962.0, 65962.0, 65963.0, 65965.0, 65968.0, 65969.0, 65969.0, 65971.0, 65973.0, 65977.0, 65978.0, 65978.0, 65980.0, 65983.0, 65985.0, 65990.0, 65990.0, 65992.0, 65994.0, 65997.0, 66003.0, 66003.0, 66006.0, 66007.0, 66010.0, 66013.0, 66014.0, 66014.0, 66014.0, 66018.0, 66018.0, 66018.0, 66020.0, 66020.0, 66022.0, 66022.0, 66023.0, 66023.0, 66024.0, 66025.0, 66025.0, 66027.0, 66029.0, 66029.0, 66037.0, 66038.0, 66039.0, 66039.0, 66040.0, 66040.0, 66040.0, 66043.0, 66043.0, 66043.0, 66045.0, 66045.0, 66048.0, 66052.0, 66059.0, 66060.0, 66060.0, 66060.0, 66062.0, 66063.0, 66065.0, 66070.0, 66070.0, 66072.0, 66074.0, 66076.0, 66076.0, 66076.0, 66079.0, 66081.0, 66082.0, 66083.0, 66083.0, 66084.0, 66084.0, 66086.0, 66091.0, 66091.0, 66095.0, 66100.0, 66103.0, 66104.0, 66104.0, 66104.0, 66104.0, 66105.0, 66105.0, 66105.0, 66111.0, 66112.0, 66112.0, 66112.0, 66115.0, 66117.0, 66117.0, 66118.0, 66118.0, 66120.0, 66124.0, 66124.0, 66126.0, 66128.0, 66131.0, 66132.0, 66135.0, 66136.0, 66137.0, 66138.0, 66139.0, 66140.0, 66142.0, 66145.0, 66146.0, 66150.0, 66151.0, 66153.0, 66154.0, 66159.0, 66159.0, 66160.0, 66160.0, 66160.0, 66162.0, 66163.0, 66164.0, 66164.0, 66165.0, 66166.0, 66169.0, 66170.0, 66170.0, 66172.0, 66176.0, 66177.0, 66181.0, 66181.0, 66182.0, 66183.0, 66183.0, 66183.0, 66184.0, 66187.0, 66191.0, 66193.0, 66195.0, 66197.0, 66199.0, 66201.0, 66201.0, 66202.0, 66205.0, 66210.0, 66214.0, 66214.0, 66214.0, 66214.0, 66215.0, 66217.0, 66218.0, 66219.0, 66227.0, 66234.0, 66237.0, 66242.0, 66242.0, 66244.0, 66245.0, 66251.0, 66252.0, 66252.0, 66252.0, 66253.0, 66254.0, 66254.0, 66257.0, 66258.0, 66260.0, 66266.0, 66266.0, 66266.0, 66269.0, 66269.0, 66270.0, 66270.0, 66271.0, 66273.0, 66273.0, 66274.0, 66275.0, 66275.0, 66282.0, 66287.0, 66292.0, 66296.0, 66296.0, 66301.0, 66302.0, 66304.0, 66304.0, 66305.0, 66310.0, 66311.0, 66318.0, 66318.0, 66320.0, 66323.0, 66324.0, 66329.0, 66329.0, 66329.0, 66329.0, 66331.0, 66333.0, 66333.0, 66334.0, 66336.0, 66337.0, 66337.0, 66337.0, 66338.0, 66338.0, 66338.0, 66338.0, 66340.0, 66340.0, 66340.0, 66343.0, 66343.0, 66343.0, 66344.0, 66345.0, 66347.0, 66347.0, 66347.0, 66347.0, 66348.0, 66348.0, 66351.0, 66352.0, 66353.0, 66355.0, 66355.0, 66358.0, 66359.0, 66362.0, 66362.0, 66362.0, 66365.0, 66365.0, 66365.0, 66366.0, 66367.0, 66368.0, 66369.0, 66369.0, 66369.0, 66370.0, 66371.0, 66372.0, 66373.0, 66373.0, 66374.0, 66374.0, 66378.0, 66378.0, 66379.0, 66381.0, 66384.0, 66384.0, 66386.0, 66387.0, 66389.0, 66396.0, 66399.0, 66399.0, 66399.0, 66400.0, 66403.0, 66405.0, 66407.0, 66409.0, 66409.0, 66409.0, 66410.0, 66411.0, 66411.0, 66411.0, 66411.0, 66414.0, 66414.0, 66415.0, 66415.0, 66415.0, 66420.0, 66421.0, 66422.0, 66423.0, 66426.0, 66426.0, 66427.0, 66430.0, 66432.0, 66434.0, 66434.0, 66439.0, 66441.0, 66442.0, 66443.0, 66444.0, 66444.0, 66446.0, 66449.0, 66451.0, 66452.0, 66453.0, 66453.0, 66455.0, 66455.0, 66455.0, 66457.0, 66463.0, 66465.0, 66467.0, 66468.0, 66474.0, 66478.0, 66478.0, 66482.0, 66482.0, 66482.0, 66489.0, 66489.0, 66489.0, 66490.0, 66493.0, 66496.0, 66499.0, 66500.0, 66501.0, 66501.0, 66501.0, 66503.0, 66504.0, 66505.0, 66506.0, 66508.0, 66508.0, 66509.0, 66509.0, 66509.0, 66509.0, 66512.0, 66515.0, 66516.0, 66517.0, 66520.0, 66520.0, 66521.0, 66524.0, 66525.0, 66525.0, 66525.0, 66526.0, 66529.0, 66535.0, 66536.0, 66537.0, 66538.0, 66542.0, 66545.0, 66545.0, 66545.0, 66547.0, 66547.0, 66552.0, 66555.0, 66555.0, 66555.0, 66558.0, 66563.0, 66563.0, 66563.0, 66564.0, 66566.0, 66567.0, 66568.0, 66568.0, 66572.0, 66572.0, 66574.0, 66575.0, 66576.0, 66576.0, 66576.0, 66576.0, 66576.0, 66576.0, 66576.0, 66576.0, 66577.0, 66580.0, 66581.0, 66581.0, 66582.0, 66585.0, 66585.0, 66587.0, 66588.0, 66591.0, 66591.0, 66592.0, 66592.0, 66595.0, 66595.0, 66597.0, 66602.0, 66603.0, 66604.0, 66605.0, 66605.0, 66607.0, 66607.0, 66608.0, 66611.0, 66613.0, 66614.0, 66620.0, 66620.0, 66620.0, 66620.0, 66623.0, 66625.0, 66627.0, 66629.0, 66630.0, 66631.0, 66631.0, 66633.0, 66633.0, 66635.0, 66635.0, 66641.0, 66641.0, 66643.0, 66645.0, 66647.0, 66647.0, 66648.0, 66651.0, 66652.0, 66653.0, 66653.0, 66656.0, 66657.0, 66658.0, 66658.0, 66658.0, 66659.0, 66663.0, 66664.0, 66664.0, 66666.0, 66666.0, 66673.0, 66673.0, 66676.0, 66677.0, 66677.0, 66677.0, 66677.0, 66683.0, 66683.0, 66684.0, 66686.0, 66697.0, 66708.0, 66710.0, 66711.0, 66713.0, 66713.0, 66714.0, 66716.0, 66716.0, 66720.0, 66720.0, 66724.0, 66724.0, 66729.0, 66729.0, 66729.0, 66731.0, 66734.0, 66735.0, 66735.0, 66736.0, 66744.0, 66744.0, 66744.0, 66745.0, 66748.0, 66754.0, 66754.0, 66754.0, 66754.0, 66757.0, 66758.0, 66762.0, 66765.0, 66772.0, 66774.0, 66774.0, 66774.0, 66777.0, 66777.0, 66778.0, 66778.0, 66779.0, 66779.0, 66781.0, 66782.0, 66782.0, 66782.0, 66783.0, 66784.0, 66784.0, 66784.0, 66788.0, 66789.0, 66790.0, 66795.0, 66797.0, 66800.0, 66801.0, 66801.0, 66808.0, 66810.0, 66811.0, 66811.0, 66812.0, 66814.0, 66814.0, 66817.0, 66823.0, 66825.0, 66827.0, 66828.0, 66828.0, 66830.0, 66836.0, 66837.0, 66837.0, 66838.0, 66839.0, 66839.0, 66840.0, 66844.0, 66847.0, 66848.0, 66849.0, 66849.0, 66849.0, 66850.0, 66852.0, 66852.0, 66855.0, 66856.0, 66860.0, 66862.0, 66868.0, 66869.0, 66870.0, 66871.0, 66871.0, 66871.0, 66872.0, 66872.0, 66872.0, 66875.0, 66878.0, 66881.0, 66882.0, 66883.0, 66890.0, 66891.0, 66891.0, 66891.0, 66892.0, 66893.0, 66894.0, 66894.0, 66897.0, 66901.0, 66902.0, 66911.0, 66912.0, 66913.0, 66918.0, 66919.0, 66921.0, 66923.0, 66923.0, 66927.0, 66929.0, 66931.0, 66932.0, 66934.0, 66934.0, 66938.0, 66938.0, 66940.0, 66941.0, 66943.0, 66948.0, 66948.0, 66951.0, 66951.0, 66952.0, 66953.0, 66956.0, 66957.0, 66957.0, 66961.0, 66969.0, 66969.0, 66969.0, 66969.0, 66970.0, 66971.0, 66975.0, 66975.0, 66976.0, 66976.0, 66976.0, 66978.0, 66978.0, 66978.0, 66979.0, 66982.0, 66983.0, 66988.0, 66990.0, 66995.0, 66998.0, 66998.0, 66998.0, 67000.0, 67004.0, 67006.0, 67007.0, 67007.0, 67010.0, 67012.0, 67013.0, 67013.0, 67018.0, 67019.0, 67021.0, 67021.0, 67022.0, 67022.0, 67027.0, 67028.0, 67031.0, 67035.0, 67039.0, 67039.0, 67043.0, 67051.0, 67052.0, 67056.0, 67057.0, 67058.0, 67059.0, 67061.0, 67065.0, 67067.0, 67067.0, 67072.0, 67072.0, 67075.0, 67077.0, 67080.0, 67082.0, 67084.0, 67084.0, 67087.0, 67089.0, 67089.0, 67089.0, 67090.0, 67092.0, 67094.0, 67094.0, 67094.0, 67094.0, 67095.0, 67096.0, 67101.0, 67107.0, 67107.0, 67108.0, 67112.0, 67113.0, 67115.0, 67117.0, 67118.0, 67122.0, 67122.0, 67126.0, 67130.0, 67130.0, 67135.0, 67140.0, 67142.0, 67146.0, 67149.0, 67149.0, 67149.0, 67158.0, 67158.0, 67165.0, 67173.0, 67175.0, 67176.0, 67179.0, 67179.0, 67182.0, 67182.0, 67184.0, 67184.0, 67184.0, 67185.0, 67186.0, 67188.0, 67188.0, 67188.0, 67188.0, 67189.0, 67190.0, 67192.0, 67193.0, 67195.0, 67197.0, 67197.0, 67199.0, 67203.0, 67205.0, 67205.0, 67207.0, 67215.0, 67216.0, 67219.0, 67219.0, 67219.0, 67219.0, 67221.0, 67222.0, 67225.0, 67225.0, 67227.0, 67227.0, 67229.0, 67231.0, 67231.0, 67232.0, 67232.0, 67236.0, 67237.0, 67237.0, 67240.0, 67244.0, 67246.0, 67248.0, 67250.0, 67251.0, 67251.0, 67252.0, 67254.0, 67257.0, 67258.0, 67261.0, 67264.0, 67270.0, 67271.0, 67271.0, 67273.0, 67277.0, 67286.0, 67294.0, 67298.0, 67301.0, 67301.0, 67307.0, 67310.0, 67311.0, 67311.0, 67312.0, 67314.0, 67314.0, 67314.0, 67314.0, 67317.0, 67317.0, 67319.0, 67320.0, 67324.0, 67328.0, 67329.0, 67333.0, 67333.0, 67336.0, 67340.0, 67343.0, 67345.0, 67346.0, 67347.0, 67351.0, 67351.0, 67352.0, 67354.0, 67354.0, 67356.0, 67357.0, 67363.0, 67363.0, 67364.0, 67369.0, 67370.0, 67370.0, 67377.0, 67377.0, 67377.0, 67377.0, 67379.0, 67379.0, 67382.0, 67382.0, 67386.0, 67389.0, 67390.0, 67390.0, 67391.0, 67393.0, 67394.0, 67394.0, 67394.0, 67396.0, 67396.0, 67396.0, 67397.0, 67398.0, 67399.0, 67399.0, 67399.0, 67400.0, 67400.0, 67403.0, 67404.0, 67405.0, 67405.0, 67408.0, 67408.0, 67408.0, 67413.0, 67416.0, 67416.0, 67416.0, 67420.0, 67420.0, 67421.0, 67429.0, 67430.0, 67433.0, 67433.0, 67434.0, 67434.0, 67439.0, 67442.0, 67447.0, 67450.0, 67451.0, 67452.0, 67453.0, 67459.0, 67464.0, 67464.0, 67464.0, 67465.0, 67466.0, 67466.0, 67467.0, 67472.0, 67472.0, 67473.0, 67473.0, 67473.0, 67473.0, 67473.0, 67475.0, 67477.0, 67477.0, 67477.0, 67487.0, 67490.0, 67495.0, 67495.0, 67495.0, 67496.0, 67500.0, 67501.0, 67501.0, 67501.0, 67502.0, 67504.0, 67508.0, 67513.0, 67522.0, 67522.0, 67525.0, 67525.0, 67525.0, 67527.0, 67529.0, 67533.0, 67533.0, 67536.0, 67536.0, 67536.0, 67540.0, 67540.0, 67542.0, 67543.0, 67543.0, 67544.0, 67544.0, 67546.0, 67548.0, 67551.0, 67551.0, 67554.0, 67555.0, 67556.0, 67556.0, 67556.0, 67557.0, 67557.0, 67557.0, 67559.0, 67560.0, 67561.0, 67561.0, 67564.0, 67564.0, 67565.0, 67567.0, 67568.0, 67572.0, 67572.0, 67572.0, 67573.0, 67573.0, 67574.0, 67574.0, 67575.0, 67576.0, 67576.0, 67576.0, 67580.0, 67580.0, 67587.0, 67589.0, 67591.0, 67592.0, 67592.0, 67594.0, 67595.0, 67596.0, 67598.0, 67598.0, 67600.0, 67600.0, 67601.0, 67602.0, 67602.0, 67609.0, 67610.0, 67618.0, 67619.0, 67619.0, 67620.0, 67620.0, 67628.0, 67630.0, 67630.0, 67630.0, 67630.0, 67631.0, 67634.0, 67636.0, 67638.0, 67640.0, 67642.0, 67652.0, 67654.0, 67654.0, 67661.0, 67662.0, 67662.0, 67663.0, 67664.0, 67664.0, 67664.0, 67671.0, 67671.0, 67672.0, 67672.0, 67675.0, 67684.0, 67684.0, 67685.0, 67688.0, 67689.0, 67689.0, 67689.0, 67691.0, 67692.0, 67693.0, 67697.0, 67697.0, 67697.0, 67697.0, 67697.0, 67700.0, 67700.0, 67702.0, 67703.0, 67703.0, 67703.0, 67703.0, 67703.0, 67706.0, 67706.0, 67710.0, 67710.0, 67710.0, 67711.0, 67713.0, 67713.0, 67715.0, 67718.0, 67719.0, 67722.0, 67724.0, 67728.0, 67735.0, 67735.0, 67736.0, 67736.0, 67738.0, 67739.0, 67739.0, 67739.0, 67743.0, 67743.0, 67743.0, 67745.0, 67747.0, 67750.0, 67750.0, 67751.0, 67751.0, 67751.0, 67754.0, 67756.0, 67759.0, 67760.0, 67763.0, 67763.0, 67767.0, 67768.0, 67769.0, 67769.0, 67774.0, 67776.0, 67777.0, 67778.0, 67779.0, 67780.0, 67782.0, 67786.0, 67786.0, 67786.0, 67786.0, 67788.0, 67789.0, 67797.0, 67797.0, 67797.0, 67799.0, 67805.0, 67805.0, 67805.0, 67810.0, 67811.0, 67815.0, 67817.0, 67817.0, 67821.0, 67824.0, 67828.0, 67828.0, 67830.0, 67831.0, 67832.0, 67835.0, 67836.0, 67837.0, 67837.0, 67850.0, 67850.0, 67852.0, 67852.0, 67852.0, 67861.0, 67863.0, 67866.0, 67866.0, 67867.0, 67867.0, 67867.0, 67867.0, 67869.0, 67870.0, 67870.0, 67873.0, 67875.0, 67877.0, 67887.0, 67888.0, 67892.0, 67892.0, 67893.0, 67896.0, 67897.0, 67899.0, 67904.0, 67904.0, 67904.0, 67904.0, 67904.0, 67909.0, 67910.0, 67911.0, 67911.0, 67911.0, 67912.0, 67912.0, 67914.0, 67920.0, 67922.0, 67922.0, 67927.0, 67927.0, 67928.0, 67931.0, 67934.0, 67935.0, 67935.0, 67936.0, 67944.0, 67946.0, 67948.0, 67950.0, 67951.0, 67953.0, 67953.0, 67953.0, 67954.0, 67957.0, 67957.0, 67958.0, 67962.0, 67965.0, 67965.0, 67967.0, 67968.0, 67970.0, 67971.0, 67974.0, 67974.0, 67977.0, 67978.0, 67980.0, 67988.0, 67988.0, 67989.0, 67990.0, 67992.0, 67992.0, 67998.0, 67998.0, 67998.0, 68001.0, 68001.0, 68003.0, 68003.0, 68004.0, 68004.0, 68005.0, 68009.0, 68012.0, 68014.0, 68015.0, 68018.0, 68023.0, 68023.0, 68025.0, 68027.0, 68027.0, 68028.0, 68033.0, 68035.0, 68036.0, 68036.0, 68037.0, 68037.0, 68037.0, 68042.0, 68045.0, 68049.0, 68051.0, 68054.0, 68054.0, 68059.0, 68061.0, 68063.0, 68064.0, 68064.0, 68067.0, 68067.0, 68067.0, 68068.0, 68069.0, 68071.0, 68074.0, 68077.0, 68081.0, 68083.0, 68083.0, 68083.0, 68083.0, 68087.0, 68089.0, 68090.0, 68090.0, 68091.0, 68097.0, 68101.0, 68105.0, 68105.0, 68105.0, 68110.0, 68111.0, 68115.0, 68115.0, 68115.0, 68115.0, 68115.0, 68115.0, 68119.0, 68122.0, 68122.0, 68126.0, 68130.0, 68130.0, 68136.0, 68142.0, 68142.0, 68142.0, 68142.0, 68143.0, 68144.0, 68144.0, 68145.0, 68145.0, 68147.0, 68148.0, 68149.0, 68153.0, 68156.0, 68158.0, 68165.0, 68167.0, 68167.0, 68177.0, 68177.0, 68181.0, 68181.0, 68184.0, 68184.0, 68184.0, 68184.0, 68184.0, 68184.0, 68184.0, 68186.0, 68188.0, 68188.0, 68188.0, 68188.0, 68189.0, 68192.0, 68192.0, 68199.0, 68199.0, 68199.0, 68200.0, 68200.0, 68201.0, 68204.0, 68204.0, 68205.0, 68205.0, 68205.0, 68207.0, 68207.0, 68208.0, 68209.0, 68210.0, 68216.0, 68219.0, 68219.0, 68223.0, 68224.0, 68224.0, 68225.0, 68235.0, 68235.0, 68238.0, 68241.0, 68241.0, 68241.0, 68241.0, 68241.0, 68241.0, 68241.0, 68241.0, 68241.0, 68241.0, 68241.0, 68244.0, 68246.0, 68246.0, 68248.0, 68250.0, 68250.0, 68254.0, 68256.0, 68256.0, 68258.0, 68260.0, 68260.0, 68262.0, 68264.0, 68264.0, 68269.0, 68269.0, 68269.0, 68269.0, 68275.0, 68275.0, 68277.0, 68284.0, 68284.0, 68286.0, 68286.0, 68286.0, 68286.0, 68288.0, 68291.0, 68293.0, 68293.0, 68299.0, 68302.0, 68302.0, 68302.0, 68303.0, 68303.0, 68304.0, 68304.0, 68306.0, 68309.0, 68310.0, 68310.0, 68311.0, 68312.0, 68313.0, 68319.0, 68319.0, 68319.0, 68319.0, 68323.0, 68325.0, 68325.0, 68326.0, 68326.0, 68330.0, 68331.0, 68331.0, 68333.0, 68333.0, 68334.0, 68336.0, 68337.0, 68339.0, 68339.0, 68339.0, 68344.0, 68345.0, 68350.0, 68352.0, 68352.0, 68352.0, 68352.0, 68352.0, 68355.0, 68355.0, 68360.0, 68362.0, 68363.0, 68364.0, 68365.0, 68365.0, 68366.0, 68370.0, 68371.0, 68372.0, 68372.0, 68377.0, 68384.0, 68387.0, 68387.0, 68392.0, 68394.0, 68397.0, 68397.0, 68397.0, 68397.0, 68399.0, 68400.0, 68401.0, 68401.0, 68403.0, 68406.0, 68406.0, 68406.0, 68410.0, 68410.0, 68411.0, 68411.0, 68411.0, 68413.0, 68418.0, 68421.0, 68422.0, 68424.0, 68429.0, 68429.0, 68430.0, 68435.0, 68438.0, 68438.0, 68440.0, 68447.0, 68450.0, 68452.0, 68452.0, 68452.0, 68453.0, 68456.0, 68457.0, 68457.0, 68458.0, 68460.0, 68461.0, 68465.0, 68465.0, 68465.0, 68466.0, 68468.0, 68471.0, 68472.0, 68472.0, 68473.0, 68474.0, 68475.0, 68475.0, 68478.0, 68480.0, 68480.0, 68481.0, 68481.0, 68483.0, 68493.0, 68494.0, 68499.0, 68503.0, 68505.0, 68508.0, 68511.0, 68515.0, 68515.0, 68523.0, 68524.0, 68526.0, 68526.0, 68530.0, 68532.0, 68534.0, 68538.0, 68538.0, 68540.0, 68541.0, 68542.0, 68543.0, 68543.0, 68543.0, 68543.0, 68546.0, 68546.0, 68548.0, 68548.0, 68549.0, 68551.0, 68553.0, 68554.0, 68554.0, 68556.0, 68557.0, 68570.0, 68571.0, 68574.0, 68576.0, 68576.0, 68580.0, 68580.0, 68584.0, 68585.0, 68588.0, 68589.0, 68589.0, 68590.0, 68590.0, 68592.0, 68596.0, 68597.0, 68597.0, 68599.0, 68601.0, 68601.0, 68603.0, 68603.0, 68609.0, 68609.0, 68613.0, 68613.0, 68615.0, 68615.0, 68615.0, 68616.0, 68620.0, 68620.0, 68621.0, 68621.0, 68627.0, 68628.0, 68630.0, 68631.0, 68631.0, 68631.0, 68633.0, 68637.0, 68639.0, 68639.0, 68640.0, 68641.0, 68642.0, 68643.0, 68643.0, 68643.0, 68645.0, 68647.0, 68648.0, 68649.0, 68652.0, 68658.0, 68659.0, 68660.0, 68661.0, 68665.0, 68665.0, 68666.0, 68669.0, 68670.0, 68671.0, 68671.0, 68671.0, 68672.0, 68673.0, 68677.0, 68679.0, 68679.0, 68680.0, 68685.0, 68688.0, 68692.0, 68700.0, 68700.0, 68701.0, 68702.0, 68703.0, 68703.0, 68711.0, 68711.0, 68718.0, 68718.0, 68723.0, 68724.0, 68724.0, 68726.0, 68726.0, 68726.0, 68726.0, 68729.0, 68733.0, 68733.0, 68751.0, 68752.0, 68753.0, 68760.0, 68769.0, 68774.0, 68777.0, 68777.0, 68780.0, 68780.0, 68780.0, 68782.0, 68782.0, 68784.0, 68787.0, 68787.0, 68796.0, 68797.0, 68799.0, 68799.0, 68799.0, 68799.0, 68800.0, 68800.0, 68800.0, 68803.0, 68803.0, 68804.0, 68806.0, 68809.0, 68812.0, 68812.0, 68812.0, 68813.0, 68814.0, 68814.0, 68822.0, 68824.0, 68830.0, 68843.0, 68843.0, 68843.0, 68850.0, 68850.0, 68850.0, 68851.0, 68852.0, 68856.0, 68857.0, 68857.0, 68859.0, 68859.0, 68862.0, 68864.0, 68864.0, 68866.0, 68866.0, 68867.0, 68868.0, 68869.0, 68872.0, 68872.0, 68876.0, 68879.0, 68883.0, 68884.0, 68887.0, 68887.0, 68897.0, 68900.0, 68900.0, 68900.0, 68900.0, 68900.0, 68900.0, 68901.0, 68903.0, 68903.0, 68905.0, 68906.0, 68914.0, 68915.0, 68915.0, 68915.0, 68915.0, 68920.0, 68921.0, 68926.0, 68927.0, 68931.0, 68937.0, 68938.0, 68938.0, 68945.0, 68946.0, 68948.0, 68948.0, 68954.0, 68955.0, 68959.0, 68960.0, 68962.0, 68967.0, 68967.0, 68970.0, 68970.0, 68970.0, 68970.0, 68970.0, 68972.0, 68980.0, 68981.0, 68981.0, 68986.0, 68987.0, 68992.0, 68992.0, 68994.0, 69002.0, 69005.0, 69005.0, 69007.0, 69009.0, 69010.0, 69013.0, 69016.0, 69016.0, 69016.0, 69016.0, 69016.0, 69018.0, 69020.0, 69023.0, 69023.0, 69023.0, 69023.0, 69023.0, 69023.0, 69023.0, 69023.0, 69025.0, 69026.0, 69033.0, 69034.0, 69035.0, 69035.0, 69037.0, 69040.0, 69040.0, 69040.0, 69043.0, 69050.0, 69051.0, 69051.0, 69052.0, 69056.0, 69056.0, 69056.0, 69059.0, 69063.0, 69064.0, 69069.0, 69071.0, 69071.0, 69071.0, 69072.0, 69072.0, 69074.0, 69078.0, 69079.0, 69081.0, 69082.0, 69090.0, 69091.0, 69091.0, 69094.0, 69094.0, 69095.0, 69097.0, 69105.0, 69105.0, 69107.0, 69108.0, 69108.0, 69108.0, 69109.0, 69115.0, 69117.0, 69120.0, 69120.0, 69123.0, 69123.0, 69124.0, 69124.0, 69125.0, 69138.0, 69138.0, 69141.0, 69143.0, 69154.0, 69155.0, 69157.0, 69157.0, 69159.0, 69162.0, 69164.0, 69168.0, 69170.0, 69170.0, 69171.0, 69172.0, 69183.0, 69184.0, 69187.0, 69189.0, 69191.0, 69196.0, 69196.0, 69197.0, 69197.0, 69201.0, 69201.0, 69206.0, 69212.0, 69215.0, 69215.0, 69225.0, 69225.0, 69231.0, 69232.0, 69235.0, 69238.0, 69239.0, 69240.0, 69241.0, 69241.0, 69241.0, 69241.0, 69241.0, 69243.0, 69244.0, 69247.0, 69252.0, 69253.0, 69253.0, 69261.0, 69262.0, 69266.0, 69266.0, 69266.0, 69266.0, 69270.0, 69273.0, 69273.0, 69274.0, 69276.0, 69277.0, 69277.0, 69279.0, 69279.0, 69279.0, 69279.0, 69281.0, 69281.0, 69281.0, 69281.0, 69282.0, 69284.0, 69286.0, 69288.0, 69288.0, 69293.0, 69296.0, 69307.0, 69315.0, 69315.0, 69317.0, 69318.0, 69319.0, 69320.0, 69321.0, 69322.0, 69322.0, 69327.0, 69327.0, 69335.0, 69335.0, 69335.0, 69335.0, 69335.0, 69336.0, 69337.0, 69340.0, 69344.0, 69345.0, 69346.0, 69346.0, 69350.0, 69350.0, 69352.0, 69356.0, 69356.0, 69356.0, 69356.0, 69356.0, 69356.0, 69359.0, 69363.0, 69363.0, 69365.0, 69366.0, 69368.0, 69377.0, 69379.0, 69381.0, 69381.0, 69381.0, 69388.0, 69393.0, 69394.0, 69397.0, 69398.0, 69402.0, 69402.0, 69413.0, 69414.0, 69416.0, 69418.0, 69418.0, 69419.0, 69419.0, 69426.0, 69426.0, 69430.0, 69432.0, 69432.0, 69433.0, 69433.0, 69433.0, 69437.0, 69439.0, 69440.0, 69442.0, 69444.0, 69444.0, 69448.0, 69451.0, 69453.0, 69457.0, 69458.0, 69458.0, 69464.0, 69466.0, 69472.0, 69477.0, 69478.0, 69480.0, 69481.0, 69481.0, 69481.0, 69481.0, 69485.0, 69496.0, 69496.0, 69497.0, 69503.0, 69506.0, 69509.0, 69512.0, 69522.0, 69522.0, 69525.0, 69526.0, 69528.0, 69530.0, 69530.0, 69532.0, 69533.0, 69533.0, 69533.0, 69540.0, 69540.0, 69543.0, 69556.0, 69557.0, 69562.0, 69563.0, 69576.0, 69580.0, 69581.0, 69583.0, 69584.0, 69597.0, 69598.0, 69598.0, 69598.0, 69600.0, 69601.0, 69601.0, 69603.0, 69618.0, 69620.0, 69622.0, 69622.0, 69624.0, 69624.0, 69634.0, 69635.0, 69635.0, 69643.0, 69646.0, 69653.0, 69654.0, 69658.0, 69658.0, 69665.0, 69665.0, 69666.0, 69668.0, 69675.0, 69676.0, 69677.0, 69681.0, 69684.0, 69685.0, 69685.0, 69685.0, 69687.0, 69688.0, 69697.0, 69697.0, 69697.0, 69698.0, 69699.0, 69704.0, 69705.0, 69707.0, 69711.0, 69713.0, 69714.0, 69728.0, 69728.0, 69728.0, 69730.0, 69730.0, 69730.0, 69730.0, 69731.0, 69733.0, 69735.0, 69736.0, 69739.0, 69741.0, 69741.0, 69745.0, 69748.0, 69752.0, 69753.0, 69755.0, 69755.0, 69757.0, 69775.0, 69776.0, 69776.0, 69777.0, 69778.0, 69781.0, 69781.0, 69782.0, 69784.0, 69784.0, 69784.0, 69788.0, 69790.0, 69790.0, 69797.0, 69798.0, 69803.0, 69803.0, 69809.0, 69811.0, 69813.0, 69814.0, 69815.0, 69815.0, 69815.0, 69815.0, 69819.0, 69822.0, 69824.0, 69824.0, 69830.0, 69831.0, 69831.0, 69833.0, 69838.0, 69845.0, 69847.0, 69852.0, 69854.0, 69854.0, 69854.0, 69856.0, 69856.0, 69856.0, 69856.0, 69856.0, 69856.0, 69856.0, 69856.0, 69856.0, 69856.0, 69856.0, 69856.0, 69856.0, 69856.0, 69856.0, 69856.0, 69856.0, 69856.0, 69856.0, 69856.0, 69856.0, 69856.0, 69856.0, 69856.0, 69856.0, 69856.0, 69856.0, 69856.0, 69856.0, 69856.0, 69856.0, 69856.0, 69856.0, 69856.0, 69856.0, 69856.0, 69856.0, 69856.0, 69856.0, 69856.0, 69856.0, 69856.0, 69856.0, 69856.0, 69856.0, 69856.0, 69856.0, 69856.0, 69856.0, 69856.0, 69856.0, 69856.0, 69856.0, 69856.0, 69856.0, 69856.0, 69856.0, 69856.0, 69856.0, 69856.0, 69856.0, 69856.0, 69856.0, 69856.0, 69856.0, 69856.0, 69856.0, 69856.0, 69856.0, 69856.0, 69856.0, 69856.0, 69856.0, 69856.0, 69856.0, 69856.0, 69856.0, 69856.0, 69856.0, 69856.0, 69856.0, 69856.0, 69856.0, 69856.0, 69856.0, 69856.0, 69856.0, 69856.0, 69856.0, 69856.0, 69856.0, 69856.0, 69856.0, 69856.0, 69856.0, 69856.0, 69856.0, 69856.0, 69856.0, 69856.0, 69856.0, 69856.0, 69856.0, 69856.0, 69856.0, 69856.0, 69856.0, 69856.0, 69856.0, 69856.0, 69856.0, 69856.0, 69856.0, 69856.0, 69856.0, 69856.0, 69856.0, 69856.0, 69856.0, 69856.0, 69856.0, 69856.0, 69856.0, 69856.0, 69856.0, 69856.0, 69856.0, 69856.0, 69856.0, 69856.0, 69856.0, 69856.0, 69856.0, 69856.0, 69856.0, 69856.0, 69856.0, 69856.0, 69856.0, 69856.0, 69858.0, 69859.0, 69865.0, 69870.0, 69879.0, 69880.0, 69882.0, 69885.0, 69886.0, 69893.0, 69894.0, 69894.0, 69896.0, 69906.0, 69908.0, 69908.0, 69908.0, 69908.0, 69908.0, 69908.0, 69912.0, 69912.0, 69915.0, 69918.0, 69918.0, 69918.0, 69921.0, 69921.0, 69921.0, 69932.0, 69932.0, 69935.0, 69935.0, 69939.0, 69939.0, 69945.0, 69946.0, 69946.0, 69947.0, 69951.0, 69952.0, 69955.0, 69955.0, 69956.0, 69958.0, 69958.0, 69960.0, 69965.0, 69967.0, 69971.0, 69971.0, 69972.0, 69978.0, 69978.0, 69989.0, 69990.0, 69990.0, 69994.0, 69995.0, 69995.0, 69997.0, 70005.0, 70010.0, 70011.0, 70014.0, 70014.0, 70020.0, 70022.0, 70023.0, 70032.0, 70032.0, 70034.0, 70037.0, 70037.0, 70037.0, 70038.0, 70039.0, 70042.0, 70043.0, 70049.0, 70066.0, 70068.0, 70072.0, 70074.0, 70074.0, 70076.0, 70080.0, 70084.0, 70084.0, 70085.0, 70085.0, 70093.0, 70094.0, 70097.0, 70106.0, 70106.0, 70108.0, 70110.0, 70112.0, 70119.0, 70122.0, 70122.0, 70124.0, 70128.0, 70132.0, 70133.0, 70133.0, 70138.0, 70140.0, 70140.0, 70140.0, 70148.0, 70156.0, 70158.0, 70158.0, 70158.0, 70158.0, 70158.0, 70161.0, 70162.0, 70169.0, 70172.0, 70172.0, 70174.0, 70177.0, 70179.0, 70182.0, 70182.0, 70184.0, 70184.0, 70187.0, 70197.0, 70205.0, 70208.0, 70210.0, 70212.0, 70212.0, 70214.0, 70217.0, 70217.0, 70217.0, 70221.0, 70224.0, 70224.0, 70225.0, 70228.0, 70229.0, 70229.0, 70230.0, 70231.0, 70234.0, 70236.0, 70237.0, 70238.0, 70246.0, 70248.0, 70250.0, 70256.0, 70258.0, 70274.0, 70276.0, 70286.0, 70292.0, 70292.0, 70292.0, 70293.0, 70304.0, 70304.0, 70304.0, 70306.0, 70309.0, 70309.0, 70311.0, 70314.0, 70318.0, 70322.0, 70325.0, 70335.0, 70335.0, 70335.0, 70336.0, 70342.0, 70348.0, 70349.0, 70349.0, 70353.0, 70357.0, 70357.0, 70362.0, 70362.0, 70363.0, 70366.0, 70374.0, 70374.0, 70375.0, 70377.0, 70381.0, 70382.0, 70382.0, 70384.0, 70385.0, 70387.0, 70387.0, 70387.0, 70387.0, 70388.0, 70398.0, 70398.0, 70398.0, 70399.0, 70399.0, 70401.0, 70404.0, 70404.0, 70404.0, 70405.0, 70405.0, 70405.0, 70405.0, 70405.0, 70405.0, 70405.0, 70405.0, 70409.0, 70409.0, 70410.0, 70410.0, 70412.0, 70415.0, 70431.0, 70452.0, 70452.0, 70452.0, 70452.0, 70457.0, 70457.0, 70457.0, 70458.0, 70461.0, 70463.0, 70464.0, 70467.0, 70479.0, 70480.0, 70481.0, 70482.0, 70482.0, 70482.0, 70482.0, 70496.0, 70500.0, 70501.0, 70506.0, 70506.0, 70506.0, 70510.0, 70515.0, 70518.0, 70520.0, 70530.0, 70531.0, 70533.0, 70534.0, 70537.0, 70537.0, 70537.0, 70540.0, 70544.0, 70548.0, 70553.0, 70553.0, 70564.0, 70566.0, 70568.0, 70570.0, 70570.0, 70570.0, 70574.0, 70586.0, 70588.0, 70591.0, 70591.0, 70591.0, 70592.0, 70592.0, 70592.0, 70595.0, 70601.0, 70604.0, 70604.0, 70606.0, 70607.0, 70612.0, 70621.0, 70621.0, 70622.0, 70623.0, 70623.0, 70627.0, 70634.0, 70639.0, 70640.0, 70646.0, 70646.0, 70649.0, 70656.0, 70657.0, 70657.0, 70657.0, 70657.0, 70659.0, 70659.0, 70660.0, 70669.0, 70670.0, 70672.0, 70672.0, 70672.0, 70672.0, 70685.0, 70691.0, 70696.0, 70703.0, 70703.0, 70711.0, 70713.0, 70713.0, 70714.0, 70716.0, 70720.0, 70720.0, 70720.0, 70720.0, 70720.0, 70720.0, 70720.0, 70720.0, 70720.0, 70720.0, 70720.0, 70720.0, 70720.0, 70720.0, 70720.0, 70720.0, 70720.0, 70720.0, 70720.0, 70720.0, 70720.0, 70720.0, 70720.0, 70720.0, 70720.0, 70720.0, 70720.0, 70720.0, 70720.0, 70720.0, 70720.0, 70720.0, 70721.0, 70723.0, 70728.0, 70729.0, 70729.0, 70730.0, 70730.0, 70734.0, 70736.0, 70744.0, 70744.0, 70744.0, 70749.0, 70754.0, 70761.0, 70768.0, 70771.0, 70775.0, 70777.0, 70779.0, 70779.0, 70782.0, 70782.0, 70783.0, 70784.0, 70786.0, 70789.0, 70790.0, 70796.0, 70797.0, 70800.0, 70802.0, 70813.0, 70815.0, 70816.0, 70821.0, 70821.0, 70822.0, 70822.0, 70822.0, 70830.0, 70830.0, 70832.0, 70833.0, 70837.0, 70839.0, 70840.0, 70847.0, 70857.0, 70857.0, 70857.0, 70861.0, 70863.0, 70864.0, 70866.0, 70874.0, 70874.0, 70880.0, 70880.0, 70882.0, 70885.0, 70888.0, 70889.0, 70899.0, 70904.0, 70904.0, 70905.0, 70911.0, 70913.0, 70914.0, 70914.0, 70920.0, 70926.0, 70930.0, 70932.0, 70932.0, 70937.0, 70937.0, 70937.0, 70939.0, 70941.0, 70941.0, 70941.0, 70942.0, 70943.0, 70945.0, 70949.0, 70953.0, 70954.0, 70954.0, 70955.0, 70959.0, 70962.0, 70965.0, 70972.0, 70972.0, 70976.0, 70978.0, 70978.0, 70988.0, 70988.0, 70989.0, 70991.0, 70992.0, 70998.0, 70999.0, 71003.0, 71004.0, 71017.0, 71018.0, 71018.0, 71026.0, 71030.0, 71030.0, 71030.0, 71033.0, 71033.0, 71033.0, 71033.0, 71033.0, 71033.0, 71033.0, 71033.0, 71033.0, 71044.0, 71045.0, 71045.0, 71047.0, 71049.0, 71053.0, 71053.0, 71061.0, 71062.0, 71063.0, 71085.0, 71086.0, 71086.0, 71086.0, 71087.0, 71087.0, 71093.0, 71098.0, 71101.0, 71102.0, 71108.0, 71111.0, 71112.0, 71112.0, 71113.0, 71116.0, 71116.0, 71126.0, 71128.0, 71132.0, 71136.0, 71136.0, 71138.0, 71138.0, 71140.0, 71141.0, 71141.0, 71141.0, 71141.0, 71145.0, 71160.0, 71164.0, 71165.0, 71165.0, 71165.0, 71165.0, 71165.0, 71166.0, 71168.0, 71180.0, 71180.0, 71183.0, 71184.0, 71184.0, 71187.0, 71189.0, 71190.0, 71190.0, 71190.0, 71194.0, 71197.0, 71200.0, 71203.0, 71214.0, 71218.0, 71220.0, 71228.0, 71228.0, 71242.0, 71242.0, 71247.0, 71247.0, 71252.0, 71252.0, 71254.0, 71258.0, 71269.0, 71270.0, 71277.0, 71283.0, 71285.0, 71286.0, 71292.0, 71292.0, 71297.0, 71297.0, 71303.0, 71305.0, 71309.0, 71310.0, 71313.0, 71314.0, 71318.0, 71320.0, 71327.0, 71328.0, 71328.0, 71333.0, 71333.0, 71335.0, 71336.0, 71336.0, 71338.0, 71340.0, 71340.0, 71341.0, 71345.0, 71345.0, 71348.0, 71348.0, 71352.0, 71352.0, 71353.0, 71354.0, 71354.0, 71355.0, 71356.0, 71371.0, 71374.0, 71374.0, 71379.0, 71392.0, 71397.0, 71397.0, 71400.0, 71406.0, 71406.0, 71409.0, 71409.0, 71409.0, 71409.0, 71415.0, 71415.0, 71418.0, 71418.0, 71426.0, 71428.0, 71428.0, 71432.0, 71434.0, 71436.0, 71436.0, 71439.0, 71446.0, 71446.0, 71447.0, 71447.0, 71448.0, 71452.0, 71454.0, 71456.0, 71460.0, 71463.0, 71466.0, 71472.0, 71473.0, 71473.0, 71473.0, 71476.0, 71478.0, 71479.0, 71483.0, 71487.0, 71489.0, 71490.0, 71494.0, 71500.0, 71508.0, 71511.0, 71513.0, 71515.0, 71518.0, 71519.0, 71520.0, 71521.0, 71522.0, 71522.0, 71522.0, 71522.0, 71522.0, 71526.0, 71528.0, 71534.0, 71542.0, 71542.0, 71543.0, 71547.0, 71548.0, 71548.0, 71548.0, 71554.0, 71562.0, 71568.0, 71570.0, 71573.0, 71577.0, 71585.0, 71587.0, 71588.0, 71588.0, 71588.0, 71595.0, 71595.0, 71596.0, 71601.0, 71604.0, 71606.0, 71609.0, 71610.0, 71611.0, 71620.0, 71622.0, 71625.0, 71628.0, 71629.0, 71629.0, 71629.0, 71634.0, 71636.0, 71636.0, 71636.0, 71639.0, 71643.0, 71645.0, 71646.0, 71646.0, 71651.0, 71658.0, 71659.0, 71661.0, 71661.0, 71662.0, 71662.0, 71664.0, 71664.0, 71670.0, 71676.0, 71680.0, 71681.0, 71692.0, 71692.0, 71696.0, 71709.0, 71710.0, 71711.0, 71712.0, 71712.0, 71712.0, 71712.0, 71712.0, 71712.0, 71712.0, 71712.0, 71712.0, 71712.0, 71712.0, 71718.0, 71720.0, 71722.0, 71723.0, 71723.0, 71736.0, 71737.0, 71741.0, 71746.0, 71749.0, 71760.0, 71765.0, 71768.0, 71779.0, 71780.0, 71782.0, 71785.0, 71792.0, 71797.0, 71798.0, 71805.0, 71805.0, 71805.0, 71805.0, 71805.0, 71805.0, 71807.0, 71810.0, 71811.0, 71812.0, 71815.0, 71819.0, 71819.0, 71819.0, 71821.0, 71821.0, 71826.0, 71827.0, 71830.0, 71833.0, 71835.0, 71835.0, 71836.0, 71850.0, 71850.0, 71851.0, 71853.0, 71859.0, 71860.0, 71862.0, 71866.0, 71877.0, 71877.0, 71877.0, 71896.0, 71897.0, 71907.0, 71910.0, 71910.0, 71910.0, 71915.0, 71915.0, 71916.0, 71917.0, 71918.0, 71920.0, 71920.0, 71931.0, 71937.0, 71938.0, 71940.0, 71940.0, 71945.0, 71946.0, 71950.0, 71950.0, 71955.0, 71962.0, 71979.0, 71983.0, 71986.0, 71989.0, 71993.0, 72000.0, 72002.0, 72004.0, 72008.0, 72017.0, 72017.0, 72017.0, 72033.0, 72038.0, 72038.0, 72039.0, 72043.0, 72043.0, 72045.0, 72048.0, 72049.0, 72049.0, 72053.0, 72065.0, 72065.0, 72067.0, 72071.0, 72073.0, 72074.0, 72076.0, 72077.0, 72078.0, 72081.0, 72087.0, 72093.0, 72096.0, 72096.0, 72096.0, 72096.0, 72102.0, 72112.0, 72115.0, 72119.0, 72120.0, 72120.0, 72125.0, 72126.0, 72130.0, 72135.0, 72137.0, 72140.0, 72143.0, 72148.0, 72152.0, 72152.0, 72158.0, 72158.0, 72158.0, 72164.0, 72166.0, 72166.0, 72167.0, 72168.0, 72170.0, 72170.0, 72174.0, 72179.0, 72179.0, 72190.0, 72194.0, 72203.0, 72203.0, 72204.0, 72227.0, 72228.0, 72231.0, 72240.0, 72255.0, 72257.0, 72268.0, 72268.0, 72269.0, 72279.0, 72279.0, 72279.0, 72279.0, 72280.0, 72280.0, 72285.0, 72290.0, 72292.0, 72296.0, 72300.0, 72301.0, 72303.0, 72313.0, 72314.0, 72315.0, 72324.0, 72324.0, 72326.0, 72329.0, 72330.0, 72331.0, 72339.0, 72345.0, 72350.0, 72350.0, 72350.0, 72354.0, 72357.0, 72357.0, 72358.0, 72360.0, 72365.0, 72366.0, 72367.0, 72370.0, 72376.0, 72377.0, 72377.0, 72377.0, 72379.0, 72382.0, 72383.0, 72387.0, 72389.0, 72391.0, 72392.0, 72393.0, 72393.0, 72397.0, 72404.0, 72414.0, 72414.0, 72418.0, 72421.0, 72421.0, 72429.0, 72430.0, 72432.0, 72437.0, 72442.0, 72442.0, 72452.0, 72452.0, 72463.0, 72469.0, 72475.0, 72479.0, 72480.0, 72480.0, 72484.0, 72489.0, 72489.0, 72493.0, 72494.0, 72510.0, 72515.0, 72519.0, 72519.0, 72530.0, 72535.0, 72540.0, 72544.0, 72544.0, 72544.0, 72544.0, 72544.0, 72544.0, 72544.0, 72544.0, 72544.0, 72544.0, 72544.0, 72544.0, 72544.0, 72544.0, 72544.0, 72544.0, 72544.0, 72544.0, 72544.0, 72544.0, 72544.0, 72544.0, 72544.0, 72544.0, 72544.0, 72544.0, 72544.0, 72544.0, 72554.0, 72554.0, 72555.0, 72558.0, 72560.0, 72561.0, 72565.0, 72567.0, 72567.0, 72575.0, 72580.0, 72580.0, 72586.0, 72586.0, 72588.0, 72589.0, 72589.0, 72589.0, 72589.0, 72597.0, 72602.0, 72602.0, 72602.0, 72606.0, 72607.0, 72608.0, 72609.0, 72611.0, 72614.0, 72615.0, 72617.0, 72624.0, 72628.0, 72631.0, 72632.0, 72632.0, 72632.0, 72632.0, 72632.0, 72637.0, 72637.0, 72641.0, 72647.0, 72652.0, 72652.0, 72652.0, 72662.0, 72670.0, 72672.0, 72676.0, 72676.0, 72681.0, 72686.0, 72687.0, 72694.0, 72697.0, 72704.0, 72705.0, 72708.0, 72709.0, 72709.0, 72718.0, 72722.0, 72723.0, 72723.0, 72727.0, 72734.0, 72735.0, 72735.0, 72735.0, 72735.0, 72742.0, 72742.0, 72742.0, 72744.0, 72750.0, 72761.0, 72767.0, 72773.0, 72775.0, 72775.0, 72787.0, 72792.0, 72793.0, 72793.0, 72800.0, 72800.0, 72805.0, 72808.0, 72809.0, 72820.0, 72824.0, 72826.0, 72838.0, 72845.0, 72851.0, 72852.0, 72852.0, 72861.0, 72861.0, 72862.0, 72871.0, 72871.0, 72876.0, 72878.0, 72880.0, 72880.0, 72883.0, 72884.0, 72888.0, 72893.0, 72899.0, 72901.0, 72902.0, 72904.0, 72904.0, 72904.0, 72904.0, 72904.0, 72922.0, 72923.0, 72923.0, 72946.0, 72953.0, 72955.0, 72959.0, 72963.0, 72963.0, 72963.0, 72969.0, 72969.0, 72971.0, 72971.0, 72981.0, 72985.0, 72986.0, 72987.0, 72988.0, 72989.0, 72991.0, 73000.0, 73007.0, 73008.0, 73010.0, 73012.0, 73012.0, 73012.0, 73015.0, 73021.0, 73022.0, 73022.0, 73027.0, 73028.0, 73029.0, 73038.0, 73038.0, 73040.0, 73040.0, 73044.0, 73047.0, 73050.0, 73056.0, 73056.0, 73056.0, 73061.0, 73061.0, 73067.0, 73069.0, 73072.0, 73081.0, 73083.0, 73096.0, 73101.0, 73102.0, 73104.0, 73105.0, 73105.0, 73109.0, 73110.0, 73117.0, 73122.0, 73124.0, 73130.0, 73131.0, 73131.0, 73141.0, 73146.0, 73152.0, 73164.0, 73166.0, 73173.0, 73176.0, 73176.0, 73177.0, 73180.0, 73180.0, 73185.0, 73196.0, 73221.0, 73221.0, 73221.0, 73221.0, 73221.0, 73221.0, 73221.0, 73221.0, 73221.0, 73221.0, 73221.0, 73221.0, 73221.0, 73221.0, 73221.0, 73222.0, 73224.0, 73224.0, 73226.0, 73226.0, 73228.0, 73228.0, 73228.0, 73249.0, 73250.0, 73250.0, 73250.0, 73254.0, 73256.0, 73258.0, 73260.0, 73269.0, 73269.0, 73272.0, 73280.0, 73281.0, 73283.0, 73285.0, 73285.0, 73286.0, 73289.0, 73298.0, 73300.0, 73304.0, 73305.0, 73309.0, 73312.0, 73319.0, 73332.0, 73332.0, 73333.0, 73333.0, 73333.0, 73336.0, 73337.0, 73339.0, 73344.0, 73345.0, 73346.0, 73348.0, 73348.0, 73361.0, 73365.0, 73366.0, 73368.0, 73369.0, 73370.0, 73372.0, 73379.0, 73379.0, 73379.0, 73379.0, 73381.0, 73384.0, 73386.0, 73391.0, 73391.0, 73402.0, 73404.0, 73412.0, 73424.0, 73424.0, 73424.0, 73424.0, 73424.0, 73429.0, 73435.0, 73439.0, 73440.0, 73440.0, 73460.0, 73462.0, 73463.0, 73465.0, 73474.0, 73489.0, 73493.0, 73495.0, 73499.0, 73505.0, 73507.0, 73510.0, 73518.0, 73525.0, 73526.0, 73526.0, 73536.0, 73540.0, 73544.0, 73544.0, 73554.0, 73556.0, 73558.0, 73560.0, 73561.0, 73562.0, 73565.0, 73569.0, 73574.0, 73590.0, 73590.0, 73593.0, 73603.0, 73614.0, 73622.0, 73622.0, 73622.0, 73622.0, 73622.0, 73622.0, 73622.0, 73624.0, 73625.0, 73625.0, 73631.0, 73634.0, 73634.0, 73634.0, 73635.0, 73637.0, 73642.0, 73647.0, 73650.0, 73650.0, 73654.0, 73655.0, 73661.0, 73663.0, 73665.0, 73666.0, 73671.0, 73678.0, 73684.0, 73684.0, 73686.0, 73692.0, 73695.0, 73696.0, 73698.0, 73699.0, 73701.0, 73710.0, 73713.0, 73713.0, 73715.0, 73721.0, 73727.0, 73729.0, 73736.0, 73736.0, 73741.0, 73754.0, 73758.0, 73760.0, 73765.0, 73774.0, 73781.0, 73781.0, 73782.0, 73789.0, 73808.0, 73812.0, 73812.0, 73813.0, 73814.0, 73819.0, 73821.0, 73824.0, 73826.0, 73830.0, 73841.0, 73844.0, 73848.0, 73852.0, 73852.0, 73852.0, 73861.0, 73872.0, 73876.0, 73894.0, 73899.0, 73901.0, 73904.0, 73907.0, 73908.0, 73908.0, 73909.0, 73914.0, 73918.0, 73922.0, 73929.0, 73929.0, 73931.0, 73939.0, 73939.0, 73948.0, 73948.0, 73950.0, 73967.0, 73969.0, 73969.0, 73970.0, 73979.0, 73987.0, 73990.0, 74004.0, 74011.0, 74014.0, 74018.0, 74018.0, 74023.0, 74029.0, 74031.0, 74038.0, 74038.0, 74059.0, 74064.0, 74078.0, 74096.0, 74103.0, 74114.0, 74115.0, 74116.0, 74121.0, 74122.0, 74123.0, 74129.0, 74138.0, 74140.0, 74140.0, 74142.0, 74142.0, 74142.0, 74147.0, 74148.0, 74153.0, 74153.0, 74155.0, 74156.0, 74161.0, 74167.0, 74170.0, 74171.0, 74179.0, 74179.0, 74185.0, 74189.0, 74203.0, 74211.0, 74214.0, 74218.0, 74222.0, 74223.0, 74231.0, 74239.0, 74240.0, 74248.0, 74252.0, 74254.0, 74255.0, 74255.0, 74255.0, 74255.0, 74262.0, 74268.0, 74274.0, 74280.0, 74281.0, 74283.0, 74284.0, 74284.0, 74292.0, 74292.0, 74300.0, 74301.0, 74305.0, 74305.0, 74309.0, 74312.0, 74315.0, 74322.0, 74333.0, 74340.0, 74344.0, 74344.0, 74366.0, 74366.0, 74366.0, 74366.0, 74368.0, 74371.0, 74372.0, 74380.0, 74380.0, 74394.0, 74395.0, 74398.0, 74399.0, 74399.0, 74402.0, 74413.0, 74415.0, 74417.0, 74433.0, 74445.0, 74447.0, 74453.0, 74458.0, 74464.0, 74470.0, 74471.0, 74478.0, 74483.0, 74484.0, 74484.0, 74486.0, 74486.0, 74488.0, 74502.0, 74507.0, 74512.0, 74517.0, 74517.0, 74519.0, 74526.0, 74528.0, 74534.0, 74535.0, 74535.0, 74536.0, 74541.0, 74545.0, 74545.0, 74545.0, 74545.0, 74555.0, 74564.0, 74566.0, 74566.0, 74567.0, 74571.0, 74590.0, 74590.0, 74601.0, 74601.0, 74604.0, 74605.0, 74607.0, 74615.0, 74627.0, 74629.0, 74633.0, 74633.0, 74633.0, 74643.0, 74652.0, 74652.0, 74653.0, 74660.0, 74667.0, 74671.0, 74674.0, 74678.0, 74678.0, 74680.0, 74684.0, 74685.0, 74694.0, 74695.0, 74695.0, 74695.0, 74712.0, 74712.0, 74714.0, 74718.0, 74720.0, 74723.0, 74724.0, 74730.0, 74730.0, 74733.0, 74733.0, 74742.0, 74744.0, 74747.0, 74747.0, 74765.0, 74769.0, 74769.0, 74776.0, 74787.0, 74788.0, 74788.0, 74789.0, 74791.0, 74802.0, 74804.0, 74804.0, 74807.0, 74807.0, 74807.0, 74807.0, 74826.0, 74831.0, 74832.0, 74834.0, 74839.0, 74850.0, 74851.0, 74869.0, 74874.0, 74878.0, 74879.0, 74882.0, 74882.0, 74893.0, 74894.0, 74894.0, 74898.0, 74903.0, 74908.0, 74920.0, 74932.0, 74933.0, 74936.0, 74936.0, 74961.0, 74971.0, 74978.0, 74992.0, 74995.0, 75000.0, 75001.0, 75002.0, 75007.0, 75008.0, 75021.0, 75027.0, 75029.0, 75030.0, 75036.0, 75043.0, 75043.0, 75046.0, 75053.0, 75055.0, 75063.0, 75063.0, 75063.0, 75071.0, 75080.0, 75087.0, 75092.0, 75109.0, 75110.0, 75111.0, 75133.0, 75133.0, 75133.0, 75133.0, 75133.0, 75143.0, 75168.0, 75171.0, 75177.0, 75185.0, 75192.0, 75194.0, 75204.0, 75219.0, 75231.0, 75231.0, 75234.0, 75238.0, 75240.0, 75240.0, 75249.0, 75249.0, 75254.0, 75255.0, 75258.0, 75280.0, 75291.0, 75293.0, 75293.0, 75300.0, 75302.0, 75312.0, 75327.0, 75331.0, 75351.0, 75353.0, 75360.0, 75363.0, 75364.0, 75367.0, 75371.0, 75378.0, 75383.0, 75387.0, 75402.0, 75412.0, 75417.0, 75418.0, 75419.0, 75434.0, 75441.0, 75444.0, 75444.0, 75444.0, 75448.0, 75448.0, 75450.0, 75457.0, 75462.0, 75463.0, 75463.0, 75465.0, 75474.0, 75477.0, 75479.0, 75479.0, 75479.0, 75482.0, 75486.0, 75487.0, 75487.0, 75498.0, 75503.0, 75503.0, 75503.0, 75504.0, 75507.0, 75519.0, 75521.0, 75524.0, 75525.0, 75525.0, 75525.0, 75531.0, 75531.0, 75531.0, 75538.0, 75543.0, 75555.0, 75562.0, 75577.0, 75579.0, 75586.0, 75595.0, 75595.0, 75608.0, 75627.0, 75630.0, 75631.0, 75638.0, 75642.0, 75654.0, 75659.0, 75665.0, 75666.0, 75667.0, 75667.0, 75675.0, 75700.0, 75700.0, 75702.0, 75702.0, 75705.0, 75713.0, 75714.0, 75725.0, 75732.0, 75757.0, 75760.0, 75762.0, 75763.0, 75763.0, 75764.0, 75764.0, 75765.0, 75765.0, 75799.0, 75810.0, 75810.0, 75811.0, 75813.0, 75814.0, 75822.0, 75824.0, 75831.0, 75831.0, 75844.0, 75851.0, 75851.0, 75851.0, 75856.0, 75864.0, 75868.0, 75883.0, 75886.0, 75909.0, 75912.0, 75912.0, 75913.0, 75915.0, 75920.0, 75932.0, 75933.0, 75935.0, 75939.0, 75939.0, 75943.0, 75957.0, 75957.0, 75957.0, 75958.0, 75963.0, 75967.0, 75967.0, 75970.0, 75971.0, 75972.0, 75976.0, 75977.0, 75978.0, 75981.0, 75983.0, 75983.0, 75985.0, 75997.0, 76012.0, 76018.0, 76018.0, 76019.0, 76022.0, 76028.0, 76036.0, 76061.0, 76063.0, 76065.0, 76067.0, 76069.0, 76079.0, 76088.0, 76089.0, 76091.0, 76092.0, 76094.0, 76098.0, 76107.0, 76107.0, 76124.0, 76127.0, 76128.0, 76134.0, 76137.0, 76140.0, 76145.0, 76145.0, 76146.0, 76146.0, 76149.0, 76151.0, 76162.0, 76169.0, 76170.0, 76172.0, 76177.0, 76194.0, 76204.0, 76218.0, 76224.0, 76226.0, 76244.0, 76246.0, 76246.0, 76251.0, 76258.0, 76259.0, 76259.0, 76273.0, 76275.0, 76275.0, 76276.0, 76288.0, 76288.0, 76288.0, 76293.0, 76303.0, 76303.0, 76317.0, 76321.0, 76326.0, 76331.0, 76333.0, 76333.0, 76338.0, 76354.0, 76356.0, 76356.0, 76364.0, 76366.0, 76366.0, 76366.0, 76371.0, 76377.0, 76392.0, 76393.0, 76396.0, 76397.0, 76401.0, 76405.0, 76409.0, 76416.0, 76416.0, 76417.0, 76426.0, 76434.0, 76434.0, 76434.0, 76434.0, 76442.0, 76447.0, 76447.0, 76448.0, 76458.0, 76473.0, 76483.0, 76491.0, 76512.0, 76512.0, 76516.0, 76516.0, 76523.0, 76536.0, 76537.0, 76538.0, 76542.0, 76543.0, 76548.0, 76559.0, 76565.0, 76566.0, 76566.0, 76572.0, 76574.0, 76578.0, 76578.0, 76579.0, 76582.0, 76587.0, 76592.0, 76593.0, 76595.0, 76598.0, 76599.0, 76611.0, 76611.0, 76623.0, 76632.0, 76643.0, 76643.0, 76643.0, 76644.0, 76646.0, 76648.0, 76648.0, 76648.0, 76651.0, 76658.0, 76673.0, 76680.0, 76682.0, 76684.0, 76691.0, 76693.0, 76694.0, 76695.0, 76698.0, 76699.0, 76708.0, 76722.0, 76728.0, 76728.0, 76737.0, 76737.0, 76737.0, 76748.0, 76754.0, 76755.0, 76756.0, 76766.0, 76769.0, 76769.0, 76777.0, 76787.0, 76800.0, 76801.0, 76805.0, 76807.0, 76807.0, 76808.0, 76822.0, 76824.0, 76828.0, 76837.0, 76842.0, 76843.0, 76844.0, 76847.0, 76849.0, 76860.0, 76863.0, 76863.0, 76864.0, 76864.0, 76864.0, 76874.0, 76876.0, 76892.0, 76893.0, 76895.0, 76906.0, 76909.0, 76927.0, 76950.0, 76960.0, 76960.0, 76961.0, 76972.0, 76975.0, 76981.0, 76983.0, 76990.0, 76991.0, 76995.0, 76999.0, 76999.0, 77015.0, 77018.0, 77023.0, 77024.0, 77044.0, 77056.0, 77057.0, 77064.0, 77066.0, 77071.0, 77085.0, 77099.0, 77099.0, 77111.0, 77130.0, 77130.0, 77131.0, 77132.0, 77135.0, 77138.0, 77143.0, 77143.0, 77152.0, 77163.0, 77163.0, 77163.0, 77167.0, 77169.0, 77169.0, 77169.0, 77169.0, 77169.0, 77169.0, 77169.0, 77169.0, 77169.0, 77169.0, 77169.0, 77169.0, 77169.0, 77169.0, 77169.0, 77170.0, 77172.0, 77173.0, 77180.0, 77189.0, 77198.0, 77211.0, 77216.0, 77219.0, 77220.0, 77226.0, 77230.0, 77230.0, 77238.0, 77247.0, 77250.0, 77251.0, 77251.0, 77251.0, 77251.0, 77255.0, 77261.0, 77266.0, 77267.0, 77273.0, 77274.0, 77274.0, 77274.0, 77283.0, 77288.0, 77291.0, 77293.0, 77309.0, 77314.0, 77328.0, 77335.0, 77341.0, 77341.0, 77341.0, 77350.0, 77355.0, 77355.0, 77376.0, 77387.0, 77390.0, 77392.0, 77392.0, 77406.0, 77411.0, 77422.0, 77422.0, 77455.0, 77456.0, 77457.0, 77470.0, 77473.0, 77473.0, 77474.0, 77478.0, 77479.0, 77492.0, 77496.0, 77502.0, 77503.0, 77503.0, 77503.0, 77503.0, 77503.0, 77503.0, 77510.0, 77512.0, 77512.0, 77523.0, 77531.0, 77532.0, 77532.0, 77544.0, 77544.0, 77544.0, 77544.0, 77544.0, 77547.0, 77551.0, 77598.0, 77598.0, 77598.0, 77600.0, 77603.0, 77603.0, 77603.0, 77603.0, 77615.0, 77622.0, 77626.0, 77626.0, 77656.0, 77661.0, 77673.0, 77673.0, 77692.0, 77698.0, 77699.0, 77700.0, 77711.0, 77722.0, 77727.0, 77747.0, 77749.0, 77763.0, 77769.0, 77769.0, 77771.0, 77773.0, 77773.0, 77800.0, 77801.0, 77819.0, 77822.0, 77830.0, 77831.0, 77841.0, 77843.0, 77845.0, 77855.0, 77858.0, 77859.0, 77859.0, 77859.0, 77859.0, 77862.0, 77866.0, 77866.0, 77874.0, 77881.0, 77887.0, 77899.0, 77901.0, 77910.0, 77916.0, 77930.0, 77933.0, 77935.0, 77951.0, 77962.0, 77963.0, 77971.0, 77993.0, 77997.0, 78005.0, 78010.0, 78035.0, 78081.0, 78087.0, 78102.0, 78104.0, 78111.0, 78130.0, 78133.0, 78133.0, 78133.0, 78136.0, 78156.0, 78163.0, 78166.0, 78167.0, 78167.0, 78184.0, 78192.0, 78198.0, 78208.0, 78216.0, 78218.0, 78224.0, 78225.0, 78229.0, 78232.0, 78264.0, 78268.0, 78269.0, 78274.0, 78275.0, 78275.0, 78294.0, 78298.0, 78299.0, 78299.0, 78305.0, 78311.0, 78328.0, 78338.0, 78338.0, 78383.0, 78383.0, 78391.0, 78397.0, 78398.0, 78401.0, 78401.0, 78406.0, 78418.0, 78420.0, 78434.0, 78440.0, 78441.0, 78444.0, 78450.0, 78454.0, 78462.0, 78465.0, 78465.0, 78470.0, 78470.0, 78478.0, 78478.0, 78479.0, 78479.0, 78491.0, 78493.0, 78501.0, 78506.0, 78506.0, 78506.0, 78510.0, 78519.0, 78523.0, 78528.0, 78531.0, 78531.0, 78539.0, 78539.0, 78550.0, 78550.0, 78552.0, 78555.0, 78569.0, 78572.0, 78572.0, 78574.0, 78575.0, 78589.0, 78590.0, 78593.0, 78606.0, 78618.0, 78631.0, 78634.0, 78653.0, 78665.0, 78665.0, 78665.0, 78666.0, 78667.0, 78667.0, 78670.0, 78676.0, 78678.0, 78679.0, 78692.0, 78692.0, 78712.0, 78712.0, 78712.0, 78723.0, 78738.0, 78738.0, 78738.0, 78743.0, 78749.0, 78755.0, 78765.0, 78769.0, 78771.0, 78780.0, 78781.0, 78798.0, 78798.0, 78800.0, 78805.0, 78805.0, 78807.0, 78808.0, 78809.0, 78826.0, 78850.0, 78850.0, 78854.0, 78854.0, 78855.0, 78859.0, 78865.0, 78865.0, 78878.0, 78883.0, 78889.0, 78889.0, 78895.0, 78899.0, 78905.0, 78909.0, 78919.0, 78919.0, 78926.0, 78931.0, 78936.0, 78937.0, 78938.0, 78938.0, 78948.0, 78948.0, 78955.0, 78963.0, 78970.0, 78972.0, 78989.0, 78995.0, 78998.0, 78998.0, 79001.0, 79009.0, 79016.0, 79021.0, 79024.0, 79027.0, 79044.0, 79045.0, 79048.0, 79059.0, 79077.0, 79079.0, 79083.0, 79096.0, 79096.0, 79098.0, 79124.0, 79136.0, 79169.0, 79169.0, 79170.0, 79171.0, 79184.0, 79185.0, 79187.0, 79190.0, 79218.0, 79218.0, 79221.0, 79230.0, 79234.0, 79235.0, 79238.0, 79238.0, 79244.0, 79247.0, 79249.0, 79273.0, 79287.0, 79292.0, 79293.0, 79306.0, 79316.0, 79318.0, 79319.0, 79353.0, 79353.0, 79361.0, 79362.0, 79366.0, 79388.0, 79406.0, 79409.0, 79411.0, 79415.0, 79417.0, 79421.0, 79422.0, 79429.0, 79435.0, 79436.0, 79440.0, 79453.0, 79469.0, 79471.0, 79471.0, 79471.0, 79476.0, 79477.0, 79483.0, 79487.0, 79499.0, 79513.0, 79516.0, 79532.0, 79532.0, 79532.0, 79532.0, 79543.0, 79546.0, 79554.0, 79564.0, 79575.0, 79581.0, 79582.0, 79585.0, 79588.0, 79592.0, 79597.0, 79597.0, 79603.0, 79604.0, 79604.0, 79606.0, 79616.0, 79627.0, 79634.0, 79635.0, 79659.0, 79662.0, 79681.0, 79683.0, 79683.0, 79712.0, 79712.0, 79712.0, 79727.0, 79727.0, 79727.0, 79728.0, 79729.0, 79739.0, 79742.0, 79744.0, 79744.0, 79744.0, 79746.0, 79757.0, 79760.0, 79774.0, 79792.0, 79828.0, 79851.0, 79853.0, 79855.0, 79856.0, 79875.0, 79878.0, 79879.0, 79879.0, 79889.0, 79895.0, 79895.0, 79895.0, 79895.0, 79895.0, 79895.0, 79910.0, 79915.0, 79915.0, 79937.0, 79939.0, 79939.0, 79939.0, 79940.0, 79945.0, 79954.0, 79954.0, 79956.0, 79966.0, 79968.0, 79974.0, 79974.0, 79986.0, 79986.0, 79987.0, 79988.0, 79988.0, 80022.0, 80036.0, 80044.0, 80045.0, 80054.0, 80073.0, 80085.0, 80087.0, 80118.0, 80142.0, 80149.0, 80149.0, 80156.0, 80156.0, 80180.0, 80184.0, 80190.0, 80194.0, 80202.0, 80202.0, 80210.0, 80222.0, 80223.0, 80226.0, 80229.0, 80246.0, 80270.0, 80276.0, 80289.0, 80291.0, 80298.0, 80307.0, 80310.0, 80334.0, 80339.0, 80354.0, 80354.0, 80355.0, 80362.0, 80367.0, 80369.0, 80370.0, 80371.0, 80372.0, 80376.0, 80389.0, 80396.0, 80402.0, 80411.0, 80411.0, 80415.0, 80435.0, 80435.0, 80438.0, 80453.0, 80483.0, 80487.0, 80500.0, 80557.0, 80561.0, 80562.0, 80562.0, 80562.0, 80571.0, 80572.0, 80574.0, 80601.0, 80603.0, 80606.0, 80615.0, 80621.0, 80625.0, 80625.0, 80628.0, 80646.0, 80652.0, 80652.0, 80682.0, 80682.0, 80693.0, 80693.0, 80718.0, 80737.0, 80737.0, 80739.0, 80748.0, 80801.0, 80806.0, 80822.0, 80827.0, 80829.0, 80832.0, 80840.0, 80848.0, 80850.0, 80871.0, 80873.0, 80874.0, 80878.0, 80882.0, 80885.0, 80896.0, 80919.0, 80927.0, 80935.0, 80960.0, 80967.0, 80967.0, 80968.0, 80968.0, 80971.0, 80980.0, 80983.0, 80994.0, 81012.0, 81012.0, 81019.0, 81021.0, 81022.0, 81027.0, 81028.0, 81032.0, 81037.0, 81046.0, 81047.0, 81052.0, 81052.0, 81054.0, 81063.0, 81065.0, 81067.0, 81067.0, 81070.0, 81072.0, 81076.0, 81087.0, 81089.0, 81122.0, 81127.0, 81127.0, 81136.0, 81149.0, 81149.0, 81171.0, 81172.0, 81192.0, 81202.0, 81215.0, 81224.0, 81228.0, 81232.0, 81281.0, 81282.0, 81286.0, 81313.0, 81316.0, 81320.0, 81320.0, 81320.0, 81324.0, 81324.0, 81326.0, 81329.0, 81339.0, 81353.0, 81358.0, 81379.0, 81385.0, 81390.0, 81390.0, 81396.0, 81409.0, 81419.0, 81419.0, 81419.0, 81419.0, 81423.0, 81448.0, 81455.0, 81474.0, 81494.0, 81499.0, 81515.0, 81515.0, 81515.0, 81525.0, 81536.0, 81537.0, 81541.0, 81542.0, 81546.0, 81546.0, 81551.0, 81556.0, 81566.0, 81586.0, 81595.0, 81599.0, 81608.0, 81627.0, 81643.0, 81647.0, 81647.0, 81659.0, 81672.0, 81682.0, 81682.0, 81696.0, 81700.0, 81714.0, 81715.0, 81722.0, 81737.0, 81742.0, 81742.0, 81743.0, 81745.0, 81773.0, 81787.0, 81811.0, 81811.0, 81820.0, 81829.0, 81831.0, 81849.0, 81859.0, 81859.0, 81859.0, 81861.0, 81862.0, 81866.0, 81874.0, 81880.0, 81883.0, 81899.0, 81901.0, 81906.0, 81906.0, 81908.0, 81914.0, 81943.0, 81948.0, 81948.0, 81948.0, 81948.0, 81951.0, 81962.0, 81962.0, 81967.0, 82000.0, 82017.0, 82024.0, 82024.0, 82031.0, 82031.0, 82033.0, 82058.0, 82060.0, 82060.0, 82067.0, 82067.0, 82067.0, 82068.0, 82074.0, 82081.0, 82085.0, 82089.0, 82096.0, 82115.0, 82125.0, 82128.0, 82129.0, 82135.0, 82141.0, 82144.0, 82148.0, 82162.0, 82176.0, 82195.0, 82195.0, 82201.0, 82202.0, 82204.0, 82216.0, 82222.0, 82231.0, 82237.0, 82272.0, 82284.0, 82295.0, 82307.0, 82314.0, 82326.0, 82342.0, 82342.0, 82354.0, 82358.0, 82372.0, 82373.0, 82375.0, 82409.0, 82414.0, 82419.0, 82420.0, 82422.0, 82424.0, 82424.0, 82454.0, 82466.0, 82470.0, 82482.0, 82491.0, 82501.0, 82519.0, 82531.0, 82533.0, 82569.0, 82572.0, 82613.0, 82613.0, 82613.0, 82632.0, 82634.0, 82647.0, 82649.0, 82649.0, 82657.0, 82657.0, 82657.0, 82662.0, 82675.0, 82682.0, 82682.0, 82685.0, 82701.0, 82705.0, 82705.0, 82708.0, 82713.0, 82713.0, 82737.0, 82738.0, 82753.0, 82753.0, 82753.0, 82753.0, 82753.0, 82753.0, 82780.0, 82788.0, 82802.0, 82822.0, 82824.0, 82826.0, 82852.0, 82876.0, 82877.0, 82879.0, 82880.0, 82914.0, 82928.0, 82928.0, 82932.0, 82932.0, 82935.0, 82958.0, 82968.0, 82968.0, 82972.0, 82979.0, 82998.0, 83005.0, 83005.0, 83013.0, 83017.0, 83027.0, 83027.0, 83027.0, 83037.0, 83045.0, 83076.0, 83086.0, 83096.0, 83102.0, 83117.0, 83124.0, 83137.0, 83148.0, 83151.0, 83151.0, 83174.0, 83182.0, 83187.0, 83187.0, 83196.0, 83196.0, 83196.0, 83203.0, 83228.0, 83233.0, 83242.0, 83249.0, 83249.0, 83261.0, 83265.0, 83290.0, 83321.0, 83338.0, 83355.0, 83360.0, 83368.0, 83378.0, 83396.0, 83423.0, 83424.0, 83424.0, 83433.0, 83458.0, 83489.0, 83525.0, 83526.0, 83527.0, 83554.0, 83566.0, 83569.0, 83572.0, 83575.0, 83586.0, 83586.0, 83590.0, 83590.0, 83600.0, 83638.0, 83638.0, 83643.0, 83646.0, 83646.0, 83652.0, 83654.0, 83666.0, 83666.0, 83666.0, 83666.0, 83666.0, 83666.0, 83666.0, 83670.0, 83683.0, 83700.0, 83731.0, 83757.0, 83771.0, 83778.0, 83787.0, 83808.0, 83808.0, 83813.0, 83817.0, 83817.0, 83826.0, 83846.0, 83846.0, 83854.0, 83859.0, 83869.0, 83871.0, 83873.0, 83876.0, 83900.0, 83907.0, 83910.0, 83912.0, 83951.0, 83957.0, 83958.0, 83963.0, 83979.0, 83979.0, 83997.0, 84004.0, 84007.0, 84008.0, 84008.0, 84018.0, 84025.0, 84025.0, 84025.0, 84025.0, 84025.0, 84025.0, 84025.0, 84028.0, 84028.0, 84036.0, 84046.0, 84046.0, 84046.0, 84055.0, 84056.0, 84077.0, 84077.0, 84080.0, 84080.0, 84084.0, 84085.0, 84085.0, 84098.0, 84109.0, 84112.0, 84122.0, 84142.0, 84176.0, 84178.0, 84196.0, 84219.0, 84223.0, 84230.0, 84241.0, 84268.0, 84298.0, 84312.0, 84319.0, 84328.0, 84328.0, 84331.0, 84380.0, 84380.0, 84380.0, 84386.0, 84392.0, 84394.0, 84396.0, 84397.0, 84398.0, 84399.0, 84405.0, 84432.0, 84452.0, 84456.0, 84459.0, 84469.0, 84472.0, 84472.0, 84475.0, 84514.0, 84582.0, 84585.0, 84600.0, 84609.0, 84630.0, 84641.0, 84649.0, 84651.0, 84670.0, 84671.0, 84691.0, 84699.0, 84715.0, 84715.0, 84725.0, 84728.0, 84742.0, 84771.0, 84772.0, 84786.0, 84807.0, 84807.0, 84810.0, 84811.0, 84818.0, 84824.0, 84844.0, 84866.0, 84875.0, 84877.0, 84887.0, 84901.0, 84901.0, 84901.0, 84912.0, 84915.0, 84917.0, 84918.0, 84918.0, 84921.0, 84928.0, 84943.0, 84943.0, 84944.0, 84945.0, 84950.0, 84984.0, 85000.0, 85019.0, 85034.0, 85040.0, 85049.0, 85055.0, 85055.0, 85055.0, 85060.0, 85063.0, 85074.0, 85087.0, 85104.0, 85108.0, 85196.0, 85198.0, 85207.0, 85209.0, 85230.0, 85235.0, 85259.0, 85268.0, 85283.0, 85290.0, 85313.0, 85315.0, 85327.0, 85332.0, 85340.0, 85347.0, 85370.0, 85402.0, 85431.0, 85442.0, 85442.0, 85447.0, 85466.0, 85467.0, 85479.0, 85480.0, 85486.0, 85514.0, 85514.0, 85516.0, 85517.0, 85525.0, 85535.0, 85549.0, 85553.0, 85555.0, 85555.0, 85568.0, 85571.0, 85582.0, 85599.0, 85600.0, 85604.0, 85608.0, 85657.0, 85670.0, 85683.0, 85706.0, 85720.0, 85722.0, 85751.0, 85752.0, 85757.0, 85758.0, 85760.0, 85772.0, 85777.0, 85786.0, 85787.0, 85787.0, 85787.0, 85787.0, 85797.0, 85804.0, 85828.0, 85851.0, 85858.0, 85862.0, 85872.0, 85888.0, 85922.0, 85947.0, 85949.0, 85949.0, 85977.0, 85983.0, 85990.0, 85991.0, 85991.0, 85993.0, 86000.0, 86013.0, 86013.0, 86013.0, 86045.0, 86047.0, 86082.0, 86082.0, 86084.0, 86092.0, 86106.0, 86112.0, 86144.0, 86164.0, 86182.0, 86182.0, 86199.0, 86205.0, 86205.0, 86259.0, 86272.0, 86275.0, 86283.0, 86320.0, 86336.0, 86343.0, 86349.0, 86349.0, 86349.0, 86366.0, 86378.0, 86378.0, 86380.0, 86394.0, 86396.0, 86408.0, 86415.0, 86416.0, 86419.0, 86426.0, 86452.0, 86455.0, 86476.0, 86482.0, 86482.0, 86484.0, 86485.0, 86492.0, 86512.0, 86562.0, 86573.0, 86574.0, 86581.0, 86592.0, 86592.0, 86595.0, 86606.0, 86608.0, 86618.0, 86624.0, 86631.0, 86646.0, 86656.0, 86659.0, 86697.0, 86711.0, 86719.0, 86750.0, 86774.0, 86776.0, 86781.0, 86784.0, 86793.0, 86806.0, 86807.0, 86816.0, 86823.0, 86834.0, 86855.0, 86860.0, 86860.0, 86885.0, 86887.0, 86888.0, 86897.0, 86920.0, 86941.0, 86943.0, 86956.0, 86958.0, 86968.0, 86983.0, 86983.0, 86983.0, 86987.0, 87004.0, 87006.0, 87031.0, 87043.0, 87044.0, 87056.0, 87057.0, 87065.0, 87084.0, 87101.0, 87105.0, 87120.0, 87128.0, 87130.0, 87130.0, 87130.0, 87133.0, 87160.0, 87160.0, 87228.0, 87263.0, 87271.0, 87273.0, 87274.0, 87286.0, 87295.0, 87307.0, 87363.0, 87364.0, 87386.0, 87386.0, 87386.0, 87403.0, 87431.0, 87449.0, 87470.0, 87470.0, 87474.0, 87498.0, 87507.0, 87536.0, 87545.0, 87556.0, 87557.0, 87575.0, 87578.0, 87582.0, 87583.0, 87601.0, 87651.0, 87651.0, 87658.0, 87664.0, 87665.0, 87666.0, 87674.0, 87675.0, 87679.0, 87692.0, 87702.0, 87736.0, 87750.0, 87750.0, 87758.0, 87759.0, 87759.0, 87760.0, 87763.0, 87763.0, 87796.0, 87798.0, 87813.0, 87815.0, 87831.0, 87864.0, 87864.0, 87880.0, 87891.0, 87901.0, 87914.0, 87921.0, 87930.0, 87954.0, 87954.0, 87956.0, 87971.0, 87980.0, 87988.0, 88018.0, 88023.0, 88026.0, 88038.0, 88040.0, 88057.0, 88072.0, 88072.0, 88123.0, 88124.0, 88128.0, 88129.0, 88134.0, 88148.0, 88183.0, 88196.0, 88281.0, 88296.0, 88328.0, 88363.0, 88366.0, 88368.0, 88369.0, 88378.0, 88388.0, 88403.0, 88411.0, 88419.0, 88419.0, 88433.0, 88433.0, 88434.0, 88446.0, 88469.0, 88518.0, 88518.0, 88518.0, 88522.0, 88523.0, 88533.0, 88557.0, 88577.0, 88591.0, 88623.0, 88634.0, 88638.0, 88653.0, 88653.0, 88656.0, 88659.0, 88664.0, 88664.0, 88669.0, 88673.0, 88683.0, 88690.0, 88733.0, 88746.0, 88773.0, 88800.0, 88806.0, 88811.0, 88811.0, 88825.0, 88825.0, 88833.0, 88841.0, 88850.0, 88883.0, 88883.0, 88891.0, 88891.0, 88908.0, 88940.0, 88940.0, 88944.0, 88946.0, 88955.0, 88955.0, 88964.0, 88977.0, 88985.0, 88989.0, 88995.0, 88996.0, 89022.0, 89041.0, 89054.0, 89059.0, 89063.0, 89067.0, 89088.0, 89090.0, 89090.0, 89101.0, 89126.0, 89139.0, 89139.0, 89163.0, 89164.0, 89168.0, 89178.0, 89237.0, 89237.0, 89263.0, 89282.0, 89287.0, 89311.0, 89334.0, 89336.0, 89345.0, 89355.0, 89355.0, 89373.0, 89375.0, 89377.0, 89388.0, 89388.0, 89408.0, 89408.0, 89408.0, 89419.0, 89419.0, 89422.0, 89425.0, 89440.0, 89449.0, 89463.0, 89464.0, 89478.0, 89480.0, 89509.0, 89549.0, 89575.0, 89581.0, 89582.0, 89601.0, 89604.0, 89605.0, 89637.0, 89637.0, 89637.0, 89643.0, 89646.0, 89652.0, 89657.0, 89687.0, 89687.0, 89721.0, 89765.0, 89769.0, 89778.0, 89843.0, 89857.0, 89884.0, 89888.0, 89902.0, 89929.0, 89956.0, 89956.0, 89960.0, 90006.0, 90007.0, 90019.0, 90024.0, 90024.0, 90025.0, 90040.0, 90046.0, 90075.0, 90090.0, 90109.0, 90123.0, 90138.0, 90151.0, 90156.0, 90162.0, 90175.0, 90216.0, 90235.0, 90305.0, 90306.0, 90335.0, 90355.0, 90359.0, 90374.0, 90446.0, 90446.0, 90514.0, 90515.0, 90523.0, 90526.0, 90526.0, 90534.0, 90541.0, 90544.0, 90559.0, 90585.0, 90600.0, 90637.0, 90682.0, 90718.0, 90736.0, 90761.0, 90771.0, 90789.0, 90809.0, 90830.0, 90834.0, 90834.0, 90834.0, 90856.0, 90861.0, 90926.0, 90940.0, 90941.0, 90947.0, 90959.0, 90967.0, 90972.0, 90985.0, 90985.0, 90985.0, 90988.0, 90989.0, 91004.0, 91023.0, 91029.0, 91037.0, 91061.0, 91094.0, 91094.0, 91108.0, 91118.0, 91146.0, 91151.0, 91151.0, 91164.0, 91214.0, 91214.0, 91260.0, 91266.0, 91267.0, 91267.0, 91274.0, 91279.0, 91279.0, 91279.0, 91293.0, 91305.0, 91323.0, 91338.0, 91348.0, 91369.0, 91369.0, 91379.0, 91396.0, 91407.0, 91407.0, 91407.0, 91414.0, 91415.0, 91452.0, 91452.0, 91459.0, 91469.0, 91487.0, 91505.0, 91505.0, 91520.0, 91531.0, 91533.0, 91545.0, 91545.0, 91545.0, 91545.0, 91565.0, 91599.0, 91605.0, 91606.0, 91625.0, 91638.0, 91644.0, 91670.0, 91670.0, 91677.0, 91694.0, 91698.0, 91698.0, 91698.0, 91703.0, 91713.0, 91713.0, 91770.0, 91807.0, 91876.0, 91882.0, 91882.0, 91886.0, 91897.0, 91897.0, 91916.0, 91969.0, 91969.0, 92041.0, 92042.0, 92064.0, 92091.0, 92120.0, 92129.0, 92161.0, 92161.0, 92166.0, 92175.0, 92181.0, 92185.0, 92190.0, 92203.0, 92210.0, 92211.0, 92232.0, 92249.0, 92267.0, 92268.0, 92283.0, 92291.0, 92298.0, 92300.0, 92300.0, 92327.0, 92347.0, 92353.0, 92381.0, 92386.0, 92396.0, 92428.0, 92440.0, 92453.0, 92454.0, 92465.0, 92516.0, 92518.0, 92555.0, 92575.0, 92584.0, 92597.0, 92621.0, 92631.0, 92716.0, 92716.0, 92717.0, 92738.0, 92764.0, 92790.0, 92795.0, 92860.0, 92860.0, 92877.0, 92898.0, 92898.0, 92906.0, 92928.0, 92954.0, 92976.0, 92978.0, 92985.0, 92994.0, 92994.0, 92994.0, 93012.0, 93036.0, 93042.0, 93050.0, 93089.0, 93089.0, 93095.0, 93104.0, 93104.0, 93104.0, 93136.0, 93149.0, 93195.0, 93214.0, 93214.0, 93221.0, 93242.0, 93253.0, 93259.0, 93259.0, 93267.0, 93312.0, 93335.0, 93337.0, 93345.0, 93345.0, 93360.0, 93367.0, 93376.0, 93389.0, 93427.0, 93449.0, 93458.0, 93458.0, 93485.0, 93569.0, 93597.0, 93597.0, 93597.0, 93597.0, 93597.0, 93597.0, 93611.0, 93629.0, 93656.0, 93664.0, 93691.0, 93691.0, 93705.0, 93735.0, 93786.0, 93804.0, 93902.0, 93902.0, 93925.0, 93931.0, 93950.0, 93950.0, 93950.0, 93951.0, 93951.0, 93971.0, 93983.0, 93995.0, 94035.0, 94080.0, 94109.0, 94121.0, 94135.0, 94181.0, 94216.0, 94216.0, 94249.0, 94253.0, 94327.0, 94331.0, 94333.0, 94343.0, 94391.0, 94431.0, 94435.0, 94435.0, 94446.0, 94477.0, 94506.0, 94516.0, 94580.0, 94581.0, 94593.0, 94606.0, 94647.0, 94696.0, 94767.0, 94770.0, 94770.0, 94779.0, 94798.0, 94810.0, 94819.0, 94826.0, 94843.0, 94843.0, 94846.0, 94886.0, 94892.0, 94899.0, 94900.0, 94931.0, 94942.0, 94946.0, 94955.0, 94957.0, 94970.0, 95014.0, 95014.0, 95021.0, 95117.0, 95118.0, 95121.0, 95130.0, 95135.0, 95159.0, 95165.0, 95217.0, 95217.0, 95221.0, 95221.0, 95226.0, 95258.0, 95274.0, 95284.0, 95362.0, 95407.0, 95411.0, 95432.0, 95453.0, 95554.0, 95569.0, 95578.0, 95598.0, 95641.0, 95664.0, 95692.0, 95692.0, 95712.0, 95739.0, 95753.0, 95793.0, 95817.0, 95817.0, 95824.0, 95840.0, 95843.0, 95845.0, 95850.0, 95875.0, 95895.0, 95895.0, 95904.0, 95971.0, 95992.0, 96026.0, 96030.0, 96030.0, 96060.0, 96061.0, 96067.0, 96074.0, 96079.0, 96095.0, 96108.0, 96120.0, 96127.0, 96135.0, 96136.0, 96158.0, 96199.0, 96230.0, 96230.0, 96248.0, 96253.0, 96266.0, 96266.0, 96344.0, 96347.0, 96349.0, 96364.0, 96371.0, 96374.0, 96425.0, 96436.0, 96451.0, 96457.0, 96468.0, 96482.0, 96500.0, 96532.0, 96603.0, 96609.0, 96639.0, 96708.0, 96713.0, 96724.0, 96801.0, 96879.0, 96884.0, 96941.0, 96944.0, 96997.0, 97038.0, 97038.0, 97056.0, 97065.0, 97068.0, 97070.0, 97151.0, 97155.0, 97164.0, 97187.0, 97223.0, 97229.0, 97259.0, 97265.0, 97293.0, 97305.0, 97325.0, 97335.0, 97335.0, 97363.0, 97370.0, 97370.0, 97391.0, 97413.0, 97432.0, 97467.0, 97468.0, 97505.0, 97510.0, 97514.0, 97518.0, 97523.0, 97523.0, 97533.0, 97545.0, 97615.0, 97693.0, 97693.0, 97710.0, 97718.0, 97733.0, 97741.0, 97748.0, 97772.0, 97799.0, 97803.0, 97803.0, 97823.0, 97865.0, 97865.0, 97868.0, 97869.0, 97917.0, 97936.0, 97966.0, 97979.0, 97986.0, 97997.0, 98002.0, 98067.0, 98073.0, 98073.0, 98112.0, 98152.0, 98152.0, 98184.0, 98237.0, 98299.0, 98301.0, 98307.0, 98327.0, 98337.0, 98337.0, 98337.0, 98417.0, 98418.0, 98425.0, 98428.0, 98428.0, 98442.0, 98444.0, 98526.0, 98529.0, 98571.0, 98602.0, 98645.0, 98645.0, 98650.0, 98662.0, 98794.0, 98794.0, 98832.0, 98854.0, 98893.0, 98893.0, 98905.0, 98922.0, 98934.0, 98956.0, 98979.0, 99021.0, 99091.0, 99096.0, 99096.0, 99171.0, 99198.0, 99238.0, 99248.0, 99324.0, 99328.0, 99339.0, 99445.0, 99445.0, 99445.0, 99449.0, 99474.0, 99528.0, 99528.0, 99529.0, 99552.0, 99584.0, 99611.0, 99647.0, 99685.0, 99695.0, 99715.0, 99718.0, 99730.0, 99750.0, 99764.0, 99793.0, 99851.0, 99866.0, 99873.0, 99887.0, 99950.0, 99986.0, 99987.0, 99997.0, 99999.0, 100018.0, 100064.0, 100094.0, 100171.0, 100172.0, 100196.0, 100227.0, 100227.0, 100245.0, 100253.0, 100254.0, 100255.0, 100278.0, 100296.0, 100337.0, 100377.0, 100445.0, 100502.0, 100543.0, 100544.0, 100549.0, 100574.0, 100591.0, 100656.0, 100688.0, 100691.0, 100718.0, 100772.0, 100806.0, 100817.0, 100817.0, 100825.0, 100894.0, 100950.0, 100985.0, 100993.0, 101013.0, 101021.0, 101024.0, 101025.0, 101045.0, 101048.0, 101064.0, 101069.0, 101070.0, 101070.0, 101108.0, 101123.0, 101146.0, 101190.0, 101205.0, 101215.0, 101322.0, 101331.0, 101333.0, 101333.0, 101338.0, 101380.0, 101380.0, 101382.0, 101397.0, 101401.0, 101401.0, 101401.0, 101413.0, 101568.0, 101568.0, 101575.0, 101639.0, 101661.0, 101664.0, 101670.0, 101680.0, 101680.0, 101682.0, 101716.0, 101771.0, 101802.0, 101802.0, 101808.0, 101813.0, 101825.0, 101852.0, 101888.0, 101892.0, 101904.0, 101935.0, 101981.0, 102045.0, 102046.0, 102046.0, 102049.0, 102109.0, 102257.0, 102261.0, 102285.0, 102314.0, 102326.0, 102326.0, 102370.0, 102552.0, 102637.0, 102708.0, 102724.0, 102744.0, 102747.0, 102753.0, 102757.0, 102789.0, 102797.0, 102815.0, 102867.0, 102874.0, 102917.0, 102948.0, 102962.0, 102974.0, 102975.0, 102997.0, 103026.0, 103059.0, 103059.0, 103068.0, 103123.0, 103222.0, 103262.0, 103314.0, 103314.0, 103372.0, 103397.0, 103415.0, 103417.0, 103417.0, 103439.0, 103510.0, 103511.0, 103534.0, 103561.0, 103603.0, 103723.0, 103748.0, 103758.0, 103807.0, 103828.0, 103890.0, 103906.0, 103934.0, 103968.0, 104002.0, 104003.0, 104078.0, 104153.0, 104195.0, 104229.0, 104229.0, 104233.0, 104237.0, 104280.0, 104290.0, 104388.0, 104388.0, 104511.0, 104521.0, 104529.0, 104535.0, 104539.0, 104566.0, 104635.0, 104643.0, 104643.0, 104710.0, 104726.0, 104765.0, 104781.0, 104884.0, 104939.0, 104962.0, 104965.0, 104998.0, 105148.0, 105212.0, 105335.0, 105335.0, 105365.0, 105379.0, 105379.0, 105503.0, 105538.0, 105538.0, 105542.0, 105608.0, 105627.0, 105637.0, 105714.0, 105836.0, 105842.0, 105842.0, 105939.0, 105998.0, 106035.0, 106035.0, 106035.0, 106213.0, 106335.0, 106392.0, 106396.0, 106505.0, 106578.0, 106646.0, 106670.0, 106671.0, 106773.0, 106829.0, 106836.0, 106843.0, 106843.0, 106843.0, 106897.0, 106909.0, 107003.0, 107078.0, 107103.0, 107115.0, 107115.0, 107119.0, 107120.0, 107189.0, 107195.0, 107217.0, 107266.0, 107287.0, 107292.0, 107446.0, 107454.0, 107531.0, 107561.0, 107566.0, 107566.0, 107680.0, 107748.0, 107748.0, 107875.0, 107943.0, 107966.0, 107966.0, 107971.0, 107971.0, 108034.0, 108034.0, 108034.0, 108182.0, 108305.0, 108323.0, 108651.0, 108653.0, 108692.0, 108736.0, 108765.0, 108766.0, 108768.0, 108768.0, 108961.0, 109015.0, 109019.0, 109046.0, 109080.0, 109080.0, 109080.0, 109080.0, 109080.0, 109099.0, 109161.0, 109236.0, 109279.0, 109279.0, 109292.0, 109321.0, 109321.0, 109361.0, 109374.0, 109448.0, 109461.0, 109463.0, 109546.0, 109570.0, 109738.0, 109762.0, 109803.0, 109865.0, 109890.0, 109965.0, 110012.0, 110012.0, 110049.0, 110052.0, 110070.0, 110204.0, 110204.0, 110204.0, 110266.0, 110276.0, 110308.0, 110308.0, 110410.0, 110410.0, 110479.0, 110479.0, 110496.0, 110498.0, 110573.0, 110592.0, 110592.0, 110592.0, 110640.0, 110655.0, 110686.0, 110973.0, 110999.0, 111040.0, 111070.0, 111114.0, 111208.0, 111257.0, 111257.0, 111268.0, 111327.0, 111384.0, 111384.0, 111419.0, 111447.0, 111486.0, 111518.0, 111557.0, 111671.0, 111671.0, 111683.0, 111683.0, 111715.0, 111779.0, 111876.0, 111883.0, 111883.0, 112024.0, 112113.0, 112115.0, 112176.0, 112611.0, 112634.0, 112667.0, 112746.0, 112785.0, 112816.0, 112974.0, 112988.0, 113029.0, 113088.0, 113088.0, 113177.0, 113230.0, 113332.0, 113339.0, 113350.0, 113350.0, 113379.0, 113452.0, 113486.0, 113512.0, 113553.0, 113636.0, 113663.0, 113684.0, 113684.0, 113800.0, 113810.0, 113820.0, 113857.0, 114019.0, 114021.0, 114145.0, 114210.0, 114210.0, 114391.0, 114391.0, 114391.0, 114393.0, 114452.0, 114536.0, 114628.0, 114757.0, 114873.0, 114983.0, 115014.0, 115034.0, 115092.0, 115232.0, 115554.0, 115554.0, 115672.0, 115719.0, 115719.0, 115719.0, 115719.0, 116045.0, 116272.0, 116398.0, 116606.0, 116777.0, 116796.0, 116796.0, 116796.0, 116852.0, 117057.0, 117237.0, 117237.0, 117544.0, 117563.0, 117683.0, 117793.0, 117793.0, 117793.0, 117793.0, 117793.0, 117799.0, 117799.0, 117993.0, 118167.0, 118167.0, 118327.0, 118594.0, 118594.0, 118594.0, 118613.0, 118644.0, 118745.0, 118922.0, 118971.0, 119025.0, 119148.0, 119272.0, 119272.0, 119373.0, 119425.0, 119425.0, 119446.0, 119593.0, 119735.0, 119963.0, 120037.0, 120134.0, 120245.0, 120340.0, 120406.0, 120507.0, 120595.0, 121058.0, 121207.0, 121321.0, 121384.0, 121448.0, 121489.0, 121601.0, 121760.0, 122051.0, 122051.0, 122325.0, 122424.0, 122442.0, 122625.0, 122625.0, 122700.0, 122795.0, 122906.0, 122917.0, 123233.0, 123247.0, 123396.0, 123446.0, 123641.0, 123745.0, 123783.0, 124342.0, 124345.0, 124520.0, 124881.0, 124950.0, 124981.0, 125475.0, 125490.0, 125643.0, 125876.0, 126158.0, 126302.0, 126410.0, 126576.0, 126576.0, 126576.0, 126583.0, 126671.0, 127161.0, 127279.0, 127454.0, 127493.0, 127575.0, 127772.0, 127942.0, 128025.0, 128329.0, 128457.0, 128686.0, 128941.0, 128993.0, 128993.0, 129609.0, 129706.0, 129749.0, 129892.0, 130272.0, 130427.0, 130703.0, 131148.0, 131355.0, 131469.0, 131469.0, 131570.0, 131874.0, 131901.0, 132193.0, 132308.0, 132387.0, 132387.0, 132401.0, 133098.0, 133280.0, 133280.0, 133355.0, 133747.0, 134013.0, 134022.0, 134092.0, 134092.0, 134896.0, 135038.0, 135054.0, 135229.0, 135450.0, 135545.0, 135616.0, 135653.0, 135998.0, 136061.0, 136113.0, 136156.0, 136163.0, 137041.0, 137771.0, 138002.0, 139130.0, 139130.0, 139556.0, 139893.0, 140225.0, 140225.0, 140293.0, 140448.0, 140789.0, 140912.0, 140912.0, 141131.0, 141582.0, 141770.0, 141863.0, 142271.0, 142313.0, 142995.0, 143007.0, 143007.0, 143445.0, 143525.0, 143814.0, 144004.0, 144074.0, 144209.0, 144224.0, 144473.0, 145053.0, 147075.0, 147075.0, 150412.0, 150468.0, 151034.0, 151585.0, 152009.0, 152331.0, 152654.0, 152866.0, 152870.0, 152895.0, 155184.0, 155317.0, 155317.0, 155413.0, 156062.0, 156270.0, 156389.0, 158307.0, 158356.0, 158860.0, 159243.0, 159243.0, 159869.0, 159995.0, 160011.0, 160380.0, 162733.0, 162785.0, 162948.0, 164502.0, 164759.0, 164990.0, 165395.0, 165501.0, 167393.0, 167548.0, 167548.0, 167899.0, 168597.0, 169021.0, 169127.0, 170402.0, 170661.0, 170758.0, 171264.0, 173513.0, 173513.0, 173545.0, 173653.0, 174094.0, 174351.0, 174574.0, 174592.0, 177150.0, 181076.0, 182288.0, 183718.0, 183718.0, 183718.0, 184270.0, 185009.0, 185009.0, 185338.0, 187756.0, 188014.0, 188591.0, 188591.0, 188591.0, 189361.0, 192034.0, 195863.0, 196513.0, 199154.0, 199154.0, 199303.0, 199996.0, 199996.0, 199996.0, 199996.0, 201587.0, 206906.0, 211132.0, 211132.0, 211132.0, 211132.0, 214330.0, 214455.0, 214455.0, 214595.0, 216660.0, 217801.0, 218095.0, 218552.0, 220581.0, 220702.0, 227281.0, 227526.0, 229375.0, 229935.0, 229935.0, 229935.0, 232791.0, 232791.0, 233713.0, 234236.0, 235683.0, 235683.0, 235683.0, 235683.0, 235683.0, 240318.0, 240809.0, 241735.0, 243141.0, 244589.0, 251817.0, 251853.0, 251853.0, 252141.0, 252866.0, 253362.0, 266118.0, 267698.0, 267698.0, 286666.0, 291169.0, 291169.0, 291169.0, 291169.0, 291169.0, 293038.0, 294209.0, 294467.0, 295106.0, 295106.0, 296891.0, 296891.0, 296891.0, 299410.0, 299811.0, 301762.0, 303550.0, 308615.0, 309867.0, 311948.0, 313424.0, 313424.0, 313424.0, 313854.0, 313854.0, 313854.0, 313854.0, 315565.0, 316563.0, 318706.0, 329525.0, 336395.0, 336395.0, 336395.0, 336395.0, 336395.0, 336395.0, 336395.0, 337327.0, 337573.0, 339396.0, 340439.0, 340439.0, 346200.0, 346982.0, 346982.0, 347606.0, 366891.0, 366891.0, 366891.0, 366891.0, 399010.0, 399010.0, 402097.0, 402863.0, 448156.0, 472042.0, 472042.0, 472042.0, 489663.0, 495106.0, 508073.0, 540165.0, 540165.0, 540165.0, 540165.0]\n"
          ]
        }
      ]
    },
    {
      "cell_type": "code",
      "source": [
        "median = np.median(df['Annual_Premium'])\n",
        "print(median)"
      ],
      "metadata": {
        "colab": {
          "base_uri": "https://localhost:8080/"
        },
        "id": "yMDkWE-FamLh",
        "outputId": "8e1cbdee-3328-4274-d622-6a959320edfd"
      },
      "execution_count": null,
      "outputs": [
        {
          "output_type": "stream",
          "name": "stdout",
          "text": [
            "31669.0\n"
          ]
        }
      ]
    },
    {
      "cell_type": "code",
      "source": [
        "for i in sample_outliers:\n",
        "  df['Annual_Premium'].replace(i,median,inplace=True)"
      ],
      "metadata": {
        "id": "7wvR-PeUY3XN"
      },
      "execution_count": null,
      "outputs": []
    },
    {
      "cell_type": "code",
      "source": [
        "plt.figure(figsize=(13,7))\n",
        "sns.boxplot(df['Annual_Premium'])\n",
        "plt.title(\"boxplot of Annual premium\")\n",
        "plt.show()"
      ],
      "metadata": {
        "colab": {
          "base_uri": "https://localhost:8080/",
          "height": 464
        },
        "id": "-LziJynFZiDB",
        "outputId": "d25d2393-f8d0-44f2-f1a6-026c42862379"
      },
      "execution_count": null,
      "outputs": [
        {
          "output_type": "display_data",
          "data": {
            "text/plain": [
              "<Figure size 936x504 with 1 Axes>"
            ],
            "image/png": "[encoded data removed]"
          },
          "metadata": {}
        }
      ]
    },
    {
      "cell_type": "code",
      "source": [
        ""
      ],
      "metadata": {
        "id": "VS33ml0kZiFK"
      },
      "execution_count": null,
      "outputs": []
    },
    {
      "cell_type": "code",
      "source": [
        ""
      ],
      "metadata": {
        "id": "XkSuTpBMZiHJ"
      },
      "execution_count": null,
      "outputs": []
    },
    {
      "cell_type": "markdown",
      "metadata": {
        "id": "3slTmHHOzKqD"
      },
      "source": [
        "As you can see that in the column Annual_premium there are many outliers present"
      ]
    },
    {
      "cell_type": "markdown",
      "metadata": {
        "id": "oUm3AGTGzNQP"
      },
      "source": [
        "# **Correlation Matrix**"
      ]
    },
    {
      "cell_type": "code",
      "metadata": {
        "id": "lq3pO8lCpeDV",
        "colab": {
          "base_uri": "https://localhost:8080/",
          "height": 628
        },
        "outputId": "94d5394f-bf7a-4959-b712-17915377fa39"
      },
      "source": [
        "corr = df.corr()\n",
        "\n",
        "f, ax = plt.subplots(figsize = (8 , 8 ))\n",
        "\n",
        "sns.heatmap(corr, ax=ax, annot=True,linewidths=3,cmap='YlGn')\n",
        "\n",
        "plt.title(\"Pearson correlation of Features\", fontsize=25 ,y=1.05, size=15)\n"
      ],
      "execution_count": null,
      "outputs": [
        {
          "output_type": "execute_result",
          "data": {
            "text/plain": [
              "Text(0.5, 1.05, 'Pearson correlation of Features')"
            ]
          },
          "metadata": {},
          "execution_count": 109
        },
        {
          "output_type": "display_data",
          "data": {
            "text/plain": [
              "<Figure size 576x576 with 2 Axes>"
            ],
            "image/png": "[encoded data removed]"
          },
          "metadata": {}
        }
      ]
    },
    {
      "cell_type": "markdown",
      "metadata": {
        "id": "m63sj4KKzmrH"
      },
      "source": [
        "**Target variable ( Response )** is not much affected by Vintage variable. we can drop least correlated variable."
      ]
    },
    {
      "cell_type": "markdown",
      "metadata": {
        "id": "NS2Lo23mzsJa"
      },
      "source": [
        "# **Data Cleaning**"
      ]
    },
    {
      "cell_type": "markdown",
      "metadata": {
        "id": "vhrmmmuhzwXv"
      },
      "source": [
        "**Removing duplicate rows**\n"
      ]
    },
    {
      "cell_type": "code",
      "metadata": {
        "id": "o6WVjn4WpeF6",
        "colab": {
          "base_uri": "https://localhost:8080/"
        },
        "outputId": "816eadcb-21bd-47d3-e435-937ab2144542"
      },
      "source": [
        "df_old_row = df.shape[0]\n",
        "df.drop_duplicates(inplace = True)\n",
        "df_new_row = df.shape[0]\n",
        "if df_old_row == df_new_row:\n",
        "    print(\"There was no duplicate rows present\")\n",
        "else:\n",
        "    print(f\"There was {df_old_row - df_new_row} duplicate rows present\")"
      ],
      "execution_count": null,
      "outputs": [
        {
          "output_type": "stream",
          "name": "stdout",
          "text": [
            "There was no duplicate rows present\n"
          ]
        }
      ]
    },
    {
      "cell_type": "code",
      "metadata": {
        "id": "kjA9IJv5peIe",
        "colab": {
          "base_uri": "https://localhost:8080/",
          "height": 206
        },
        "outputId": "8fb693d4-3475-4a80-a389-b1072a65538c"
      },
      "source": [
        "numerical_cols = list(df.describe())\n",
        "numerical_df = df[numerical_cols]\n",
        "numerical_df.head()"
      ],
      "execution_count": null,
      "outputs": [
        {
          "output_type": "execute_result",
          "data": {
            "text/plain": [
              "   id  Age  Driving_License  Region_Code  Previously_Insured  Annual_Premium  \\\n",
              "0   1   44                1         28.0                   0         40454.0   \n",
              "1   2   76                1          3.0                   0         33536.0   \n",
              "2   3   47                1         28.0                   0         38294.0   \n",
              "3   4   21                1         11.0                   1         28619.0   \n",
              "4   5   29                1         41.0                   1         27496.0   \n",
              "\n",
              "   Policy_Sales_Channel  Vintage  Response  \n",
              "0                  26.0      217         1  \n",
              "1                  26.0      183         0  \n",
              "2                  26.0       27         1  \n",
              "3                 152.0      203         0  \n",
              "4                 152.0       39         0  "
            ],
            "text/html": [
              "\n",
              "  <div id=\"df-14c5edee-09c7-4331-9842-67480691f694\">\n",
              "    <div class=\"colab-df-container\">\n",
              "      <div>\n",
              "<style scoped>\n",
              "    .dataframe tbody tr th:only-of-type {\n",
              "        vertical-align: middle;\n",
              "    }\n",
              "\n",
              "    .dataframe tbody tr th {\n",
              "        vertical-align: top;\n",
              "    }\n",
              "\n",
              "    .dataframe thead th {\n",
              "        text-align: right;\n",
              "    }\n",
              "</style>\n",
              "<table border=\"1\" class=\"dataframe\">\n",
              "  <thead>\n",
              "    <tr style=\"text-align: right;\">\n",
              "      <th></th>\n",
              "      <th>id</th>\n",
              "      <th>Age</th>\n",
              "      <th>Driving_License</th>\n",
              "      <th>Region_Code</th>\n",
              "      <th>Previously_Insured</th>\n",
              "      <th>Annual_Premium</th>\n",
              "      <th>Policy_Sales_Channel</th>\n",
              "      <th>Vintage</th>\n",
              "      <th>Response</th>\n",
              "    </tr>\n",
              "  </thead>\n",
              "  <tbody>\n",
              "    <tr>\n",
              "      <th>0</th>\n",
              "      <td>1</td>\n",
              "      <td>44</td>\n",
              "      <td>1</td>\n",
              "      <td>28.0</td>\n",
              "      <td>0</td>\n",
              "      <td>40454.0</td>\n",
              "      <td>26.0</td>\n",
              "      <td>217</td>\n",
              "      <td>1</td>\n",
              "    </tr>\n",
              "    <tr>\n",
              "      <th>1</th>\n",
              "      <td>2</td>\n",
              "      <td>76</td>\n",
              "      <td>1</td>\n",
              "      <td>3.0</td>\n",
              "      <td>0</td>\n",
              "      <td>33536.0</td>\n",
              "      <td>26.0</td>\n",
              "      <td>183</td>\n",
              "      <td>0</td>\n",
              "    </tr>\n",
              "    <tr>\n",
              "      <th>2</th>\n",
              "      <td>3</td>\n",
              "      <td>47</td>\n",
              "      <td>1</td>\n",
              "      <td>28.0</td>\n",
              "      <td>0</td>\n",
              "      <td>38294.0</td>\n",
              "      <td>26.0</td>\n",
              "      <td>27</td>\n",
              "      <td>1</td>\n",
              "    </tr>\n",
              "    <tr>\n",
              "      <th>3</th>\n",
              "      <td>4</td>\n",
              "      <td>21</td>\n",
              "      <td>1</td>\n",
              "      <td>11.0</td>\n",
              "      <td>1</td>\n",
              "      <td>28619.0</td>\n",
              "      <td>152.0</td>\n",
              "      <td>203</td>\n",
              "      <td>0</td>\n",
              "    </tr>\n",
              "    <tr>\n",
              "      <th>4</th>\n",
              "      <td>5</td>\n",
              "      <td>29</td>\n",
              "      <td>1</td>\n",
              "      <td>41.0</td>\n",
              "      <td>1</td>\n",
              "      <td>27496.0</td>\n",
              "      <td>152.0</td>\n",
              "      <td>39</td>\n",
              "      <td>0</td>\n",
              "    </tr>\n",
              "  </tbody>\n",
              "</table>\n",
              "</div>\n",
              "      <button class=\"colab-df-convert\" onclick=\"convertToInteractive('df-14c5edee-09c7-4331-9842-67480691f694')\"\n",
              "              title=\"Convert this dataframe to an interactive table.\"\n",
              "              style=\"display:none;\">\n",
              "        \n",
              "  <svg xmlns=\"http://www.w3.org/2000/svg\" height=\"24px\"viewBox=\"0 0 24 24\"\n",
              "       width=\"24px\">\n",
              "    <path d=\"M0 0h24v24H0V0z\" fill=\"none\"/>\n",
              "    <path d=\"M18.56 5.44l.94 2.06.94-2.06 2.06-.94-2.06-.94-.94-2.06-.94 2.06-2.06.94zm-11 1L8.5 8.5l.94-2.06 2.06-.94-2.06-.94L8.5 2.5l-.94 2.06-2.06.94zm10 10l.94 2.06.94-2.06 2.06-.94-2.06-.94-.94-2.06-.94 2.06-2.06.94z\"/><path d=\"M17.41 7.96l-1.37-1.37c-.4-.4-.92-.59-1.43-.59-.52 0-1.04.2-1.43.59L10.3 9.45l-7.72 7.72c-.78.78-.78 2.05 0 2.83L4 21.41c.39.39.9.59 1.41.59.51 0 1.02-.2 1.41-.59l7.78-7.78 2.81-2.81c.8-.78.8-2.07 0-2.86zM5.41 20L4 18.59l7.72-7.72 1.47 1.35L5.41 20z\"/>\n",
              "  </svg>\n",
              "      </button>\n",
              "      \n",
              "  <style>\n",
              "    .colab-df-container {\n",
              "      display:flex;\n",
              "      flex-wrap:wrap;\n",
              "      gap: 12px;\n",
              "    }\n",
              "\n",
              "    .colab-df-convert {\n",
              "      background-color: #E8F0FE;\n",
              "      border: none;\n",
              "      border-radius: 50%;\n",
              "      cursor: pointer;\n",
              "      display: none;\n",
              "      fill: #1967D2;\n",
              "      height: 32px;\n",
              "      padding: 0 0 0 0;\n",
              "      width: 32px;\n",
              "    }\n",
              "\n",
              "    .colab-df-convert:hover {\n",
              "      background-color: #E2EBFA;\n",
              "      box-shadow: 0px 1px 2px rgba(60, 64, 67, 0.3), 0px 1px 3px 1px rgba(60, 64, 67, 0.15);\n",
              "      fill: #174EA6;\n",
              "    }\n",
              "\n",
              "    [theme=dark] .colab-df-convert {\n",
              "      background-color: #3B4455;\n",
              "      fill: #D2E3FC;\n",
              "    }\n",
              "\n",
              "    [theme=dark] .colab-df-convert:hover {\n",
              "      background-color: #434B5C;\n",
              "      box-shadow: 0px 1px 3px 1px rgba(0, 0, 0, 0.15);\n",
              "      filter: drop-shadow(0px 1px 2px rgba(0, 0, 0, 0.3));\n",
              "      fill: #FFFFFF;\n",
              "    }\n",
              "  </style>\n",
              "\n",
              "      <script>\n",
              "        const buttonEl =\n",
              "          document.querySelector('#df-14c5edee-09c7-4331-9842-67480691f694 button.colab-df-convert');\n",
              "        buttonEl.style.display =\n",
              "          google.colab.kernel.accessAllowed ? 'block' : 'none';\n",
              "\n",
              "        async function convertToInteractive(key) {\n",
              "          const element = document.querySelector('#df-14c5edee-09c7-4331-9842-67480691f694');\n",
              "          const dataTable =\n",
              "            await google.colab.kernel.invokeFunction('convertToInteractive',\n",
              "                                                     [key], {});\n",
              "          if (!dataTable) return;\n",
              "\n",
              "          const docLinkHtml = 'Like what you see? Visit the ' +\n",
              "            '<a target=\"_blank\" href=https://colab.research.google.com/notebooks/data_table.ipynb>data table notebook</a>'\n",
              "            + ' to learn more about interactive tables.';\n",
              "          element.innerHTML = '';\n",
              "          dataTable['output_type'] = 'display_data';\n",
              "          await google.colab.output.renderOutput(dataTable, element);\n",
              "          const docLink = document.createElement('div');\n",
              "          docLink.innerHTML = docLinkHtml;\n",
              "          element.appendChild(docLink);\n",
              "        }\n",
              "      </script>\n",
              "    </div>\n",
              "  </div>\n",
              "  "
            ]
          },
          "metadata": {},
          "execution_count": 111
        }
      ]
    },
    {
      "cell_type": "code",
      "metadata": {
        "id": "DFPCifbGpeLG",
        "colab": {
          "base_uri": "https://localhost:8080/",
          "height": 206
        },
        "outputId": "b68979a4-bbd8-4435-bcba-a52fd243dbd1"
      },
      "source": [
        "categorical_cols = list(set(df.columns) - set(numerical_cols))\n",
        "categorical_df = df[categorical_cols]\n",
        "categorical_df.head()"
      ],
      "execution_count": null,
      "outputs": [
        {
          "output_type": "execute_result",
          "data": {
            "text/plain": [
              "  Vehicle_Damage Vehicle_Age  Gender\n",
              "0            Yes   > 2 Years    Male\n",
              "1             No    1-2 Year    Male\n",
              "2            Yes   > 2 Years    Male\n",
              "3             No    < 1 Year    Male\n",
              "4             No    < 1 Year  Female"
            ],
            "text/html": [
              "\n",
              "  <div id=\"df-dca0c7fc-5ee1-4ce3-baca-61c4178d65f8\">\n",
              "    <div class=\"colab-df-container\">\n",
              "      <div>\n",
              "<style scoped>\n",
              "    .dataframe tbody tr th:only-of-type {\n",
              "        vertical-align: middle;\n",
              "    }\n",
              "\n",
              "    .dataframe tbody tr th {\n",
              "        vertical-align: top;\n",
              "    }\n",
              "\n",
              "    .dataframe thead th {\n",
              "        text-align: right;\n",
              "    }\n",
              "</style>\n",
              "<table border=\"1\" class=\"dataframe\">\n",
              "  <thead>\n",
              "    <tr style=\"text-align: right;\">\n",
              "      <th></th>\n",
              "      <th>Vehicle_Damage</th>\n",
              "      <th>Vehicle_Age</th>\n",
              "      <th>Gender</th>\n",
              "    </tr>\n",
              "  </thead>\n",
              "  <tbody>\n",
              "    <tr>\n",
              "      <th>0</th>\n",
              "      <td>Yes</td>\n",
              "      <td>&gt; 2 Years</td>\n",
              "      <td>Male</td>\n",
              "    </tr>\n",
              "    <tr>\n",
              "      <th>1</th>\n",
              "      <td>No</td>\n",
              "      <td>1-2 Year</td>\n",
              "      <td>Male</td>\n",
              "    </tr>\n",
              "    <tr>\n",
              "      <th>2</th>\n",
              "      <td>Yes</td>\n",
              "      <td>&gt; 2 Years</td>\n",
              "      <td>Male</td>\n",
              "    </tr>\n",
              "    <tr>\n",
              "      <th>3</th>\n",
              "      <td>No</td>\n",
              "      <td>&lt; 1 Year</td>\n",
              "      <td>Male</td>\n",
              "    </tr>\n",
              "    <tr>\n",
              "      <th>4</th>\n",
              "      <td>No</td>\n",
              "      <td>&lt; 1 Year</td>\n",
              "      <td>Female</td>\n",
              "    </tr>\n",
              "  </tbody>\n",
              "</table>\n",
              "</div>\n",
              "      <button class=\"colab-df-convert\" onclick=\"convertToInteractive('df-dca0c7fc-5ee1-4ce3-baca-61c4178d65f8')\"\n",
              "              title=\"Convert this dataframe to an interactive table.\"\n",
              "              style=\"display:none;\">\n",
              "        \n",
              "  <svg xmlns=\"http://www.w3.org/2000/svg\" height=\"24px\"viewBox=\"0 0 24 24\"\n",
              "       width=\"24px\">\n",
              "    <path d=\"M0 0h24v24H0V0z\" fill=\"none\"/>\n",
              "    <path d=\"M18.56 5.44l.94 2.06.94-2.06 2.06-.94-2.06-.94-.94-2.06-.94 2.06-2.06.94zm-11 1L8.5 8.5l.94-2.06 2.06-.94-2.06-.94L8.5 2.5l-.94 2.06-2.06.94zm10 10l.94 2.06.94-2.06 2.06-.94-2.06-.94-.94-2.06-.94 2.06-2.06.94z\"/><path d=\"M17.41 7.96l-1.37-1.37c-.4-.4-.92-.59-1.43-.59-.52 0-1.04.2-1.43.59L10.3 9.45l-7.72 7.72c-.78.78-.78 2.05 0 2.83L4 21.41c.39.39.9.59 1.41.59.51 0 1.02-.2 1.41-.59l7.78-7.78 2.81-2.81c.8-.78.8-2.07 0-2.86zM5.41 20L4 18.59l7.72-7.72 1.47 1.35L5.41 20z\"/>\n",
              "  </svg>\n",
              "      </button>\n",
              "      \n",
              "  <style>\n",
              "    .colab-df-container {\n",
              "      display:flex;\n",
              "      flex-wrap:wrap;\n",
              "      gap: 12px;\n",
              "    }\n",
              "\n",
              "    .colab-df-convert {\n",
              "      background-color: #E8F0FE;\n",
              "      border: none;\n",
              "      border-radius: 50%;\n",
              "      cursor: pointer;\n",
              "      display: none;\n",
              "      fill: #1967D2;\n",
              "      height: 32px;\n",
              "      padding: 0 0 0 0;\n",
              "      width: 32px;\n",
              "    }\n",
              "\n",
              "    .colab-df-convert:hover {\n",
              "      background-color: #E2EBFA;\n",
              "      box-shadow: 0px 1px 2px rgba(60, 64, 67, 0.3), 0px 1px 3px 1px rgba(60, 64, 67, 0.15);\n",
              "      fill: #174EA6;\n",
              "    }\n",
              "\n",
              "    [theme=dark] .colab-df-convert {\n",
              "      background-color: #3B4455;\n",
              "      fill: #D2E3FC;\n",
              "    }\n",
              "\n",
              "    [theme=dark] .colab-df-convert:hover {\n",
              "      background-color: #434B5C;\n",
              "      box-shadow: 0px 1px 3px 1px rgba(0, 0, 0, 0.15);\n",
              "      filter: drop-shadow(0px 1px 2px rgba(0, 0, 0, 0.3));\n",
              "      fill: #FFFFFF;\n",
              "    }\n",
              "  </style>\n",
              "\n",
              "      <script>\n",
              "        const buttonEl =\n",
              "          document.querySelector('#df-dca0c7fc-5ee1-4ce3-baca-61c4178d65f8 button.colab-df-convert');\n",
              "        buttonEl.style.display =\n",
              "          google.colab.kernel.accessAllowed ? 'block' : 'none';\n",
              "\n",
              "        async function convertToInteractive(key) {\n",
              "          const element = document.querySelector('#df-dca0c7fc-5ee1-4ce3-baca-61c4178d65f8');\n",
              "          const dataTable =\n",
              "            await google.colab.kernel.invokeFunction('convertToInteractive',\n",
              "                                                     [key], {});\n",
              "          if (!dataTable) return;\n",
              "\n",
              "          const docLinkHtml = 'Like what you see? Visit the ' +\n",
              "            '<a target=\"_blank\" href=https://colab.research.google.com/notebooks/data_table.ipynb>data table notebook</a>'\n",
              "            + ' to learn more about interactive tables.';\n",
              "          element.innerHTML = '';\n",
              "          dataTable['output_type'] = 'display_data';\n",
              "          await google.colab.output.renderOutput(dataTable, element);\n",
              "          const docLink = document.createElement('div');\n",
              "          docLink.innerHTML = docLinkHtml;\n",
              "          element.appendChild(docLink);\n",
              "        }\n",
              "      </script>\n",
              "    </div>\n",
              "  </div>\n",
              "  "
            ]
          },
          "metadata": {},
          "execution_count": 112
        }
      ]
    },
    {
      "cell_type": "markdown",
      "metadata": {
        "id": "ESDGME4c0Ijc"
      },
      "source": [
        "Let's convert the categorical columns into numeric using LabelEncoder,\n",
        "But before that let's check in each column of categorical_df how namy unique values are present"
      ]
    },
    {
      "cell_type": "code",
      "metadata": {
        "id": "I4dw4YR2peN2",
        "colab": {
          "base_uri": "https://localhost:8080/"
        },
        "outputId": "230e7f42-aa40-44fd-97ee-12b4c90844f7"
      },
      "source": [
        "for column_name in categorical_df.columns:\n",
        "    print('-'*35)\n",
        "    print(categorical_df[column_name].value_counts(),'\\n')\n",
        "    print('-'*35)"
      ],
      "execution_count": null,
      "outputs": [
        {
          "output_type": "stream",
          "name": "stdout",
          "text": [
            "-----------------------------------\n",
            "Yes    192413\n",
            "No     188696\n",
            "Name: Vehicle_Damage, dtype: int64 \n",
            "\n",
            "-----------------------------------\n",
            "-----------------------------------\n",
            "1-2 Year     200316\n",
            "< 1 Year     164786\n",
            "> 2 Years     16007\n",
            "Name: Vehicle_Age, dtype: int64 \n",
            "\n",
            "-----------------------------------\n",
            "-----------------------------------\n",
            "Male      206089\n",
            "Female    175020\n",
            "Name: Gender, dtype: int64 \n",
            "\n",
            "-----------------------------------\n"
          ]
        }
      ]
    },
    {
      "cell_type": "markdown",
      "metadata": {
        "id": "E-9wWmde0Nn4"
      },
      "source": [
        "# **Using LabelEncoder**"
      ]
    },
    {
      "cell_type": "code",
      "metadata": {
        "id": "OjK-Wl42peQS",
        "colab": {
          "base_uri": "https://localhost:8080/",
          "height": 143
        },
        "outputId": "9448e268-f94e-4766-8dec-9bf6bc88ed1e"
      },
      "source": [
        "categorical_df.head(3)"
      ],
      "execution_count": null,
      "outputs": [
        {
          "output_type": "execute_result",
          "data": {
            "text/plain": [
              "  Vehicle_Damage Vehicle_Age Gender\n",
              "0            Yes   > 2 Years   Male\n",
              "1             No    1-2 Year   Male\n",
              "2            Yes   > 2 Years   Male"
            ],
            "text/html": [
              "\n",
              "  <div id=\"df-55fda2ac-2033-4289-93a5-fd36064a8b41\">\n",
              "    <div class=\"colab-df-container\">\n",
              "      <div>\n",
              "<style scoped>\n",
              "    .dataframe tbody tr th:only-of-type {\n",
              "        vertical-align: middle;\n",
              "    }\n",
              "\n",
              "    .dataframe tbody tr th {\n",
              "        vertical-align: top;\n",
              "    }\n",
              "\n",
              "    .dataframe thead th {\n",
              "        text-align: right;\n",
              "    }\n",
              "</style>\n",
              "<table border=\"1\" class=\"dataframe\">\n",
              "  <thead>\n",
              "    <tr style=\"text-align: right;\">\n",
              "      <th></th>\n",
              "      <th>Vehicle_Damage</th>\n",
              "      <th>Vehicle_Age</th>\n",
              "      <th>Gender</th>\n",
              "    </tr>\n",
              "  </thead>\n",
              "  <tbody>\n",
              "    <tr>\n",
              "      <th>0</th>\n",
              "      <td>Yes</td>\n",
              "      <td>&gt; 2 Years</td>\n",
              "      <td>Male</td>\n",
              "    </tr>\n",
              "    <tr>\n",
              "      <th>1</th>\n",
              "      <td>No</td>\n",
              "      <td>1-2 Year</td>\n",
              "      <td>Male</td>\n",
              "    </tr>\n",
              "    <tr>\n",
              "      <th>2</th>\n",
              "      <td>Yes</td>\n",
              "      <td>&gt; 2 Years</td>\n",
              "      <td>Male</td>\n",
              "    </tr>\n",
              "  </tbody>\n",
              "</table>\n",
              "</div>\n",
              "      <button class=\"colab-df-convert\" onclick=\"convertToInteractive('df-55fda2ac-2033-4289-93a5-fd36064a8b41')\"\n",
              "              title=\"Convert this dataframe to an interactive table.\"\n",
              "              style=\"display:none;\">\n",
              "        \n",
              "  <svg xmlns=\"http://www.w3.org/2000/svg\" height=\"24px\"viewBox=\"0 0 24 24\"\n",
              "       width=\"24px\">\n",
              "    <path d=\"M0 0h24v24H0V0z\" fill=\"none\"/>\n",
              "    <path d=\"M18.56 5.44l.94 2.06.94-2.06 2.06-.94-2.06-.94-.94-2.06-.94 2.06-2.06.94zm-11 1L8.5 8.5l.94-2.06 2.06-.94-2.06-.94L8.5 2.5l-.94 2.06-2.06.94zm10 10l.94 2.06.94-2.06 2.06-.94-2.06-.94-.94-2.06-.94 2.06-2.06.94z\"/><path d=\"M17.41 7.96l-1.37-1.37c-.4-.4-.92-.59-1.43-.59-.52 0-1.04.2-1.43.59L10.3 9.45l-7.72 7.72c-.78.78-.78 2.05 0 2.83L4 21.41c.39.39.9.59 1.41.59.51 0 1.02-.2 1.41-.59l7.78-7.78 2.81-2.81c.8-.78.8-2.07 0-2.86zM5.41 20L4 18.59l7.72-7.72 1.47 1.35L5.41 20z\"/>\n",
              "  </svg>\n",
              "      </button>\n",
              "      \n",
              "  <style>\n",
              "    .colab-df-container {\n",
              "      display:flex;\n",
              "      flex-wrap:wrap;\n",
              "      gap: 12px;\n",
              "    }\n",
              "\n",
              "    .colab-df-convert {\n",
              "      background-color: #E8F0FE;\n",
              "      border: none;\n",
              "      border-radius: 50%;\n",
              "      cursor: pointer;\n",
              "      display: none;\n",
              "      fill: #1967D2;\n",
              "      height: 32px;\n",
              "      padding: 0 0 0 0;\n",
              "      width: 32px;\n",
              "    }\n",
              "\n",
              "    .colab-df-convert:hover {\n",
              "      background-color: #E2EBFA;\n",
              "      box-shadow: 0px 1px 2px rgba(60, 64, 67, 0.3), 0px 1px 3px 1px rgba(60, 64, 67, 0.15);\n",
              "      fill: #174EA6;\n",
              "    }\n",
              "\n",
              "    [theme=dark] .colab-df-convert {\n",
              "      background-color: #3B4455;\n",
              "      fill: #D2E3FC;\n",
              "    }\n",
              "\n",
              "    [theme=dark] .colab-df-convert:hover {\n",
              "      background-color: #434B5C;\n",
              "      box-shadow: 0px 1px 3px 1px rgba(0, 0, 0, 0.15);\n",
              "      filter: drop-shadow(0px 1px 2px rgba(0, 0, 0, 0.3));\n",
              "      fill: #FFFFFF;\n",
              "    }\n",
              "  </style>\n",
              "\n",
              "      <script>\n",
              "        const buttonEl =\n",
              "          document.querySelector('#df-55fda2ac-2033-4289-93a5-fd36064a8b41 button.colab-df-convert');\n",
              "        buttonEl.style.display =\n",
              "          google.colab.kernel.accessAllowed ? 'block' : 'none';\n",
              "\n",
              "        async function convertToInteractive(key) {\n",
              "          const element = document.querySelector('#df-55fda2ac-2033-4289-93a5-fd36064a8b41');\n",
              "          const dataTable =\n",
              "            await google.colab.kernel.invokeFunction('convertToInteractive',\n",
              "                                                     [key], {});\n",
              "          if (!dataTable) return;\n",
              "\n",
              "          const docLinkHtml = 'Like what you see? Visit the ' +\n",
              "            '<a target=\"_blank\" href=https://colab.research.google.com/notebooks/data_table.ipynb>data table notebook</a>'\n",
              "            + ' to learn more about interactive tables.';\n",
              "          element.innerHTML = '';\n",
              "          dataTable['output_type'] = 'display_data';\n",
              "          await google.colab.output.renderOutput(dataTable, element);\n",
              "          const docLink = document.createElement('div');\n",
              "          docLink.innerHTML = docLinkHtml;\n",
              "          element.appendChild(docLink);\n",
              "        }\n",
              "      </script>\n",
              "    </div>\n",
              "  </div>\n",
              "  "
            ]
          },
          "metadata": {},
          "execution_count": 114
        }
      ]
    },
    {
      "cell_type": "code",
      "metadata": {
        "id": "k1kDCDsWpeS9",
        "colab": {
          "base_uri": "https://localhost:8080/",
          "height": 143
        },
        "outputId": "8b7410da-7425-48db-f3dd-8d6b6ad2880a"
      },
      "source": [
        "le = LabelEncoder()\n",
        "categorical_df = categorical_df.apply(le.fit_transform)\n",
        "categorical_df.head(3)"
      ],
      "execution_count": null,
      "outputs": [
        {
          "output_type": "execute_result",
          "data": {
            "text/plain": [
              "   Vehicle_Damage  Vehicle_Age  Gender\n",
              "0               1            2       1\n",
              "1               0            0       1\n",
              "2               1            2       1"
            ],
            "text/html": [
              "\n",
              "  <div id=\"df-dd9f95ba-54af-4ab5-b5d4-43503b6fa946\">\n",
              "    <div class=\"colab-df-container\">\n",
              "      <div>\n",
              "<style scoped>\n",
              "    .dataframe tbody tr th:only-of-type {\n",
              "        vertical-align: middle;\n",
              "    }\n",
              "\n",
              "    .dataframe tbody tr th {\n",
              "        vertical-align: top;\n",
              "    }\n",
              "\n",
              "    .dataframe thead th {\n",
              "        text-align: right;\n",
              "    }\n",
              "</style>\n",
              "<table border=\"1\" class=\"dataframe\">\n",
              "  <thead>\n",
              "    <tr style=\"text-align: right;\">\n",
              "      <th></th>\n",
              "      <th>Vehicle_Damage</th>\n",
              "      <th>Vehicle_Age</th>\n",
              "      <th>Gender</th>\n",
              "    </tr>\n",
              "  </thead>\n",
              "  <tbody>\n",
              "    <tr>\n",
              "      <th>0</th>\n",
              "      <td>1</td>\n",
              "      <td>2</td>\n",
              "      <td>1</td>\n",
              "    </tr>\n",
              "    <tr>\n",
              "      <th>1</th>\n",
              "      <td>0</td>\n",
              "      <td>0</td>\n",
              "      <td>1</td>\n",
              "    </tr>\n",
              "    <tr>\n",
              "      <th>2</th>\n",
              "      <td>1</td>\n",
              "      <td>2</td>\n",
              "      <td>1</td>\n",
              "    </tr>\n",
              "  </tbody>\n",
              "</table>\n",
              "</div>\n",
              "      <button class=\"colab-df-convert\" onclick=\"convertToInteractive('df-dd9f95ba-54af-4ab5-b5d4-43503b6fa946')\"\n",
              "              title=\"Convert this dataframe to an interactive table.\"\n",
              "              style=\"display:none;\">\n",
              "        \n",
              "  <svg xmlns=\"http://www.w3.org/2000/svg\" height=\"24px\"viewBox=\"0 0 24 24\"\n",
              "       width=\"24px\">\n",
              "    <path d=\"M0 0h24v24H0V0z\" fill=\"none\"/>\n",
              "    <path d=\"M18.56 5.44l.94 2.06.94-2.06 2.06-.94-2.06-.94-.94-2.06-.94 2.06-2.06.94zm-11 1L8.5 8.5l.94-2.06 2.06-.94-2.06-.94L8.5 2.5l-.94 2.06-2.06.94zm10 10l.94 2.06.94-2.06 2.06-.94-2.06-.94-.94-2.06-.94 2.06-2.06.94z\"/><path d=\"M17.41 7.96l-1.37-1.37c-.4-.4-.92-.59-1.43-.59-.52 0-1.04.2-1.43.59L10.3 9.45l-7.72 7.72c-.78.78-.78 2.05 0 2.83L4 21.41c.39.39.9.59 1.41.59.51 0 1.02-.2 1.41-.59l7.78-7.78 2.81-2.81c.8-.78.8-2.07 0-2.86zM5.41 20L4 18.59l7.72-7.72 1.47 1.35L5.41 20z\"/>\n",
              "  </svg>\n",
              "      </button>\n",
              "      \n",
              "  <style>\n",
              "    .colab-df-container {\n",
              "      display:flex;\n",
              "      flex-wrap:wrap;\n",
              "      gap: 12px;\n",
              "    }\n",
              "\n",
              "    .colab-df-convert {\n",
              "      background-color: #E8F0FE;\n",
              "      border: none;\n",
              "      border-radius: 50%;\n",
              "      cursor: pointer;\n",
              "      display: none;\n",
              "      fill: #1967D2;\n",
              "      height: 32px;\n",
              "      padding: 0 0 0 0;\n",
              "      width: 32px;\n",
              "    }\n",
              "\n",
              "    .colab-df-convert:hover {\n",
              "      background-color: #E2EBFA;\n",
              "      box-shadow: 0px 1px 2px rgba(60, 64, 67, 0.3), 0px 1px 3px 1px rgba(60, 64, 67, 0.15);\n",
              "      fill: #174EA6;\n",
              "    }\n",
              "\n",
              "    [theme=dark] .colab-df-convert {\n",
              "      background-color: #3B4455;\n",
              "      fill: #D2E3FC;\n",
              "    }\n",
              "\n",
              "    [theme=dark] .colab-df-convert:hover {\n",
              "      background-color: #434B5C;\n",
              "      box-shadow: 0px 1px 3px 1px rgba(0, 0, 0, 0.15);\n",
              "      filter: drop-shadow(0px 1px 2px rgba(0, 0, 0, 0.3));\n",
              "      fill: #FFFFFF;\n",
              "    }\n",
              "  </style>\n",
              "\n",
              "      <script>\n",
              "        const buttonEl =\n",
              "          document.querySelector('#df-dd9f95ba-54af-4ab5-b5d4-43503b6fa946 button.colab-df-convert');\n",
              "        buttonEl.style.display =\n",
              "          google.colab.kernel.accessAllowed ? 'block' : 'none';\n",
              "\n",
              "        async function convertToInteractive(key) {\n",
              "          const element = document.querySelector('#df-dd9f95ba-54af-4ab5-b5d4-43503b6fa946');\n",
              "          const dataTable =\n",
              "            await google.colab.kernel.invokeFunction('convertToInteractive',\n",
              "                                                     [key], {});\n",
              "          if (!dataTable) return;\n",
              "\n",
              "          const docLinkHtml = 'Like what you see? Visit the ' +\n",
              "            '<a target=\"_blank\" href=https://colab.research.google.com/notebooks/data_table.ipynb>data table notebook</a>'\n",
              "            + ' to learn more about interactive tables.';\n",
              "          element.innerHTML = '';\n",
              "          dataTable['output_type'] = 'display_data';\n",
              "          await google.colab.output.renderOutput(dataTable, element);\n",
              "          const docLink = document.createElement('div');\n",
              "          docLink.innerHTML = docLinkHtml;\n",
              "          element.appendChild(docLink);\n",
              "        }\n",
              "      </script>\n",
              "    </div>\n",
              "  </div>\n",
              "  "
            ]
          },
          "metadata": {},
          "execution_count": 115
        }
      ]
    },
    {
      "cell_type": "code",
      "metadata": {
        "id": "YeGYyQoIpeVv",
        "colab": {
          "base_uri": "https://localhost:8080/"
        },
        "outputId": "56bfdf0a-fda4-44ee-da19-2423691f587e"
      },
      "source": [
        "## Let's check the classes of label encoder\n",
        "le.classes_"
      ],
      "execution_count": null,
      "outputs": [
        {
          "output_type": "execute_result",
          "data": {
            "text/plain": [
              "array(['Female', 'Male'], dtype=object)"
            ]
          },
          "metadata": {},
          "execution_count": 116
        }
      ]
    },
    {
      "cell_type": "code",
      "metadata": {
        "id": "Flo8aaxRpeX7",
        "colab": {
          "base_uri": "https://localhost:8080/"
        },
        "outputId": "f18fe468-4b3a-4834-e820-7dbb78178ca1"
      },
      "source": [
        "##Let's use inverse_transform\n",
        "le.inverse_transform([1])"
      ],
      "execution_count": null,
      "outputs": [
        {
          "output_type": "execute_result",
          "data": {
            "text/plain": [
              "array(['Male'], dtype=object)"
            ]
          },
          "metadata": {},
          "execution_count": 117
        }
      ]
    },
    {
      "cell_type": "code",
      "metadata": {
        "id": "aXQ6PKmVpeay",
        "colab": {
          "base_uri": "https://localhost:8080/",
          "height": 206
        },
        "outputId": "42ca97b6-52e7-4e84-978a-a5d6666d9586"
      },
      "source": [
        "categorical_df_new = categorical_df\n",
        "categorical_df_new.head()"
      ],
      "execution_count": null,
      "outputs": [
        {
          "output_type": "execute_result",
          "data": {
            "text/plain": [
              "   Vehicle_Damage  Vehicle_Age  Gender\n",
              "0               1            2       1\n",
              "1               0            0       1\n",
              "2               1            2       1\n",
              "3               0            1       1\n",
              "4               0            1       0"
            ],
            "text/html": [
              "\n",
              "  <div id=\"df-ac37f8f7-8cfb-4dac-bd57-c23f5083107f\">\n",
              "    <div class=\"colab-df-container\">\n",
              "      <div>\n",
              "<style scoped>\n",
              "    .dataframe tbody tr th:only-of-type {\n",
              "        vertical-align: middle;\n",
              "    }\n",
              "\n",
              "    .dataframe tbody tr th {\n",
              "        vertical-align: top;\n",
              "    }\n",
              "\n",
              "    .dataframe thead th {\n",
              "        text-align: right;\n",
              "    }\n",
              "</style>\n",
              "<table border=\"1\" class=\"dataframe\">\n",
              "  <thead>\n",
              "    <tr style=\"text-align: right;\">\n",
              "      <th></th>\n",
              "      <th>Vehicle_Damage</th>\n",
              "      <th>Vehicle_Age</th>\n",
              "      <th>Gender</th>\n",
              "    </tr>\n",
              "  </thead>\n",
              "  <tbody>\n",
              "    <tr>\n",
              "      <th>0</th>\n",
              "      <td>1</td>\n",
              "      <td>2</td>\n",
              "      <td>1</td>\n",
              "    </tr>\n",
              "    <tr>\n",
              "      <th>1</th>\n",
              "      <td>0</td>\n",
              "      <td>0</td>\n",
              "      <td>1</td>\n",
              "    </tr>\n",
              "    <tr>\n",
              "      <th>2</th>\n",
              "      <td>1</td>\n",
              "      <td>2</td>\n",
              "      <td>1</td>\n",
              "    </tr>\n",
              "    <tr>\n",
              "      <th>3</th>\n",
              "      <td>0</td>\n",
              "      <td>1</td>\n",
              "      <td>1</td>\n",
              "    </tr>\n",
              "    <tr>\n",
              "      <th>4</th>\n",
              "      <td>0</td>\n",
              "      <td>1</td>\n",
              "      <td>0</td>\n",
              "    </tr>\n",
              "  </tbody>\n",
              "</table>\n",
              "</div>\n",
              "      <button class=\"colab-df-convert\" onclick=\"convertToInteractive('df-ac37f8f7-8cfb-4dac-bd57-c23f5083107f')\"\n",
              "              title=\"Convert this dataframe to an interactive table.\"\n",
              "              style=\"display:none;\">\n",
              "        \n",
              "  <svg xmlns=\"http://www.w3.org/2000/svg\" height=\"24px\"viewBox=\"0 0 24 24\"\n",
              "       width=\"24px\">\n",
              "    <path d=\"M0 0h24v24H0V0z\" fill=\"none\"/>\n",
              "    <path d=\"M18.56 5.44l.94 2.06.94-2.06 2.06-.94-2.06-.94-.94-2.06-.94 2.06-2.06.94zm-11 1L8.5 8.5l.94-2.06 2.06-.94-2.06-.94L8.5 2.5l-.94 2.06-2.06.94zm10 10l.94 2.06.94-2.06 2.06-.94-2.06-.94-.94-2.06-.94 2.06-2.06.94z\"/><path d=\"M17.41 7.96l-1.37-1.37c-.4-.4-.92-.59-1.43-.59-.52 0-1.04.2-1.43.59L10.3 9.45l-7.72 7.72c-.78.78-.78 2.05 0 2.83L4 21.41c.39.39.9.59 1.41.59.51 0 1.02-.2 1.41-.59l7.78-7.78 2.81-2.81c.8-.78.8-2.07 0-2.86zM5.41 20L4 18.59l7.72-7.72 1.47 1.35L5.41 20z\"/>\n",
              "  </svg>\n",
              "      </button>\n",
              "      \n",
              "  <style>\n",
              "    .colab-df-container {\n",
              "      display:flex;\n",
              "      flex-wrap:wrap;\n",
              "      gap: 12px;\n",
              "    }\n",
              "\n",
              "    .colab-df-convert {\n",
              "      background-color: #E8F0FE;\n",
              "      border: none;\n",
              "      border-radius: 50%;\n",
              "      cursor: pointer;\n",
              "      display: none;\n",
              "      fill: #1967D2;\n",
              "      height: 32px;\n",
              "      padding: 0 0 0 0;\n",
              "      width: 32px;\n",
              "    }\n",
              "\n",
              "    .colab-df-convert:hover {\n",
              "      background-color: #E2EBFA;\n",
              "      box-shadow: 0px 1px 2px rgba(60, 64, 67, 0.3), 0px 1px 3px 1px rgba(60, 64, 67, 0.15);\n",
              "      fill: #174EA6;\n",
              "    }\n",
              "\n",
              "    [theme=dark] .colab-df-convert {\n",
              "      background-color: #3B4455;\n",
              "      fill: #D2E3FC;\n",
              "    }\n",
              "\n",
              "    [theme=dark] .colab-df-convert:hover {\n",
              "      background-color: #434B5C;\n",
              "      box-shadow: 0px 1px 3px 1px rgba(0, 0, 0, 0.15);\n",
              "      filter: drop-shadow(0px 1px 2px rgba(0, 0, 0, 0.3));\n",
              "      fill: #FFFFFF;\n",
              "    }\n",
              "  </style>\n",
              "\n",
              "      <script>\n",
              "        const buttonEl =\n",
              "          document.querySelector('#df-ac37f8f7-8cfb-4dac-bd57-c23f5083107f button.colab-df-convert');\n",
              "        buttonEl.style.display =\n",
              "          google.colab.kernel.accessAllowed ? 'block' : 'none';\n",
              "\n",
              "        async function convertToInteractive(key) {\n",
              "          const element = document.querySelector('#df-ac37f8f7-8cfb-4dac-bd57-c23f5083107f');\n",
              "          const dataTable =\n",
              "            await google.colab.kernel.invokeFunction('convertToInteractive',\n",
              "                                                     [key], {});\n",
              "          if (!dataTable) return;\n",
              "\n",
              "          const docLinkHtml = 'Like what you see? Visit the ' +\n",
              "            '<a target=\"_blank\" href=https://colab.research.google.com/notebooks/data_table.ipynb>data table notebook</a>'\n",
              "            + ' to learn more about interactive tables.';\n",
              "          element.innerHTML = '';\n",
              "          dataTable['output_type'] = 'display_data';\n",
              "          await google.colab.output.renderOutput(dataTable, element);\n",
              "          const docLink = document.createElement('div');\n",
              "          docLink.innerHTML = docLinkHtml;\n",
              "          element.appendChild(docLink);\n",
              "        }\n",
              "      </script>\n",
              "    </div>\n",
              "  </div>\n",
              "  "
            ]
          },
          "metadata": {},
          "execution_count": 118
        }
      ]
    },
    {
      "cell_type": "markdown",
      "metadata": {
        "id": "LHm-g6500c7j"
      },
      "source": [
        "Let's make **new df** by merging numerical_df DataFrame with **categorical_df_new**"
      ]
    },
    {
      "cell_type": "code",
      "metadata": {
        "id": "b3TJ5SVdpedc"
      },
      "source": [
        "df = pd.merge( numerical_df , categorical_df_new , left_index = True , right_index = True )"
      ],
      "execution_count": null,
      "outputs": []
    },
    {
      "cell_type": "code",
      "metadata": {
        "id": "9YQlvSV6pegW",
        "colab": {
          "base_uri": "https://localhost:8080/",
          "height": 426
        },
        "outputId": "803040f0-e233-4541-d9eb-f151237c7d38"
      },
      "source": [
        "df.head(1).T"
      ],
      "execution_count": null,
      "outputs": [
        {
          "output_type": "execute_result",
          "data": {
            "text/plain": [
              "                            0\n",
              "id                        1.0\n",
              "Age                      44.0\n",
              "Driving_License           1.0\n",
              "Region_Code              28.0\n",
              "Previously_Insured        0.0\n",
              "Annual_Premium        40454.0\n",
              "Policy_Sales_Channel     26.0\n",
              "Vintage                 217.0\n",
              "Response                  1.0\n",
              "Vehicle_Damage            1.0\n",
              "Vehicle_Age               2.0\n",
              "Gender                    1.0"
            ],
            "text/html": [
              "\n",
              "  <div id=\"df-f3563922-1a18-4f9a-9260-ed851ae09450\">\n",
              "    <div class=\"colab-df-container\">\n",
              "      <div>\n",
              "<style scoped>\n",
              "    .dataframe tbody tr th:only-of-type {\n",
              "        vertical-align: middle;\n",
              "    }\n",
              "\n",
              "    .dataframe tbody tr th {\n",
              "        vertical-align: top;\n",
              "    }\n",
              "\n",
              "    .dataframe thead th {\n",
              "        text-align: right;\n",
              "    }\n",
              "</style>\n",
              "<table border=\"1\" class=\"dataframe\">\n",
              "  <thead>\n",
              "    <tr style=\"text-align: right;\">\n",
              "      <th></th>\n",
              "      <th>0</th>\n",
              "    </tr>\n",
              "  </thead>\n",
              "  <tbody>\n",
              "    <tr>\n",
              "      <th>id</th>\n",
              "      <td>1.0</td>\n",
              "    </tr>\n",
              "    <tr>\n",
              "      <th>Age</th>\n",
              "      <td>44.0</td>\n",
              "    </tr>\n",
              "    <tr>\n",
              "      <th>Driving_License</th>\n",
              "      <td>1.0</td>\n",
              "    </tr>\n",
              "    <tr>\n",
              "      <th>Region_Code</th>\n",
              "      <td>28.0</td>\n",
              "    </tr>\n",
              "    <tr>\n",
              "      <th>Previously_Insured</th>\n",
              "      <td>0.0</td>\n",
              "    </tr>\n",
              "    <tr>\n",
              "      <th>Annual_Premium</th>\n",
              "      <td>40454.0</td>\n",
              "    </tr>\n",
              "    <tr>\n",
              "      <th>Policy_Sales_Channel</th>\n",
              "      <td>26.0</td>\n",
              "    </tr>\n",
              "    <tr>\n",
              "      <th>Vintage</th>\n",
              "      <td>217.0</td>\n",
              "    </tr>\n",
              "    <tr>\n",
              "      <th>Response</th>\n",
              "      <td>1.0</td>\n",
              "    </tr>\n",
              "    <tr>\n",
              "      <th>Vehicle_Damage</th>\n",
              "      <td>1.0</td>\n",
              "    </tr>\n",
              "    <tr>\n",
              "      <th>Vehicle_Age</th>\n",
              "      <td>2.0</td>\n",
              "    </tr>\n",
              "    <tr>\n",
              "      <th>Gender</th>\n",
              "      <td>1.0</td>\n",
              "    </tr>\n",
              "  </tbody>\n",
              "</table>\n",
              "</div>\n",
              "      <button class=\"colab-df-convert\" onclick=\"convertToInteractive('df-f3563922-1a18-4f9a-9260-ed851ae09450')\"\n",
              "              title=\"Convert this dataframe to an interactive table.\"\n",
              "              style=\"display:none;\">\n",
              "        \n",
              "  <svg xmlns=\"http://www.w3.org/2000/svg\" height=\"24px\"viewBox=\"0 0 24 24\"\n",
              "       width=\"24px\">\n",
              "    <path d=\"M0 0h24v24H0V0z\" fill=\"none\"/>\n",
              "    <path d=\"M18.56 5.44l.94 2.06.94-2.06 2.06-.94-2.06-.94-.94-2.06-.94 2.06-2.06.94zm-11 1L8.5 8.5l.94-2.06 2.06-.94-2.06-.94L8.5 2.5l-.94 2.06-2.06.94zm10 10l.94 2.06.94-2.06 2.06-.94-2.06-.94-.94-2.06-.94 2.06-2.06.94z\"/><path d=\"M17.41 7.96l-1.37-1.37c-.4-.4-.92-.59-1.43-.59-.52 0-1.04.2-1.43.59L10.3 9.45l-7.72 7.72c-.78.78-.78 2.05 0 2.83L4 21.41c.39.39.9.59 1.41.59.51 0 1.02-.2 1.41-.59l7.78-7.78 2.81-2.81c.8-.78.8-2.07 0-2.86zM5.41 20L4 18.59l7.72-7.72 1.47 1.35L5.41 20z\"/>\n",
              "  </svg>\n",
              "      </button>\n",
              "      \n",
              "  <style>\n",
              "    .colab-df-container {\n",
              "      display:flex;\n",
              "      flex-wrap:wrap;\n",
              "      gap: 12px;\n",
              "    }\n",
              "\n",
              "    .colab-df-convert {\n",
              "      background-color: #E8F0FE;\n",
              "      border: none;\n",
              "      border-radius: 50%;\n",
              "      cursor: pointer;\n",
              "      display: none;\n",
              "      fill: #1967D2;\n",
              "      height: 32px;\n",
              "      padding: 0 0 0 0;\n",
              "      width: 32px;\n",
              "    }\n",
              "\n",
              "    .colab-df-convert:hover {\n",
              "      background-color: #E2EBFA;\n",
              "      box-shadow: 0px 1px 2px rgba(60, 64, 67, 0.3), 0px 1px 3px 1px rgba(60, 64, 67, 0.15);\n",
              "      fill: #174EA6;\n",
              "    }\n",
              "\n",
              "    [theme=dark] .colab-df-convert {\n",
              "      background-color: #3B4455;\n",
              "      fill: #D2E3FC;\n",
              "    }\n",
              "\n",
              "    [theme=dark] .colab-df-convert:hover {\n",
              "      background-color: #434B5C;\n",
              "      box-shadow: 0px 1px 3px 1px rgba(0, 0, 0, 0.15);\n",
              "      filter: drop-shadow(0px 1px 2px rgba(0, 0, 0, 0.3));\n",
              "      fill: #FFFFFF;\n",
              "    }\n",
              "  </style>\n",
              "\n",
              "      <script>\n",
              "        const buttonEl =\n",
              "          document.querySelector('#df-f3563922-1a18-4f9a-9260-ed851ae09450 button.colab-df-convert');\n",
              "        buttonEl.style.display =\n",
              "          google.colab.kernel.accessAllowed ? 'block' : 'none';\n",
              "\n",
              "        async function convertToInteractive(key) {\n",
              "          const element = document.querySelector('#df-f3563922-1a18-4f9a-9260-ed851ae09450');\n",
              "          const dataTable =\n",
              "            await google.colab.kernel.invokeFunction('convertToInteractive',\n",
              "                                                     [key], {});\n",
              "          if (!dataTable) return;\n",
              "\n",
              "          const docLinkHtml = 'Like what you see? Visit the ' +\n",
              "            '<a target=\"_blank\" href=https://colab.research.google.com/notebooks/data_table.ipynb>data table notebook</a>'\n",
              "            + ' to learn more about interactive tables.';\n",
              "          element.innerHTML = '';\n",
              "          dataTable['output_type'] = 'display_data';\n",
              "          await google.colab.output.renderOutput(dataTable, element);\n",
              "          const docLink = document.createElement('div');\n",
              "          docLink.innerHTML = docLinkHtml;\n",
              "          element.appendChild(docLink);\n",
              "        }\n",
              "      </script>\n",
              "    </div>\n",
              "  </div>\n",
              "  "
            ]
          },
          "metadata": {},
          "execution_count": 120
        }
      ]
    },
    {
      "cell_type": "code",
      "metadata": {
        "id": "zoca7ZYhpei_",
        "colab": {
          "base_uri": "https://localhost:8080/",
          "height": 112
        },
        "outputId": "a3b22b23-cfb7-4dba-bd22-0b6984ebfbd3"
      },
      "source": [
        "df = df.drop( axis=1 , columns = ['id'])\n",
        "df.head(2)"
      ],
      "execution_count": null,
      "outputs": [
        {
          "output_type": "execute_result",
          "data": {
            "text/plain": [
              "   Age  Driving_License  Region_Code  Previously_Insured  Annual_Premium  \\\n",
              "0   44                1         28.0                   0         40454.0   \n",
              "1   76                1          3.0                   0         33536.0   \n",
              "\n",
              "   Policy_Sales_Channel  Vintage  Response  Vehicle_Damage  Vehicle_Age  \\\n",
              "0                  26.0      217         1               1            2   \n",
              "1                  26.0      183         0               0            0   \n",
              "\n",
              "   Gender  \n",
              "0       1  \n",
              "1       1  "
            ],
            "text/html": [
              "\n",
              "  <div id=\"df-adcc5c54-a5b7-4537-b978-d9e394828ef3\">\n",
              "    <div class=\"colab-df-container\">\n",
              "      <div>\n",
              "<style scoped>\n",
              "    .dataframe tbody tr th:only-of-type {\n",
              "        vertical-align: middle;\n",
              "    }\n",
              "\n",
              "    .dataframe tbody tr th {\n",
              "        vertical-align: top;\n",
              "    }\n",
              "\n",
              "    .dataframe thead th {\n",
              "        text-align: right;\n",
              "    }\n",
              "</style>\n",
              "<table border=\"1\" class=\"dataframe\">\n",
              "  <thead>\n",
              "    <tr style=\"text-align: right;\">\n",
              "      <th></th>\n",
              "      <th>Age</th>\n",
              "      <th>Driving_License</th>\n",
              "      <th>Region_Code</th>\n",
              "      <th>Previously_Insured</th>\n",
              "      <th>Annual_Premium</th>\n",
              "      <th>Policy_Sales_Channel</th>\n",
              "      <th>Vintage</th>\n",
              "      <th>Response</th>\n",
              "      <th>Vehicle_Damage</th>\n",
              "      <th>Vehicle_Age</th>\n",
              "      <th>Gender</th>\n",
              "    </tr>\n",
              "  </thead>\n",
              "  <tbody>\n",
              "    <tr>\n",
              "      <th>0</th>\n",
              "      <td>44</td>\n",
              "      <td>1</td>\n",
              "      <td>28.0</td>\n",
              "      <td>0</td>\n",
              "      <td>40454.0</td>\n",
              "      <td>26.0</td>\n",
              "      <td>217</td>\n",
              "      <td>1</td>\n",
              "      <td>1</td>\n",
              "      <td>2</td>\n",
              "      <td>1</td>\n",
              "    </tr>\n",
              "    <tr>\n",
              "      <th>1</th>\n",
              "      <td>76</td>\n",
              "      <td>1</td>\n",
              "      <td>3.0</td>\n",
              "      <td>0</td>\n",
              "      <td>33536.0</td>\n",
              "      <td>26.0</td>\n",
              "      <td>183</td>\n",
              "      <td>0</td>\n",
              "      <td>0</td>\n",
              "      <td>0</td>\n",
              "      <td>1</td>\n",
              "    </tr>\n",
              "  </tbody>\n",
              "</table>\n",
              "</div>\n",
              "      <button class=\"colab-df-convert\" onclick=\"convertToInteractive('df-adcc5c54-a5b7-4537-b978-d9e394828ef3')\"\n",
              "              title=\"Convert this dataframe to an interactive table.\"\n",
              "              style=\"display:none;\">\n",
              "        \n",
              "  <svg xmlns=\"http://www.w3.org/2000/svg\" height=\"24px\"viewBox=\"0 0 24 24\"\n",
              "       width=\"24px\">\n",
              "    <path d=\"M0 0h24v24H0V0z\" fill=\"none\"/>\n",
              "    <path d=\"M18.56 5.44l.94 2.06.94-2.06 2.06-.94-2.06-.94-.94-2.06-.94 2.06-2.06.94zm-11 1L8.5 8.5l.94-2.06 2.06-.94-2.06-.94L8.5 2.5l-.94 2.06-2.06.94zm10 10l.94 2.06.94-2.06 2.06-.94-2.06-.94-.94-2.06-.94 2.06-2.06.94z\"/><path d=\"M17.41 7.96l-1.37-1.37c-.4-.4-.92-.59-1.43-.59-.52 0-1.04.2-1.43.59L10.3 9.45l-7.72 7.72c-.78.78-.78 2.05 0 2.83L4 21.41c.39.39.9.59 1.41.59.51 0 1.02-.2 1.41-.59l7.78-7.78 2.81-2.81c.8-.78.8-2.07 0-2.86zM5.41 20L4 18.59l7.72-7.72 1.47 1.35L5.41 20z\"/>\n",
              "  </svg>\n",
              "      </button>\n",
              "      \n",
              "  <style>\n",
              "    .colab-df-container {\n",
              "      display:flex;\n",
              "      flex-wrap:wrap;\n",
              "      gap: 12px;\n",
              "    }\n",
              "\n",
              "    .colab-df-convert {\n",
              "      background-color: #E8F0FE;\n",
              "      border: none;\n",
              "      border-radius: 50%;\n",
              "      cursor: pointer;\n",
              "      display: none;\n",
              "      fill: #1967D2;\n",
              "      height: 32px;\n",
              "      padding: 0 0 0 0;\n",
              "      width: 32px;\n",
              "    }\n",
              "\n",
              "    .colab-df-convert:hover {\n",
              "      background-color: #E2EBFA;\n",
              "      box-shadow: 0px 1px 2px rgba(60, 64, 67, 0.3), 0px 1px 3px 1px rgba(60, 64, 67, 0.15);\n",
              "      fill: #174EA6;\n",
              "    }\n",
              "\n",
              "    [theme=dark] .colab-df-convert {\n",
              "      background-color: #3B4455;\n",
              "      fill: #D2E3FC;\n",
              "    }\n",
              "\n",
              "    [theme=dark] .colab-df-convert:hover {\n",
              "      background-color: #434B5C;\n",
              "      box-shadow: 0px 1px 3px 1px rgba(0, 0, 0, 0.15);\n",
              "      filter: drop-shadow(0px 1px 2px rgba(0, 0, 0, 0.3));\n",
              "      fill: #FFFFFF;\n",
              "    }\n",
              "  </style>\n",
              "\n",
              "      <script>\n",
              "        const buttonEl =\n",
              "          document.querySelector('#df-adcc5c54-a5b7-4537-b978-d9e394828ef3 button.colab-df-convert');\n",
              "        buttonEl.style.display =\n",
              "          google.colab.kernel.accessAllowed ? 'block' : 'none';\n",
              "\n",
              "        async function convertToInteractive(key) {\n",
              "          const element = document.querySelector('#df-adcc5c54-a5b7-4537-b978-d9e394828ef3');\n",
              "          const dataTable =\n",
              "            await google.colab.kernel.invokeFunction('convertToInteractive',\n",
              "                                                     [key], {});\n",
              "          if (!dataTable) return;\n",
              "\n",
              "          const docLinkHtml = 'Like what you see? Visit the ' +\n",
              "            '<a target=\"_blank\" href=https://colab.research.google.com/notebooks/data_table.ipynb>data table notebook</a>'\n",
              "            + ' to learn more about interactive tables.';\n",
              "          element.innerHTML = '';\n",
              "          dataTable['output_type'] = 'display_data';\n",
              "          await google.colab.output.renderOutput(dataTable, element);\n",
              "          const docLink = document.createElement('div');\n",
              "          docLink.innerHTML = docLinkHtml;\n",
              "          element.appendChild(docLink);\n",
              "        }\n",
              "      </script>\n",
              "    </div>\n",
              "  </div>\n",
              "  "
            ]
          },
          "metadata": {},
          "execution_count": 121
        }
      ]
    },
    {
      "cell_type": "code",
      "metadata": {
        "id": "jKIJiY9Cpelb",
        "colab": {
          "base_uri": "https://localhost:8080/",
          "height": 429
        },
        "outputId": "6ab342f3-97fa-490b-e379-0e4c94ae77e3"
      },
      "source": [
        "DataInfoAll(df)"
      ],
      "execution_count": null,
      "outputs": [
        {
          "output_type": "stream",
          "name": "stdout",
          "text": [
            "Dataset Shape: (381109, 11)\n",
            "---------------------------------------------------------------------------\n"
          ]
        },
        {
          "output_type": "execute_result",
          "data": {
            "text/plain": [
              "                    Name   dtypes  Missing  Uniques  First Value  Second Value\n",
              "0                    Age    int64        0       66         44.0          76.0\n",
              "1        Driving_License    int64        0        2          1.0           1.0\n",
              "2            Region_Code  float64        0       53         28.0           3.0\n",
              "3     Previously_Insured    int64        0        2          0.0           0.0\n",
              "4         Annual_Premium  float64        0    41667      40454.0       33536.0\n",
              "5   Policy_Sales_Channel  float64        0      155         26.0          26.0\n",
              "6                Vintage    int64        0      290        217.0         183.0\n",
              "7               Response    int64        0        2          1.0           0.0\n",
              "8         Vehicle_Damage    int64        0        2          1.0           0.0\n",
              "9            Vehicle_Age    int64        0        3          2.0           0.0\n",
              "10                Gender    int64        0        2          1.0           1.0"
            ],
            "text/html": [
              "\n",
              "  <div id=\"df-f02e7dd6-891b-4977-8b38-b7b1ff4d1122\">\n",
              "    <div class=\"colab-df-container\">\n",
              "      <div>\n",
              "<style scoped>\n",
              "    .dataframe tbody tr th:only-of-type {\n",
              "        vertical-align: middle;\n",
              "    }\n",
              "\n",
              "    .dataframe tbody tr th {\n",
              "        vertical-align: top;\n",
              "    }\n",
              "\n",
              "    .dataframe thead th {\n",
              "        text-align: right;\n",
              "    }\n",
              "</style>\n",
              "<table border=\"1\" class=\"dataframe\">\n",
              "  <thead>\n",
              "    <tr style=\"text-align: right;\">\n",
              "      <th></th>\n",
              "      <th>Name</th>\n",
              "      <th>dtypes</th>\n",
              "      <th>Missing</th>\n",
              "      <th>Uniques</th>\n",
              "      <th>First Value</th>\n",
              "      <th>Second Value</th>\n",
              "    </tr>\n",
              "  </thead>\n",
              "  <tbody>\n",
              "    <tr>\n",
              "      <th>0</th>\n",
              "      <td>Age</td>\n",
              "      <td>int64</td>\n",
              "      <td>0</td>\n",
              "      <td>66</td>\n",
              "      <td>44.0</td>\n",
              "      <td>76.0</td>\n",
              "    </tr>\n",
              "    <tr>\n",
              "      <th>1</th>\n",
              "      <td>Driving_License</td>\n",
              "      <td>int64</td>\n",
              "      <td>0</td>\n",
              "      <td>2</td>\n",
              "      <td>1.0</td>\n",
              "      <td>1.0</td>\n",
              "    </tr>\n",
              "    <tr>\n",
              "      <th>2</th>\n",
              "      <td>Region_Code</td>\n",
              "      <td>float64</td>\n",
              "      <td>0</td>\n",
              "      <td>53</td>\n",
              "      <td>28.0</td>\n",
              "      <td>3.0</td>\n",
              "    </tr>\n",
              "    <tr>\n",
              "      <th>3</th>\n",
              "      <td>Previously_Insured</td>\n",
              "      <td>int64</td>\n",
              "      <td>0</td>\n",
              "      <td>2</td>\n",
              "      <td>0.0</td>\n",
              "      <td>0.0</td>\n",
              "    </tr>\n",
              "    <tr>\n",
              "      <th>4</th>\n",
              "      <td>Annual_Premium</td>\n",
              "      <td>float64</td>\n",
              "      <td>0</td>\n",
              "      <td>41667</td>\n",
              "      <td>40454.0</td>\n",
              "      <td>33536.0</td>\n",
              "    </tr>\n",
              "    <tr>\n",
              "      <th>5</th>\n",
              "      <td>Policy_Sales_Channel</td>\n",
              "      <td>float64</td>\n",
              "      <td>0</td>\n",
              "      <td>155</td>\n",
              "      <td>26.0</td>\n",
              "      <td>26.0</td>\n",
              "    </tr>\n",
              "    <tr>\n",
              "      <th>6</th>\n",
              "      <td>Vintage</td>\n",
              "      <td>int64</td>\n",
              "      <td>0</td>\n",
              "      <td>290</td>\n",
              "      <td>217.0</td>\n",
              "      <td>183.0</td>\n",
              "    </tr>\n",
              "    <tr>\n",
              "      <th>7</th>\n",
              "      <td>Response</td>\n",
              "      <td>int64</td>\n",
              "      <td>0</td>\n",
              "      <td>2</td>\n",
              "      <td>1.0</td>\n",
              "      <td>0.0</td>\n",
              "    </tr>\n",
              "    <tr>\n",
              "      <th>8</th>\n",
              "      <td>Vehicle_Damage</td>\n",
              "      <td>int64</td>\n",
              "      <td>0</td>\n",
              "      <td>2</td>\n",
              "      <td>1.0</td>\n",
              "      <td>0.0</td>\n",
              "    </tr>\n",
              "    <tr>\n",
              "      <th>9</th>\n",
              "      <td>Vehicle_Age</td>\n",
              "      <td>int64</td>\n",
              "      <td>0</td>\n",
              "      <td>3</td>\n",
              "      <td>2.0</td>\n",
              "      <td>0.0</td>\n",
              "    </tr>\n",
              "    <tr>\n",
              "      <th>10</th>\n",
              "      <td>Gender</td>\n",
              "      <td>int64</td>\n",
              "      <td>0</td>\n",
              "      <td>2</td>\n",
              "      <td>1.0</td>\n",
              "      <td>1.0</td>\n",
              "    </tr>\n",
              "  </tbody>\n",
              "</table>\n",
              "</div>\n",
              "      <button class=\"colab-df-convert\" onclick=\"convertToInteractive('df-f02e7dd6-891b-4977-8b38-b7b1ff4d1122')\"\n",
              "              title=\"Convert this dataframe to an interactive table.\"\n",
              "              style=\"display:none;\">\n",
              "        \n",
              "  <svg xmlns=\"http://www.w3.org/2000/svg\" height=\"24px\"viewBox=\"0 0 24 24\"\n",
              "       width=\"24px\">\n",
              "    <path d=\"M0 0h24v24H0V0z\" fill=\"none\"/>\n",
              "    <path d=\"M18.56 5.44l.94 2.06.94-2.06 2.06-.94-2.06-.94-.94-2.06-.94 2.06-2.06.94zm-11 1L8.5 8.5l.94-2.06 2.06-.94-2.06-.94L8.5 2.5l-.94 2.06-2.06.94zm10 10l.94 2.06.94-2.06 2.06-.94-2.06-.94-.94-2.06-.94 2.06-2.06.94z\"/><path d=\"M17.41 7.96l-1.37-1.37c-.4-.4-.92-.59-1.43-.59-.52 0-1.04.2-1.43.59L10.3 9.45l-7.72 7.72c-.78.78-.78 2.05 0 2.83L4 21.41c.39.39.9.59 1.41.59.51 0 1.02-.2 1.41-.59l7.78-7.78 2.81-2.81c.8-.78.8-2.07 0-2.86zM5.41 20L4 18.59l7.72-7.72 1.47 1.35L5.41 20z\"/>\n",
              "  </svg>\n",
              "      </button>\n",
              "      \n",
              "  <style>\n",
              "    .colab-df-container {\n",
              "      display:flex;\n",
              "      flex-wrap:wrap;\n",
              "      gap: 12px;\n",
              "    }\n",
              "\n",
              "    .colab-df-convert {\n",
              "      background-color: #E8F0FE;\n",
              "      border: none;\n",
              "      border-radius: 50%;\n",
              "      cursor: pointer;\n",
              "      display: none;\n",
              "      fill: #1967D2;\n",
              "      height: 32px;\n",
              "      padding: 0 0 0 0;\n",
              "      width: 32px;\n",
              "    }\n",
              "\n",
              "    .colab-df-convert:hover {\n",
              "      background-color: #E2EBFA;\n",
              "      box-shadow: 0px 1px 2px rgba(60, 64, 67, 0.3), 0px 1px 3px 1px rgba(60, 64, 67, 0.15);\n",
              "      fill: #174EA6;\n",
              "    }\n",
              "\n",
              "    [theme=dark] .colab-df-convert {\n",
              "      background-color: #3B4455;\n",
              "      fill: #D2E3FC;\n",
              "    }\n",
              "\n",
              "    [theme=dark] .colab-df-convert:hover {\n",
              "      background-color: #434B5C;\n",
              "      box-shadow: 0px 1px 3px 1px rgba(0, 0, 0, 0.15);\n",
              "      filter: drop-shadow(0px 1px 2px rgba(0, 0, 0, 0.3));\n",
              "      fill: #FFFFFF;\n",
              "    }\n",
              "  </style>\n",
              "\n",
              "      <script>\n",
              "        const buttonEl =\n",
              "          document.querySelector('#df-f02e7dd6-891b-4977-8b38-b7b1ff4d1122 button.colab-df-convert');\n",
              "        buttonEl.style.display =\n",
              "          google.colab.kernel.accessAllowed ? 'block' : 'none';\n",
              "\n",
              "        async function convertToInteractive(key) {\n",
              "          const element = document.querySelector('#df-f02e7dd6-891b-4977-8b38-b7b1ff4d1122');\n",
              "          const dataTable =\n",
              "            await google.colab.kernel.invokeFunction('convertToInteractive',\n",
              "                                                     [key], {});\n",
              "          if (!dataTable) return;\n",
              "\n",
              "          const docLinkHtml = 'Like what you see? Visit the ' +\n",
              "            '<a target=\"_blank\" href=https://colab.research.google.com/notebooks/data_table.ipynb>data table notebook</a>'\n",
              "            + ' to learn more about interactive tables.';\n",
              "          element.innerHTML = '';\n",
              "          dataTable['output_type'] = 'display_data';\n",
              "          await google.colab.output.renderOutput(dataTable, element);\n",
              "          const docLink = document.createElement('div');\n",
              "          docLink.innerHTML = docLinkHtml;\n",
              "          element.appendChild(docLink);\n",
              "        }\n",
              "      </script>\n",
              "    </div>\n",
              "  </div>\n",
              "  "
            ]
          },
          "metadata": {},
          "execution_count": 122
        }
      ]
    },
    {
      "cell_type": "markdown",
      "metadata": {
        "id": "bvVm5whn04eq"
      },
      "source": [
        "# **Seprating dependent and independent variables**"
      ]
    },
    {
      "cell_type": "code",
      "metadata": {
        "id": "BmHSz6fqpenz"
      },
      "source": [
        "x = df.drop(columns = ['Response'])\n",
        "y = df.Response"
      ],
      "execution_count": null,
      "outputs": []
    },
    {
      "cell_type": "markdown",
      "metadata": {
        "id": "STgMXQQt0_v9"
      },
      "source": [
        "# **Feature Selection**"
      ]
    },
    {
      "cell_type": "code",
      "metadata": {
        "id": "GOCYzRtLpeqc",
        "colab": {
          "base_uri": "https://localhost:8080/",
          "height": 789
        },
        "outputId": "8abcb0f2-6953-4020-f9e8-d805dde23b87"
      },
      "source": [
        "# Building the model\n",
        "from sklearn.ensemble import ExtraTreesClassifier\n",
        "extra_tree_forest = ExtraTreesClassifier(n_estimators = 5,criterion ='entropy', max_features = 2)\n",
        "\n",
        "# Training the model\n",
        "extra_tree_forest.fit(x, y)\n",
        "\n",
        "# Computing the importance of each feature\n",
        "feature_importance = extra_tree_forest.feature_importances_\n",
        "\n",
        "# Normalizing the individual importances\n",
        "feature_importance_normalized = np.std( [ tree.feature_importances_ for tree in extra_tree_forest.estimators_ ] , axis = 0)\n",
        "\n",
        "\n",
        "# Plotting a Bar Graph to compare the models\n",
        "plt.figure(figsize = (24,12))\n",
        "plt.bar(x.columns, feature_importance_normalized)\n",
        "plt.xlabel('Feature Labels' , fontsize = 25)\n",
        "plt.ylabel('Feature Importances' , fontsize = 25)\n",
        "plt.title('Comparison of different Feature Importances' , fontsize = 45)"
      ],
      "execution_count": null,
      "outputs": [
        {
          "output_type": "execute_result",
          "data": {
            "text/plain": [
              "Text(0.5, 1.0, 'Comparison of different Feature Importances')"
            ]
          },
          "metadata": {},
          "execution_count": 124
        },
        {
          "output_type": "display_data",
          "data": {
            "text/plain": [
              "<Figure size 1728x864 with 1 Axes>"
            ],
            "image/png": "[encoded data removed]"
          },
          "metadata": {}
        }
      ]
    },
    {
      "cell_type": "code",
      "metadata": {
        "id": "44bPQfZ_petL",
        "colab": {
          "base_uri": "https://localhost:8080/"
        },
        "outputId": "0bdb5e87-d4b2-4be3-c572-fc8d6954419c"
      },
      "source": [
        "feat_importances_Series = pd.Series( feature_importance_normalized , index=x.columns)\n",
        "print(\"Feature Name\\t\\t Importance\")\n",
        "print(\"-\"*37 , end='\\n')\n",
        "feat_importances_Series.sort_values()"
      ],
      "execution_count": null,
      "outputs": [
        {
          "output_type": "stream",
          "name": "stdout",
          "text": [
            "Feature Name\t\t Importance\n",
            "-------------------------------------\n"
          ]
        },
        {
          "output_type": "execute_result",
          "data": {
            "text/plain": [
              "Driving_License         0.000079\n",
              "Gender                  0.002447\n",
              "Vehicle_Age             0.002457\n",
              "Age                     0.004434\n",
              "Annual_Premium          0.005732\n",
              "Policy_Sales_Channel    0.008803\n",
              "Vintage                 0.009291\n",
              "Region_Code             0.012523\n",
              "Vehicle_Damage          0.077298\n",
              "Previously_Insured      0.081374\n",
              "dtype: float64"
            ]
          },
          "metadata": {},
          "execution_count": 125
        }
      ]
    },
    {
      "cell_type": "markdown",
      "metadata": {
        "id": "bofGX5JO1KMz"
      },
      "source": [
        "1. We can remove less important features from the data set\n",
        "2. Driving_License , Gender is contributing very less that's why I'm removing those columns"
      ]
    },
    {
      "cell_type": "code",
      "metadata": {
        "id": "U9Tzz-EIpevj",
        "colab": {
          "base_uri": "https://localhost:8080/"
        },
        "outputId": "66b4704e-12bb-4ae1-b42e-ef27ae78c771"
      },
      "source": [
        "x.columns"
      ],
      "execution_count": null,
      "outputs": [
        {
          "output_type": "execute_result",
          "data": {
            "text/plain": [
              "Index(['Age', 'Driving_License', 'Region_Code', 'Previously_Insured',\n",
              "       'Annual_Premium', 'Policy_Sales_Channel', 'Vintage', 'Vehicle_Damage',\n",
              "       'Vehicle_Age', 'Gender'],\n",
              "      dtype='object')"
            ]
          },
          "metadata": {},
          "execution_count": 126
        }
      ]
    },
    {
      "cell_type": "markdown",
      "source": [
        "****"
      ],
      "metadata": {
        "id": "dg177RlFBT22"
      }
    },
    {
      "cell_type": "code",
      "metadata": {
        "id": "ByRjbQ_-peyI"
      },
      "source": [
        "x.drop( labels = [ 'Driving_License' ] , axis = 1 , inplace = True)"
      ],
      "execution_count": null,
      "outputs": []
    },
    {
      "cell_type": "code",
      "metadata": {
        "id": "PcMb15Ffpe0i",
        "colab": {
          "base_uri": "https://localhost:8080/",
          "height": 300
        },
        "outputId": "d1b0dcbd-00fd-4f0b-e01f-d0095a6f8de0"
      },
      "source": [
        "x.head(1).T"
      ],
      "execution_count": null,
      "outputs": [
        {
          "output_type": "execute_result",
          "data": {
            "text/plain": [
              "                            0\n",
              "Age                      44.0\n",
              "Region_Code              28.0\n",
              "Previously_Insured        0.0\n",
              "Annual_Premium        40454.0\n",
              "Policy_Sales_Channel     26.0\n",
              "Vintage                 217.0\n",
              "Vehicle_Damage            1.0\n",
              "Vehicle_Age               2.0"
            ],
            "text/html": [
              "\n",
              "  <div id=\"df-5d9010e6-ffda-4b59-b8b8-ea5b733b493b\">\n",
              "    <div class=\"colab-df-container\">\n",
              "      <div>\n",
              "<style scoped>\n",
              "    .dataframe tbody tr th:only-of-type {\n",
              "        vertical-align: middle;\n",
              "    }\n",
              "\n",
              "    .dataframe tbody tr th {\n",
              "        vertical-align: top;\n",
              "    }\n",
              "\n",
              "    .dataframe thead th {\n",
              "        text-align: right;\n",
              "    }\n",
              "</style>\n",
              "<table border=\"1\" class=\"dataframe\">\n",
              "  <thead>\n",
              "    <tr style=\"text-align: right;\">\n",
              "      <th></th>\n",
              "      <th>0</th>\n",
              "    </tr>\n",
              "  </thead>\n",
              "  <tbody>\n",
              "    <tr>\n",
              "      <th>Age</th>\n",
              "      <td>44.0</td>\n",
              "    </tr>\n",
              "    <tr>\n",
              "      <th>Region_Code</th>\n",
              "      <td>28.0</td>\n",
              "    </tr>\n",
              "    <tr>\n",
              "      <th>Previously_Insured</th>\n",
              "      <td>0.0</td>\n",
              "    </tr>\n",
              "    <tr>\n",
              "      <th>Annual_Premium</th>\n",
              "      <td>40454.0</td>\n",
              "    </tr>\n",
              "    <tr>\n",
              "      <th>Policy_Sales_Channel</th>\n",
              "      <td>26.0</td>\n",
              "    </tr>\n",
              "    <tr>\n",
              "      <th>Vintage</th>\n",
              "      <td>217.0</td>\n",
              "    </tr>\n",
              "    <tr>\n",
              "      <th>Vehicle_Damage</th>\n",
              "      <td>1.0</td>\n",
              "    </tr>\n",
              "    <tr>\n",
              "      <th>Vehicle_Age</th>\n",
              "      <td>2.0</td>\n",
              "    </tr>\n",
              "  </tbody>\n",
              "</table>\n",
              "</div>\n",
              "      <button class=\"colab-df-convert\" onclick=\"convertToInteractive('df-5d9010e6-ffda-4b59-b8b8-ea5b733b493b')\"\n",
              "              title=\"Convert this dataframe to an interactive table.\"\n",
              "              style=\"display:none;\">\n",
              "        \n",
              "  <svg xmlns=\"http://www.w3.org/2000/svg\" height=\"24px\"viewBox=\"0 0 24 24\"\n",
              "       width=\"24px\">\n",
              "    <path d=\"M0 0h24v24H0V0z\" fill=\"none\"/>\n",
              "    <path d=\"M18.56 5.44l.94 2.06.94-2.06 2.06-.94-2.06-.94-.94-2.06-.94 2.06-2.06.94zm-11 1L8.5 8.5l.94-2.06 2.06-.94-2.06-.94L8.5 2.5l-.94 2.06-2.06.94zm10 10l.94 2.06.94-2.06 2.06-.94-2.06-.94-.94-2.06-.94 2.06-2.06.94z\"/><path d=\"M17.41 7.96l-1.37-1.37c-.4-.4-.92-.59-1.43-.59-.52 0-1.04.2-1.43.59L10.3 9.45l-7.72 7.72c-.78.78-.78 2.05 0 2.83L4 21.41c.39.39.9.59 1.41.59.51 0 1.02-.2 1.41-.59l7.78-7.78 2.81-2.81c.8-.78.8-2.07 0-2.86zM5.41 20L4 18.59l7.72-7.72 1.47 1.35L5.41 20z\"/>\n",
              "  </svg>\n",
              "      </button>\n",
              "      \n",
              "  <style>\n",
              "    .colab-df-container {\n",
              "      display:flex;\n",
              "      flex-wrap:wrap;\n",
              "      gap: 12px;\n",
              "    }\n",
              "\n",
              "    .colab-df-convert {\n",
              "      background-color: #E8F0FE;\n",
              "      border: none;\n",
              "      border-radius: 50%;\n",
              "      cursor: pointer;\n",
              "      display: none;\n",
              "      fill: #1967D2;\n",
              "      height: 32px;\n",
              "      padding: 0 0 0 0;\n",
              "      width: 32px;\n",
              "    }\n",
              "\n",
              "    .colab-df-convert:hover {\n",
              "      background-color: #E2EBFA;\n",
              "      box-shadow: 0px 1px 2px rgba(60, 64, 67, 0.3), 0px 1px 3px 1px rgba(60, 64, 67, 0.15);\n",
              "      fill: #174EA6;\n",
              "    }\n",
              "\n",
              "    [theme=dark] .colab-df-convert {\n",
              "      background-color: #3B4455;\n",
              "      fill: #D2E3FC;\n",
              "    }\n",
              "\n",
              "    [theme=dark] .colab-df-convert:hover {\n",
              "      background-color: #434B5C;\n",
              "      box-shadow: 0px 1px 3px 1px rgba(0, 0, 0, 0.15);\n",
              "      filter: drop-shadow(0px 1px 2px rgba(0, 0, 0, 0.3));\n",
              "      fill: #FFFFFF;\n",
              "    }\n",
              "  </style>\n",
              "\n",
              "      <script>\n",
              "        const buttonEl =\n",
              "          document.querySelector('#df-5d9010e6-ffda-4b59-b8b8-ea5b733b493b button.colab-df-convert');\n",
              "        buttonEl.style.display =\n",
              "          google.colab.kernel.accessAllowed ? 'block' : 'none';\n",
              "\n",
              "        async function convertToInteractive(key) {\n",
              "          const element = document.querySelector('#df-5d9010e6-ffda-4b59-b8b8-ea5b733b493b');\n",
              "          const dataTable =\n",
              "            await google.colab.kernel.invokeFunction('convertToInteractive',\n",
              "                                                     [key], {});\n",
              "          if (!dataTable) return;\n",
              "\n",
              "          const docLinkHtml = 'Like what you see? Visit the ' +\n",
              "            '<a target=\"_blank\" href=https://colab.research.google.com/notebooks/data_table.ipynb>data table notebook</a>'\n",
              "            + ' to learn more about interactive tables.';\n",
              "          element.innerHTML = '';\n",
              "          dataTable['output_type'] = 'display_data';\n",
              "          await google.colab.output.renderOutput(dataTable, element);\n",
              "          const docLink = document.createElement('div');\n",
              "          docLink.innerHTML = docLinkHtml;\n",
              "          element.appendChild(docLink);\n",
              "        }\n",
              "      </script>\n",
              "    </div>\n",
              "  </div>\n",
              "  "
            ]
          },
          "metadata": {},
          "execution_count": 128
        }
      ]
    },
    {
      "cell_type": "markdown",
      "metadata": {
        "id": "mjcSICLT1boQ"
      },
      "source": [
        "# **Handling Imbalanced data**\n",
        "When observation in one class is higher than the observation in other classes then there exists a class imbalance. We can clearly see that there is a huge difference between the data set. Solving this issue we use resampling technique"
      ]
    },
    {
      "cell_type": "markdown",
      "metadata": {
        "id": "CJ1RXr831gzD"
      },
      "source": [
        "# **Using RandomOverSampler to resample the dataset**"
      ]
    },
    {
      "cell_type": "code",
      "source": [
        "from imblearn.over_sampling import SMOTE\n",
        "plt.figure(figsize = (13,5))\n",
        "plt.subplot(1,2,1)\n",
        "sns.countplot(y,palette='husl')\n",
        "\n",
        "smt = SMOTE()\n",
        "#X_train, y_train = smt.fit_resample(X_train, y_train)\n",
        "x_new, y_new = smt.fit_resample(x, y)\n",
        "\n",
        "from collections import Counter\n",
        "print('Original dataset shape {}'.format(Counter(y)))\n",
        "print('Resampled dataset shape {}'.format(Counter(y_new)))\n",
        "plt.subplot(1,2,2)\n",
        "sns.countplot(y_new,palette='husl')"
      ],
      "metadata": {
        "colab": {
          "base_uri": "https://localhost:8080/",
          "height": 394
        },
        "id": "r0Fa9tBCcgSS",
        "outputId": "83d90364-614b-4dfa-e972-e0417614e9d5"
      },
      "execution_count": null,
      "outputs": [
        {
          "output_type": "stream",
          "name": "stdout",
          "text": [
            "Original dataset shape Counter({0: 334399, 1: 46710})\n",
            "Resampled dataset shape Counter({1: 334399, 0: 334399})\n"
          ]
        },
        {
          "output_type": "execute_result",
          "data": {
            "text/plain": [
              "<matplotlib.axes._subplots.AxesSubplot at 0x7f030c4c0810>"
            ]
          },
          "metadata": {},
          "execution_count": 130
        },
        {
          "output_type": "display_data",
          "data": {
            "text/plain": [
              "<Figure size 936x360 with 2 Axes>"
            ],
            "image/png": "[encoded data removed]"
          },
          "metadata": {}
        }
      ]
    },
    {
      "cell_type": "code",
      "source": [
        ""
      ],
      "metadata": {
        "id": "UlsWQolEcgYa"
      },
      "execution_count": null,
      "outputs": []
    },
    {
      "cell_type": "code",
      "source": [
        ""
      ],
      "metadata": {
        "id": "2BnzCvozcgav"
      },
      "execution_count": null,
      "outputs": []
    },
    {
      "cell_type": "code",
      "source": [
        ""
      ],
      "metadata": {
        "id": "DEouDnsncgdI"
      },
      "execution_count": null,
      "outputs": []
    },
    {
      "cell_type": "markdown",
      "metadata": {
        "id": "jut_Vzrg1pJ_"
      },
      "source": [
        "As you can see now our response is having same no of both classes"
      ]
    },
    {
      "cell_type": "markdown",
      "metadata": {
        "id": "C65bbs521rTA"
      },
      "source": [
        "* Splitting Dataset into 80:20 ratio"
      ]
    },
    {
      "cell_type": "code",
      "metadata": {
        "id": "9rG0969Rpe8A",
        "colab": {
          "base_uri": "https://localhost:8080/"
        },
        "outputId": "1a9d2e58-c7e5-4639-9ff0-272f1991c9a9"
      },
      "source": [
        "#dividing the dataset into training and testing\n",
        "xtrain , xtest , ytrain , ytest = train_test_split( x_new , y_new , test_size = 0.2 , random_state = 1 )\n",
        "print(f\"xtrain.shape\\txtest.shape\\tytrain.shape\\tytest.shape\")\n",
        "print('-'*60)\n",
        "print(f'{xtrain.shape}\\t{xtest.shape}\\t {ytrain.shape}\\t {ytest.shape}')"
      ],
      "execution_count": null,
      "outputs": [
        {
          "output_type": "stream",
          "name": "stdout",
          "text": [
            "xtrain.shape\txtest.shape\tytrain.shape\tytest.shape\n",
            "------------------------------------------------------------\n",
            "(535038, 8)\t(133760, 8)\t (535038,)\t (133760,)\n"
          ]
        }
      ]
    },
    {
      "cell_type": "markdown",
      "metadata": {
        "id": "6apnjbLE10do"
      },
      "source": [
        "# **Feature Scaling**"
      ]
    },
    {
      "cell_type": "code",
      "metadata": {
        "id": "UutMtn5vpe-W"
      },
      "source": [
        "scaler = StandardScaler()\n",
        "xtrain = scaler.fit_transform(xtrain)\n",
        "xtest = scaler.transform(xtest)"
      ],
      "execution_count": null,
      "outputs": []
    },
    {
      "cell_type": "markdown",
      "metadata": {
        "id": "igFqjHaIB0Am"
      },
      "source": [
        "# **Model Selection**\n",
        "Problem can be identified as Binary Classification (wheather customer opts for vehicle insurance or not)\n",
        "Dataset has more than 300k records\n",
        "cannot go with SVM Classifier as it takes more time to train as dataset increase\n",
        "Idea is to start selection of models as:\n",
        "\n",
        "**1. Logistic Regression**\n",
        "\n",
        "**2. Random Forest**\n",
        "\n",
        "**3. XGBClassifier**\n"
      ]
    },
    {
      "cell_type": "code",
      "metadata": {
        "id": "FZnnvettpfBG"
      },
      "source": [
        ""
      ],
      "execution_count": null,
      "outputs": []
    },
    {
      "cell_type": "markdown",
      "metadata": {
        "id": "UYxzVSZBCXhM"
      },
      "source": [
        "# **1.Logistic Regression**"
      ]
    },
    {
      "cell_type": "code",
      "metadata": {
        "id": "ht1_9MQJpfDj",
        "colab": {
          "base_uri": "https://localhost:8080/"
        },
        "outputId": "3f96b0af-3fce-4a37-cc83-5aedc88c179d"
      },
      "source": [
        "model=LogisticRegression()\n",
        "\n",
        "model=model.fit(xtrain,ytrain)\n",
        "\n",
        "pred=model.predict(xtest)\n",
        "\n",
        "lr_probability =model.predict_proba(xtest)[:,1]\n",
        "\n",
        "\n",
        "acc_lr=accuracy_score(ytest,pred)\n",
        "recall_lr=recall_score(ytest,pred)\n",
        "precision_lr=precision_score(ytest,pred)\n",
        "f1score_lr=f1_score(ytest,pred)\n",
        "AUC_LR=roc_auc_score(pred,ytest)\n",
        "\n",
        "#print accuracy and Auc values of model\n",
        "print(\"Accuracy : \", round(accuracy_score(ytest,pred) , 3))\n",
        "print(\"Precision:\" , round(precision_score(ytest,pred) , 3))\n",
        "print(\"Recall:\" , round(recall_score(ytest,pred), 3))\n",
        "print(\"F1-Score:\" , round(f1_score(ytest,pred) , 3))\n",
        "print(\"ROC_AUC Score:\" , round(AUC_LR , 3))"
      ],
      "execution_count": null,
      "outputs": [
        {
          "output_type": "stream",
          "name": "stdout",
          "text": [
            "Accuracy :  0.775\n",
            "Precision: 0.71\n",
            "Recall: 0.929\n",
            "F1-Score: 0.805\n",
            "ROC_AUC Score: 0.804\n"
          ]
        }
      ]
    },
    {
      "cell_type": "code",
      "metadata": {
        "id": "hXRg1GEapfF6",
        "colab": {
          "base_uri": "https://localhost:8080/"
        },
        "outputId": "8c65cf36-c586-4b6f-af77-81e87dca8c6a"
      },
      "source": [
        "print(classification_report(pred,ytest))"
      ],
      "execution_count": null,
      "outputs": [
        {
          "output_type": "stream",
          "name": "stdout",
          "text": [
            "              precision    recall  f1-score   support\n",
            "\n",
            "           0       0.62      0.90      0.73     46257\n",
            "           1       0.93      0.71      0.81     87503\n",
            "\n",
            "    accuracy                           0.78    133760\n",
            "   macro avg       0.78      0.80      0.77    133760\n",
            "weighted avg       0.82      0.78      0.78    133760\n",
            "\n"
          ]
        }
      ]
    },
    {
      "cell_type": "markdown",
      "metadata": {
        "id": "ABG9xYXoChD-"
      },
      "source": [
        "**ROC curve for logistic reg.**"
      ]
    },
    {
      "cell_type": "code",
      "metadata": {
        "id": "xIIQOc4PpfIz",
        "colab": {
          "base_uri": "https://localhost:8080/",
          "height": 301
        },
        "outputId": "008a825f-54a1-4118-862d-fd92099c2175"
      },
      "source": [
        "from sklearn.metrics import roc_curve\n",
        "fpr, tpr, _ = roc_curve(ytest, lr_probability)\n",
        "plt.figure( figsize = (4 ,4))\n",
        "plt.title('Logistic Regression ROC curve')\n",
        "plt.xlabel('FPR (Precision)')\n",
        "plt.ylabel('TPR (Recall)')\n",
        "\n",
        "\n",
        "plt.plot(fpr,tpr)\n",
        "plt.plot((0,1), ls='dashed',color='black')\n",
        "plt.show()"
      ],
      "execution_count": null,
      "outputs": [
        {
          "output_type": "display_data",
          "data": {
            "text/plain": [
              "<Figure size 288x288 with 1 Axes>"
            ],
            "image/png": "[encoded data removed]"
          },
          "metadata": {}
        }
      ]
    },
    {
      "cell_type": "markdown",
      "metadata": {
        "id": "Ghd4m2FcCsfk"
      },
      "source": [
        "**Confusion Matrix for Logistic Reg.**"
      ]
    },
    {
      "cell_type": "code",
      "metadata": {
        "id": "6e1cG-ripfLF",
        "colab": {
          "base_uri": "https://localhost:8080/",
          "height": 320
        },
        "outputId": "41e1a493-efa9-498d-863f-f0cb0eb50522"
      },
      "source": [
        "cm=confusion_matrix(ytest,pred)\n",
        "print(cm)\n",
        "plt.figure( figsize = (4 ,4))\n",
        "sns.heatmap(cm,annot=True,cmap='BuPu')"
      ],
      "execution_count": null,
      "outputs": [
        {
          "output_type": "stream",
          "name": "stdout",
          "text": [
            "[[41513 25334]\n",
            " [ 4744 62169]]\n"
          ]
        },
        {
          "output_type": "execute_result",
          "data": {
            "text/plain": [
              "<matplotlib.axes._subplots.AxesSubplot at 0x7f030b63eed0>"
            ]
          },
          "metadata": {},
          "execution_count": 136
        },
        {
          "output_type": "display_data",
          "data": {
            "text/plain": [
              "<Figure size 288x288 with 2 Axes>"
            ],
            "image/png": "[encoded data removed]"
          },
          "metadata": {}
        }
      ]
    },
    {
      "cell_type": "markdown",
      "metadata": {
        "id": "HNOBW--HDIGs"
      },
      "source": [
        "# **2.RandomForest Classifier**"
      ]
    },
    {
      "cell_type": "code",
      "metadata": {
        "id": "vh2j-t9ypfNW",
        "colab": {
          "base_uri": "https://localhost:8080/"
        },
        "outputId": "b1712b84-521d-4238-bf70-5a924ae7aaf4"
      },
      "source": [
        "randomforest = RandomForestClassifier()\n",
        "\n",
        "randomforest=randomforest.fit(xtrain, ytrain)\n",
        "\n",
        "y_pred = randomforest.predict(xtest)\n",
        "\n",
        "RF_probability = randomforest.predict_proba(xtest)[:,1]\n",
        "\n",
        "\n",
        "\n",
        "AUC_RF=roc_auc_score(y_pred,ytest)\n",
        "acc_rf=accuracy_score(ytest,y_pred)\n",
        "recall_rf=recall_score(ytest,y_pred)\n",
        "precision_rf=precision_score(ytest,y_pred)\n",
        "f1score_rf=f1_score(ytest,y_pred)\n",
        "\n",
        "#print accuracy and Auc values of model\n",
        "print(\"Accuracy : \", round(accuracy_score(ytest , y_pred) , 3))\n",
        "print(\"Precision:\" , round(precision_score(ytest,y_pred) , 3))\n",
        "print(\"Recall:\" , round(recall_score(ytest , y_pred), 3))\n",
        "print(\"F1-Score:\" , round(f1_score(ytest , y_pred) , 3))\n",
        "print(\"ROC_AUC Score:\" , round(AUC_LR , 3))"
      ],
      "execution_count": null,
      "outputs": [
        {
          "output_type": "stream",
          "name": "stdout",
          "text": [
            "Accuracy :  0.887\n",
            "Precision: 0.868\n",
            "Recall: 0.913\n",
            "F1-Score: 0.89\n",
            "ROC_AUC Score: 0.804\n"
          ]
        }
      ]
    },
    {
      "cell_type": "code",
      "metadata": {
        "id": "N3oWlBu2pfPt",
        "colab": {
          "base_uri": "https://localhost:8080/"
        },
        "outputId": "fa54461a-e0ee-48de-b0a2-a7ef7cdbb4ce"
      },
      "source": [
        "print(classification_report(y_pred,ytest))"
      ],
      "execution_count": null,
      "outputs": [
        {
          "output_type": "stream",
          "name": "stdout",
          "text": [
            "              precision    recall  f1-score   support\n",
            "\n",
            "           0       0.86      0.91      0.88     63413\n",
            "           1       0.91      0.87      0.89     70347\n",
            "\n",
            "    accuracy                           0.89    133760\n",
            "   macro avg       0.89      0.89      0.89    133760\n",
            "weighted avg       0.89      0.89      0.89    133760\n",
            "\n"
          ]
        }
      ]
    },
    {
      "cell_type": "markdown",
      "metadata": {
        "id": "UB9fyPQvDU8r"
      },
      "source": [
        "**ROC curve for RandomForest**"
      ]
    },
    {
      "cell_type": "code",
      "metadata": {
        "id": "jSK6x3cUpfR7",
        "colab": {
          "base_uri": "https://localhost:8080/",
          "height": 301
        },
        "outputId": "2a875609-f88f-4171-f888-6a30f135cac0"
      },
      "source": [
        "fpr, tpr, _ = roc_curve(ytest, RF_probability)\n",
        "plt.figure( figsize = (4 , 4))\n",
        "plt.title('RF Classifier ROC curve')\n",
        "plt.xlabel('FPR (Precision)')\n",
        "plt.ylabel('TPR (Recall)')\n",
        "\n",
        "plt.plot(fpr,tpr)\n",
        "plt.plot((0,1), ls='dashed',color='black')\n",
        "plt.show()"
      ],
      "execution_count": null,
      "outputs": [
        {
          "output_type": "display_data",
          "data": {
            "text/plain": [
              "<Figure size 288x288 with 1 Axes>"
            ],
            "image/png": "[encoded data removed]"
          },
          "metadata": {}
        }
      ]
    },
    {
      "cell_type": "markdown",
      "metadata": {
        "id": "B8z5XOt9Dayf"
      },
      "source": [
        "**Confusion Matrix for Random Forest**"
      ]
    },
    {
      "cell_type": "code",
      "metadata": {
        "id": "Z7sXvd6SpfUn",
        "colab": {
          "base_uri": "https://localhost:8080/",
          "height": 320
        },
        "outputId": "de5554a3-bb0e-49cf-ceaf-70069c4976d9"
      },
      "source": [
        "cm=confusion_matrix(y_pred,ytest)\n",
        "print(cm)\n",
        "plt.figure( figsize = (4 , 4))\n",
        "sns.heatmap(cm,annot=True,cmap='RdPu')"
      ],
      "execution_count": null,
      "outputs": [
        {
          "output_type": "stream",
          "name": "stdout",
          "text": [
            "[[57574  5839]\n",
            " [ 9273 61074]]\n"
          ]
        },
        {
          "output_type": "execute_result",
          "data": {
            "text/plain": [
              "<matplotlib.axes._subplots.AxesSubplot at 0x7f030bddeed0>"
            ]
          },
          "metadata": {},
          "execution_count": 140
        },
        {
          "output_type": "display_data",
          "data": {
            "text/plain": [
              "<Figure size 288x288 with 2 Axes>"
            ],
            "image/png": "[encoded data removed]"
          },
          "metadata": {}
        }
      ]
    },
    {
      "cell_type": "markdown",
      "metadata": {
        "id": "5h67Rc9WDfKb"
      },
      "source": [
        "# **3. XGBClassifier**"
      ]
    },
    {
      "cell_type": "code",
      "metadata": {
        "id": "OXvNHPJSpfXF",
        "colab": {
          "base_uri": "https://localhost:8080/"
        },
        "outputId": "70003cf1-266c-4a1d-9437-cdb9c0366a51"
      },
      "source": [
        "xgb=XGBClassifier()\n",
        "\n",
        "XGB_fit=xgb.fit(xtrain, ytrain)\n",
        "\n",
        "y_predict = XGB_fit.predict(xtest)\n",
        "\n",
        "XGB_probability = XGB_fit.predict_proba(xtest)[:,1]\n",
        "\n",
        "\n",
        "\n",
        "acc_xgb = accuracy_score( ytest , y_predict)\n",
        "recall_xgb = recall_score( ytest , y_predict)\n",
        "precision_xgb = precision_score( ytest , y_predict)\n",
        "f1score_xgb = f1_score( ytest , y_predict)\n",
        "\n",
        "AUC_xgb = roc_auc_score( y_predict , ytest)\n",
        "\n",
        "\n",
        "#print accuracy and Auc values of model\n",
        "print(\"Accuracy : \", round(acc_xgb , 3))\n",
        "print(\"Precision:\" , round(precision_xgb , 3))\n",
        "print(\"Recall:\" , round( recall_xgb , 3))\n",
        "print(\"F1-Score:\" , round( f1score_xgb , 3))\n",
        "print(\"ROC_AUC Score:\" , round(AUC_xgb , 3))"
      ],
      "execution_count": null,
      "outputs": [
        {
          "output_type": "stream",
          "name": "stdout",
          "text": [
            "Accuracy :  0.839\n",
            "Precision: 0.784\n",
            "Recall: 0.935\n",
            "F1-Score: 0.853\n",
            "ROC_AUC Score: 0.852\n"
          ]
        }
      ]
    },
    {
      "cell_type": "code",
      "metadata": {
        "id": "LQjG7OaBpfZI",
        "colab": {
          "base_uri": "https://localhost:8080/"
        },
        "outputId": "2282355a-546a-441b-912a-d4dfbe5fc3b5"
      },
      "source": [
        "print(classification_report( y_predict , ytest ))"
      ],
      "execution_count": null,
      "outputs": [
        {
          "output_type": "stream",
          "name": "stdout",
          "text": [
            "              precision    recall  f1-score   support\n",
            "\n",
            "           0       0.74      0.92      0.82     53994\n",
            "           1       0.93      0.78      0.85     79766\n",
            "\n",
            "    accuracy                           0.84    133760\n",
            "   macro avg       0.84      0.85      0.84    133760\n",
            "weighted avg       0.86      0.84      0.84    133760\n",
            "\n"
          ]
        }
      ]
    },
    {
      "cell_type": "markdown",
      "metadata": {
        "id": "Y3PHowPYDmyF"
      },
      "source": [
        "**ROC curve for XGBoost**"
      ]
    },
    {
      "cell_type": "code",
      "metadata": {
        "id": "T7xRL8IXpfbj",
        "colab": {
          "base_uri": "https://localhost:8080/",
          "height": 301
        },
        "outputId": "33612ec0-e4ae-4161-91c4-a28a99fb90fb"
      },
      "source": [
        "from sklearn.metrics import roc_curve\n",
        "fpr, tpr, _ = roc_curve(ytest, XGB_probability)\n",
        "plt.figure( figsize = (4 ,4))\n",
        "\n",
        "plt.title('XGBoost ROC curve')\n",
        "plt.xlabel('FPR (Precision)')\n",
        "plt.ylabel('TPR (Recall)')\n",
        "\n",
        "plt.plot(fpr,tpr)\n",
        "plt.plot((0,1), ls='dashed',color='black')\n",
        "plt.show()"
      ],
      "execution_count": null,
      "outputs": [
        {
          "output_type": "display_data",
          "data": {
            "text/plain": [
              "<Figure size 288x288 with 1 Axes>"
            ],
            "image/png": "[encoded data removed]"
          },
          "metadata": {}
        }
      ]
    },
    {
      "cell_type": "markdown",
      "metadata": {
        "id": "7Glq8ZRvDr-X"
      },
      "source": [
        "**Confusion Matrix for XGBoost**"
      ]
    },
    {
      "cell_type": "code",
      "metadata": {
        "id": "WY5xSwGipfd_",
        "colab": {
          "base_uri": "https://localhost:8080/",
          "height": 320
        },
        "outputId": "ce14e2a9-6a2e-4cc3-8bdc-ca30e5098dec"
      },
      "source": [
        "#it helps to identify how many values are classified correctly\n",
        "cm=confusion_matrix(ytest,y_predict)\n",
        "print(cm)\n",
        "plt.figure( figsize = ( 4 , 4 ))\n",
        "sns.heatmap(cm,annot=True,cmap='GnBu')"
      ],
      "execution_count": null,
      "outputs": [
        {
          "output_type": "stream",
          "name": "stdout",
          "text": [
            "[[49630 17217]\n",
            " [ 4364 62549]]\n"
          ]
        },
        {
          "output_type": "execute_result",
          "data": {
            "text/plain": [
              "<matplotlib.axes._subplots.AxesSubplot at 0x7f030bd1b310>"
            ]
          },
          "metadata": {},
          "execution_count": 144
        },
        {
          "output_type": "display_data",
          "data": {
            "text/plain": [
              "<Figure size 288x288 with 2 Axes>"
            ],
            "image/png": "[encoded data removed]"
          },
          "metadata": {}
        }
      ]
    },
    {
      "cell_type": "markdown",
      "metadata": {
        "id": "0RqwC3qhEDXW"
      },
      "source": [
        "# **Let's compare the models**"
      ]
    },
    {
      "cell_type": "code",
      "metadata": {
        "id": "JOUUCjTTpfgb",
        "colab": {
          "base_uri": "https://localhost:8080/",
          "height": 143
        },
        "outputId": "4e25896e-be1b-4c9f-a071-378954c00131"
      },
      "source": [
        "ind=['Logistic regression','RandomForest','XGBClassifier']\n",
        "data={\"Accuracy\":[acc_lr,acc_rf,acc_xgb],\"Recall\":[recall_lr,recall_rf,recall_xgb],\"Precision\":[precision_lr,precision_rf,precision_xgb],\n",
        "    'f1_score':[f1score_lr,f1score_rf,f1score_xgb],\"ROC_AUC\":[AUC_LR,AUC_RF,AUC_xgb]}\n",
        "result=pd.DataFrame(data=data,index=ind)\n",
        "result"
      ],
      "execution_count": null,
      "outputs": [
        {
          "output_type": "execute_result",
          "data": {
            "text/plain": [
              "                     Accuracy    Recall  Precision  f1_score   ROC_AUC\n",
              "Logistic regression  0.775135  0.929102   0.710478  0.805214  0.803961\n",
              "RandomForest         0.887022  0.912737   0.868182  0.889902  0.888052\n",
              "XGBClassifier        0.838659  0.934781   0.784156  0.852869  0.851666"
            ],
            "text/html": [
              "\n",
              "  <div id=\"df-0f01d597-bd31-4305-9f43-6a53f9d29417\">\n",
              "    <div class=\"colab-df-container\">\n",
              "      <div>\n",
              "<style scoped>\n",
              "    .dataframe tbody tr th:only-of-type {\n",
              "        vertical-align: middle;\n",
              "    }\n",
              "\n",
              "    .dataframe tbody tr th {\n",
              "        vertical-align: top;\n",
              "    }\n",
              "\n",
              "    .dataframe thead th {\n",
              "        text-align: right;\n",
              "    }\n",
              "</style>\n",
              "<table border=\"1\" class=\"dataframe\">\n",
              "  <thead>\n",
              "    <tr style=\"text-align: right;\">\n",
              "      <th></th>\n",
              "      <th>Accuracy</th>\n",
              "      <th>Recall</th>\n",
              "      <th>Precision</th>\n",
              "      <th>f1_score</th>\n",
              "      <th>ROC_AUC</th>\n",
              "    </tr>\n",
              "  </thead>\n",
              "  <tbody>\n",
              "    <tr>\n",
              "      <th>Logistic regression</th>\n",
              "      <td>0.775135</td>\n",
              "      <td>0.929102</td>\n",
              "      <td>0.710478</td>\n",
              "      <td>0.805214</td>\n",
              "      <td>0.803961</td>\n",
              "    </tr>\n",
              "    <tr>\n",
              "      <th>RandomForest</th>\n",
              "      <td>0.887022</td>\n",
              "      <td>0.912737</td>\n",
              "      <td>0.868182</td>\n",
              "      <td>0.889902</td>\n",
              "      <td>0.888052</td>\n",
              "    </tr>\n",
              "    <tr>\n",
              "      <th>XGBClassifier</th>\n",
              "      <td>0.838659</td>\n",
              "      <td>0.934781</td>\n",
              "      <td>0.784156</td>\n",
              "      <td>0.852869</td>\n",
              "      <td>0.851666</td>\n",
              "    </tr>\n",
              "  </tbody>\n",
              "</table>\n",
              "</div>\n",
              "      <button class=\"colab-df-convert\" onclick=\"convertToInteractive('df-0f01d597-bd31-4305-9f43-6a53f9d29417')\"\n",
              "              title=\"Convert this dataframe to an interactive table.\"\n",
              "              style=\"display:none;\">\n",
              "        \n",
              "  <svg xmlns=\"http://www.w3.org/2000/svg\" height=\"24px\"viewBox=\"0 0 24 24\"\n",
              "       width=\"24px\">\n",
              "    <path d=\"M0 0h24v24H0V0z\" fill=\"none\"/>\n",
              "    <path d=\"M18.56 5.44l.94 2.06.94-2.06 2.06-.94-2.06-.94-.94-2.06-.94 2.06-2.06.94zm-11 1L8.5 8.5l.94-2.06 2.06-.94-2.06-.94L8.5 2.5l-.94 2.06-2.06.94zm10 10l.94 2.06.94-2.06 2.06-.94-2.06-.94-.94-2.06-.94 2.06-2.06.94z\"/><path d=\"M17.41 7.96l-1.37-1.37c-.4-.4-.92-.59-1.43-.59-.52 0-1.04.2-1.43.59L10.3 9.45l-7.72 7.72c-.78.78-.78 2.05 0 2.83L4 21.41c.39.39.9.59 1.41.59.51 0 1.02-.2 1.41-.59l7.78-7.78 2.81-2.81c.8-.78.8-2.07 0-2.86zM5.41 20L4 18.59l7.72-7.72 1.47 1.35L5.41 20z\"/>\n",
              "  </svg>\n",
              "      </button>\n",
              "      \n",
              "  <style>\n",
              "    .colab-df-container {\n",
              "      display:flex;\n",
              "      flex-wrap:wrap;\n",
              "      gap: 12px;\n",
              "    }\n",
              "\n",
              "    .colab-df-convert {\n",
              "      background-color: #E8F0FE;\n",
              "      border: none;\n",
              "      border-radius: 50%;\n",
              "      cursor: pointer;\n",
              "      display: none;\n",
              "      fill: #1967D2;\n",
              "      height: 32px;\n",
              "      padding: 0 0 0 0;\n",
              "      width: 32px;\n",
              "    }\n",
              "\n",
              "    .colab-df-convert:hover {\n",
              "      background-color: #E2EBFA;\n",
              "      box-shadow: 0px 1px 2px rgba(60, 64, 67, 0.3), 0px 1px 3px 1px rgba(60, 64, 67, 0.15);\n",
              "      fill: #174EA6;\n",
              "    }\n",
              "\n",
              "    [theme=dark] .colab-df-convert {\n",
              "      background-color: #3B4455;\n",
              "      fill: #D2E3FC;\n",
              "    }\n",
              "\n",
              "    [theme=dark] .colab-df-convert:hover {\n",
              "      background-color: #434B5C;\n",
              "      box-shadow: 0px 1px 3px 1px rgba(0, 0, 0, 0.15);\n",
              "      filter: drop-shadow(0px 1px 2px rgba(0, 0, 0, 0.3));\n",
              "      fill: #FFFFFF;\n",
              "    }\n",
              "  </style>\n",
              "\n",
              "      <script>\n",
              "        const buttonEl =\n",
              "          document.querySelector('#df-0f01d597-bd31-4305-9f43-6a53f9d29417 button.colab-df-convert');\n",
              "        buttonEl.style.display =\n",
              "          google.colab.kernel.accessAllowed ? 'block' : 'none';\n",
              "\n",
              "        async function convertToInteractive(key) {\n",
              "          const element = document.querySelector('#df-0f01d597-bd31-4305-9f43-6a53f9d29417');\n",
              "          const dataTable =\n",
              "            await google.colab.kernel.invokeFunction('convertToInteractive',\n",
              "                                                     [key], {});\n",
              "          if (!dataTable) return;\n",
              "\n",
              "          const docLinkHtml = 'Like what you see? Visit the ' +\n",
              "            '<a target=\"_blank\" href=https://colab.research.google.com/notebooks/data_table.ipynb>data table notebook</a>'\n",
              "            + ' to learn more about interactive tables.';\n",
              "          element.innerHTML = '';\n",
              "          dataTable['output_type'] = 'display_data';\n",
              "          await google.colab.output.renderOutput(dataTable, element);\n",
              "          const docLink = document.createElement('div');\n",
              "          docLink.innerHTML = docLinkHtml;\n",
              "          element.appendChild(docLink);\n",
              "        }\n",
              "      </script>\n",
              "    </div>\n",
              "  </div>\n",
              "  "
            ]
          },
          "metadata": {},
          "execution_count": 145
        }
      ]
    },
    {
      "cell_type": "markdown",
      "metadata": {
        "id": "adOLogvMEJcz"
      },
      "source": [
        "# **Hyperparameter Tuning**\n",
        "XGBClassifier is giving highest accuracy , that's why by using GridSearchCV I will set Hyperparameters value"
      ]
    },
    {
      "cell_type": "code",
      "metadata": {
        "id": "OboAw6l9pfjD"
      },
      "source": [
        "from sklearn.model_selection import cross_val_score , ShuffleSplit , GridSearchCV"
      ],
      "execution_count": null,
      "outputs": []
    },
    {
      "cell_type": "code",
      "metadata": {
        "id": "XQR9E1Q4pflb"
      },
      "source": [
        "Model = XGBClassifier(gamma=0,subsample=0.8,colsample_bytree=0.8 , reg_alpha=0.005)"
      ],
      "execution_count": null,
      "outputs": []
    },
    {
      "cell_type": "code",
      "metadata": {
        "id": "JtcIbFJLpfoA",
        "colab": {
          "base_uri": "https://localhost:8080/"
        },
        "outputId": "42f23b7d-b60c-4643-8716-ce470d059999"
      },
      "source": [
        "params = {\n",
        "    'learning_rate': [0.05,0.1, 0.15],\n",
        "              'max_depth': [5,6,7,8],\n",
        "              'n_estimators': [25,40,50]\n",
        "              \n",
        "        }\n",
        "gridsearch = GridSearchCV(Model , params , cv=5, return_train_score=True,refit='recall_score')\n",
        "gridsearch.fit(xtrain , ytrain )"
      ],
      "execution_count": null,
      "outputs": [
        {
          "output_type": "execute_result",
          "data": {
            "text/plain": [
              "GridSearchCV(cv=5,\n",
              "             estimator=XGBClassifier(colsample_bytree=0.8, reg_alpha=0.005,\n",
              "                                     subsample=0.8),\n",
              "             param_grid={'learning_rate': [0.05, 0.1, 0.15],\n",
              "                         'max_depth': [5, 6, 7, 8],\n",
              "                         'n_estimators': [25, 40, 50]},\n",
              "             refit='recall_score', return_train_score=True)"
            ]
          },
          "metadata": {},
          "execution_count": 151
        }
      ]
    },
    {
      "cell_type": "code",
      "metadata": {
        "id": "l0ftVuRepfqV",
        "colab": {
          "base_uri": "https://localhost:8080/"
        },
        "outputId": "5ea7d622-6308-433b-9996-ea8734b343a3"
      },
      "source": [
        "print(gridsearch.best_params_)"
      ],
      "execution_count": null,
      "outputs": [
        {
          "output_type": "stream",
          "name": "stdout",
          "text": [
            "{'learning_rate': 0.15, 'max_depth': 8, 'n_estimators': 50}\n"
          ]
        }
      ]
    },
    {
      "cell_type": "markdown",
      "metadata": {
        "id": "y6GtZw_7EfyH"
      },
      "source": [
        "Now we got the best values of our hyperparameters,\n",
        "\n",
        "#### Let's build the FinalModel"
      ]
    },
    {
      "cell_type": "code",
      "metadata": {
        "colab": {
          "base_uri": "https://localhost:8080/"
        },
        "id": "a_umaCHCEkwO",
        "outputId": "afd69f47-5a1b-4b24-9152-65bb0533f24c"
      },
      "source": [
        "gridsearch_predictions = gridsearch.predict( xtest ) \n",
        "  \n",
        "# print classification report \n",
        "print(classification_report(ytest, gridsearch_predictions)) "
      ],
      "execution_count": null,
      "outputs": [
        {
          "output_type": "stream",
          "name": "stdout",
          "text": [
            "              precision    recall  f1-score   support\n",
            "\n",
            "           0       0.91      0.83      0.87     66847\n",
            "           1       0.84      0.92      0.88     66913\n",
            "\n",
            "    accuracy                           0.87    133760\n",
            "   macro avg       0.88      0.87      0.87    133760\n",
            "weighted avg       0.88      0.87      0.87    133760\n",
            "\n"
          ]
        }
      ]
    },
    {
      "cell_type": "code",
      "metadata": {
        "colab": {
          "base_uri": "https://localhost:8080/"
        },
        "id": "mGPXxnXfEk2b",
        "outputId": "dc5c200a-b1a6-439b-944a-5cd30c7d86ec"
      },
      "source": [
        "Grid_predict_proba = gridsearch.predict_proba(xtest)[:,1]\n",
        "\n",
        "AUC_XG_Best = roc_auc_score(gridsearch_predictions ,ytest)\n",
        "acc_XG_Best = accuracy_score(gridsearch_predictions ,y_pred)\n",
        "recall_XG_Best = recall_score(gridsearch_predictions ,y_pred)\n",
        "precision_XG_Best = precision_score(ytest,gridsearch_predictions )\n",
        "f1score_XG_Best = f1_score(ytest,gridsearch_predictions )\n",
        "\n",
        "#print accuracy and Auc values of model\n",
        "print(\"Accuracy : \", round(accuracy_score(ytest,gridsearch_predictions) , 3))\n",
        "print(\"Precision:\" , round(precision_score(ytest,gridsearch_predictions) , 3))\n",
        "print(\"Recall:\" , round(recall_score(ytest, gridsearch_predictions ), 3))\n",
        "print(\"F1-Score:\" , round(f1_score(ytest, gridsearch_predictions ) , 3))\n",
        "print(\"ROC_AUC Score:\" , round(AUC_LR , 3))"
      ],
      "execution_count": null,
      "outputs": [
        {
          "output_type": "stream",
          "name": "stdout",
          "text": [
            "Accuracy :  0.873\n",
            "Precision: 0.843\n",
            "Recall: 0.917\n",
            "F1-Score: 0.878\n",
            "ROC_AUC Score: 0.804\n"
          ]
        }
      ]
    },
    {
      "cell_type": "code",
      "metadata": {
        "id": "FVJYHT4Rpfse",
        "colab": {
          "base_uri": "https://localhost:8080/"
        },
        "outputId": "38617225-5bb2-4a0b-bb30-c61ae8abc64b"
      },
      "source": [
        "print(classification_report(y_pred , gridsearch_predictions ))"
      ],
      "execution_count": null,
      "outputs": [
        {
          "output_type": "stream",
          "name": "stdout",
          "text": [
            "              precision    recall  f1-score   support\n",
            "\n",
            "           0       0.92      0.89      0.91     63413\n",
            "           1       0.90      0.93      0.92     70347\n",
            "\n",
            "    accuracy                           0.91    133760\n",
            "   macro avg       0.91      0.91      0.91    133760\n",
            "weighted avg       0.91      0.91      0.91    133760\n",
            "\n"
          ]
        }
      ]
    },
    {
      "cell_type": "code",
      "metadata": {
        "colab": {
          "base_uri": "https://localhost:8080/",
          "height": 410
        },
        "id": "DrTuX756EiRb",
        "outputId": "777421f3-6d8d-4b23-cd0a-e276b7f255ec"
      },
      "source": [
        "fpr, tpr, _ = roc_curve(ytest, Grid_predict_proba)\n",
        "\n",
        "plt.figure( figsize = ( 6 , 6 ))\n",
        "plt.title('XG Classification(with Hyperparameters) ROC curve')\n",
        "plt.xlabel('FPR (Precision)')\n",
        "plt.ylabel('TPR (Recall)')\n",
        "\n",
        "plt.plot(fpr,tpr)\n",
        "plt.plot((0,1), ls='dashed',color='black')\n",
        "plt.show()"
      ],
      "execution_count": null,
      "outputs": [
        {
          "output_type": "display_data",
          "data": {
            "text/plain": [
              "<Figure size 432x432 with 1 Axes>"
            ],
            "image/png": "[encoded data removed]"
          },
          "metadata": {}
        }
      ]
    },
    {
      "cell_type": "code",
      "metadata": {
        "colab": {
          "base_uri": "https://localhost:8080/",
          "height": 320
        },
        "id": "1P5IBMXYEiUK",
        "outputId": "c9d2711d-b3ad-4631-fe7c-4389079b5709"
      },
      "source": [
        "cm=confusion_matrix(y_pred,ytest)\n",
        "print(cm)\n",
        "plt.figure( figsize = ( 4 , 4 ))\n",
        "sns.heatmap(cm,annot=True,cmap='RdPu')"
      ],
      "execution_count": null,
      "outputs": [
        {
          "output_type": "stream",
          "name": "stdout",
          "text": [
            "[[57574  5839]\n",
            " [ 9273 61074]]\n"
          ]
        },
        {
          "output_type": "execute_result",
          "data": {
            "text/plain": [
              "<matplotlib.axes._subplots.AxesSubplot at 0x7f030b46f4d0>"
            ]
          },
          "metadata": {},
          "execution_count": 157
        },
        {
          "output_type": "display_data",
          "data": {
            "text/plain": [
              "<Figure size 288x288 with 2 Axes>"
            ],
            "image/png": "[encoded data removed]"
          },
          "metadata": {}
        }
      ]
    },
    {
      "cell_type": "markdown",
      "metadata": {
        "id": "jK11uMtKExtZ"
      },
      "source": [
        "# **Final Result**"
      ]
    },
    {
      "cell_type": "code",
      "metadata": {
        "colab": {
          "base_uri": "https://localhost:8080/",
          "height": 112
        },
        "id": "Eeys_v45EiW0",
        "outputId": "aef658d1-48b4-4e17-eb12-e88a5a8d9545"
      },
      "source": [
        "ind=['XGBClassifier','XGBClassifier(Using Hyper.)']\n",
        "data={\"Accuracy\":[acc_xgb , acc_XG_Best],\"Recall\":[ recall_xgb , recall_XG_Best],\"Precision\":[ precision_xgb , precision_XG_Best],\n",
        "    'f1_score':[ f1score_xgb , f1score_XG_Best],\"ROC_AUC\":[ AUC_xgb , AUC_XG_Best]}\n",
        "result=pd.DataFrame(data=data,index=ind)\n",
        "result"
      ],
      "execution_count": null,
      "outputs": [
        {
          "output_type": "execute_result",
          "data": {
            "text/plain": [
              "                             Accuracy    Recall  Precision  f1_score   ROC_AUC\n",
              "XGBClassifier                0.838659  0.934781   0.784156  0.852869  0.851666\n",
              "XGBClassifier(Using Hyper.)  0.912560  0.902928   0.842761  0.878162  0.875660"
            ],
            "text/html": [
              "\n",
              "  <div id=\"df-706e307f-7e08-4968-ba39-ef88089a9466\">\n",
              "    <div class=\"colab-df-container\">\n",
              "      <div>\n",
              "<style scoped>\n",
              "    .dataframe tbody tr th:only-of-type {\n",
              "        vertical-align: middle;\n",
              "    }\n",
              "\n",
              "    .dataframe tbody tr th {\n",
              "        vertical-align: top;\n",
              "    }\n",
              "\n",
              "    .dataframe thead th {\n",
              "        text-align: right;\n",
              "    }\n",
              "</style>\n",
              "<table border=\"1\" class=\"dataframe\">\n",
              "  <thead>\n",
              "    <tr style=\"text-align: right;\">\n",
              "      <th></th>\n",
              "      <th>Accuracy</th>\n",
              "      <th>Recall</th>\n",
              "      <th>Precision</th>\n",
              "      <th>f1_score</th>\n",
              "      <th>ROC_AUC</th>\n",
              "    </tr>\n",
              "  </thead>\n",
              "  <tbody>\n",
              "    <tr>\n",
              "      <th>XGBClassifier</th>\n",
              "      <td>0.838659</td>\n",
              "      <td>0.934781</td>\n",
              "      <td>0.784156</td>\n",
              "      <td>0.852869</td>\n",
              "      <td>0.851666</td>\n",
              "    </tr>\n",
              "    <tr>\n",
              "      <th>XGBClassifier(Using Hyper.)</th>\n",
              "      <td>0.912560</td>\n",
              "      <td>0.902928</td>\n",
              "      <td>0.842761</td>\n",
              "      <td>0.878162</td>\n",
              "      <td>0.875660</td>\n",
              "    </tr>\n",
              "  </tbody>\n",
              "</table>\n",
              "</div>\n",
              "      <button class=\"colab-df-convert\" onclick=\"convertToInteractive('df-706e307f-7e08-4968-ba39-ef88089a9466')\"\n",
              "              title=\"Convert this dataframe to an interactive table.\"\n",
              "              style=\"display:none;\">\n",
              "        \n",
              "  <svg xmlns=\"http://www.w3.org/2000/svg\" height=\"24px\"viewBox=\"0 0 24 24\"\n",
              "       width=\"24px\">\n",
              "    <path d=\"M0 0h24v24H0V0z\" fill=\"none\"/>\n",
              "    <path d=\"M18.56 5.44l.94 2.06.94-2.06 2.06-.94-2.06-.94-.94-2.06-.94 2.06-2.06.94zm-11 1L8.5 8.5l.94-2.06 2.06-.94-2.06-.94L8.5 2.5l-.94 2.06-2.06.94zm10 10l.94 2.06.94-2.06 2.06-.94-2.06-.94-.94-2.06-.94 2.06-2.06.94z\"/><path d=\"M17.41 7.96l-1.37-1.37c-.4-.4-.92-.59-1.43-.59-.52 0-1.04.2-1.43.59L10.3 9.45l-7.72 7.72c-.78.78-.78 2.05 0 2.83L4 21.41c.39.39.9.59 1.41.59.51 0 1.02-.2 1.41-.59l7.78-7.78 2.81-2.81c.8-.78.8-2.07 0-2.86zM5.41 20L4 18.59l7.72-7.72 1.47 1.35L5.41 20z\"/>\n",
              "  </svg>\n",
              "      </button>\n",
              "      \n",
              "  <style>\n",
              "    .colab-df-container {\n",
              "      display:flex;\n",
              "      flex-wrap:wrap;\n",
              "      gap: 12px;\n",
              "    }\n",
              "\n",
              "    .colab-df-convert {\n",
              "      background-color: #E8F0FE;\n",
              "      border: none;\n",
              "      border-radius: 50%;\n",
              "      cursor: pointer;\n",
              "      display: none;\n",
              "      fill: #1967D2;\n",
              "      height: 32px;\n",
              "      padding: 0 0 0 0;\n",
              "      width: 32px;\n",
              "    }\n",
              "\n",
              "    .colab-df-convert:hover {\n",
              "      background-color: #E2EBFA;\n",
              "      box-shadow: 0px 1px 2px rgba(60, 64, 67, 0.3), 0px 1px 3px 1px rgba(60, 64, 67, 0.15);\n",
              "      fill: #174EA6;\n",
              "    }\n",
              "\n",
              "    [theme=dark] .colab-df-convert {\n",
              "      background-color: #3B4455;\n",
              "      fill: #D2E3FC;\n",
              "    }\n",
              "\n",
              "    [theme=dark] .colab-df-convert:hover {\n",
              "      background-color: #434B5C;\n",
              "      box-shadow: 0px 1px 3px 1px rgba(0, 0, 0, 0.15);\n",
              "      filter: drop-shadow(0px 1px 2px rgba(0, 0, 0, 0.3));\n",
              "      fill: #FFFFFF;\n",
              "    }\n",
              "  </style>\n",
              "\n",
              "      <script>\n",
              "        const buttonEl =\n",
              "          document.querySelector('#df-706e307f-7e08-4968-ba39-ef88089a9466 button.colab-df-convert');\n",
              "        buttonEl.style.display =\n",
              "          google.colab.kernel.accessAllowed ? 'block' : 'none';\n",
              "\n",
              "        async function convertToInteractive(key) {\n",
              "          const element = document.querySelector('#df-706e307f-7e08-4968-ba39-ef88089a9466');\n",
              "          const dataTable =\n",
              "            await google.colab.kernel.invokeFunction('convertToInteractive',\n",
              "                                                     [key], {});\n",
              "          if (!dataTable) return;\n",
              "\n",
              "          const docLinkHtml = 'Like what you see? Visit the ' +\n",
              "            '<a target=\"_blank\" href=https://colab.research.google.com/notebooks/data_table.ipynb>data table notebook</a>'\n",
              "            + ' to learn more about interactive tables.';\n",
              "          element.innerHTML = '';\n",
              "          dataTable['output_type'] = 'display_data';\n",
              "          await google.colab.output.renderOutput(dataTable, element);\n",
              "          const docLink = document.createElement('div');\n",
              "          docLink.innerHTML = docLinkHtml;\n",
              "          element.appendChild(docLink);\n",
              "        }\n",
              "      </script>\n",
              "    </div>\n",
              "  </div>\n",
              "  "
            ]
          },
          "metadata": {},
          "execution_count": 158
        }
      ]
    },
    {
      "cell_type": "markdown",
      "metadata": {
        "id": "n0n4G_ssE4Hm"
      },
      "source": [
        "* As you can see after using Hyperparameters Accuracy , Precision , f1_score , ROC_AUC Increased(tiny change) , Recall decresed\n",
        "* But the change is very low , If u wish then you can ignore it also."
      ]
    },
    {
      "cell_type": "code",
      "metadata": {
        "id": "d_9ZK2FvEiYU"
      },
      "source": [
        ""
      ],
      "execution_count": null,
      "outputs": []
    },
    {
      "cell_type": "markdown",
      "metadata": {
        "id": "IqfhnGKcFBeS"
      },
      "source": [
        "# **Conclusion**\n",
        "The ML model for the problem statement was created using python with the help of the dataset, and the ML model created with Random Forest and XGBClassifier models performed better than Logistics Regression model. Thus, for the given problem, the models created by XGBClassifier is preferred.\n",
        "1. Customers of age between 30 to 60 are more likely to buy insurance.\n",
        "2. Customers with Driving License have higher chance of buying Insurance.\n",
        "3. Customers with Vehicle_Damage are likely to buy insurance.\n",
        "4. The variable such as Previously_insured , Vehcile_Damage are more affecting the target variable.\n",
        "5. The variable such as Driving_License , Gender are not affecting the target variable.\n",
        "\n"
      ]
    },
    {
      "cell_type": "code",
      "metadata": {
        "id": "-P9yBEpcEiaV"
      },
      "source": [
        ""
      ],
      "execution_count": null,
      "outputs": []
    },
    {
      "cell_type": "code",
      "metadata": {
        "id": "14TlRfT2Eidj"
      },
      "source": [
        ""
      ],
      "execution_count": null,
      "outputs": []
    },
    {
      "cell_type": "code",
      "metadata": {
        "id": "yRb1XYgHEifU"
      },
      "source": [
        ""
      ],
      "execution_count": null,
      "outputs": []
    },
    {
      "cell_type": "code",
      "metadata": {
        "id": "QoI0T6M-Eig7"
      },
      "source": [
        ""
      ],
      "execution_count": null,
      "outputs": []
    }
  ]
}