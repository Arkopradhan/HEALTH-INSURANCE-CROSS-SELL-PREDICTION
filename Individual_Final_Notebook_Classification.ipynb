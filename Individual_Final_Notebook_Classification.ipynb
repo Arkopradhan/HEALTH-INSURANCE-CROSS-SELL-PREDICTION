{
  "nbformat": 4,
  "nbformat_minor": 0,
  "metadata": {
    "colab": {
      "name": "  Individual Final Notebook_Classification.ipynb",
      "provenance": [],
      "collapsed_sections": [],
      "include_colab_link": true
    },
    "kernelspec": {
      "name": "python3",
      "display_name": "Python 3"
    },
    "language_info": {
      "name": "python"
    }
  },
  "cells": [
    {
      "cell_type": "markdown",
      "metadata": {
        "id": "view-in-github",
        "colab_type": "text"
      },
      "source": [
        "<a href=\"https://colab.research.google.com/github/Arkopradhan/HEALTH-INSURANCE-CROSS-SELL-PREDICTION/blob/main/Individual_Final_Notebook_Classification.ipynb\" target=\"_parent\"><img src=\"https://colab.research.google.com/assets/colab-badge.svg\" alt=\"Open In Colab\"/></a>"
      ]
    },
    {
      "cell_type": "markdown",
      "metadata": {
        "id": "LGcl5Bv9ed6u"
      },
      "source": [
        "# **Problem Statement**"
      ]
    },
    {
      "cell_type": "markdown",
      "metadata": {
        "id": "jJAmGx75jJk1"
      },
      "source": [
        "Our client is an Insurance company that has provided Health Insurance to its customers now they need your help in building a model to predict whether the policyholders (customers) from past year will also be interested in Vehicle Insurance provided by the company.\n",
        "\n",
        "An insurance policy is an arrangement by which a company undertakes to provide a guarantee of compensation for specified loss, damage, illness, or death in return for the payment of a specified premium. A premium is a sum of money that the customer needs to pay regularly to an insurance company for this guarantee.\n",
        "\n",
        "For example, you may pay a premium of Rs. 5000 each year for a health insurance cover of Rs. 200,000/- so that if, God forbid, you fall ill and need to be hospitalised in that year, the insurance provider company will bear the cost of hospitalisation etc. for upto Rs. 200,000. Now if you are wondering how can company bear such high hospitalisation cost when it charges a premium of only Rs. 5000/-, that is where the concept of probabilities comes in picture. For example, like you, there may be 100 customers who would be paying a premium of Rs. 5000 every year, but only a few of them (say 2-3) would get hospitalised that year and not everyone. This way everyone shares the risk of everyone else.\n",
        "\n",
        "Just like medical insurance, there is vehicle insurance where every year customer needs to pay a premium of certain amount to insurance provider company so that in case of unfortunate accident by the vehicle, the insurance provider company will provide a compensation (called ‘sum assured’) to the customer.\n",
        "\n",
        "Building a model to predict whether a customer would be interested in Vehicle Insurance is extremely helpful for the company because it can then accordingly plan its communication strategy to reach out to those customers and optimise its business model and revenue.\n",
        "\n",
        "Now, in order to predict, whether the customer would be interested in Vehicle insurance, you have information about demographics (gender, age, region code type), Vehicles (Vehicle Age, Damage), Policy (Premium, sourcing channel) etc."
      ]
    },
    {
      "cell_type": "markdown",
      "metadata": {
        "id": "AzGDqdC4fZ-b"
      },
      "source": [
        "# **Attribute Information**"
      ]
    },
    {
      "cell_type": "markdown",
      "metadata": {
        "id": "oEJxl68MjYbs"
      },
      "source": [
        "1. id :\tUnique ID for the customer\n",
        "\n",
        "2. Gender\t: Gender of the customer\n",
        "\n",
        "3. Age :\tAge of the customer\n",
        "\n",
        "4. Driving_License\t0 : Customer does not have DL, 1 : Customer already has DL\n",
        "\n",
        "5. Region_Code :\tUnique code for the region of the customer\n",
        "\n",
        "6. Previously_Insured\t: 1 : Customer already has Vehicle Insurance, 0 : Customer doesn't have Vehicle Insurance\n",
        "\n",
        "7. Vehicle_Age :\tAge of the Vehicle\n",
        "\n",
        "8. Vehicle_Damage\t :1 : Customer got his/her vehicle damaged in the past. 0 : Customer didn't get his/her vehicle damaged in the past.\n",
        "\n",
        "9. Annual_Premium\t: The amount customer needs to pay as premium in the year\n",
        "\n",
        "10. PolicySalesChannel :\tAnonymized Code for the channel of outreaching to the customer ie. Different Agents, Over Mail, Over Phone, In Person, etc.\n",
        "\n",
        "11. Vintage :\tNumber of Days, Customer has been associated with the company\n",
        "\n",
        "12. Response :\t1 : Customer is interested, 0 : Customer is not interested"
      ]
    },
    {
      "cell_type": "markdown",
      "metadata": {
        "id": "HpsiSsAyvD_-"
      },
      "source": [
        "# **Contents**\n",
        "1. Importing Libraries\n",
        "2. Import Data\n",
        "3. Data Summary\n",
        "4. Exploratory Data Analysis and Visualization\n",
        "5. Data Cleaning \n",
        "6. Feature Selection\n",
        "7. Model Selection\n",
        "8. Hyperparameter Tuning\n",
        "9. Conclusion"
      ]
    },
    {
      "cell_type": "code",
      "metadata": {
        "id": "3Wcy4fxVpdTZ",
        "colab": {
          "base_uri": "https://localhost:8080/"
        },
        "outputId": "1d55e64a-2286-4e14-9173-37abb3585bfc"
      },
      "source": [
        "!pip install imblearn"
      ],
      "execution_count": null,
      "outputs": [
        {
          "output_type": "stream",
          "name": "stdout",
          "text": [
            "Requirement already satisfied: imblearn in /usr/local/lib/python3.7/dist-packages (0.0)\n",
            "Requirement already satisfied: imbalanced-learn in /usr/local/lib/python3.7/dist-packages (from imblearn) (0.8.1)\n",
            "Requirement already satisfied: scikit-learn>=0.24 in /usr/local/lib/python3.7/dist-packages (from imbalanced-learn->imblearn) (1.0.1)\n",
            "Requirement already satisfied: numpy>=1.13.3 in /usr/local/lib/python3.7/dist-packages (from imbalanced-learn->imblearn) (1.19.5)\n",
            "Requirement already satisfied: scipy>=0.19.1 in /usr/local/lib/python3.7/dist-packages (from imbalanced-learn->imblearn) (1.4.1)\n",
            "Requirement already satisfied: joblib>=0.11 in /usr/local/lib/python3.7/dist-packages (from imbalanced-learn->imblearn) (1.1.0)\n",
            "Requirement already satisfied: threadpoolctl>=2.0.0 in /usr/local/lib/python3.7/dist-packages (from scikit-learn>=0.24->imbalanced-learn->imblearn) (3.0.0)\n"
          ]
        }
      ]
    },
    {
      "cell_type": "markdown",
      "metadata": {
        "id": "e0t0UZZFvca5"
      },
      "source": [
        "**Importing Libraries**"
      ]
    },
    {
      "cell_type": "code",
      "metadata": {
        "id": "7SVE7s1KpdVu"
      },
      "source": [
        "# import libraries\n",
        "import pandas  as pd\n",
        "import numpy as np\n",
        "import seaborn as sns\n",
        "import matplotlib.pyplot as plt\n",
        "import warnings\n",
        "warnings.filterwarnings('ignore')\n",
        "\n",
        "# Used in data preprocessing\n",
        "from sklearn.preprocessing import LabelEncoder \n",
        "from sklearn.preprocessing import StandardScaler\n",
        "\n",
        "#used to split dataset\n",
        "from sklearn.model_selection import train_test_split\n",
        "\n",
        "#used to resampling(when our dependent variable is imbalanced)\n",
        "from imblearn.over_sampling import RandomOverSampler\n",
        "from collections import Counter\n",
        "\n",
        "\n",
        "#Ml algorithms\n",
        "from sklearn.ensemble import RandomForestClassifier\n",
        "from xgboost import XGBClassifier\n",
        "from sklearn.linear_model import LogisticRegression\n",
        "\n",
        "\n",
        "#used in feature selection\n",
        "from sklearn.ensemble import ExtraTreesClassifier\n",
        "\n",
        "\n",
        "\n",
        "from sklearn.metrics import precision_score \n",
        "from sklearn.metrics import recall_score \n",
        "from sklearn.metrics import accuracy_score\n",
        "from sklearn.metrics import f1_score\n",
        "from sklearn.metrics import confusion_matrix\n",
        "from sklearn.metrics import roc_auc_score\n",
        "from sklearn.metrics import classification_report\n",
        "\n",
        "sns.set_theme(style=\"darkgrid\")"
      ],
      "execution_count": null,
      "outputs": []
    },
    {
      "cell_type": "markdown",
      "metadata": {
        "id": "uAL5t9fkvl2l"
      },
      "source": [
        "# **Import Data**"
      ]
    },
    {
      "cell_type": "code",
      "metadata": {
        "id": "IZVHzPUVpdXs",
        "colab": {
          "base_uri": "https://localhost:8080/"
        },
        "outputId": "acdbb221-593b-489e-a73f-f6c4730ecf5d"
      },
      "source": [
        "# mounting google drive\n",
        "from google.colab import drive\n",
        "drive.mount('/content/drive')"
      ],
      "execution_count": null,
      "outputs": [
        {
          "output_type": "stream",
          "name": "stdout",
          "text": [
            "Mounted at /content/drive\n"
          ]
        }
      ]
    },
    {
      "cell_type": "code",
      "metadata": {
        "id": "VNIdW6UxpdZ-",
        "colab": {
          "base_uri": "https://localhost:8080/",
          "height": 206
        },
        "outputId": "c50121d5-a50a-462c-95fe-05a6fb103d65"
      },
      "source": [
        "df = pd.read_csv('/content/drive/MyDrive/DATASETS/TRAIN-HEALTH INSURANCE CROSS SELL PREDICTION.csv')\n",
        "df.head()"
      ],
      "execution_count": null,
      "outputs": [
        {
          "output_type": "execute_result",
          "data": {
            "text/html": [
              "<div>\n",
              "<style scoped>\n",
              "    .dataframe tbody tr th:only-of-type {\n",
              "        vertical-align: middle;\n",
              "    }\n",
              "\n",
              "    .dataframe tbody tr th {\n",
              "        vertical-align: top;\n",
              "    }\n",
              "\n",
              "    .dataframe thead th {\n",
              "        text-align: right;\n",
              "    }\n",
              "</style>\n",
              "<table border=\"1\" class=\"dataframe\">\n",
              "  <thead>\n",
              "    <tr style=\"text-align: right;\">\n",
              "      <th></th>\n",
              "      <th>id</th>\n",
              "      <th>Gender</th>\n",
              "      <th>Age</th>\n",
              "      <th>Driving_License</th>\n",
              "      <th>Region_Code</th>\n",
              "      <th>Previously_Insured</th>\n",
              "      <th>Vehicle_Age</th>\n",
              "      <th>Vehicle_Damage</th>\n",
              "      <th>Annual_Premium</th>\n",
              "      <th>Policy_Sales_Channel</th>\n",
              "      <th>Vintage</th>\n",
              "      <th>Response</th>\n",
              "    </tr>\n",
              "  </thead>\n",
              "  <tbody>\n",
              "    <tr>\n",
              "      <th>0</th>\n",
              "      <td>1</td>\n",
              "      <td>Male</td>\n",
              "      <td>44</td>\n",
              "      <td>1</td>\n",
              "      <td>28.0</td>\n",
              "      <td>0</td>\n",
              "      <td>&gt; 2 Years</td>\n",
              "      <td>Yes</td>\n",
              "      <td>40454.0</td>\n",
              "      <td>26.0</td>\n",
              "      <td>217</td>\n",
              "      <td>1</td>\n",
              "    </tr>\n",
              "    <tr>\n",
              "      <th>1</th>\n",
              "      <td>2</td>\n",
              "      <td>Male</td>\n",
              "      <td>76</td>\n",
              "      <td>1</td>\n",
              "      <td>3.0</td>\n",
              "      <td>0</td>\n",
              "      <td>1-2 Year</td>\n",
              "      <td>No</td>\n",
              "      <td>33536.0</td>\n",
              "      <td>26.0</td>\n",
              "      <td>183</td>\n",
              "      <td>0</td>\n",
              "    </tr>\n",
              "    <tr>\n",
              "      <th>2</th>\n",
              "      <td>3</td>\n",
              "      <td>Male</td>\n",
              "      <td>47</td>\n",
              "      <td>1</td>\n",
              "      <td>28.0</td>\n",
              "      <td>0</td>\n",
              "      <td>&gt; 2 Years</td>\n",
              "      <td>Yes</td>\n",
              "      <td>38294.0</td>\n",
              "      <td>26.0</td>\n",
              "      <td>27</td>\n",
              "      <td>1</td>\n",
              "    </tr>\n",
              "    <tr>\n",
              "      <th>3</th>\n",
              "      <td>4</td>\n",
              "      <td>Male</td>\n",
              "      <td>21</td>\n",
              "      <td>1</td>\n",
              "      <td>11.0</td>\n",
              "      <td>1</td>\n",
              "      <td>&lt; 1 Year</td>\n",
              "      <td>No</td>\n",
              "      <td>28619.0</td>\n",
              "      <td>152.0</td>\n",
              "      <td>203</td>\n",
              "      <td>0</td>\n",
              "    </tr>\n",
              "    <tr>\n",
              "      <th>4</th>\n",
              "      <td>5</td>\n",
              "      <td>Female</td>\n",
              "      <td>29</td>\n",
              "      <td>1</td>\n",
              "      <td>41.0</td>\n",
              "      <td>1</td>\n",
              "      <td>&lt; 1 Year</td>\n",
              "      <td>No</td>\n",
              "      <td>27496.0</td>\n",
              "      <td>152.0</td>\n",
              "      <td>39</td>\n",
              "      <td>0</td>\n",
              "    </tr>\n",
              "  </tbody>\n",
              "</table>\n",
              "</div>"
            ],
            "text/plain": [
              "   id  Gender  Age  ...  Policy_Sales_Channel  Vintage  Response\n",
              "0   1    Male   44  ...                  26.0      217         1\n",
              "1   2    Male   76  ...                  26.0      183         0\n",
              "2   3    Male   47  ...                  26.0       27         1\n",
              "3   4    Male   21  ...                 152.0      203         0\n",
              "4   5  Female   29  ...                 152.0       39         0\n",
              "\n",
              "[5 rows x 12 columns]"
            ]
          },
          "metadata": {},
          "execution_count": 4
        }
      ]
    },
    {
      "cell_type": "markdown",
      "metadata": {
        "id": "2HObRoK2wGEV"
      },
      "source": [
        "# **Data Summary**\n",
        " #### Dataset shape\n",
        "#### A new DataFrame where we have columns name of this df along with datatype , missing value no , unique values no , first value , second value"
      ]
    },
    {
      "cell_type": "code",
      "metadata": {
        "id": "C2TZTJD-pdcA"
      },
      "source": [
        "def DataInfoAll(df):\n",
        "    print(f\"Dataset Shape: {df.shape}\")\n",
        "    print(\"-\"*75)\n",
        "    summary = pd.DataFrame(df.dtypes,columns=['dtypes'])\n",
        "    summary = summary.reset_index()\n",
        "    summary['Name'] = summary['index']\n",
        "    summary = summary[['Name','dtypes']]\n",
        "    summary['Missing'] = df.isnull().sum().values    \n",
        "    summary['Uniques'] = df.nunique().values\n",
        "    summary['First Value'] = df.iloc[0].values\n",
        "    summary['Second Value'] = df.iloc[1].values\n",
        "    return summary"
      ],
      "execution_count": null,
      "outputs": []
    },
    {
      "cell_type": "code",
      "metadata": {
        "id": "poRGYOFypdeH",
        "colab": {
          "base_uri": "https://localhost:8080/",
          "height": 460
        },
        "outputId": "79730a93-f89a-4b0b-8863-f0b1ad254731"
      },
      "source": [
        "DataInfoAll(df)"
      ],
      "execution_count": null,
      "outputs": [
        {
          "output_type": "stream",
          "name": "stdout",
          "text": [
            "Dataset Shape: (381109, 12)\n",
            "---------------------------------------------------------------------------\n"
          ]
        },
        {
          "output_type": "execute_result",
          "data": {
            "text/html": [
              "<div>\n",
              "<style scoped>\n",
              "    .dataframe tbody tr th:only-of-type {\n",
              "        vertical-align: middle;\n",
              "    }\n",
              "\n",
              "    .dataframe tbody tr th {\n",
              "        vertical-align: top;\n",
              "    }\n",
              "\n",
              "    .dataframe thead th {\n",
              "        text-align: right;\n",
              "    }\n",
              "</style>\n",
              "<table border=\"1\" class=\"dataframe\">\n",
              "  <thead>\n",
              "    <tr style=\"text-align: right;\">\n",
              "      <th></th>\n",
              "      <th>Name</th>\n",
              "      <th>dtypes</th>\n",
              "      <th>Missing</th>\n",
              "      <th>Uniques</th>\n",
              "      <th>First Value</th>\n",
              "      <th>Second Value</th>\n",
              "    </tr>\n",
              "  </thead>\n",
              "  <tbody>\n",
              "    <tr>\n",
              "      <th>0</th>\n",
              "      <td>id</td>\n",
              "      <td>int64</td>\n",
              "      <td>0</td>\n",
              "      <td>381109</td>\n",
              "      <td>1</td>\n",
              "      <td>2</td>\n",
              "    </tr>\n",
              "    <tr>\n",
              "      <th>1</th>\n",
              "      <td>Gender</td>\n",
              "      <td>object</td>\n",
              "      <td>0</td>\n",
              "      <td>2</td>\n",
              "      <td>Male</td>\n",
              "      <td>Male</td>\n",
              "    </tr>\n",
              "    <tr>\n",
              "      <th>2</th>\n",
              "      <td>Age</td>\n",
              "      <td>int64</td>\n",
              "      <td>0</td>\n",
              "      <td>66</td>\n",
              "      <td>44</td>\n",
              "      <td>76</td>\n",
              "    </tr>\n",
              "    <tr>\n",
              "      <th>3</th>\n",
              "      <td>Driving_License</td>\n",
              "      <td>int64</td>\n",
              "      <td>0</td>\n",
              "      <td>2</td>\n",
              "      <td>1</td>\n",
              "      <td>1</td>\n",
              "    </tr>\n",
              "    <tr>\n",
              "      <th>4</th>\n",
              "      <td>Region_Code</td>\n",
              "      <td>float64</td>\n",
              "      <td>0</td>\n",
              "      <td>53</td>\n",
              "      <td>28</td>\n",
              "      <td>3</td>\n",
              "    </tr>\n",
              "    <tr>\n",
              "      <th>5</th>\n",
              "      <td>Previously_Insured</td>\n",
              "      <td>int64</td>\n",
              "      <td>0</td>\n",
              "      <td>2</td>\n",
              "      <td>0</td>\n",
              "      <td>0</td>\n",
              "    </tr>\n",
              "    <tr>\n",
              "      <th>6</th>\n",
              "      <td>Vehicle_Age</td>\n",
              "      <td>object</td>\n",
              "      <td>0</td>\n",
              "      <td>3</td>\n",
              "      <td>&gt; 2 Years</td>\n",
              "      <td>1-2 Year</td>\n",
              "    </tr>\n",
              "    <tr>\n",
              "      <th>7</th>\n",
              "      <td>Vehicle_Damage</td>\n",
              "      <td>object</td>\n",
              "      <td>0</td>\n",
              "      <td>2</td>\n",
              "      <td>Yes</td>\n",
              "      <td>No</td>\n",
              "    </tr>\n",
              "    <tr>\n",
              "      <th>8</th>\n",
              "      <td>Annual_Premium</td>\n",
              "      <td>float64</td>\n",
              "      <td>0</td>\n",
              "      <td>48838</td>\n",
              "      <td>40454</td>\n",
              "      <td>33536</td>\n",
              "    </tr>\n",
              "    <tr>\n",
              "      <th>9</th>\n",
              "      <td>Policy_Sales_Channel</td>\n",
              "      <td>float64</td>\n",
              "      <td>0</td>\n",
              "      <td>155</td>\n",
              "      <td>26</td>\n",
              "      <td>26</td>\n",
              "    </tr>\n",
              "    <tr>\n",
              "      <th>10</th>\n",
              "      <td>Vintage</td>\n",
              "      <td>int64</td>\n",
              "      <td>0</td>\n",
              "      <td>290</td>\n",
              "      <td>217</td>\n",
              "      <td>183</td>\n",
              "    </tr>\n",
              "    <tr>\n",
              "      <th>11</th>\n",
              "      <td>Response</td>\n",
              "      <td>int64</td>\n",
              "      <td>0</td>\n",
              "      <td>2</td>\n",
              "      <td>1</td>\n",
              "      <td>0</td>\n",
              "    </tr>\n",
              "  </tbody>\n",
              "</table>\n",
              "</div>"
            ],
            "text/plain": [
              "                    Name   dtypes  Missing  Uniques First Value Second Value\n",
              "0                     id    int64        0   381109           1            2\n",
              "1                 Gender   object        0        2        Male         Male\n",
              "2                    Age    int64        0       66          44           76\n",
              "3        Driving_License    int64        0        2           1            1\n",
              "4            Region_Code  float64        0       53          28            3\n",
              "5     Previously_Insured    int64        0        2           0            0\n",
              "6            Vehicle_Age   object        0        3   > 2 Years     1-2 Year\n",
              "7         Vehicle_Damage   object        0        2         Yes           No\n",
              "8         Annual_Premium  float64        0    48838       40454        33536\n",
              "9   Policy_Sales_Channel  float64        0      155          26           26\n",
              "10               Vintage    int64        0      290         217          183\n",
              "11              Response    int64        0        2           1            0"
            ]
          },
          "metadata": {},
          "execution_count": 6
        }
      ]
    },
    {
      "cell_type": "markdown",
      "metadata": {
        "id": "HBm4eAGawUOJ"
      },
      "source": [
        "* There is no Null value present in this dataset\n",
        "\n",
        "* All the numerical values are present in integer or float datatype "
      ]
    },
    {
      "cell_type": "markdown",
      "metadata": {
        "id": "K0FOlCC6wXfV"
      },
      "source": [
        "# **Exploratory Data Analysis and Visualization**\n",
        "**Checking outliers in all the numerical columns**"
      ]
    },
    {
      "cell_type": "code",
      "metadata": {
        "id": "eeX1a86vpdgV",
        "colab": {
          "base_uri": "https://localhost:8080/",
          "height": 1000
        },
        "outputId": "078aa191-3dfe-4d9a-e13b-3124e1931ba9"
      },
      "source": [
        "import matplotlib.pyplot as plt\n",
        "df1 = df[list(df.describe())]\n",
        "\n",
        "for column in df1:\n",
        "        plt.figure(figsize=( 8 , 8))\n",
        "        plt.title(f'Boxplot for {column}' , fontsize = 15)\n",
        "        sns.boxplot(data=df1, x=column)\n"
      ],
      "execution_count": null,
      "outputs": [
        {
          "output_type": "display_data",
          "data": {
            "image/png": "[encoded data removed]",
            "text/plain": [
              "<Figure size 576x576 with 1 Axes>"
            ]
          },
          "metadata": {}
        },
        {
          "output_type": "display_data",
          "data": {
            "image/png": "[encoded data removed]",
            "text/plain": [
              "<Figure size 576x576 with 1 Axes>"
            ]
          },
          "metadata": {}
        },
        {
          "output_type": "display_data",
          "data": {
            "image/png": "[encoded data removed]",
            "text/plain": [
              "<Figure size 576x576 with 1 Axes>"
            ]
          },
          "metadata": {}
        },
        {
          "output_type": "display_data",
          "data": {
            "image/png": "[encoded data removed]",
            "text/plain": [
              "<Figure size 576x576 with 1 Axes>"
            ]
          },
          "metadata": {}
        },
        {
          "output_type": "display_data",
          "data": {
            "image/png": "[encoded data removed]",
            "text/plain": [
              "<Figure size 576x576 with 1 Axes>"
            ]
          },
          "metadata": {}
        },
        {
          "output_type": "display_data",
          "data": {
            "image/png": "[encoded data removed]",
            "text/plain": [
              "<Figure size 576x576 with 1 Axes>"
            ]
          },
          "metadata": {}
        },
        {
          "output_type": "display_data",
          "data": {
            "image/png": "[encoded data removed]",
            "text/plain": [
              "<Figure size 576x576 with 1 Axes>"
            ]
          },
          "metadata": {}
        },
        {
          "output_type": "display_data",
          "data": {
            "image/png": "[encoded data removed]",
            "text/plain": [
              "<Figure size 576x576 with 1 Axes>"
            ]
          },
          "metadata": {}
        },
        {
          "output_type": "display_data",
          "data": {
            "image/png": "[encoded data removed]",
            "text/plain": [
              "<Figure size 576x576 with 1 Axes>"
            ]
          },
          "metadata": {}
        }
      ]
    },
    {
      "cell_type": "markdown",
      "metadata": {
        "id": "7xatHF3Kw5uz"
      },
      "source": [
        "\n",
        " **Target Variable**"
      ]
    },
    {
      "cell_type": "code",
      "metadata": {
        "id": "lyT62POrpdiw",
        "colab": {
          "base_uri": "https://localhost:8080/",
          "height": 305
        },
        "outputId": "4768530f-e140-4fdb-dc08-d61f6a7d3b86"
      },
      "source": [
        "sns.set_theme(style=\"darkgrid\")\n",
        "sns.countplot(df['Response'] , data = df)"
      ],
      "execution_count": null,
      "outputs": [
        {
          "output_type": "execute_result",
          "data": {
            "text/plain": [
              "<matplotlib.axes._subplots.AxesSubplot at 0x7f563c063590>"
            ]
          },
          "metadata": {},
          "execution_count": 8
        },
        {
          "output_type": "display_data",
          "data": {
            "image/png": "[encoded data removed]",
            "text/plain": [
              "<Figure size 432x288 with 1 Axes>"
            ]
          },
          "metadata": {}
        }
      ]
    },
    {
      "cell_type": "markdown",
      "metadata": {
        "id": "VqPgl2QLxB3Q"
      },
      "source": [
        "The data is highly imbalanced.\n",
        "As you can see in above graph, there are very few interested customers whose stats are less than 50000 and those above 300000 are not interested"
      ]
    },
    {
      "cell_type": "markdown",
      "metadata": {
        "id": "SDcLCMAIxFl4"
      },
      "source": [
        "Let's check outlier present in all numerical columns\n"
      ]
    },
    {
      "cell_type": "code",
      "metadata": {
        "id": "xPrI5TMJpdk-",
        "colab": {
          "base_uri": "https://localhost:8080/",
          "height": 720
        },
        "outputId": "55c7d967-2b88-43c3-e944-7c783df76686"
      },
      "source": [
        "plt.rcParams['figure.figsize']=(20,12)\n",
        "ax = df[list(df.describe())].plot(kind='box', title='Boxplot', showmeans=True)\n",
        "\n",
        "plt.show()"
      ],
      "execution_count": null,
      "outputs": [
        {
          "output_type": "display_data",
          "data": {
            "image/png": "[encoded data removed]",
            "text/plain": [
              "<Figure size 1440x864 with 1 Axes>"
            ]
          },
          "metadata": {}
        }
      ]
    },
    {
      "cell_type": "markdown",
      "metadata": {
        "id": "i47Vl9ANxS35"
      },
      "source": [
        "As you can see\n",
        "1.  Annual_Premium has the highest outliers present in this dataset\n",
        "2.  Driving_License has very less outliers.\n",
        "3. Response has very less outliers."
      ]
    },
    {
      "cell_type": "markdown",
      "metadata": {
        "id": "avcutDC1xbDA"
      },
      "source": [
        "# **Gender**"
      ]
    },
    {
      "cell_type": "code",
      "metadata": {
        "id": "ZmzLsbhfpdnQ",
        "colab": {
          "base_uri": "https://localhost:8080/",
          "height": 355
        },
        "outputId": "0586e18e-66c2-45c0-9f65-96bea589873c"
      },
      "source": [
        "plt.figure(figsize = (13,5))\n",
        "plt.subplot(1,2,1)\n",
        "sns.countplot(df['Gender'],palette='husl')\n",
        "plt.title(\"Count of Male & Female\")\n",
        "plt.subplot(1,2,2)\n",
        "sns.countplot(df['Gender'], hue = df['Response'],palette=\"husl\")\n",
        "plt.title(\"Response in Male and Female Category\")\n",
        "plt.show()"
      ],
      "execution_count": null,
      "outputs": [
        {
          "output_type": "display_data",
          "data": {
            "image/png": "[encoded data removed]",
            "text/plain": [
              "<Figure size 936x360 with 2 Axes>"
            ]
          },
          "metadata": {}
        }
      ]
    },
    {
      "cell_type": "markdown",
      "metadata": {
        "id": "jBJ3VeVexjP5"
      },
      "source": [
        "* The gender variable ratio in the dataset is almost equal, male category is slightly more than female and also the chances of buying insurance is also little high than female.\n",
        "\n",
        "* The number of male is greater than 200000 and The number of female is close to 175000. The number of male is intersted which is greater than 25000 and The number of female is intersted which is below 25000.Male category is slightly greater than that of female and chances of buying the insurance is also little high\n",
        "\n"
      ]
    },
    {
      "cell_type": "markdown",
      "metadata": {
        "id": "EaktLwvdxva-"
      },
      "source": [
        "# **Age vs Response**"
      ]
    },
    {
      "cell_type": "code",
      "metadata": {
        "id": "t7-dcyvLpdpg",
        "colab": {
          "base_uri": "https://localhost:8080/"
        },
        "outputId": "12d95278-c935-4268-97c4-032bae29d4db"
      },
      "source": [
        "df.columns"
      ],
      "execution_count": null,
      "outputs": [
        {
          "output_type": "execute_result",
          "data": {
            "text/plain": [
              "Index(['id', 'Gender', 'Age', 'Driving_License', 'Region_Code',\n",
              "       'Previously_Insured', 'Vehicle_Age', 'Vehicle_Damage', 'Annual_Premium',\n",
              "       'Policy_Sales_Channel', 'Vintage', 'Response'],\n",
              "      dtype='object')"
            ]
          },
          "metadata": {},
          "execution_count": 11
        }
      ]
    },
    {
      "cell_type": "code",
      "metadata": {
        "id": "rAKhsRxgpdr2",
        "colab": {
          "base_uri": "https://localhost:8080/",
          "height": 628
        },
        "outputId": "1da36f50-26ab-4de0-c2f6-b28661f579b3"
      },
      "source": [
        "#### Age VS Response\n",
        "plt.figure(figsize=(20,10))\n",
        "sns.countplot(x='Age',hue='Response',data=df)"
      ],
      "execution_count": null,
      "outputs": [
        {
          "output_type": "execute_result",
          "data": {
            "text/plain": [
              "<matplotlib.axes._subplots.AxesSubplot at 0x7f563c5b9250>"
            ]
          },
          "metadata": {},
          "execution_count": 12
        },
        {
          "output_type": "display_data",
          "data": {
            "image/png": "[encoded data removed]",
            "text/plain": [
              "<Figure size 1440x720 with 1 Axes>"
            ]
          },
          "metadata": {}
        }
      ]
    },
    {
      "cell_type": "markdown",
      "metadata": {
        "id": "5F7uHc0wx644"
      },
      "source": [
        "# **Outlier present or not**"
      ]
    },
    {
      "cell_type": "code",
      "metadata": {
        "id": "52XQ_8dhpdt5",
        "colab": {
          "base_uri": "https://localhost:8080/",
          "height": 737
        },
        "outputId": "f6c5a348-1c78-42a6-9c7f-295b8269d109"
      },
      "source": [
        "sns.boxplot(df['Age'])"
      ],
      "execution_count": null,
      "outputs": [
        {
          "output_type": "execute_result",
          "data": {
            "text/plain": [
              "<matplotlib.axes._subplots.AxesSubplot at 0x7f563bde7c90>"
            ]
          },
          "metadata": {},
          "execution_count": 13
        },
        {
          "output_type": "display_data",
          "data": {
            "image/png": "[encoded data removed]",
            "text/plain": [
              "<Figure size 1440x864 with 1 Axes>"
            ]
          },
          "metadata": {}
        }
      ]
    },
    {
      "cell_type": "markdown",
      "metadata": {
        "id": "jXlZwyn1yKDS"
      },
      "source": [
        "* Young people below 30 are not interested in vehicle insurance. Reasons could be lack of experience, less maturity level and they don't have expensive vehicles yet.\n",
        "* People aged between 30-60 are more likely to be interested.\n",
        "* From the boxplot we can see that there no outlier in the data\n",
        "As you can see there is no outliers present in Age"
      ]
    },
    {
      "cell_type": "code",
      "metadata": {
        "id": "fIAzUl2epdwQ",
        "colab": {
          "base_uri": "https://localhost:8080/"
        },
        "outputId": "ff5a86c4-18a6-4543-8c1a-539cf5d148ef"
      },
      "source": [
        "df.Driving_License.value_counts()"
      ],
      "execution_count": null,
      "outputs": [
        {
          "output_type": "execute_result",
          "data": {
            "text/plain": [
              "1    380297\n",
              "0       812\n",
              "Name: Driving_License, dtype: int64"
            ]
          },
          "metadata": {},
          "execution_count": 14
        }
      ]
    },
    {
      "cell_type": "code",
      "metadata": {
        "id": "EN4VTQVcpdyf",
        "colab": {
          "base_uri": "https://localhost:8080/",
          "height": 414
        },
        "outputId": "98671fd5-de61-4de2-957d-678cbb18e4a7"
      },
      "source": [
        "plt.figure( figsize = (10 , 6))\n",
        "sns.countplot(df['Driving_License'],hue=df['Response'])"
      ],
      "execution_count": null,
      "outputs": [
        {
          "output_type": "execute_result",
          "data": {
            "text/plain": [
              "<matplotlib.axes._subplots.AxesSubplot at 0x7f563c79e7d0>"
            ]
          },
          "metadata": {},
          "execution_count": 15
        },
        {
          "output_type": "display_data",
          "data": {
            "image/png": "[encoded data removed]",
            "text/plain": [
              "<Figure size 720x432 with 1 Axes>"
            ]
          },
          "metadata": {}
        }
      ]
    },
    {
      "cell_type": "markdown",
      "metadata": {
        "id": "0sihaHdFyXwh"
      },
      "source": [
        "* Customers who are interested in Vehicle Insurance almost all have driving license"
      ]
    },
    {
      "cell_type": "markdown",
      "metadata": {
        "id": "gj8B56Zjyb9i"
      },
      "source": [
        "# **Previously_Insured Vs Response**"
      ]
    },
    {
      "cell_type": "code",
      "metadata": {
        "id": "7dEGAqEwpd3W",
        "colab": {
          "base_uri": "https://localhost:8080/",
          "height": 411
        },
        "outputId": "fea69859-69b2-4628-ad42-9c71d6a00982"
      },
      "source": [
        "plt.figure( figsize = (10 , 6))\n",
        "sns.countplot(x = 'Previously_Insured' , hue = 'Response' , data = df , palette = 'husl' )"
      ],
      "execution_count": null,
      "outputs": [
        {
          "output_type": "execute_result",
          "data": {
            "text/plain": [
              "<matplotlib.axes._subplots.AxesSubplot at 0x7f563ab101d0>"
            ]
          },
          "metadata": {},
          "execution_count": 16
        },
        {
          "output_type": "display_data",
          "data": {
            "image/png": "[encoded data removed]",
            "text/plain": [
              "<Figure size 720x432 with 1 Axes>"
            ]
          },
          "metadata": {}
        }
      ]
    },
    {
      "cell_type": "markdown",
      "metadata": {
        "id": "irs9uN2KyjCR"
      },
      "source": [
        "* Those who have not insurance some of them are taking insurance"
      ]
    },
    {
      "cell_type": "markdown",
      "metadata": {
        "id": "WVkkQX2OyqQo"
      },
      "source": [
        "# **Vehicle_Age Vs Response**"
      ]
    },
    {
      "cell_type": "code",
      "metadata": {
        "id": "NxJTOOhBpd5z",
        "colab": {
          "base_uri": "https://localhost:8080/"
        },
        "outputId": "74825383-dd4e-4d30-f17b-d07df5a8b1a9"
      },
      "source": [
        "df.Vehicle_Age.value_counts()"
      ],
      "execution_count": null,
      "outputs": [
        {
          "output_type": "execute_result",
          "data": {
            "text/plain": [
              "1-2 Year     200316\n",
              "< 1 Year     164786\n",
              "> 2 Years     16007\n",
              "Name: Vehicle_Age, dtype: int64"
            ]
          },
          "metadata": {},
          "execution_count": 17
        }
      ]
    },
    {
      "cell_type": "code",
      "metadata": {
        "id": "X4_27vMWpd8D",
        "colab": {
          "base_uri": "https://localhost:8080/",
          "height": 411
        },
        "outputId": "fdb0d148-af5d-41de-fd09-2056338a82a0"
      },
      "source": [
        "plt.figure( figsize = (10 , 6))\n",
        "sns.countplot(x = 'Vehicle_Age' , hue = 'Response' , data = df , palette = 'husl')\n",
        "plt.axis([None,None,10,175000])"
      ],
      "execution_count": null,
      "outputs": [
        {
          "output_type": "execute_result",
          "data": {
            "text/plain": [
              "(-0.5, 2.5, 10.0, 175000.0)"
            ]
          },
          "metadata": {},
          "execution_count": 18
        },
        {
          "output_type": "display_data",
          "data": {
            "image/png": "[encoded data removed]",
            "text/plain": [
              "<Figure size 720x432 with 1 Axes>"
            ]
          },
          "metadata": {}
        }
      ]
    },
    {
      "cell_type": "markdown",
      "metadata": {
        "id": "4J3i0aQJy0K6"
      },
      "source": [
        "* From seeing this graph we can say that if the vehicle's age is in between 1 to 2 years ,those vehicle owners are more likely to buy insurance\n",
        "\n",
        "* No of customers with Vehicle_Age >2 is more than the no of customers whose Vehicle_Age< 1"
      ]
    },
    {
      "cell_type": "markdown",
      "metadata": {
        "id": "vzUwGk6Wy8-x"
      },
      "source": [
        "# **Annual_Premium**"
      ]
    },
    {
      "cell_type": "code",
      "metadata": {
        "id": "uzydnFrlpd-a",
        "colab": {
          "base_uri": "https://localhost:8080/",
          "height": 256
        },
        "outputId": "4ff81f93-ca36-4fa2-ea51-40b013537fd4"
      },
      "source": [
        "plt.figure(figsize=(13,7))\n",
        "plt.subplot(2,1,1)\n",
        "sns.distplot(df['Annual_Premium'], color='green')\n",
        "plt.title(\"Distribution of Annual premium\")\n",
        "plt.show()"
      ],
      "execution_count": null,
      "outputs": [
        {
          "output_type": "display_data",
          "data": {
            "image/png": "[encoded data removed]",
            "text/plain": [
              "<Figure size 936x504 with 1 Axes>"
            ]
          },
          "metadata": {}
        }
      ]
    },
    {
      "cell_type": "markdown",
      "metadata": {
        "id": "8PUbNyJazD3W"
      },
      "source": [
        "* From the distribution plot we can infer that the annual premimum variable is right skewed.\n"
      ]
    },
    {
      "cell_type": "code",
      "metadata": {
        "id": "K2Qh75vrpeAz",
        "colab": {
          "base_uri": "https://localhost:8080/",
          "height": 464
        },
        "outputId": "5f373a5c-1484-43ff-a08d-e2d35ceae2b7"
      },
      "source": [
        "plt.figure(figsize=(13,7))\n",
        "sns.boxplot(df['Annual_Premium'])\n",
        "plt.title(\"boxplot of Annual premium\")\n",
        "plt.show()"
      ],
      "execution_count": null,
      "outputs": [
        {
          "output_type": "display_data",
          "data": {
            "image/png": "[encoded data removed]",
            "text/plain": [
              "<Figure size 936x504 with 1 Axes>"
            ]
          },
          "metadata": {}
        }
      ]
    },
    {
      "cell_type": "markdown",
      "metadata": {
        "id": "3slTmHHOzKqD"
      },
      "source": [
        "As you can see that in the column Annual_premium there are many outliers present"
      ]
    },
    {
      "cell_type": "markdown",
      "metadata": {
        "id": "oUm3AGTGzNQP"
      },
      "source": [
        "# **Correlation Matrix**"
      ]
    },
    {
      "cell_type": "code",
      "metadata": {
        "id": "lq3pO8lCpeDV",
        "colab": {
          "base_uri": "https://localhost:8080/",
          "height": 628
        },
        "outputId": "6fda42e2-afe8-46f6-e04b-f397929dfe46"
      },
      "source": [
        "corr = df.corr()\n",
        "\n",
        "f, ax = plt.subplots(figsize = (8 , 8 ))\n",
        "\n",
        "sns.heatmap(corr, ax=ax, annot=True,linewidths=3,cmap='YlGn')\n",
        "\n",
        "plt.title(\"Pearson correlation of Features\", fontsize=25 ,y=1.05, size=15)\n"
      ],
      "execution_count": null,
      "outputs": [
        {
          "output_type": "execute_result",
          "data": {
            "text/plain": [
              "Text(0.5, 1.05, 'Pearson correlation of Features')"
            ]
          },
          "metadata": {},
          "execution_count": 22
        },
        {
          "output_type": "display_data",
          "data": {
            "image/png": "[encoded data removed]",
            "text/plain": [
              "<Figure size 576x576 with 2 Axes>"
            ]
          },
          "metadata": {}
        }
      ]
    },
    {
      "cell_type": "markdown",
      "metadata": {
        "id": "m63sj4KKzmrH"
      },
      "source": [
        "**Target variable ( Response )** is not much affected by Vintage variable. we can drop least correlated variable."
      ]
    },
    {
      "cell_type": "markdown",
      "metadata": {
        "id": "NS2Lo23mzsJa"
      },
      "source": [
        "# **Data Cleaning**"
      ]
    },
    {
      "cell_type": "markdown",
      "metadata": {
        "id": "vhrmmmuhzwXv"
      },
      "source": [
        "**Removing duplicate rows**\n"
      ]
    },
    {
      "cell_type": "code",
      "metadata": {
        "id": "o6WVjn4WpeF6",
        "colab": {
          "base_uri": "https://localhost:8080/"
        },
        "outputId": "b0b5ff53-fb46-49ce-b00c-b6af3d43f033"
      },
      "source": [
        "df_old_row = df.shape[0]\n",
        "df.drop_duplicates(inplace = True)\n",
        "df_new_row = df.shape[0]\n",
        "if df_old_row == df_new_row:\n",
        "    print(\"There was no duplicate rows present\")\n",
        "else:\n",
        "    print(f\"There was {df_old_row - df_new_row} duplicate rows present\")"
      ],
      "execution_count": null,
      "outputs": [
        {
          "output_type": "stream",
          "name": "stdout",
          "text": [
            "There was no duplicate rows present\n"
          ]
        }
      ]
    },
    {
      "cell_type": "code",
      "metadata": {
        "id": "kjA9IJv5peIe",
        "colab": {
          "base_uri": "https://localhost:8080/",
          "height": 206
        },
        "outputId": "19e005d7-9f30-4024-b984-1cb017a7f810"
      },
      "source": [
        "numerical_cols = list(df.describe())\n",
        "numerical_df = df[numerical_cols]\n",
        "numerical_df.head()"
      ],
      "execution_count": null,
      "outputs": [
        {
          "output_type": "execute_result",
          "data": {
            "text/html": [
              "<div>\n",
              "<style scoped>\n",
              "    .dataframe tbody tr th:only-of-type {\n",
              "        vertical-align: middle;\n",
              "    }\n",
              "\n",
              "    .dataframe tbody tr th {\n",
              "        vertical-align: top;\n",
              "    }\n",
              "\n",
              "    .dataframe thead th {\n",
              "        text-align: right;\n",
              "    }\n",
              "</style>\n",
              "<table border=\"1\" class=\"dataframe\">\n",
              "  <thead>\n",
              "    <tr style=\"text-align: right;\">\n",
              "      <th></th>\n",
              "      <th>id</th>\n",
              "      <th>Age</th>\n",
              "      <th>Driving_License</th>\n",
              "      <th>Region_Code</th>\n",
              "      <th>Previously_Insured</th>\n",
              "      <th>Annual_Premium</th>\n",
              "      <th>Policy_Sales_Channel</th>\n",
              "      <th>Vintage</th>\n",
              "      <th>Response</th>\n",
              "    </tr>\n",
              "  </thead>\n",
              "  <tbody>\n",
              "    <tr>\n",
              "      <th>0</th>\n",
              "      <td>1</td>\n",
              "      <td>44</td>\n",
              "      <td>1</td>\n",
              "      <td>28.0</td>\n",
              "      <td>0</td>\n",
              "      <td>40454.0</td>\n",
              "      <td>26.0</td>\n",
              "      <td>217</td>\n",
              "      <td>1</td>\n",
              "    </tr>\n",
              "    <tr>\n",
              "      <th>1</th>\n",
              "      <td>2</td>\n",
              "      <td>76</td>\n",
              "      <td>1</td>\n",
              "      <td>3.0</td>\n",
              "      <td>0</td>\n",
              "      <td>33536.0</td>\n",
              "      <td>26.0</td>\n",
              "      <td>183</td>\n",
              "      <td>0</td>\n",
              "    </tr>\n",
              "    <tr>\n",
              "      <th>2</th>\n",
              "      <td>3</td>\n",
              "      <td>47</td>\n",
              "      <td>1</td>\n",
              "      <td>28.0</td>\n",
              "      <td>0</td>\n",
              "      <td>38294.0</td>\n",
              "      <td>26.0</td>\n",
              "      <td>27</td>\n",
              "      <td>1</td>\n",
              "    </tr>\n",
              "    <tr>\n",
              "      <th>3</th>\n",
              "      <td>4</td>\n",
              "      <td>21</td>\n",
              "      <td>1</td>\n",
              "      <td>11.0</td>\n",
              "      <td>1</td>\n",
              "      <td>28619.0</td>\n",
              "      <td>152.0</td>\n",
              "      <td>203</td>\n",
              "      <td>0</td>\n",
              "    </tr>\n",
              "    <tr>\n",
              "      <th>4</th>\n",
              "      <td>5</td>\n",
              "      <td>29</td>\n",
              "      <td>1</td>\n",
              "      <td>41.0</td>\n",
              "      <td>1</td>\n",
              "      <td>27496.0</td>\n",
              "      <td>152.0</td>\n",
              "      <td>39</td>\n",
              "      <td>0</td>\n",
              "    </tr>\n",
              "  </tbody>\n",
              "</table>\n",
              "</div>"
            ],
            "text/plain": [
              "   id  Age  Driving_License  ...  Policy_Sales_Channel  Vintage  Response\n",
              "0   1   44                1  ...                  26.0      217         1\n",
              "1   2   76                1  ...                  26.0      183         0\n",
              "2   3   47                1  ...                  26.0       27         1\n",
              "3   4   21                1  ...                 152.0      203         0\n",
              "4   5   29                1  ...                 152.0       39         0\n",
              "\n",
              "[5 rows x 9 columns]"
            ]
          },
          "metadata": {},
          "execution_count": 24
        }
      ]
    },
    {
      "cell_type": "code",
      "metadata": {
        "id": "DFPCifbGpeLG",
        "colab": {
          "base_uri": "https://localhost:8080/",
          "height": 206
        },
        "outputId": "8070bb80-d165-4cd4-db9e-4764844fecdd"
      },
      "source": [
        "categorical_cols = list(set(df.columns) - set(numerical_cols))\n",
        "categorical_df = df[categorical_cols]\n",
        "categorical_df.head()"
      ],
      "execution_count": null,
      "outputs": [
        {
          "output_type": "execute_result",
          "data": {
            "text/html": [
              "<div>\n",
              "<style scoped>\n",
              "    .dataframe tbody tr th:only-of-type {\n",
              "        vertical-align: middle;\n",
              "    }\n",
              "\n",
              "    .dataframe tbody tr th {\n",
              "        vertical-align: top;\n",
              "    }\n",
              "\n",
              "    .dataframe thead th {\n",
              "        text-align: right;\n",
              "    }\n",
              "</style>\n",
              "<table border=\"1\" class=\"dataframe\">\n",
              "  <thead>\n",
              "    <tr style=\"text-align: right;\">\n",
              "      <th></th>\n",
              "      <th>Vehicle_Damage</th>\n",
              "      <th>Vehicle_Age</th>\n",
              "      <th>Gender</th>\n",
              "    </tr>\n",
              "  </thead>\n",
              "  <tbody>\n",
              "    <tr>\n",
              "      <th>0</th>\n",
              "      <td>Yes</td>\n",
              "      <td>&gt; 2 Years</td>\n",
              "      <td>Male</td>\n",
              "    </tr>\n",
              "    <tr>\n",
              "      <th>1</th>\n",
              "      <td>No</td>\n",
              "      <td>1-2 Year</td>\n",
              "      <td>Male</td>\n",
              "    </tr>\n",
              "    <tr>\n",
              "      <th>2</th>\n",
              "      <td>Yes</td>\n",
              "      <td>&gt; 2 Years</td>\n",
              "      <td>Male</td>\n",
              "    </tr>\n",
              "    <tr>\n",
              "      <th>3</th>\n",
              "      <td>No</td>\n",
              "      <td>&lt; 1 Year</td>\n",
              "      <td>Male</td>\n",
              "    </tr>\n",
              "    <tr>\n",
              "      <th>4</th>\n",
              "      <td>No</td>\n",
              "      <td>&lt; 1 Year</td>\n",
              "      <td>Female</td>\n",
              "    </tr>\n",
              "  </tbody>\n",
              "</table>\n",
              "</div>"
            ],
            "text/plain": [
              "  Vehicle_Damage Vehicle_Age  Gender\n",
              "0            Yes   > 2 Years    Male\n",
              "1             No    1-2 Year    Male\n",
              "2            Yes   > 2 Years    Male\n",
              "3             No    < 1 Year    Male\n",
              "4             No    < 1 Year  Female"
            ]
          },
          "metadata": {},
          "execution_count": 25
        }
      ]
    },
    {
      "cell_type": "markdown",
      "metadata": {
        "id": "ESDGME4c0Ijc"
      },
      "source": [
        "Let's convert the categorical columns into numeric using LabelEncoder,\n",
        "But before that let's check in each column of categorical_df how namy unique values are present"
      ]
    },
    {
      "cell_type": "code",
      "metadata": {
        "id": "I4dw4YR2peN2",
        "colab": {
          "base_uri": "https://localhost:8080/"
        },
        "outputId": "37455832-415a-4949-adf4-24f9f7041755"
      },
      "source": [
        "for column_name in categorical_df.columns:\n",
        "    print('-'*35)\n",
        "    print(categorical_df[column_name].value_counts(),'\\n')\n",
        "    print('-'*35)"
      ],
      "execution_count": null,
      "outputs": [
        {
          "output_type": "stream",
          "name": "stdout",
          "text": [
            "-----------------------------------\n",
            "Yes    192413\n",
            "No     188696\n",
            "Name: Vehicle_Damage, dtype: int64 \n",
            "\n",
            "-----------------------------------\n",
            "-----------------------------------\n",
            "1-2 Year     200316\n",
            "< 1 Year     164786\n",
            "> 2 Years     16007\n",
            "Name: Vehicle_Age, dtype: int64 \n",
            "\n",
            "-----------------------------------\n",
            "-----------------------------------\n",
            "Male      206089\n",
            "Female    175020\n",
            "Name: Gender, dtype: int64 \n",
            "\n",
            "-----------------------------------\n"
          ]
        }
      ]
    },
    {
      "cell_type": "markdown",
      "metadata": {
        "id": "E-9wWmde0Nn4"
      },
      "source": [
        "# **Using LabelEncoder**"
      ]
    },
    {
      "cell_type": "code",
      "metadata": {
        "id": "OjK-Wl42peQS",
        "colab": {
          "base_uri": "https://localhost:8080/",
          "height": 143
        },
        "outputId": "f69dda50-c620-4968-b028-f04277c92b00"
      },
      "source": [
        "categorical_df.head(3)"
      ],
      "execution_count": null,
      "outputs": [
        {
          "output_type": "execute_result",
          "data": {
            "text/html": [
              "<div>\n",
              "<style scoped>\n",
              "    .dataframe tbody tr th:only-of-type {\n",
              "        vertical-align: middle;\n",
              "    }\n",
              "\n",
              "    .dataframe tbody tr th {\n",
              "        vertical-align: top;\n",
              "    }\n",
              "\n",
              "    .dataframe thead th {\n",
              "        text-align: right;\n",
              "    }\n",
              "</style>\n",
              "<table border=\"1\" class=\"dataframe\">\n",
              "  <thead>\n",
              "    <tr style=\"text-align: right;\">\n",
              "      <th></th>\n",
              "      <th>Vehicle_Damage</th>\n",
              "      <th>Vehicle_Age</th>\n",
              "      <th>Gender</th>\n",
              "    </tr>\n",
              "  </thead>\n",
              "  <tbody>\n",
              "    <tr>\n",
              "      <th>0</th>\n",
              "      <td>Yes</td>\n",
              "      <td>&gt; 2 Years</td>\n",
              "      <td>Male</td>\n",
              "    </tr>\n",
              "    <tr>\n",
              "      <th>1</th>\n",
              "      <td>No</td>\n",
              "      <td>1-2 Year</td>\n",
              "      <td>Male</td>\n",
              "    </tr>\n",
              "    <tr>\n",
              "      <th>2</th>\n",
              "      <td>Yes</td>\n",
              "      <td>&gt; 2 Years</td>\n",
              "      <td>Male</td>\n",
              "    </tr>\n",
              "  </tbody>\n",
              "</table>\n",
              "</div>"
            ],
            "text/plain": [
              "  Vehicle_Damage Vehicle_Age Gender\n",
              "0            Yes   > 2 Years   Male\n",
              "1             No    1-2 Year   Male\n",
              "2            Yes   > 2 Years   Male"
            ]
          },
          "metadata": {},
          "execution_count": 27
        }
      ]
    },
    {
      "cell_type": "code",
      "metadata": {
        "id": "k1kDCDsWpeS9",
        "colab": {
          "base_uri": "https://localhost:8080/",
          "height": 143
        },
        "outputId": "e54ed883-f24a-4b58-e571-8a5bec55b28c"
      },
      "source": [
        "le = LabelEncoder()\n",
        "categorical_df = categorical_df.apply(le.fit_transform)\n",
        "categorical_df.head(3)"
      ],
      "execution_count": null,
      "outputs": [
        {
          "output_type": "execute_result",
          "data": {
            "text/html": [
              "<div>\n",
              "<style scoped>\n",
              "    .dataframe tbody tr th:only-of-type {\n",
              "        vertical-align: middle;\n",
              "    }\n",
              "\n",
              "    .dataframe tbody tr th {\n",
              "        vertical-align: top;\n",
              "    }\n",
              "\n",
              "    .dataframe thead th {\n",
              "        text-align: right;\n",
              "    }\n",
              "</style>\n",
              "<table border=\"1\" class=\"dataframe\">\n",
              "  <thead>\n",
              "    <tr style=\"text-align: right;\">\n",
              "      <th></th>\n",
              "      <th>Vehicle_Damage</th>\n",
              "      <th>Vehicle_Age</th>\n",
              "      <th>Gender</th>\n",
              "    </tr>\n",
              "  </thead>\n",
              "  <tbody>\n",
              "    <tr>\n",
              "      <th>0</th>\n",
              "      <td>1</td>\n",
              "      <td>2</td>\n",
              "      <td>1</td>\n",
              "    </tr>\n",
              "    <tr>\n",
              "      <th>1</th>\n",
              "      <td>0</td>\n",
              "      <td>0</td>\n",
              "      <td>1</td>\n",
              "    </tr>\n",
              "    <tr>\n",
              "      <th>2</th>\n",
              "      <td>1</td>\n",
              "      <td>2</td>\n",
              "      <td>1</td>\n",
              "    </tr>\n",
              "  </tbody>\n",
              "</table>\n",
              "</div>"
            ],
            "text/plain": [
              "   Vehicle_Damage  Vehicle_Age  Gender\n",
              "0               1            2       1\n",
              "1               0            0       1\n",
              "2               1            2       1"
            ]
          },
          "metadata": {},
          "execution_count": 28
        }
      ]
    },
    {
      "cell_type": "code",
      "metadata": {
        "id": "YeGYyQoIpeVv",
        "colab": {
          "base_uri": "https://localhost:8080/"
        },
        "outputId": "67cf3a96-9c71-4089-a398-0f967582396a"
      },
      "source": [
        "## Let's check the classes of label encoder\n",
        "le.classes_"
      ],
      "execution_count": null,
      "outputs": [
        {
          "output_type": "execute_result",
          "data": {
            "text/plain": [
              "array(['Female', 'Male'], dtype=object)"
            ]
          },
          "metadata": {},
          "execution_count": 29
        }
      ]
    },
    {
      "cell_type": "code",
      "metadata": {
        "id": "Flo8aaxRpeX7",
        "colab": {
          "base_uri": "https://localhost:8080/"
        },
        "outputId": "c3a5f8ae-f67d-4c3b-a727-f6d417c7392d"
      },
      "source": [
        "##Let's use inverse_transform\n",
        "le.inverse_transform([1])"
      ],
      "execution_count": null,
      "outputs": [
        {
          "output_type": "execute_result",
          "data": {
            "text/plain": [
              "array(['Male'], dtype=object)"
            ]
          },
          "metadata": {},
          "execution_count": 30
        }
      ]
    },
    {
      "cell_type": "code",
      "metadata": {
        "id": "aXQ6PKmVpeay",
        "colab": {
          "base_uri": "https://localhost:8080/",
          "height": 206
        },
        "outputId": "54716aa4-b0cd-41dc-b1bd-0bdf6506972d"
      },
      "source": [
        "categorical_df_new = categorical_df\n",
        "categorical_df_new.head()"
      ],
      "execution_count": null,
      "outputs": [
        {
          "output_type": "execute_result",
          "data": {
            "text/html": [
              "<div>\n",
              "<style scoped>\n",
              "    .dataframe tbody tr th:only-of-type {\n",
              "        vertical-align: middle;\n",
              "    }\n",
              "\n",
              "    .dataframe tbody tr th {\n",
              "        vertical-align: top;\n",
              "    }\n",
              "\n",
              "    .dataframe thead th {\n",
              "        text-align: right;\n",
              "    }\n",
              "</style>\n",
              "<table border=\"1\" class=\"dataframe\">\n",
              "  <thead>\n",
              "    <tr style=\"text-align: right;\">\n",
              "      <th></th>\n",
              "      <th>Vehicle_Damage</th>\n",
              "      <th>Vehicle_Age</th>\n",
              "      <th>Gender</th>\n",
              "    </tr>\n",
              "  </thead>\n",
              "  <tbody>\n",
              "    <tr>\n",
              "      <th>0</th>\n",
              "      <td>1</td>\n",
              "      <td>2</td>\n",
              "      <td>1</td>\n",
              "    </tr>\n",
              "    <tr>\n",
              "      <th>1</th>\n",
              "      <td>0</td>\n",
              "      <td>0</td>\n",
              "      <td>1</td>\n",
              "    </tr>\n",
              "    <tr>\n",
              "      <th>2</th>\n",
              "      <td>1</td>\n",
              "      <td>2</td>\n",
              "      <td>1</td>\n",
              "    </tr>\n",
              "    <tr>\n",
              "      <th>3</th>\n",
              "      <td>0</td>\n",
              "      <td>1</td>\n",
              "      <td>1</td>\n",
              "    </tr>\n",
              "    <tr>\n",
              "      <th>4</th>\n",
              "      <td>0</td>\n",
              "      <td>1</td>\n",
              "      <td>0</td>\n",
              "    </tr>\n",
              "  </tbody>\n",
              "</table>\n",
              "</div>"
            ],
            "text/plain": [
              "   Vehicle_Damage  Vehicle_Age  Gender\n",
              "0               1            2       1\n",
              "1               0            0       1\n",
              "2               1            2       1\n",
              "3               0            1       1\n",
              "4               0            1       0"
            ]
          },
          "metadata": {},
          "execution_count": 31
        }
      ]
    },
    {
      "cell_type": "markdown",
      "metadata": {
        "id": "LHm-g6500c7j"
      },
      "source": [
        "Let's make **new df** by merging numerical_df DataFrame with **categorical_df_new**"
      ]
    },
    {
      "cell_type": "code",
      "metadata": {
        "id": "b3TJ5SVdpedc"
      },
      "source": [
        "df = pd.merge( numerical_df , categorical_df_new , left_index = True , right_index = True )"
      ],
      "execution_count": null,
      "outputs": []
    },
    {
      "cell_type": "code",
      "metadata": {
        "id": "9YQlvSV6pegW",
        "colab": {
          "base_uri": "https://localhost:8080/",
          "height": 426
        },
        "outputId": "09c09d9b-603a-4d39-8fd6-5f48c5fa5269"
      },
      "source": [
        "df.head(1).T"
      ],
      "execution_count": null,
      "outputs": [
        {
          "output_type": "execute_result",
          "data": {
            "text/html": [
              "<div>\n",
              "<style scoped>\n",
              "    .dataframe tbody tr th:only-of-type {\n",
              "        vertical-align: middle;\n",
              "    }\n",
              "\n",
              "    .dataframe tbody tr th {\n",
              "        vertical-align: top;\n",
              "    }\n",
              "\n",
              "    .dataframe thead th {\n",
              "        text-align: right;\n",
              "    }\n",
              "</style>\n",
              "<table border=\"1\" class=\"dataframe\">\n",
              "  <thead>\n",
              "    <tr style=\"text-align: right;\">\n",
              "      <th></th>\n",
              "      <th>0</th>\n",
              "    </tr>\n",
              "  </thead>\n",
              "  <tbody>\n",
              "    <tr>\n",
              "      <th>id</th>\n",
              "      <td>1.0</td>\n",
              "    </tr>\n",
              "    <tr>\n",
              "      <th>Age</th>\n",
              "      <td>44.0</td>\n",
              "    </tr>\n",
              "    <tr>\n",
              "      <th>Driving_License</th>\n",
              "      <td>1.0</td>\n",
              "    </tr>\n",
              "    <tr>\n",
              "      <th>Region_Code</th>\n",
              "      <td>28.0</td>\n",
              "    </tr>\n",
              "    <tr>\n",
              "      <th>Previously_Insured</th>\n",
              "      <td>0.0</td>\n",
              "    </tr>\n",
              "    <tr>\n",
              "      <th>Annual_Premium</th>\n",
              "      <td>40454.0</td>\n",
              "    </tr>\n",
              "    <tr>\n",
              "      <th>Policy_Sales_Channel</th>\n",
              "      <td>26.0</td>\n",
              "    </tr>\n",
              "    <tr>\n",
              "      <th>Vintage</th>\n",
              "      <td>217.0</td>\n",
              "    </tr>\n",
              "    <tr>\n",
              "      <th>Response</th>\n",
              "      <td>1.0</td>\n",
              "    </tr>\n",
              "    <tr>\n",
              "      <th>Vehicle_Damage</th>\n",
              "      <td>1.0</td>\n",
              "    </tr>\n",
              "    <tr>\n",
              "      <th>Vehicle_Age</th>\n",
              "      <td>2.0</td>\n",
              "    </tr>\n",
              "    <tr>\n",
              "      <th>Gender</th>\n",
              "      <td>1.0</td>\n",
              "    </tr>\n",
              "  </tbody>\n",
              "</table>\n",
              "</div>"
            ],
            "text/plain": [
              "                            0\n",
              "id                        1.0\n",
              "Age                      44.0\n",
              "Driving_License           1.0\n",
              "Region_Code              28.0\n",
              "Previously_Insured        0.0\n",
              "Annual_Premium        40454.0\n",
              "Policy_Sales_Channel     26.0\n",
              "Vintage                 217.0\n",
              "Response                  1.0\n",
              "Vehicle_Damage            1.0\n",
              "Vehicle_Age               2.0\n",
              "Gender                    1.0"
            ]
          },
          "metadata": {},
          "execution_count": 33
        }
      ]
    },
    {
      "cell_type": "code",
      "metadata": {
        "id": "zoca7ZYhpei_",
        "colab": {
          "base_uri": "https://localhost:8080/",
          "height": 112
        },
        "outputId": "90199026-c5ee-468f-bd2a-cf29a1bd9dc9"
      },
      "source": [
        "df = df.drop( axis=1 , columns = ['id'])\n",
        "df.head(2)"
      ],
      "execution_count": null,
      "outputs": [
        {
          "output_type": "execute_result",
          "data": {
            "text/html": [
              "<div>\n",
              "<style scoped>\n",
              "    .dataframe tbody tr th:only-of-type {\n",
              "        vertical-align: middle;\n",
              "    }\n",
              "\n",
              "    .dataframe tbody tr th {\n",
              "        vertical-align: top;\n",
              "    }\n",
              "\n",
              "    .dataframe thead th {\n",
              "        text-align: right;\n",
              "    }\n",
              "</style>\n",
              "<table border=\"1\" class=\"dataframe\">\n",
              "  <thead>\n",
              "    <tr style=\"text-align: right;\">\n",
              "      <th></th>\n",
              "      <th>Age</th>\n",
              "      <th>Driving_License</th>\n",
              "      <th>Region_Code</th>\n",
              "      <th>Previously_Insured</th>\n",
              "      <th>Annual_Premium</th>\n",
              "      <th>Policy_Sales_Channel</th>\n",
              "      <th>Vintage</th>\n",
              "      <th>Response</th>\n",
              "      <th>Vehicle_Damage</th>\n",
              "      <th>Vehicle_Age</th>\n",
              "      <th>Gender</th>\n",
              "    </tr>\n",
              "  </thead>\n",
              "  <tbody>\n",
              "    <tr>\n",
              "      <th>0</th>\n",
              "      <td>44</td>\n",
              "      <td>1</td>\n",
              "      <td>28.0</td>\n",
              "      <td>0</td>\n",
              "      <td>40454.0</td>\n",
              "      <td>26.0</td>\n",
              "      <td>217</td>\n",
              "      <td>1</td>\n",
              "      <td>1</td>\n",
              "      <td>2</td>\n",
              "      <td>1</td>\n",
              "    </tr>\n",
              "    <tr>\n",
              "      <th>1</th>\n",
              "      <td>76</td>\n",
              "      <td>1</td>\n",
              "      <td>3.0</td>\n",
              "      <td>0</td>\n",
              "      <td>33536.0</td>\n",
              "      <td>26.0</td>\n",
              "      <td>183</td>\n",
              "      <td>0</td>\n",
              "      <td>0</td>\n",
              "      <td>0</td>\n",
              "      <td>1</td>\n",
              "    </tr>\n",
              "  </tbody>\n",
              "</table>\n",
              "</div>"
            ],
            "text/plain": [
              "   Age  Driving_License  Region_Code  ...  Vehicle_Damage  Vehicle_Age  Gender\n",
              "0   44                1         28.0  ...               1            2       1\n",
              "1   76                1          3.0  ...               0            0       1\n",
              "\n",
              "[2 rows x 11 columns]"
            ]
          },
          "metadata": {},
          "execution_count": 34
        }
      ]
    },
    {
      "cell_type": "code",
      "metadata": {
        "id": "jKIJiY9Cpelb",
        "colab": {
          "base_uri": "https://localhost:8080/",
          "height": 429
        },
        "outputId": "b8594f42-d6d2-4ccb-fd8d-d446dbc1a5cd"
      },
      "source": [
        "DataInfoAll(df)"
      ],
      "execution_count": null,
      "outputs": [
        {
          "output_type": "stream",
          "name": "stdout",
          "text": [
            "Dataset Shape: (381109, 11)\n",
            "---------------------------------------------------------------------------\n"
          ]
        },
        {
          "output_type": "execute_result",
          "data": {
            "text/html": [
              "<div>\n",
              "<style scoped>\n",
              "    .dataframe tbody tr th:only-of-type {\n",
              "        vertical-align: middle;\n",
              "    }\n",
              "\n",
              "    .dataframe tbody tr th {\n",
              "        vertical-align: top;\n",
              "    }\n",
              "\n",
              "    .dataframe thead th {\n",
              "        text-align: right;\n",
              "    }\n",
              "</style>\n",
              "<table border=\"1\" class=\"dataframe\">\n",
              "  <thead>\n",
              "    <tr style=\"text-align: right;\">\n",
              "      <th></th>\n",
              "      <th>Name</th>\n",
              "      <th>dtypes</th>\n",
              "      <th>Missing</th>\n",
              "      <th>Uniques</th>\n",
              "      <th>First Value</th>\n",
              "      <th>Second Value</th>\n",
              "    </tr>\n",
              "  </thead>\n",
              "  <tbody>\n",
              "    <tr>\n",
              "      <th>0</th>\n",
              "      <td>Age</td>\n",
              "      <td>int64</td>\n",
              "      <td>0</td>\n",
              "      <td>66</td>\n",
              "      <td>44.0</td>\n",
              "      <td>76.0</td>\n",
              "    </tr>\n",
              "    <tr>\n",
              "      <th>1</th>\n",
              "      <td>Driving_License</td>\n",
              "      <td>int64</td>\n",
              "      <td>0</td>\n",
              "      <td>2</td>\n",
              "      <td>1.0</td>\n",
              "      <td>1.0</td>\n",
              "    </tr>\n",
              "    <tr>\n",
              "      <th>2</th>\n",
              "      <td>Region_Code</td>\n",
              "      <td>float64</td>\n",
              "      <td>0</td>\n",
              "      <td>53</td>\n",
              "      <td>28.0</td>\n",
              "      <td>3.0</td>\n",
              "    </tr>\n",
              "    <tr>\n",
              "      <th>3</th>\n",
              "      <td>Previously_Insured</td>\n",
              "      <td>int64</td>\n",
              "      <td>0</td>\n",
              "      <td>2</td>\n",
              "      <td>0.0</td>\n",
              "      <td>0.0</td>\n",
              "    </tr>\n",
              "    <tr>\n",
              "      <th>4</th>\n",
              "      <td>Annual_Premium</td>\n",
              "      <td>float64</td>\n",
              "      <td>0</td>\n",
              "      <td>48838</td>\n",
              "      <td>40454.0</td>\n",
              "      <td>33536.0</td>\n",
              "    </tr>\n",
              "    <tr>\n",
              "      <th>5</th>\n",
              "      <td>Policy_Sales_Channel</td>\n",
              "      <td>float64</td>\n",
              "      <td>0</td>\n",
              "      <td>155</td>\n",
              "      <td>26.0</td>\n",
              "      <td>26.0</td>\n",
              "    </tr>\n",
              "    <tr>\n",
              "      <th>6</th>\n",
              "      <td>Vintage</td>\n",
              "      <td>int64</td>\n",
              "      <td>0</td>\n",
              "      <td>290</td>\n",
              "      <td>217.0</td>\n",
              "      <td>183.0</td>\n",
              "    </tr>\n",
              "    <tr>\n",
              "      <th>7</th>\n",
              "      <td>Response</td>\n",
              "      <td>int64</td>\n",
              "      <td>0</td>\n",
              "      <td>2</td>\n",
              "      <td>1.0</td>\n",
              "      <td>0.0</td>\n",
              "    </tr>\n",
              "    <tr>\n",
              "      <th>8</th>\n",
              "      <td>Vehicle_Damage</td>\n",
              "      <td>int64</td>\n",
              "      <td>0</td>\n",
              "      <td>2</td>\n",
              "      <td>1.0</td>\n",
              "      <td>0.0</td>\n",
              "    </tr>\n",
              "    <tr>\n",
              "      <th>9</th>\n",
              "      <td>Vehicle_Age</td>\n",
              "      <td>int64</td>\n",
              "      <td>0</td>\n",
              "      <td>3</td>\n",
              "      <td>2.0</td>\n",
              "      <td>0.0</td>\n",
              "    </tr>\n",
              "    <tr>\n",
              "      <th>10</th>\n",
              "      <td>Gender</td>\n",
              "      <td>int64</td>\n",
              "      <td>0</td>\n",
              "      <td>2</td>\n",
              "      <td>1.0</td>\n",
              "      <td>1.0</td>\n",
              "    </tr>\n",
              "  </tbody>\n",
              "</table>\n",
              "</div>"
            ],
            "text/plain": [
              "                    Name   dtypes  Missing  Uniques  First Value  Second Value\n",
              "0                    Age    int64        0       66         44.0          76.0\n",
              "1        Driving_License    int64        0        2          1.0           1.0\n",
              "2            Region_Code  float64        0       53         28.0           3.0\n",
              "3     Previously_Insured    int64        0        2          0.0           0.0\n",
              "4         Annual_Premium  float64        0    48838      40454.0       33536.0\n",
              "5   Policy_Sales_Channel  float64        0      155         26.0          26.0\n",
              "6                Vintage    int64        0      290        217.0         183.0\n",
              "7               Response    int64        0        2          1.0           0.0\n",
              "8         Vehicle_Damage    int64        0        2          1.0           0.0\n",
              "9            Vehicle_Age    int64        0        3          2.0           0.0\n",
              "10                Gender    int64        0        2          1.0           1.0"
            ]
          },
          "metadata": {},
          "execution_count": 35
        }
      ]
    },
    {
      "cell_type": "markdown",
      "metadata": {
        "id": "bvVm5whn04eq"
      },
      "source": [
        "# **Seprating dependent and independent variables**"
      ]
    },
    {
      "cell_type": "code",
      "metadata": {
        "id": "BmHSz6fqpenz"
      },
      "source": [
        "x = df.drop(columns = ['Response'])\n",
        "y = df.Response"
      ],
      "execution_count": null,
      "outputs": []
    },
    {
      "cell_type": "markdown",
      "metadata": {
        "id": "STgMXQQt0_v9"
      },
      "source": [
        "# **Feature Selection**"
      ]
    },
    {
      "cell_type": "code",
      "metadata": {
        "id": "GOCYzRtLpeqc",
        "colab": {
          "base_uri": "https://localhost:8080/",
          "height": 789
        },
        "outputId": "df9abadb-2789-4e4f-bd6c-51cfeb1b8ee9"
      },
      "source": [
        "# Building the model\n",
        "from sklearn.ensemble import ExtraTreesClassifier\n",
        "extra_tree_forest = ExtraTreesClassifier(n_estimators = 5,criterion ='entropy', max_features = 2)\n",
        "\n",
        "# Training the model\n",
        "extra_tree_forest.fit(x, y)\n",
        "\n",
        "# Computing the importance of each feature\n",
        "feature_importance = extra_tree_forest.feature_importances_\n",
        "\n",
        "# Normalizing the individual importances\n",
        "feature_importance_normalized = np.std( [ tree.feature_importances_ for tree in extra_tree_forest.estimators_ ] , axis = 0)\n",
        "\n",
        "\n",
        "# Plotting a Bar Graph to compare the models\n",
        "plt.figure(figsize = (24,12))\n",
        "plt.bar(x.columns, feature_importance_normalized)\n",
        "plt.xlabel('Feature Labels' , fontsize = 25)\n",
        "plt.ylabel('Feature Importances' , fontsize = 25)\n",
        "plt.title('Comparison of different Feature Importances' , fontsize = 45)"
      ],
      "execution_count": null,
      "outputs": [
        {
          "output_type": "execute_result",
          "data": {
            "text/plain": [
              "Text(0.5, 1.0, 'Comparison of different Feature Importances')"
            ]
          },
          "metadata": {},
          "execution_count": 37
        },
        {
          "output_type": "display_data",
          "data": {
            "image/png": "[encoded data removed]",
            "text/plain": [
              "<Figure size 1728x864 with 1 Axes>"
            ]
          },
          "metadata": {}
        }
      ]
    },
    {
      "cell_type": "code",
      "metadata": {
        "id": "44bPQfZ_petL",
        "colab": {
          "base_uri": "https://localhost:8080/"
        },
        "outputId": "9c5dca60-8a8c-4c6f-ee81-6325c7bdd1b9"
      },
      "source": [
        "feat_importances_Series = pd.Series( feature_importance_normalized , index=x.columns)\n",
        "print(\"Feature Name\\t\\t Importance\")\n",
        "print(\"-\"*37 , end='\\n')\n",
        "feat_importances_Series.sort_values()"
      ],
      "execution_count": null,
      "outputs": [
        {
          "output_type": "stream",
          "name": "stdout",
          "text": [
            "Feature Name\t\t Importance\n",
            "-------------------------------------\n"
          ]
        },
        {
          "output_type": "execute_result",
          "data": {
            "text/plain": [
              "Driving_License         0.000025\n",
              "Gender                  0.001560\n",
              "Policy_Sales_Channel    0.008237\n",
              "Annual_Premium          0.008344\n",
              "Region_Code             0.011888\n",
              "Vintage                 0.012681\n",
              "Age                     0.026265\n",
              "Vehicle_Age             0.027627\n",
              "Previously_Insured      0.073645\n",
              "Vehicle_Damage          0.084575\n",
              "dtype: float64"
            ]
          },
          "metadata": {},
          "execution_count": 38
        }
      ]
    },
    {
      "cell_type": "markdown",
      "metadata": {
        "id": "bofGX5JO1KMz"
      },
      "source": [
        "1. We can remove less important features from the data set\n",
        "2. Driving_License , Gender is contributing very less that's why I'm removing those columns"
      ]
    },
    {
      "cell_type": "code",
      "metadata": {
        "id": "U9Tzz-EIpevj",
        "colab": {
          "base_uri": "https://localhost:8080/"
        },
        "outputId": "afe2e132-495c-4e2c-a308-28eb8b256d27"
      },
      "source": [
        "x.columns"
      ],
      "execution_count": null,
      "outputs": [
        {
          "output_type": "execute_result",
          "data": {
            "text/plain": [
              "Index(['Age', 'Driving_License', 'Region_Code', 'Previously_Insured',\n",
              "       'Annual_Premium', 'Policy_Sales_Channel', 'Vintage', 'Vehicle_Damage',\n",
              "       'Vehicle_Age', 'Gender'],\n",
              "      dtype='object')"
            ]
          },
          "metadata": {},
          "execution_count": 39
        }
      ]
    },
    {
      "cell_type": "code",
      "metadata": {
        "id": "ByRjbQ_-peyI"
      },
      "source": [
        "x.drop( labels = [ 'Driving_License'  , 'Gender' ] , axis = 1 , inplace = True)"
      ],
      "execution_count": null,
      "outputs": []
    },
    {
      "cell_type": "code",
      "metadata": {
        "id": "PcMb15Ffpe0i",
        "colab": {
          "base_uri": "https://localhost:8080/",
          "height": 300
        },
        "outputId": "76464929-a4c5-4a3d-9f08-6e538e7f61ed"
      },
      "source": [
        "x.head(1).T"
      ],
      "execution_count": null,
      "outputs": [
        {
          "output_type": "execute_result",
          "data": {
            "text/html": [
              "<div>\n",
              "<style scoped>\n",
              "    .dataframe tbody tr th:only-of-type {\n",
              "        vertical-align: middle;\n",
              "    }\n",
              "\n",
              "    .dataframe tbody tr th {\n",
              "        vertical-align: top;\n",
              "    }\n",
              "\n",
              "    .dataframe thead th {\n",
              "        text-align: right;\n",
              "    }\n",
              "</style>\n",
              "<table border=\"1\" class=\"dataframe\">\n",
              "  <thead>\n",
              "    <tr style=\"text-align: right;\">\n",
              "      <th></th>\n",
              "      <th>0</th>\n",
              "    </tr>\n",
              "  </thead>\n",
              "  <tbody>\n",
              "    <tr>\n",
              "      <th>Age</th>\n",
              "      <td>44.0</td>\n",
              "    </tr>\n",
              "    <tr>\n",
              "      <th>Region_Code</th>\n",
              "      <td>28.0</td>\n",
              "    </tr>\n",
              "    <tr>\n",
              "      <th>Previously_Insured</th>\n",
              "      <td>0.0</td>\n",
              "    </tr>\n",
              "    <tr>\n",
              "      <th>Annual_Premium</th>\n",
              "      <td>40454.0</td>\n",
              "    </tr>\n",
              "    <tr>\n",
              "      <th>Policy_Sales_Channel</th>\n",
              "      <td>26.0</td>\n",
              "    </tr>\n",
              "    <tr>\n",
              "      <th>Vintage</th>\n",
              "      <td>217.0</td>\n",
              "    </tr>\n",
              "    <tr>\n",
              "      <th>Vehicle_Damage</th>\n",
              "      <td>1.0</td>\n",
              "    </tr>\n",
              "    <tr>\n",
              "      <th>Vehicle_Age</th>\n",
              "      <td>2.0</td>\n",
              "    </tr>\n",
              "  </tbody>\n",
              "</table>\n",
              "</div>"
            ],
            "text/plain": [
              "                            0\n",
              "Age                      44.0\n",
              "Region_Code              28.0\n",
              "Previously_Insured        0.0\n",
              "Annual_Premium        40454.0\n",
              "Policy_Sales_Channel     26.0\n",
              "Vintage                 217.0\n",
              "Vehicle_Damage            1.0\n",
              "Vehicle_Age               2.0"
            ]
          },
          "metadata": {},
          "execution_count": 41
        }
      ]
    },
    {
      "cell_type": "markdown",
      "metadata": {
        "id": "mjcSICLT1boQ"
      },
      "source": [
        "# **Handling Imbalanced data**\n",
        "When observation in one class is higher than the observation in other classes then there exists a class imbalance. We can clearly see that there is a huge difference between the data set. Solving this issue we use resampling technique"
      ]
    },
    {
      "cell_type": "markdown",
      "metadata": {
        "id": "CJ1RXr831gzD"
      },
      "source": [
        "# **Using RandomOverSampler to resample the dataset**"
      ]
    },
    {
      "cell_type": "code",
      "metadata": {
        "id": "YHSFKPjfpe5Y",
        "colab": {
          "base_uri": "https://localhost:8080/",
          "height": 394
        },
        "outputId": "e52d6342-8674-48a2-8842-2928d4aa8578"
      },
      "source": [
        "randomsample=  RandomOverSampler(random_state = 1)\n",
        "x_new,y_new=randomsample.fit_resample(x,y)\n",
        "\n",
        "\n",
        "\n",
        "plt.figure(figsize = (13,5))\n",
        "plt.subplot(1,2,1)\n",
        "sns.countplot(y,palette='husl')\n",
        "\n",
        "\n",
        "\n",
        "from collections import Counter\n",
        "print('Original dataset shape {}'.format(Counter(y)))\n",
        "print('Resampled dataset shape {}'.format(Counter(y_new)))\n",
        "plt.subplot(1,2,2)\n",
        "sns.countplot(y_new,palette='husl')"
      ],
      "execution_count": null,
      "outputs": [
        {
          "output_type": "stream",
          "name": "stdout",
          "text": [
            "Original dataset shape Counter({0: 334399, 1: 46710})\n",
            "Resampled dataset shape Counter({1: 334399, 0: 334399})\n"
          ]
        },
        {
          "output_type": "execute_result",
          "data": {
            "text/plain": [
              "<matplotlib.axes._subplots.AxesSubplot at 0x7f5630547610>"
            ]
          },
          "metadata": {},
          "execution_count": 42
        },
        {
          "output_type": "display_data",
          "data": {
            "image/png": "[encoded data removed]",
            "text/plain": [
              "<Figure size 936x360 with 2 Axes>"
            ]
          },
          "metadata": {}
        }
      ]
    },
    {
      "cell_type": "markdown",
      "metadata": {
        "id": "jut_Vzrg1pJ_"
      },
      "source": [
        "As you can see now our response is having same no of both classes"
      ]
    },
    {
      "cell_type": "markdown",
      "metadata": {
        "id": "C65bbs521rTA"
      },
      "source": [
        "* Splitting Dataset into 80:20 ratio"
      ]
    },
    {
      "cell_type": "code",
      "metadata": {
        "id": "9rG0969Rpe8A",
        "colab": {
          "base_uri": "https://localhost:8080/"
        },
        "outputId": "aa4387e7-ab06-4a65-ae2e-28b610642b12"
      },
      "source": [
        "#dividing the dataset into training and testing\n",
        "xtrain , xtest , ytrain , ytest = train_test_split( x_new , y_new , test_size = 0.2 , random_state = 1 )\n",
        "print(f\"xtrain.shape\\txtest.shape\\tytrain.shape\\tytest.shape\")\n",
        "print('-'*60)\n",
        "print(f'{xtrain.shape}\\t{xtest.shape}\\t {ytrain.shape}\\t {ytest.shape}')"
      ],
      "execution_count": null,
      "outputs": [
        {
          "output_type": "stream",
          "name": "stdout",
          "text": [
            "xtrain.shape\txtest.shape\tytrain.shape\tytest.shape\n",
            "------------------------------------------------------------\n",
            "(535038, 8)\t(133760, 8)\t (535038,)\t (133760,)\n"
          ]
        }
      ]
    },
    {
      "cell_type": "markdown",
      "metadata": {
        "id": "6apnjbLE10do"
      },
      "source": [
        "# **Feature Scaling**"
      ]
    },
    {
      "cell_type": "code",
      "metadata": {
        "id": "UutMtn5vpe-W"
      },
      "source": [
        "scaler = StandardScaler()\n",
        "xtrain = scaler.fit_transform(xtrain)\n",
        "xtest = scaler.transform(xtest)"
      ],
      "execution_count": null,
      "outputs": []
    },
    {
      "cell_type": "markdown",
      "metadata": {
        "id": "igFqjHaIB0Am"
      },
      "source": [
        "# **Model Selection**\n",
        "Problem can be identified as Binary Classification (wheather customer opts for vehicle insurance or not)\n",
        "Dataset has more than 300k records\n",
        "cannot go with SVM Classifier as it takes more time to train as dataset increase\n",
        "Idea is to start selection of models as:\n",
        "\n",
        "**1. Logistic Regression**\n",
        "\n",
        "**2. Random Forest**\n",
        "\n",
        "**3. XGBClassifier**\n"
      ]
    },
    {
      "cell_type": "code",
      "metadata": {
        "id": "FZnnvettpfBG"
      },
      "source": [
        ""
      ],
      "execution_count": null,
      "outputs": []
    },
    {
      "cell_type": "markdown",
      "metadata": {
        "id": "UYxzVSZBCXhM"
      },
      "source": [
        "# **1.Logistic Regression**"
      ]
    },
    {
      "cell_type": "code",
      "metadata": {
        "id": "ht1_9MQJpfDj",
        "colab": {
          "base_uri": "https://localhost:8080/"
        },
        "outputId": "4923cc1b-3279-43de-9402-a51bf61cec6b"
      },
      "source": [
        "model=LogisticRegression()\n",
        "\n",
        "model=model.fit(xtrain,ytrain)\n",
        "\n",
        "pred=model.predict(xtest)\n",
        "\n",
        "lr_probability =model.predict_proba(xtest)[:,1]\n",
        "\n",
        "\n",
        "acc_lr=accuracy_score(ytest,pred)\n",
        "recall_lr=recall_score(ytest,pred)\n",
        "precision_lr=precision_score(ytest,pred)\n",
        "f1score_lr=f1_score(ytest,pred)\n",
        "AUC_LR=roc_auc_score(pred,ytest)\n",
        "\n",
        "#print accuracy and Auc values of model\n",
        "print(\"Accuracy : \", round(accuracy_score(ytest,pred) , 3))\n",
        "print(\"Precision:\" , round(precision_score(ytest,pred) , 3))\n",
        "print(\"Recall:\" , round(recall_score(ytest,pred), 3))\n",
        "print(\"F1-Score:\" , round(f1_score(ytest,pred) , 3))\n",
        "print(\"ROC_AUC Score:\" , round(AUC_LR , 3))"
      ],
      "execution_count": null,
      "outputs": [
        {
          "output_type": "stream",
          "name": "stdout",
          "text": [
            "Accuracy :  0.784\n",
            "Precision: 0.705\n",
            "Recall: 0.978\n",
            "F1-Score: 0.819\n",
            "ROC_AUC Score: 0.834\n"
          ]
        }
      ]
    },
    {
      "cell_type": "code",
      "metadata": {
        "id": "hXRg1GEapfF6",
        "colab": {
          "base_uri": "https://localhost:8080/"
        },
        "outputId": "6e304276-f077-4639-be3f-a76cc7e92ce4"
      },
      "source": [
        "print(classification_report(pred,ytest))"
      ],
      "execution_count": null,
      "outputs": [
        {
          "output_type": "stream",
          "name": "stdout",
          "text": [
            "              precision    recall  f1-score   support\n",
            "\n",
            "           0       0.59      0.96      0.73     41010\n",
            "           1       0.98      0.71      0.82     92750\n",
            "\n",
            "    accuracy                           0.78    133760\n",
            "   macro avg       0.78      0.83      0.78    133760\n",
            "weighted avg       0.86      0.78      0.79    133760\n",
            "\n"
          ]
        }
      ]
    },
    {
      "cell_type": "markdown",
      "metadata": {
        "id": "ABG9xYXoChD-"
      },
      "source": [
        "**ROC curve for logistic reg.**"
      ]
    },
    {
      "cell_type": "code",
      "metadata": {
        "id": "xIIQOc4PpfIz",
        "colab": {
          "base_uri": "https://localhost:8080/",
          "height": 301
        },
        "outputId": "d1f79eca-d2f6-4fd2-9b4f-7f0f61499649"
      },
      "source": [
        "from sklearn.metrics import roc_curve\n",
        "fpr, tpr, _ = roc_curve(ytest, lr_probability)\n",
        "plt.figure( figsize = (4 ,4))\n",
        "plt.title('Logistic Regression ROC curve')\n",
        "plt.xlabel('FPR (Precision)')\n",
        "plt.ylabel('TPR (Recall)')\n",
        "\n",
        "\n",
        "plt.plot(fpr,tpr)\n",
        "plt.plot((0,1), ls='dashed',color='black')\n",
        "plt.show()"
      ],
      "execution_count": null,
      "outputs": [
        {
          "output_type": "display_data",
          "data": {
            "image/png": "[encoded data removed]",
            "text/plain": [
              "<Figure size 288x288 with 1 Axes>"
            ]
          },
          "metadata": {}
        }
      ]
    },
    {
      "cell_type": "markdown",
      "metadata": {
        "id": "Ghd4m2FcCsfk"
      },
      "source": [
        "**Confusion Matrix for Logistic Reg.**"
      ]
    },
    {
      "cell_type": "code",
      "metadata": {
        "id": "6e1cG-ripfLF",
        "colab": {
          "base_uri": "https://localhost:8080/",
          "height": 320
        },
        "outputId": "22705e18-9902-4907-9cd0-1baae5c9be9a"
      },
      "source": [
        "cm=confusion_matrix(ytest,pred)\n",
        "print(cm)\n",
        "plt.figure( figsize = (4 ,4))\n",
        "sns.heatmap(cm,annot=True,cmap='BuPu')"
      ],
      "execution_count": null,
      "outputs": [
        {
          "output_type": "stream",
          "name": "stdout",
          "text": [
            "[[39510 27337]\n",
            " [ 1500 65413]]\n"
          ]
        },
        {
          "output_type": "execute_result",
          "data": {
            "text/plain": [
              "<matplotlib.axes._subplots.AxesSubplot at 0x7f563036d7d0>"
            ]
          },
          "metadata": {},
          "execution_count": 48
        },
        {
          "output_type": "display_data",
          "data": {
            "image/png": "[encoded data removed]",
            "text/plain": [
              "<Figure size 288x288 with 2 Axes>"
            ]
          },
          "metadata": {}
        }
      ]
    },
    {
      "cell_type": "markdown",
      "metadata": {
        "id": "HNOBW--HDIGs"
      },
      "source": [
        "# **2.RandomForest Classifier**"
      ]
    },
    {
      "cell_type": "code",
      "metadata": {
        "id": "vh2j-t9ypfNW",
        "colab": {
          "base_uri": "https://localhost:8080/"
        },
        "outputId": "6db22d0e-94ff-4841-e962-1299e2057e16"
      },
      "source": [
        "randomforest = RandomForestClassifier()\n",
        "\n",
        "randomforest=randomforest.fit(xtrain, ytrain)\n",
        "\n",
        "y_pred = randomforest.predict(xtest)\n",
        "\n",
        "RF_probability = randomforest.predict_proba(xtest)[:,1]\n",
        "\n",
        "\n",
        "\n",
        "AUC_RF=roc_auc_score(y_pred,ytest)\n",
        "acc_rf=accuracy_score(ytest,y_pred)\n",
        "recall_rf=recall_score(ytest,y_pred)\n",
        "precision_rf=precision_score(ytest,y_pred)\n",
        "f1score_rf=f1_score(ytest,y_pred)\n",
        "\n",
        "#print accuracy and Auc values of model\n",
        "print(\"Accuracy : \", round(accuracy_score(ytest , y_pred) , 3))\n",
        "print(\"Precision:\" , round(precision_score(ytest,y_pred) , 3))\n",
        "print(\"Recall:\" , round(recall_score(ytest , y_pred), 3))\n",
        "print(\"F1-Score:\" , round(f1_score(ytest , y_pred) , 3))\n",
        "print(\"ROC_AUC Score:\" , round(AUC_LR , 3))"
      ],
      "execution_count": null,
      "outputs": [
        {
          "output_type": "stream",
          "name": "stdout",
          "text": [
            "Accuracy :  0.948\n",
            "Precision: 0.907\n",
            "Recall: 0.998\n",
            "F1-Score: 0.951\n",
            "ROC_AUC Score: 0.834\n"
          ]
        }
      ]
    },
    {
      "cell_type": "code",
      "metadata": {
        "id": "N3oWlBu2pfPt",
        "colab": {
          "base_uri": "https://localhost:8080/"
        },
        "outputId": "afe423d0-3cd2-4bf6-d00e-9a7f1c9f5af4"
      },
      "source": [
        "print(classification_report(y_pred,ytest))"
      ],
      "execution_count": null,
      "outputs": [
        {
          "output_type": "stream",
          "name": "stdout",
          "text": [
            "              precision    recall  f1-score   support\n",
            "\n",
            "           0       0.90      1.00      0.95     60156\n",
            "           1       1.00      0.91      0.95     73604\n",
            "\n",
            "    accuracy                           0.95    133760\n",
            "   macro avg       0.95      0.95      0.95    133760\n",
            "weighted avg       0.95      0.95      0.95    133760\n",
            "\n"
          ]
        }
      ]
    },
    {
      "cell_type": "markdown",
      "metadata": {
        "id": "UB9fyPQvDU8r"
      },
      "source": [
        "**ROC curve for RandomForest**"
      ]
    },
    {
      "cell_type": "code",
      "metadata": {
        "id": "jSK6x3cUpfR7",
        "colab": {
          "base_uri": "https://localhost:8080/",
          "height": 301
        },
        "outputId": "8daf11e9-dabc-407f-c748-e804e4672c5b"
      },
      "source": [
        "fpr, tpr, _ = roc_curve(ytest, RF_probability)\n",
        "plt.figure( figsize = (4 , 4))\n",
        "plt.title('RF Classifier ROC curve')\n",
        "plt.xlabel('FPR (Precision)')\n",
        "plt.ylabel('TPR (Recall)')\n",
        "\n",
        "plt.plot(fpr,tpr)\n",
        "plt.plot((0,1), ls='dashed',color='black')\n",
        "plt.show()"
      ],
      "execution_count": null,
      "outputs": [
        {
          "output_type": "display_data",
          "data": {
            "image/png": "[encoded data removed]",
            "text/plain": [
              "<Figure size 288x288 with 1 Axes>"
            ]
          },
          "metadata": {}
        }
      ]
    },
    {
      "cell_type": "markdown",
      "metadata": {
        "id": "B8z5XOt9Dayf"
      },
      "source": [
        "**Confusion Matrix for Random Forest**"
      ]
    },
    {
      "cell_type": "code",
      "metadata": {
        "id": "Z7sXvd6SpfUn",
        "colab": {
          "base_uri": "https://localhost:8080/",
          "height": 320
        },
        "outputId": "96f44f00-a8e1-43d1-b890-f13f781da9eb"
      },
      "source": [
        "cm=confusion_matrix(y_pred,ytest)\n",
        "print(cm)\n",
        "plt.figure( figsize = (4 , 4))\n",
        "sns.heatmap(cm,annot=True,cmap='RdPu')"
      ],
      "execution_count": null,
      "outputs": [
        {
          "output_type": "stream",
          "name": "stdout",
          "text": [
            "[[60037   119]\n",
            " [ 6810 66794]]\n"
          ]
        },
        {
          "output_type": "execute_result",
          "data": {
            "text/plain": [
              "<matplotlib.axes._subplots.AxesSubplot at 0x7f56303c2ad0>"
            ]
          },
          "metadata": {},
          "execution_count": 52
        },
        {
          "output_type": "display_data",
          "data": {
            "image/png": "[encoded data removed]",
            "text/plain": [
              "<Figure size 288x288 with 2 Axes>"
            ]
          },
          "metadata": {}
        }
      ]
    },
    {
      "cell_type": "markdown",
      "metadata": {
        "id": "5h67Rc9WDfKb"
      },
      "source": [
        "# **3. XGBClassifier**"
      ]
    },
    {
      "cell_type": "code",
      "metadata": {
        "id": "OXvNHPJSpfXF",
        "colab": {
          "base_uri": "https://localhost:8080/"
        },
        "outputId": "24e2205a-d5f9-4e29-fe5d-a4e8e305a4a2"
      },
      "source": [
        "xgb=XGBClassifier()\n",
        "\n",
        "XGB_fit=xgb.fit(xtrain, ytrain)\n",
        "\n",
        "y_predict = XGB_fit.predict(xtest)\n",
        "\n",
        "XGB_probability = XGB_fit.predict_proba(xtest)[:,1]\n",
        "\n",
        "\n",
        "\n",
        "acc_xgb = accuracy_score( ytest , y_predict)\n",
        "recall_xgb = recall_score( ytest , y_predict)\n",
        "precision_xgb = precision_score( ytest , y_predict)\n",
        "f1score_xgb = f1_score( ytest , y_predict)\n",
        "\n",
        "AUC_xgb = roc_auc_score( y_predict , ytest)\n",
        "\n",
        "\n",
        "#print accuracy and Auc values of model\n",
        "print(\"Accuracy : \", round(acc_xgb , 3))\n",
        "print(\"Precision:\" , round(precision_xgb , 3))\n",
        "print(\"Recall:\" , round( recall_xgb , 3))\n",
        "print(\"F1-Score:\" , round( f1score_xgb , 3))\n",
        "print(\"ROC_AUC Score:\" , round(AUC_xgb , 3))"
      ],
      "execution_count": null,
      "outputs": [
        {
          "output_type": "stream",
          "name": "stdout",
          "text": [
            "Accuracy :  0.797\n",
            "Precision: 0.735\n",
            "Recall: 0.928\n",
            "F1-Score: 0.821\n",
            "ROC_AUC Score: 0.819\n"
          ]
        }
      ]
    },
    {
      "cell_type": "code",
      "metadata": {
        "id": "LQjG7OaBpfZI",
        "colab": {
          "base_uri": "https://localhost:8080/"
        },
        "outputId": "20af661b-11a0-4b74-fd3a-aa1e09ff14ac"
      },
      "source": [
        "print(classification_report( y_predict , ytest ))"
      ],
      "execution_count": null,
      "outputs": [
        {
          "output_type": "stream",
          "name": "stdout",
          "text": [
            "              precision    recall  f1-score   support\n",
            "\n",
            "           0       0.67      0.90      0.77     49255\n",
            "           1       0.93      0.74      0.82     84505\n",
            "\n",
            "    accuracy                           0.80    133760\n",
            "   macro avg       0.80      0.82      0.79    133760\n",
            "weighted avg       0.83      0.80      0.80    133760\n",
            "\n"
          ]
        }
      ]
    },
    {
      "cell_type": "markdown",
      "metadata": {
        "id": "Y3PHowPYDmyF"
      },
      "source": [
        "**ROC curve for XGBoost**"
      ]
    },
    {
      "cell_type": "code",
      "metadata": {
        "id": "T7xRL8IXpfbj",
        "colab": {
          "base_uri": "https://localhost:8080/",
          "height": 301
        },
        "outputId": "ef929d0d-6cc2-4163-e748-5e2a53d90705"
      },
      "source": [
        "from sklearn.metrics import roc_curve\n",
        "fpr, tpr, _ = roc_curve(ytest, XGB_probability)\n",
        "plt.figure( figsize = (4 ,4))\n",
        "\n",
        "plt.title('XGBoost ROC curve')\n",
        "plt.xlabel('FPR (Precision)')\n",
        "plt.ylabel('TPR (Recall)')\n",
        "\n",
        "plt.plot(fpr,tpr)\n",
        "plt.plot((0,1), ls='dashed',color='black')\n",
        "plt.show()"
      ],
      "execution_count": null,
      "outputs": [
        {
          "output_type": "display_data",
          "data": {
            "image/png": "[encoded data removed]",
            "text/plain": [
              "<Figure size 288x288 with 1 Axes>"
            ]
          },
          "metadata": {}
        }
      ]
    },
    {
      "cell_type": "markdown",
      "metadata": {
        "id": "7Glq8ZRvDr-X"
      },
      "source": [
        "**Confusion Matrix for XGBoost**"
      ]
    },
    {
      "cell_type": "code",
      "metadata": {
        "id": "WY5xSwGipfd_",
        "colab": {
          "base_uri": "https://localhost:8080/",
          "height": 320
        },
        "outputId": "3d0b4ca5-2ca5-4ce5-d74e-f0c9c834f1c0"
      },
      "source": [
        "#it helps to identify how many values are classified correctly\n",
        "cm=confusion_matrix(ytest,y_predict)\n",
        "print(cm)\n",
        "plt.figure( figsize = ( 4 , 4 ))\n",
        "sns.heatmap(cm,annot=True,cmap='GnBu')"
      ],
      "execution_count": null,
      "outputs": [
        {
          "output_type": "stream",
          "name": "stdout",
          "text": [
            "[[44469 22378]\n",
            " [ 4786 62127]]\n"
          ]
        },
        {
          "output_type": "execute_result",
          "data": {
            "text/plain": [
              "<matplotlib.axes._subplots.AxesSubplot at 0x7f563012e390>"
            ]
          },
          "metadata": {},
          "execution_count": 56
        },
        {
          "output_type": "display_data",
          "data": {
            "image/png": "[encoded data removed]",
            "text/plain": [
              "<Figure size 288x288 with 2 Axes>"
            ]
          },
          "metadata": {}
        }
      ]
    },
    {
      "cell_type": "markdown",
      "metadata": {
        "id": "0RqwC3qhEDXW"
      },
      "source": [
        "# **Let's compare the models**"
      ]
    },
    {
      "cell_type": "code",
      "metadata": {
        "id": "JOUUCjTTpfgb",
        "colab": {
          "base_uri": "https://localhost:8080/",
          "height": 143
        },
        "outputId": "829720a2-8041-41e7-f7a9-a2057a7031ba"
      },
      "source": [
        "ind=['Logistic regression','RandomForest','XGBClassifier']\n",
        "data={\"Accuracy\":[acc_lr,acc_rf,acc_xgb],\"Recall\":[recall_lr,recall_rf,recall_xgb],\"Precision\":[precision_lr,precision_rf,precision_xgb],\n",
        "    'f1_score':[f1score_lr,f1score_rf,f1score_xgb],\"ROC_AUC\":[AUC_LR,AUC_RF,AUC_xgb]}\n",
        "result=pd.DataFrame(data=data,index=ind)\n",
        "result"
      ],
      "execution_count": null,
      "outputs": [
        {
          "output_type": "execute_result",
          "data": {
            "text/html": [
              "<div>\n",
              "<style scoped>\n",
              "    .dataframe tbody tr th:only-of-type {\n",
              "        vertical-align: middle;\n",
              "    }\n",
              "\n",
              "    .dataframe tbody tr th {\n",
              "        vertical-align: top;\n",
              "    }\n",
              "\n",
              "    .dataframe thead th {\n",
              "        text-align: right;\n",
              "    }\n",
              "</style>\n",
              "<table border=\"1\" class=\"dataframe\">\n",
              "  <thead>\n",
              "    <tr style=\"text-align: right;\">\n",
              "      <th></th>\n",
              "      <th>Accuracy</th>\n",
              "      <th>Recall</th>\n",
              "      <th>Precision</th>\n",
              "      <th>f1_score</th>\n",
              "      <th>ROC_AUC</th>\n",
              "    </tr>\n",
              "  </thead>\n",
              "  <tbody>\n",
              "    <tr>\n",
              "      <th>Logistic regression</th>\n",
              "      <td>0.784412</td>\n",
              "      <td>0.977583</td>\n",
              "      <td>0.705261</td>\n",
              "      <td>0.819388</td>\n",
              "      <td>0.834343</td>\n",
              "    </tr>\n",
              "    <tr>\n",
              "      <th>RandomForest</th>\n",
              "      <td>0.948198</td>\n",
              "      <td>0.998222</td>\n",
              "      <td>0.907478</td>\n",
              "      <td>0.950689</td>\n",
              "      <td>0.952750</td>\n",
              "    </tr>\n",
              "    <tr>\n",
              "      <th>XGBClassifier</th>\n",
              "      <td>0.796920</td>\n",
              "      <td>0.928474</td>\n",
              "      <td>0.735187</td>\n",
              "      <td>0.820603</td>\n",
              "      <td>0.819010</td>\n",
              "    </tr>\n",
              "  </tbody>\n",
              "</table>\n",
              "</div>"
            ],
            "text/plain": [
              "                     Accuracy    Recall  Precision  f1_score   ROC_AUC\n",
              "Logistic regression  0.784412  0.977583   0.705261  0.819388  0.834343\n",
              "RandomForest         0.948198  0.998222   0.907478  0.950689  0.952750\n",
              "XGBClassifier        0.796920  0.928474   0.735187  0.820603  0.819010"
            ]
          },
          "metadata": {},
          "execution_count": 57
        }
      ]
    },
    {
      "cell_type": "markdown",
      "metadata": {
        "id": "adOLogvMEJcz"
      },
      "source": [
        "# **Hyperparameter Tuning**\n",
        "RandomForestClassifier is giving highest accuracy , that's why by using GridSearchCV I will set Hyperparameters value"
      ]
    },
    {
      "cell_type": "code",
      "metadata": {
        "id": "OboAw6l9pfjD"
      },
      "source": [
        "from sklearn.model_selection import cross_val_score , ShuffleSplit , GridSearchCV"
      ],
      "execution_count": null,
      "outputs": []
    },
    {
      "cell_type": "code",
      "metadata": {
        "id": "XQR9E1Q4pflb"
      },
      "source": [
        "Model = RandomForestClassifier()"
      ],
      "execution_count": null,
      "outputs": []
    },
    {
      "cell_type": "code",
      "metadata": {
        "id": "JtcIbFJLpfoA",
        "colab": {
          "base_uri": "https://localhost:8080/"
        },
        "outputId": "2e7bf734-a231-44c1-e041-249d5599f2a6"
      },
      "source": [
        "params = {\n",
        "    'n_estimators': [5,10,25],\n",
        "    'criterion':[\"gini\", \"entropy\"],\n",
        "    'max_depth' : [5,25,50],\n",
        "    'min_samples_split':[2,15,45]\n",
        "        }\n",
        "gridsearch = GridSearchCV(Model , params , cv=5, return_train_score=True)\n",
        "gridsearch.fit(xtrain , ytrain )"
      ],
      "execution_count": null,
      "outputs": [
        {
          "output_type": "execute_result",
          "data": {
            "text/plain": [
              "GridSearchCV(cv=5, estimator=RandomForestClassifier(),\n",
              "             param_grid={'criterion': ['gini', 'entropy'],\n",
              "                         'max_depth': [5, 25, 50],\n",
              "                         'min_samples_split': [2, 15, 45],\n",
              "                         'n_estimators': [5, 10, 25]},\n",
              "             return_train_score=True)"
            ]
          },
          "metadata": {},
          "execution_count": 60
        }
      ]
    },
    {
      "cell_type": "code",
      "metadata": {
        "id": "l0ftVuRepfqV",
        "colab": {
          "base_uri": "https://localhost:8080/"
        },
        "outputId": "f5ecf501-965d-4362-d257-67715afba019"
      },
      "source": [
        "print(gridsearch.best_params_)"
      ],
      "execution_count": null,
      "outputs": [
        {
          "output_type": "stream",
          "name": "stdout",
          "text": [
            "{'criterion': 'gini', 'max_depth': 50, 'min_samples_split': 2, 'n_estimators': 10}\n"
          ]
        }
      ]
    },
    {
      "cell_type": "markdown",
      "metadata": {
        "id": "y6GtZw_7EfyH"
      },
      "source": [
        "Now we got the best values of our hyperparameters,\n",
        "\n",
        "#### Let's build the FinalModel"
      ]
    },
    {
      "cell_type": "code",
      "metadata": {
        "colab": {
          "base_uri": "https://localhost:8080/"
        },
        "id": "a_umaCHCEkwO",
        "outputId": "20f24c61-4823-428a-a499-dc98b6735666"
      },
      "source": [
        "gridsearch_predictions = gridsearch.predict( xtest ) \n",
        "  \n",
        "# print classification report \n",
        "print(classification_report(ytest, gridsearch_predictions)) "
      ],
      "execution_count": null,
      "outputs": [
        {
          "output_type": "stream",
          "name": "stdout",
          "text": [
            "              precision    recall  f1-score   support\n",
            "\n",
            "           0       1.00      0.90      0.95     66847\n",
            "           1       0.91      1.00      0.95     66913\n",
            "\n",
            "    accuracy                           0.95    133760\n",
            "   macro avg       0.95      0.95      0.95    133760\n",
            "weighted avg       0.95      0.95      0.95    133760\n",
            "\n"
          ]
        }
      ]
    },
    {
      "cell_type": "code",
      "metadata": {
        "colab": {
          "base_uri": "https://localhost:8080/"
        },
        "id": "mGPXxnXfEk2b",
        "outputId": "ad453d6d-6908-465a-954d-e23c0d89f504"
      },
      "source": [
        "Grid_predict_proba = gridsearch.predict_proba(xtest)[:,1]\n",
        "\n",
        "AUC_RF_Best = roc_auc_score(gridsearch_predictions ,ytest)\n",
        "acc_rf_Best = accuracy_score(gridsearch_predictions ,y_pred)\n",
        "recall_rf_Best = recall_score(gridsearch_predictions ,y_pred)\n",
        "precision_rf_Best = precision_score(ytest,gridsearch_predictions )\n",
        "f1score_rf_Best = f1_score(ytest,gridsearch_predictions )\n",
        "\n",
        "#print accuracy and Auc values of model\n",
        "print(\"Accuracy : \", round(accuracy_score(ytest,gridsearch_predictions) , 3))\n",
        "print(\"Precision:\" , round(precision_score(ytest,gridsearch_predictions) , 3))\n",
        "print(\"Recall:\" , round(recall_score(ytest, gridsearch_predictions ), 3))\n",
        "print(\"F1-Score:\" , round(f1_score(ytest, gridsearch_predictions ) , 3))\n",
        "print(\"ROC_AUC Score:\" , round(AUC_LR , 3))"
      ],
      "execution_count": null,
      "outputs": [
        {
          "output_type": "stream",
          "name": "stdout",
          "text": [
            "Accuracy :  0.951\n",
            "Precision: 0.912\n",
            "Recall: 0.997\n",
            "F1-Score: 0.953\n",
            "ROC_AUC Score: 0.834\n"
          ]
        }
      ]
    },
    {
      "cell_type": "code",
      "metadata": {
        "id": "FVJYHT4Rpfse",
        "colab": {
          "base_uri": "https://localhost:8080/"
        },
        "outputId": "2fc1b103-60f2-4fb7-fe74-444625a8bef2"
      },
      "source": [
        "print(classification_report(y_pred , gridsearch_predictions ))"
      ],
      "execution_count": null,
      "outputs": [
        {
          "output_type": "stream",
          "name": "stdout",
          "text": [
            "              precision    recall  f1-score   support\n",
            "\n",
            "           0       0.96      0.97      0.97     60156\n",
            "           1       0.98      0.97      0.97     73604\n",
            "\n",
            "    accuracy                           0.97    133760\n",
            "   macro avg       0.97      0.97      0.97    133760\n",
            "weighted avg       0.97      0.97      0.97    133760\n",
            "\n"
          ]
        }
      ]
    },
    {
      "cell_type": "code",
      "metadata": {
        "colab": {
          "base_uri": "https://localhost:8080/",
          "height": 410
        },
        "id": "DrTuX756EiRb",
        "outputId": "1a7bd2b5-a45d-4ab4-b8d5-f55ddf947eb5"
      },
      "source": [
        "fpr, tpr, _ = roc_curve(ytest, Grid_predict_proba)\n",
        "\n",
        "plt.figure( figsize = ( 6 , 6 ))\n",
        "plt.title('RF Classification(with Hyperparameters) ROC curve')\n",
        "plt.xlabel('FPR (Precision)')\n",
        "plt.ylabel('TPR (Recall)')\n",
        "\n",
        "plt.plot(fpr,tpr)\n",
        "plt.plot((0,1), ls='dashed',color='black')\n",
        "plt.show()"
      ],
      "execution_count": null,
      "outputs": [
        {
          "output_type": "display_data",
          "data": {
            "image/png": "[encoded data removed]",
            "text/plain": [
              "<Figure size 432x432 with 1 Axes>"
            ]
          },
          "metadata": {}
        }
      ]
    },
    {
      "cell_type": "code",
      "metadata": {
        "colab": {
          "base_uri": "https://localhost:8080/",
          "height": 320
        },
        "id": "1P5IBMXYEiUK",
        "outputId": "b68c5c70-fd03-45b6-d6fc-fb7f79ac0757"
      },
      "source": [
        "cm=confusion_matrix(y_pred,ytest)\n",
        "print(cm)\n",
        "plt.figure( figsize = ( 4 , 4 ))\n",
        "sns.heatmap(cm,annot=True,cmap='RdPu')"
      ],
      "execution_count": null,
      "outputs": [
        {
          "output_type": "stream",
          "name": "stdout",
          "text": [
            "[[60037   119]\n",
            " [ 6810 66794]]\n"
          ]
        },
        {
          "output_type": "execute_result",
          "data": {
            "text/plain": [
              "<matplotlib.axes._subplots.AxesSubplot at 0x7f563c78bfd0>"
            ]
          },
          "metadata": {},
          "execution_count": 66
        },
        {
          "output_type": "display_data",
          "data": {
            "image/png": "[encoded data removed]",
            "text/plain": [
              "<Figure size 288x288 with 2 Axes>"
            ]
          },
          "metadata": {}
        }
      ]
    },
    {
      "cell_type": "markdown",
      "metadata": {
        "id": "jK11uMtKExtZ"
      },
      "source": [
        "# **Final Result**"
      ]
    },
    {
      "cell_type": "code",
      "metadata": {
        "colab": {
          "base_uri": "https://localhost:8080/",
          "height": 112
        },
        "id": "Eeys_v45EiW0",
        "outputId": "0396ed99-6cc0-443c-f013-e5c884375442"
      },
      "source": [
        "ind=['RandomForest','RandomForest(Using Hyper.)']\n",
        "data={\"Accuracy\":[acc_rf , acc_rf_Best],\"Recall\":[ recall_rf , recall_rf_Best],\"Precision\":[ precision_rf , precision_rf_Best],\n",
        "    'f1_score':[ f1score_rf , f1score_rf_Best],\"ROC_AUC\":[ AUC_RF , AUC_RF_Best]}\n",
        "result=pd.DataFrame(data=data,index=ind)\n",
        "result"
      ],
      "execution_count": null,
      "outputs": [
        {
          "output_type": "execute_result",
          "data": {
            "text/html": [
              "<div>\n",
              "<style scoped>\n",
              "    .dataframe tbody tr th:only-of-type {\n",
              "        vertical-align: middle;\n",
              "    }\n",
              "\n",
              "    .dataframe tbody tr th {\n",
              "        vertical-align: top;\n",
              "    }\n",
              "\n",
              "    .dataframe thead th {\n",
              "        text-align: right;\n",
              "    }\n",
              "</style>\n",
              "<table border=\"1\" class=\"dataframe\">\n",
              "  <thead>\n",
              "    <tr style=\"text-align: right;\">\n",
              "      <th></th>\n",
              "      <th>Accuracy</th>\n",
              "      <th>Recall</th>\n",
              "      <th>Precision</th>\n",
              "      <th>f1_score</th>\n",
              "      <th>ROC_AUC</th>\n",
              "    </tr>\n",
              "  </thead>\n",
              "  <tbody>\n",
              "    <tr>\n",
              "      <th>RandomForest</th>\n",
              "      <td>0.948198</td>\n",
              "      <td>0.998222</td>\n",
              "      <td>0.907478</td>\n",
              "      <td>0.950689</td>\n",
              "      <td>0.952750</td>\n",
              "    </tr>\n",
              "    <tr>\n",
              "      <th>RandomForest(Using Hyper.)</th>\n",
              "      <td>0.971374</td>\n",
              "      <td>0.976911</td>\n",
              "      <td>0.912225</td>\n",
              "      <td>0.952865</td>\n",
              "      <td>0.954619</td>\n",
              "    </tr>\n",
              "  </tbody>\n",
              "</table>\n",
              "</div>"
            ],
            "text/plain": [
              "                            Accuracy    Recall  Precision  f1_score   ROC_AUC\n",
              "RandomForest                0.948198  0.998222   0.907478  0.950689  0.952750\n",
              "RandomForest(Using Hyper.)  0.971374  0.976911   0.912225  0.952865  0.954619"
            ]
          },
          "metadata": {},
          "execution_count": 67
        }
      ]
    },
    {
      "cell_type": "markdown",
      "metadata": {
        "id": "n0n4G_ssE4Hm"
      },
      "source": [
        "* As you can see after using Hyperparameters Accuracy , Precision , f1_score , ROC_AUC Increased(tiny change) , Recall decresed\n",
        "* But the change is very low , If u wish then you can ignore it also."
      ]
    },
    {
      "cell_type": "code",
      "metadata": {
        "id": "d_9ZK2FvEiYU"
      },
      "source": [
        ""
      ],
      "execution_count": null,
      "outputs": []
    },
    {
      "cell_type": "markdown",
      "metadata": {
        "id": "IqfhnGKcFBeS"
      },
      "source": [
        "# **Conclusion**\n",
        "The ML model for the problem statement was created using python with the help of the dataset, and the ML model created with Random Forest and XGBClassifier models performed better than Logistics Regression model. Thus, for the given problem, the models created by Random Forest is preferred.\n",
        "1. Customers of age between 30 to 60 are more likely to buy insurance.\n",
        "2. Customers with Driving License have higher chance of buying Insurance.\n",
        "3. Customers with Vehicle_Damage are likely to buy insurance.\n",
        "4. The variable such as Previously_insured , Vehcile_Damage are more affecting the target variable.\n",
        "5 The variable such as Driving_License , Gender are not affecting the target variable.\n",
        "6. comparing ROC curve we can see that Random Forest model perform better. Because curves closer to the top-left corner, it indicate a better performance.\n"
      ]
    },
    {
      "cell_type": "code",
      "metadata": {
        "id": "-P9yBEpcEiaV"
      },
      "source": [
        ""
      ],
      "execution_count": null,
      "outputs": []
    },
    {
      "cell_type": "code",
      "metadata": {
        "id": "14TlRfT2Eidj"
      },
      "source": [
        ""
      ],
      "execution_count": null,
      "outputs": []
    },
    {
      "cell_type": "code",
      "metadata": {
        "id": "yRb1XYgHEifU"
      },
      "source": [
        ""
      ],
      "execution_count": null,
      "outputs": []
    },
    {
      "cell_type": "code",
      "metadata": {
        "id": "QoI0T6M-Eig7"
      },
      "source": [
        ""
      ],
      "execution_count": null,
      "outputs": []
    }
  ]
}